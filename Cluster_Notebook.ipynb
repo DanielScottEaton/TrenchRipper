{
 "cells": [
  {
   "cell_type": "markdown",
   "metadata": {},
   "source": [
    "## Mother Machine Cluster Code"
   ]
  },
  {
   "cell_type": "code",
   "execution_count": 1,
   "metadata": {},
   "outputs": [
    {
     "name": "stderr",
     "output_type": "stream",
     "text": [
      "/home/de64/anaconda3/envs/mothermachine/lib/python3.6/site-packages/dask_jobqueue/config.py:12: YAMLLoadWarning: calling yaml.load() without Loader=... is deprecated, as the default Loader is unsafe. Please read https://msg.pyyaml.org/load for full details.\n",
      "  defaults = yaml.load(f)\n"
     ]
    }
   ],
   "source": [
    "import trenchripper as tr"
   ]
  },
  {
   "cell_type": "markdown",
   "metadata": {},
   "source": [
    "#### Optionally transfer files into the scratch folder"
   ]
  },
  {
   "cell_type": "code",
   "execution_count": 3,
   "metadata": {},
   "outputs": [
    {
     "name": "stdout",
     "output_type": "stream",
     "text": [
      "Submitted batch job 42546766\n"
     ]
    }
   ],
   "source": [
    "# !mkdir /n/scratch2/de64/2019-05-31_Bacillus_training_data_mneongreen\n",
    "!sbatch -p transfer -t 0-12:00 --wrap=\"rsync -r /n/files/SysBio/PAULSSON\\ LAB/Daniel/Image_Data/Bacillus_Project/2019-05-31_Bacillus_training_data_mneongreen/exp_folder/ /n/scratch2/de64/2019-05-31_Bacillus_training_data_mneongreen\""
   ]
  },
  {
   "cell_type": "markdown",
   "metadata": {},
   "source": [
    "#### Start Dask"
   ]
  },
  {
   "cell_type": "code",
   "execution_count": null,
   "metadata": {},
   "outputs": [],
   "source": [
    "# kymo_controller = tr.cluster.dask_controller(walltime='04:00:00',local=False,n_workers=40,memory='2GB')\n",
    "dask_controller = tr.cluster.dask_controller(walltime='04:00:00',local=False,n_workers=40,memory='4GB')\n",
    "dask_controller.startdask()\n",
    "dask_controller.daskcluster.start_workers()"
   ]
  },
  {
   "cell_type": "code",
   "execution_count": null,
   "metadata": {},
   "outputs": [],
   "source": [
    "dask_controller.daskclient"
   ]
  },
  {
   "cell_type": "markdown",
   "metadata": {},
   "source": [
    "#### Perform Extraction"
   ]
  },
  {
   "cell_type": "code",
   "execution_count": 8,
   "metadata": {},
   "outputs": [
    {
     "name": "stderr",
     "output_type": "stream",
     "text": [
      "/home/de64/anaconda3/envs/mothermachine/lib/python3.7/site-packages/nd2reader/common_raw_metadata.py:94: RuntimeWarning: Reported average frame interval (720045.2 ms) doesn't match the set interval (720000.0 ms). Using the average now.\n",
      "  warnings.warn(message % (avg_interval, interval), RuntimeWarning)\n"
     ]
    }
   ],
   "source": [
    "# hdf5_extractor = tr.ndextract.hdf5_fov_extractor(\"/n/scratch2/de64/full_pipeline_test/40x_Ph2_Test_1.5.nd2\",\"/n/scratch2/de64/full_pipeline_test\")\n",
    "hdf5_extractor = tr.ndextract.hdf5_fov_extractor(\"/n/scratch2/de64/2019-05-31_Bacillus_training_data_mneongreen/Main_Experiment.nd2\",\"/n/scratch2/de64/2019-05-31_Bacillus_training_data_mneongreen\")"
   ]
  },
  {
   "cell_type": "code",
   "execution_count": 9,
   "metadata": {},
   "outputs": [
    {
     "data": {
      "text/html": [
       "<div>\n",
       "<style scoped>\n",
       "    .dataframe tbody tr th:only-of-type {\n",
       "        vertical-align: middle;\n",
       "    }\n",
       "\n",
       "    .dataframe tbody tr th {\n",
       "        vertical-align: top;\n",
       "    }\n",
       "\n",
       "    .dataframe thead th {\n",
       "        text-align: right;\n",
       "    }\n",
       "</style>\n",
       "<table border=\"1\" class=\"dataframe\">\n",
       "  <thead>\n",
       "    <tr style=\"text-align: right;\">\n",
       "      <th></th>\n",
       "      <th>fov</th>\n",
       "      <th>t</th>\n",
       "      <th>x</th>\n",
       "      <th>y</th>\n",
       "      <th>z</th>\n",
       "    </tr>\n",
       "  </thead>\n",
       "  <tbody>\n",
       "    <tr>\n",
       "      <th>0</th>\n",
       "      <td>0</td>\n",
       "      <td>1.292015</td>\n",
       "      <td>6612.7</td>\n",
       "      <td>-3658.4</td>\n",
       "      <td>5306.100</td>\n",
       "    </tr>\n",
       "    <tr>\n",
       "      <th>1</th>\n",
       "      <td>0</td>\n",
       "      <td>723.546719</td>\n",
       "      <td>6615.7</td>\n",
       "      <td>-3658.7</td>\n",
       "      <td>5306.400</td>\n",
       "    </tr>\n",
       "    <tr>\n",
       "      <th>2</th>\n",
       "      <td>0</td>\n",
       "      <td>1443.559055</td>\n",
       "      <td>6615.8</td>\n",
       "      <td>-3658.6</td>\n",
       "      <td>5305.950</td>\n",
       "    </tr>\n",
       "    <tr>\n",
       "      <th>3</th>\n",
       "      <td>0</td>\n",
       "      <td>2163.541727</td>\n",
       "      <td>6615.9</td>\n",
       "      <td>-3658.6</td>\n",
       "      <td>5305.825</td>\n",
       "    </tr>\n",
       "    <tr>\n",
       "      <th>4</th>\n",
       "      <td>0</td>\n",
       "      <td>2883.490247</td>\n",
       "      <td>6615.9</td>\n",
       "      <td>-3658.6</td>\n",
       "      <td>5305.950</td>\n",
       "    </tr>\n",
       "  </tbody>\n",
       "</table>\n",
       "</div>"
      ],
      "text/plain": [
       "   fov            t       x       y         z\n",
       "0    0     1.292015  6612.7 -3658.4  5306.100\n",
       "1    0   723.546719  6615.7 -3658.7  5306.400\n",
       "2    0  1443.559055  6615.8 -3658.6  5305.950\n",
       "3    0  2163.541727  6615.9 -3658.6  5305.825\n",
       "4    0  2883.490247  6615.9 -3658.6  5305.950"
      ]
     },
     "execution_count": 9,
     "metadata": {},
     "output_type": "execute_result"
    }
   ],
   "source": [
    "hdf5_extractor.fov_metadata[:5]"
   ]
  },
  {
   "cell_type": "code",
   "execution_count": 10,
   "metadata": {},
   "outputs": [
    {
     "name": "stdout",
     "output_type": "stream",
     "text": [
      "[0, 1, 2, 3, 4, 5, 6, 7, 8, 9, 10, 11, 12, 13, 14, 15, 16, 17, 18, 19, 20, 21, 22, 23, 24, 25, 26, 27, 28, 29, 30, 31, 32, 33, 34, 35, 36, 37, 38, 39]\n"
     ]
    }
   ],
   "source": [
    "print(hdf5_extractor.exp_metadata['fields_of_view'])"
   ]
  },
  {
   "cell_type": "code",
   "execution_count": 11,
   "metadata": {},
   "outputs": [],
   "source": [
    "fov_list = list(range(0,40))"
   ]
  },
  {
   "cell_type": "code",
   "execution_count": 12,
   "metadata": {},
   "outputs": [
    {
     "name": "stderr",
     "output_type": "stream",
     "text": [
      "/home/de64/anaconda3/envs/mothermachine/lib/python3.7/site-packages/tables/path.py:157: NaturalNameWarning: object name is a Python keyword: 'global'; you will not be able to use natural naming to access this object; using ``getattr()`` will still work, though\n",
      "  check_attribute_name(name)\n"
     ]
    }
   ],
   "source": [
    "hdf5_extractor.writemetadata()"
   ]
  },
  {
   "cell_type": "code",
   "execution_count": 13,
   "metadata": {},
   "outputs": [],
   "source": [
    "dask_controller.mapfovs(hdf5_extractor.extract_fov,fov_list)"
   ]
  },
  {
   "cell_type": "code",
   "execution_count": 9,
   "metadata": {},
   "outputs": [],
   "source": [
    "hdf5_extractor.extract_fov(4)"
   ]
  },
  {
   "cell_type": "markdown",
   "metadata": {},
   "source": [
    "#### Generate Kymographs"
   ]
  },
  {
   "cell_type": "markdown",
   "metadata": {},
   "source": [
    "To begin, you should test which parameters work best on your dataset in the following [notebook](./Interactive_Kymograph.ipynb)."
   ]
  },
  {
   "cell_type": "markdown",
   "metadata": {},
   "source": [
    "#### Start Dask"
   ]
  },
  {
   "cell_type": "code",
   "execution_count": 8,
   "metadata": {},
   "outputs": [
    {
     "name": "stderr",
     "output_type": "stream",
     "text": [
      "/home/de64/anaconda3/envs/mothermachine/lib/python3.6/site-packages/distributed/deploy/local.py:138: UserWarning: diagnostics_port has been deprecated. Please use `dashboard_address=` instead\n",
      "  \"diagnostics_port has been deprecated. \"\n"
     ]
    }
   ],
   "source": [
    "dask_controller = tr.cluster.dask_controller(walltime='04:00:00',local=False,n_workers=40,memory='4GB')\n",
    "dask_controller.startdask()\n",
    "dask_controller.daskcluster.start_workers()"
   ]
  },
  {
   "cell_type": "code",
   "execution_count": 9,
   "metadata": {},
   "outputs": [
    {
     "data": {
      "text/html": [
       "<table style=\"border: 2px solid white;\">\n",
       "<tr>\n",
       "<td style=\"vertical-align: top; border: 0px solid white\">\n",
       "<h3>Client</h3>\n",
       "<ul>\n",
       "  <li><b>Scheduler: </b>tcp://10.120.17.16:34123\n",
       "  <li><b>Dashboard: </b><a href='http://10.120.17.16:8787/status' target='_blank'>http://10.120.17.16:8787/status</a>\n",
       "</ul>\n",
       "</td>\n",
       "<td style=\"vertical-align: top; border: 0px solid white\">\n",
       "<h3>Cluster</h3>\n",
       "<ul>\n",
       "  <li><b>Workers: </b>0</li>\n",
       "  <li><b>Cores: </b>0</li>\n",
       "  <li><b>Memory: </b>0 B</li>\n",
       "</ul>\n",
       "</td>\n",
       "</tr>\n",
       "</table>"
      ],
      "text/plain": [
       "<Client: scheduler='tcp://10.120.17.16:34123' processes=0 cores=0>"
      ]
     },
     "execution_count": 9,
     "metadata": {},
     "output_type": "execute_result"
    }
   ],
   "source": [
    "dask_controller.daskclient"
   ]
  },
  {
   "cell_type": "code",
   "execution_count": 22,
   "metadata": {},
   "outputs": [],
   "source": [
    "# headpath = \"/n/scratch2/de64/full_pipeline_test\"\n",
    "# all_channels = [\"channel_RFP\",\"channel_BF\"]\n",
    "\n",
    "# kymo = tr.kymograph.kychunker(headpath=headpath,all_channels=all_channels,trench_len_y=270,padding_y=20,trench_width_x=25,\\\n",
    "#                  t_chunk=100,t_range=(0,-1),y_percentile=88,y_min_edge_dist=50,smoothing_kernel_y=(17,1),triangle_nbins=50,triangle_scaling=1.6,\\\n",
    "#                  expected_num_rows=2,orientation_detection=0,orientation_on_fail=0,x_percentile=85,background_kernel_x=(21,1),smoothing_kernel_x=(9,1),otsu_nbins=50,otsu_scaling=0.3,\\\n",
    "#                  trench_present_thr=0.7)\n",
    "\n",
    "headpath = \"/n/scratch2/de64/2019-05-31_Bacillus_training_data_mneongreen/\"\n",
    "all_channels = [\"channel_GFP\",\"channel_Phase\"]\n",
    "\n",
    "kymo = tr.kymograph.kychunker(headpath=headpath,all_channels=all_channels,trench_len_y=250,padding_y=40,trench_width_x=23,\\\n",
    "                 t_chunk=100,t_range=(0,-1),y_percentile=88,y_min_edge_dist=80,smoothing_kernel_y=(17,1),triangle_nbins=50,triangle_scaling=1.05,\\\n",
    "                 expected_num_rows=2,orientation_detection=0,orientation_on_fail=0,x_percentile=80,background_kernel_x=(21,1),smoothing_kernel_x=(9,1),\\\n",
    "                otsu_nbins=50,otsu_scaling=0.5,trench_present_thr=0.7)"
   ]
  },
  {
   "cell_type": "code",
   "execution_count": 23,
   "metadata": {},
   "outputs": [],
   "source": [
    "# Y Percentile 88\n",
    "# Y Smoothing Kernel 17\n",
    "# Triangle Trheshold Bins 50\n",
    "# Triangle Threshold Scaling 1.05\n",
    "# Minimum Trench Length 50\n",
    "# Y Padding 20\n",
    "# Trench Length 270\n",
    "# Orientation Detection Method 0\n",
    "# Expected Number of Rows (Manual Orientation Detection) 2\n",
    "# Top Orientation when Row Drifts Out (Manual Orientation Detection) 0\n",
    "# X Percentile 85\n",
    "# X Background Kernel 21\n",
    "# X Smoothing Kernel 9\n",
    "# Otsu Trheshold Bins 50\n",
    "# Otsu Threshold Scaling 0.3\n",
    "# Trench Width 25\n",
    "# Trench Presence Threshold 0.7"
   ]
  },
  {
   "cell_type": "code",
   "execution_count": 24,
   "metadata": {},
   "outputs": [],
   "source": [
    "# fov_list = list(range(0,80))\n",
    "fov_list = list(range(0,40))"
   ]
  },
  {
   "cell_type": "code",
   "execution_count": 25,
   "metadata": {},
   "outputs": [],
   "source": [
    "dask_controller.mapfovs(kymo.generate_kymograph,fov_list,retries=1)"
   ]
  },
  {
   "cell_type": "code",
   "execution_count": 6,
   "metadata": {},
   "outputs": [],
   "source": [
    "kymo.generate_kymograph(30)"
   ]
  },
  {
   "cell_type": "code",
   "execution_count": 26,
   "metadata": {},
   "outputs": [
    {
     "name": "stdout",
     "output_type": "stream",
     "text": [
      "fovs processed: 35/40\n",
      "lanes processed: 70\n",
      "trenches processed: 3097\n",
      "lanes/fov: 2.0\n",
      "trenches/fov: 88.48571428571428\n",
      "failed fovs: [32, 14, 25, 26, 29]\n"
     ]
    }
   ],
   "source": [
    "kymo.collect_metadata(fov_list,use_archive=False,overwrite_archive=True)"
   ]
  },
  {
   "cell_type": "code",
   "execution_count": 4,
   "metadata": {},
   "outputs": [
    {
     "name": "stdout",
     "output_type": "stream",
     "text": [
      "fovs processed: 79/80\n",
      "lanes processed: 136\n",
      "trenches processed: 7507\n",
      "lanes/fov: 1.7215189873417722\n",
      "trenches/fov: 95.0253164556962\n",
      "failed fovs: [77]\n"
     ]
    }
   ],
   "source": [
    "kymo.collect_metadata(fov_list,use_archive=True,overwrite_archive=False)"
   ]
  },
  {
   "cell_type": "markdown",
   "metadata": {},
   "source": [
    "#### Reorganize hdf5 structure\n",
    "\n",
    "Proceed to this step after finalizing kymograph extraction to reorganize hdf5 stucture such that datasets are specified by the global dataset-defined trenchid, which can be found in the kymograph metadata."
   ]
  },
  {
   "cell_type": "code",
   "execution_count": 27,
   "metadata": {},
   "outputs": [],
   "source": [
    "dask_controller.mapfovs(kymo.reorg_kymographs,fov_list,retries=1)"
   ]
  },
  {
   "cell_type": "markdown",
   "metadata": {},
   "source": [
    "Run after previous line"
   ]
  },
  {
   "cell_type": "code",
   "execution_count": 28,
   "metadata": {},
   "outputs": [
    {
     "name": "stdout",
     "output_type": "stream",
     "text": [
      "[0, 1, 2, 3, 4, 5, 6, 7, 8, 9, 10, 11, 12, 13, 14, 15, 16, 17, 18, 19, 20, 21, 22, 23, 24, 25, 26, 27, 28, 29, 30, 31, 32, 33, 34, 35, 36, 37, 38, 39]\n"
     ]
    }
   ],
   "source": [
    "kymo.cleanup_kymographs()"
   ]
  },
  {
   "cell_type": "markdown",
   "metadata": {},
   "source": [
    "maybe an estimate of memory usage"
   ]
  },
  {
   "cell_type": "markdown",
   "metadata": {},
   "source": [
    "#### Generate Segmentation"
   ]
  },
  {
   "cell_type": "markdown",
   "metadata": {},
   "source": [
    "To begin, you should test which parameters work best on your dataset in the following [notebook](./Interactive_fluo_seg.ipynb)."
   ]
  },
  {
   "cell_type": "markdown",
   "metadata": {},
   "source": [
    "#### Start Dask"
   ]
  },
  {
   "cell_type": "code",
   "execution_count": 6,
   "metadata": {},
   "outputs": [
    {
     "name": "stderr",
     "output_type": "stream",
     "text": [
      "/home/de64/anaconda3/envs/mothermachine/lib/python3.6/site-packages/distributed/deploy/local.py:138: UserWarning: diagnostics_port has been deprecated. Please use `dashboard_address=` instead\n",
      "  \"diagnostics_port has been deprecated. \"\n",
      "/home/de64/anaconda3/envs/mothermachine/lib/python3.6/site-packages/distributed/bokeh/core.py:74: UserWarning: \n",
      "Port 8787 is already in use. \n",
      "Perhaps you already have a cluster running?\n",
      "Hosting the diagnostics dashboard on a random port instead.\n",
      "  warnings.warn(\"\\n\" + msg)\n"
     ]
    }
   ],
   "source": [
    "dask_controller = tr.cluster.dask_controller(walltime='01:00:00',local=False,n_workers=40,memory='1GB')\n",
    "dask_controller.startdask()\n",
    "dask_controller.daskcluster.start_workers()"
   ]
  },
  {
   "cell_type": "code",
   "execution_count": 7,
   "metadata": {},
   "outputs": [
    {
     "data": {
      "text/html": [
       "<table style=\"border: 2px solid white;\">\n",
       "<tr>\n",
       "<td style=\"vertical-align: top; border: 0px solid white\">\n",
       "<h3>Client</h3>\n",
       "<ul>\n",
       "  <li><b>Scheduler: </b>tcp://10.120.17.16:56015\n",
       "  <li><b>Dashboard: </b><a href='http://10.120.17.16:38300/status' target='_blank'>http://10.120.17.16:38300/status</a>\n",
       "</ul>\n",
       "</td>\n",
       "<td style=\"vertical-align: top; border: 0px solid white\">\n",
       "<h3>Cluster</h3>\n",
       "<ul>\n",
       "  <li><b>Workers: </b>0</li>\n",
       "  <li><b>Cores: </b>0</li>\n",
       "  <li><b>Memory: </b>0 B</li>\n",
       "</ul>\n",
       "</td>\n",
       "</tr>\n",
       "</table>"
      ],
      "text/plain": [
       "<Client: scheduler='tcp://10.120.17.16:56015' processes=0 cores=0>"
      ]
     },
     "execution_count": 7,
     "metadata": {},
     "output_type": "execute_result"
    }
   ],
   "source": [
    "dask_controller.daskclient"
   ]
  },
  {
   "cell_type": "code",
   "execution_count": 9,
   "metadata": {},
   "outputs": [],
   "source": [
    "# segment = tr.segment.fluo_segmentation_cluster(\"/n/scratch2/de64/full_pipeline_test\",\"channel_RFP\",smooth_sigma=0.75,wrap_pad=3,hess_pad=4,min_obj_size=30,cell_mask_method='local',\\\n",
    "#                  cell_otsu_scaling=1.,local_otsu_r=15,edge_threshold_scaling=1.,threshold_step_perc=0.05,threshold_perc_num_steps=4,convex_threshold=0.8)\n",
    "segment = tr.segment.fluo_segmentation_cluster(\"/n/scratch2/de64/2019-05-31_Bacillus_training_data_mneongreen/\",\"channel_GFP\",smooth_sigma=0.75,wrap_pad=3,hess_pad=4,min_obj_size=50,cell_mask_method='local',\\\n",
    "                 global_otsu_scaling=0.9,cell_otsu_scaling=0.7,local_otsu_r=11,edge_threshold_scaling=0.9,threshold_step_perc=0.05,threshold_perc_num_steps=3,convex_threshold=0.75)"
   ]
  },
  {
   "cell_type": "code",
   "execution_count": 10,
   "metadata": {},
   "outputs": [],
   "source": [
    "# Scale Fluorescence? True\n",
    "# Scaling Percentile: 90\n",
    "# Gaussian Kernel Sigma: 0.75\n",
    "# Cell Mask Thresholding Method: local\n",
    "# Global Threshold Scaling: 0.9\n",
    "# Cell Threshold Scaling: 0.7\n",
    "# Local Otsu Radius: 11\n",
    "# Edge Threshold Scaling: 0.9\n",
    "# Threshold Step Percent: 0.05\n",
    "# Number of Threshold Steps: 3\n",
    "# Minimum Object Size: 30\n",
    "# Convexity Threshold: 0.75"
   ]
  },
  {
   "cell_type": "code",
   "execution_count": 11,
   "metadata": {},
   "outputs": [],
   "source": [
    "# fov_list = list(set(range(0,80))-set([77]))\n",
    "fov_list = list(set(range(0,40)) - set([32, 14, 25, 26, 29]))"
   ]
  },
  {
   "cell_type": "code",
   "execution_count": 12,
   "metadata": {},
   "outputs": [
    {
     "name": "stderr",
     "output_type": "stream",
     "text": [
      "ERROR:dask_jobqueue.core:Unknown job_id: 43285195 for worker tcp://10.120.16.242:58318\n"
     ]
    }
   ],
   "source": [
    "dask_controller.mapfovs(segment.generate_segmentation,fov_list)"
   ]
  },
  {
   "cell_type": "code",
   "execution_count": 4,
   "metadata": {},
   "outputs": [
    {
     "name": "stderr",
     "output_type": "stream",
     "text": [
      "/home/de64/anaconda3/envs/mothermachine/lib/python3.7/site-packages/skimage/util/dtype.py:135: UserWarning: Possible precision loss when converting from float64 to uint8\n",
      "  .format(dtypeobj_in, dtypeobj_out))\n"
     ]
    }
   ],
   "source": [
    "segment.generate_segmentation(1)"
   ]
  },
  {
   "cell_type": "code",
   "execution_count": 13,
   "metadata": {},
   "outputs": [
    {
     "data": {
      "text/plain": [
       "(<function trenchripper.cluster.dask_controller.mapfovs.<locals>.mapallfovs(fov_number, function=<bound method fluo_segmentation_cluster.generate_segmentation of <trenchripper.segment.fluo_segmentation_cluster object at 0x7fbbc7cd7550>>)>,\n",
       " (1,),\n",
       " {},\n",
       " ())"
      ]
     },
     "execution_count": 13,
     "metadata": {},
     "output_type": "execute_result"
    }
   ],
   "source": [
    "kymo_controller.daskclient.get_futures_error(kymo_controller.futures[1])"
   ]
  },
  {
   "cell_type": "code",
   "execution_count": null,
   "metadata": {},
   "outputs": [],
   "source": [
    "kymo_handle.return_unwrap()"
   ]
  },
  {
   "cell_type": "code",
   "execution_count": 17,
   "metadata": {},
   "outputs": [
    {
     "name": "stdout",
     "output_type": "stream",
     "text": [
      "<KeysViewHDF5 ['1011', '1012', '1013', '1014', '1015', '1016', '1017', '1018', '1019', '1020', '1021', '1022', '1023', '1024', '1025', '1026', '1027', '1028', '1029', '1030', '1031', '1032', '1033', '1034', '1035', '1036', '1037', '1038', '1039', '1040', '1041', '1042', '1043', '1044', '1045', '1046', '1047', '1048', '1049', '1050', '1051', '1052', '1053', '1054', '1055', '1056', '1057', '1058', '1059', '1060', '1061', '1062', '1063', '1064', '1065', '1066', '1067', '1068', '1069', '1070', '1071', '1072', '1073', '1074', '1075', '1076', '1077', '1078', '1079', '1080', '1081', '1082', '1083', '1084', '1085', '1086', '1087', '1088', '1089', '1090', '1091', '1092', '1093', '1094', '1095', '1096', '1097', '1098', '1099', '1100', '1101', '1102', '1103', '1104', '1105', '1106', '1107', '1108', '1109', '1110', '1111', '1112', '1113', '1114', '1115', '1116', '1117', '1118', '1119', '1120', '1121', '1122', '1123', '1124', '1125', '1126', '1127', '1128', '1129', '1130', '1131']>\n",
      "<HDF5 group \"/1020\" (2 members)>\n"
     ]
    },
    {
     "data": {
      "image/png": "[encoded data removed]",
      "text/plain": [
       "<Figure size 432x288 with 1 Axes>"
      ]
     },
     "metadata": {
      "needs_background": "light"
     },
     "output_type": "display_data"
    },
    {
     "data": {
      "image/png": "[encoded data removed]",
      "text/plain": [
       "<Figure size 432x288 with 1 Axes>"
      ]
     },
     "metadata": {
      "needs_background": "light"
     },
     "output_type": "display_data"
    }
   ],
   "source": [
    "import h5py\n",
    "from matplotlib import pyplot as plt\n",
    "import numpy as np\n",
    "import trenchripper as tr\n",
    "\n",
    "kymo_handle = tr.utils.kymo_handle()\n",
    "\n",
    "with h5py.File(\"/n/scratch2/de64/2019-05-31_Bacillus_training_data_mneongreen/kymo/kymo_12.hdf5\",\"r\") as infile:\n",
    "    print(infile.keys())\n",
    "    print(infile['1020'])\n",
    "    kymo_handle.import_wrap(infile['1020'+'/channel_GFP'])\n",
    "    plt.imshow(infile['1020'+'/channel_GFP'][:,:,0])\n",
    "    plt.show()\n",
    "    plt.imshow(kymo_handle.return_unwrap())\n",
    "    plt.show()"
   ]
  },
  {
   "cell_type": "code",
   "execution_count": 18,
   "metadata": {},
   "outputs": [
    {
     "name": "stdout",
     "output_type": "stream",
     "text": [
      "<KeysViewHDF5 ['1011', '1012', '1013', '1014', '1015', '1016', '1017', '1018', '1019', '1020', '1021', '1022', '1023', '1024', '1025', '1026', '1027', '1028', '1029', '1030', '1031', '1032', '1033', '1034', '1035', '1036', '1037', '1038', '1039', '1040', '1041', '1042', '1043', '1044', '1045', '1046', '1047', '1048', '1049', '1050', '1051', '1052', '1053', '1054', '1055', '1056', '1057', '1058', '1059', '1060', '1061', '1062', '1063', '1064', '1065', '1066', '1067', '1068', '1069', '1070', '1071', '1072', '1073', '1074', '1075', '1076', '1077', '1078', '1079', '1080', '1081', '1082', '1083', '1084', '1085', '1086', '1087', '1088', '1089', '1090', '1091', '1092', '1093', '1094', '1095', '1096', '1097', '1098', '1099', '1100', '1101', '1102', '1103', '1104', '1105', '1106', '1107', '1108', '1109', '1110', '1111', '1112', '1113', '1114', '1115', '1116', '1117', '1118', '1119', '1120', '1121', '1122', '1123', '1124', '1125', '1126', '1127', '1128', '1129', '1130', '1131']>\n"
     ]
    },
    {
     "data": {
      "image/png": "[encoded data removed]",
      "text/plain": [
       "<Figure size 432x288 with 1 Axes>"
      ]
     },
     "metadata": {
      "needs_background": "light"
     },
     "output_type": "display_data"
    },
    {
     "data": {
      "image/png": "[encoded data removed]",
      "text/plain": [
       "<Figure size 432x288 with 1 Axes>"
      ]
     },
     "metadata": {
      "needs_background": "light"
     },
     "output_type": "display_data"
    }
   ],
   "source": [
    "import h5py\n",
    "from matplotlib import pyplot as plt\n",
    "import numpy as np\n",
    "\n",
    "kymo_handle = tr.utils.kymo_handle()\n",
    "\n",
    "with h5py.File(\"/n/scratch2/de64/2019-05-31_Bacillus_training_data_mneongreen/segmentation/seg_12.hdf5\",\"r\") as infile:\n",
    "    print(infile.keys())\n",
    "    kymo_handle.import_wrap(infile['1020'])\n",
    "    plt.imshow(infile['1020'][:,:,0])\n",
    "    plt.show()\n",
    "    plt.imshow(kymo_handle.return_unwrap())\n",
    "    plt.show()"
   ]
  },
  {
   "cell_type": "markdown",
   "metadata": {},
   "source": [
    "### Note\n",
    "There may be an issue where hdf5 files do not close properly on crashes..."
   ]
  },
  {
   "cell_type": "code",
   "execution_count": 7,
   "metadata": {},
   "outputs": [],
   "source": [
    "# props = kymo_controller.daskclient.gather(kymo_controller.futures) #this will hang until all futures are done"
   ]
  },
  {
   "cell_type": "markdown",
   "metadata": {},
   "source": [
    "#### Dask Utilities"
   ]
  },
  {
   "cell_type": "code",
   "execution_count": 1,
   "metadata": {},
   "outputs": [
    {
     "ename": "NameError",
     "evalue": "name 'dask_controller' is not defined",
     "output_type": "error",
     "traceback": [
      "\u001b[0;31m---------------------------------------------------------------------------\u001b[0m",
      "\u001b[0;31mNameError\u001b[0m                                 Traceback (most recent call last)",
      "\u001b[0;32m<ipython-input-1-0219e565be42>\u001b[0m in \u001b[0;36m<module>\u001b[0;34m\u001b[0m\n\u001b[0;32m----> 1\u001b[0;31m \u001b[0mdask_controller\u001b[0m\u001b[0;34m.\u001b[0m\u001b[0mshutdown\u001b[0m\u001b[0;34m(\u001b[0m\u001b[0;34m)\u001b[0m\u001b[0;34m\u001b[0m\u001b[0;34m\u001b[0m\u001b[0m\n\u001b[0m",
      "\u001b[0;31mNameError\u001b[0m: name 'dask_controller' is not defined"
     ]
    }
   ],
   "source": [
    "dask_controller.shutdown()"
   ]
  },
  {
   "cell_type": "code",
   "execution_count": 17,
   "metadata": {},
   "outputs": [
    {
     "name": "stderr",
     "output_type": "stream",
     "text": [
      "Worker tcp://10.120.16.117:43008 restart in Job 43139620. This can be due to memory issue.\n",
      "Worker tcp://10.120.17.99:46159 restart in Job 43139597. This can be due to memory issue.\n",
      "Worker tcp://10.120.17.99:47339 restart in Job 43139596. This can be due to memory issue.\n",
      "Worker tcp://10.120.16.54:36220 restart in Job 43139615. This can be due to memory issue.\n",
      "Worker tcp://10.120.17.112:51330 restart in Job 43139598. This can be due to memory issue.\n",
      "Worker tcp://10.120.16.49:52635 restart in Job 43139590. This can be due to memory issue.\n",
      "Worker tcp://10.120.17.129:42849 restart in Job 43139600. This can be due to memory issue.\n",
      "Worker tcp://10.120.17.129:52698 restart in Job 43139601. This can be due to memory issue.\n",
      "Worker tcp://10.120.17.120:34163 restart in Job 43139608. This can be due to memory issue.\n",
      "Worker tcp://10.120.17.120:49615 restart in Job 43139609. This can be due to memory issue.\n",
      "Worker tcp://10.120.16.135:51837 restart in Job 43139621. This can be due to memory issue.\n",
      "Worker tcp://10.120.17.126:40070 restart in Job 43139610. This can be due to memory issue.\n",
      "Worker tcp://10.120.17.126:34868 restart in Job 43139611. This can be due to memory issue.\n",
      "Worker tcp://10.120.16.145:37687 restart in Job 43139603. This can be due to memory issue.\n",
      "Worker tcp://10.120.17.102:44720 restart in Job 43139584. This can be due to memory issue.\n",
      "Worker tcp://10.120.16.39:54222 restart in Job 43139588. This can be due to memory issue.\n",
      "Worker tcp://10.120.16.39:49633 restart in Job 43139587. This can be due to memory issue.\n",
      "Worker tcp://10.120.16.48:47608 restart in Job 43139614. This can be due to memory issue.\n",
      "Worker tcp://10.120.16.84:35943 restart in Job 43139617. This can be due to memory issue.\n",
      "Worker tcp://10.120.17.114:43667 restart in Job 43139586. This can be due to memory issue.\n",
      "Worker tcp://10.120.17.121:52776 restart in Job 43139607. This can be due to memory issue.\n",
      "Worker tcp://10.120.17.121:50956 restart in Job 43139602. This can be due to memory issue.\n",
      "Worker tcp://10.120.17.141:60212 restart in Job 43139604. This can be due to memory issue.\n",
      "Worker tcp://10.120.16.110:50079 restart in Job 43139618. This can be due to memory issue.\n",
      "Worker tcp://10.120.16.82:44333 restart in Job 43139616. This can be due to memory issue.\n",
      "Worker tcp://10.120.17.79:48911 restart in Job 43139605. This can be due to memory issue.\n",
      "Worker tcp://10.120.17.79:40905 restart in Job 43139606. This can be due to memory issue.\n",
      "Worker tcp://10.120.16.139:54150 restart in Job 43139622. This can be due to memory issue.\n",
      "Worker tcp://10.120.16.180:45279 restart in Job 43139623. This can be due to memory issue.\n",
      "Worker tcp://10.120.16.115:56499 restart in Job 43139619. This can be due to memory issue.\n",
      "Worker tcp://10.120.16.92:43915 restart in Job 43139591. This can be due to memory issue.\n",
      "Worker tcp://10.120.16.92:38642 restart in Job 43139592. This can be due to memory issue.\n",
      "Worker tcp://10.120.17.104:43929 restart in Job 43139585. This can be due to memory issue.\n",
      "Worker tcp://10.120.16.117:56368 restart in Job 43139620. This can be due to memory issue.\n",
      "Worker tcp://10.120.16.54:53464 restart in Job 43139615. This can be due to memory issue.\n",
      "Worker tcp://10.120.17.113:33595 restart in Job 43139599. This can be due to memory issue.\n",
      "Worker tcp://10.120.16.49:50215 restart in Job 43139593. This can be due to memory issue.\n",
      "Worker tcp://10.120.16.49:49179 restart in Job 43139589. This can be due to memory issue.\n",
      "Worker tcp://10.120.16.42:52275 restart in Job 43139613. This can be due to memory issue.\n",
      "distributed.client - ERROR - Restart timed out after 6.000000 seconds\n",
      "distributed.scheduler - ERROR - Nannies didn't report back restarted within timeout.  Continuuing with restart process\n",
      "Future exception was never retrieved\n",
      "future: <Future finished exception=CommClosedError(\"in <closed TCP>: Stream is closed: while trying to call remote method 'restart'\")>\n",
      "Traceback (most recent call last):\n",
      "  File \"/home/de64/anaconda3/envs/mothermachine/lib/python3.7/site-packages/distributed/comm/tcp.py\", line 181, in read\n",
      "    n_frames = yield stream.read_bytes(8)\n",
      "  File \"/home/de64/anaconda3/envs/mothermachine/lib/python3.7/site-packages/tornado/gen.py\", line 729, in run\n",
      "    value = future.result()\n",
      "tornado.iostream.StreamClosedError: Stream is closed\n",
      "\n",
      "During handling of the above exception, another exception occurred:\n",
      "\n",
      "Traceback (most recent call last):\n",
      "  File \"/home/de64/anaconda3/envs/mothermachine/lib/python3.7/site-packages/distributed/core.py\", line 580, in send_recv_from_rpc\n",
      "    result = yield send_recv(comm=comm, op=key, **kwargs)\n",
      "  File \"/home/de64/anaconda3/envs/mothermachine/lib/python3.7/site-packages/tornado/gen.py\", line 729, in run\n",
      "    value = future.result()\n",
      "  File \"/home/de64/anaconda3/envs/mothermachine/lib/python3.7/site-packages/tornado/gen.py\", line 742, in run\n",
      "    yielded = self.gen.send(value)\n",
      "  File \"/home/de64/anaconda3/envs/mothermachine/lib/python3.7/site-packages/distributed/core.py\", line 457, in send_recv\n",
      "    response = yield comm.read(deserializers=deserializers)\n",
      "  File \"/home/de64/anaconda3/envs/mothermachine/lib/python3.7/site-packages/tornado/gen.py\", line 729, in run\n",
      "    value = future.result()\n",
      "  File \"/home/de64/anaconda3/envs/mothermachine/lib/python3.7/site-packages/tornado/gen.py\", line 736, in run\n",
      "    yielded = self.gen.throw(*exc_info)  # type: ignore\n",
      "  File \"/home/de64/anaconda3/envs/mothermachine/lib/python3.7/site-packages/distributed/comm/tcp.py\", line 201, in read\n",
      "    convert_stream_closed_error(self, e)\n",
      "  File \"/home/de64/anaconda3/envs/mothermachine/lib/python3.7/site-packages/distributed/comm/tcp.py\", line 130, in convert_stream_closed_error\n",
      "    raise CommClosedError(\"in %s: %s\" % (obj, exc))\n",
      "distributed.comm.core.CommClosedError: in <closed TCP>: Stream is closed\n",
      "\n",
      "During handling of the above exception, another exception occurred:\n",
      "\n",
      "Traceback (most recent call last):\n",
      "  File \"/home/de64/anaconda3/envs/mothermachine/lib/python3.7/site-packages/tornado/gen.py\", line 736, in run\n",
      "    yielded = self.gen.throw(*exc_info)  # type: ignore\n",
      "  File \"/home/de64/anaconda3/envs/mothermachine/lib/python3.7/site-packages/distributed/utils.py\", line 214, in All\n",
      "    result = yield tasks.next()\n",
      "  File \"/home/de64/anaconda3/envs/mothermachine/lib/python3.7/site-packages/tornado/gen.py\", line 729, in run\n",
      "    value = future.result()\n",
      "  File \"/home/de64/anaconda3/envs/mothermachine/lib/python3.7/site-packages/tornado/gen.py\", line 736, in run\n",
      "    yielded = self.gen.throw(*exc_info)  # type: ignore\n",
      "  File \"/home/de64/anaconda3/envs/mothermachine/lib/python3.7/site-packages/distributed/core.py\", line 583, in send_recv_from_rpc\n",
      "    % (e, key,))\n",
      "distributed.comm.core.CommClosedError: in <closed TCP>: Stream is closed: while trying to call remote method 'restart'\n",
      "\n",
      "During handling of the above exception, another exception occurred:\n",
      "\n",
      "Traceback (most recent call last):\n",
      "  File \"/home/de64/anaconda3/envs/mothermachine/lib/python3.7/site-packages/tornado/gen.py\", line 736, in run\n",
      "    yielded = self.gen.throw(*exc_info)  # type: ignore\n",
      "  File \"/home/de64/anaconda3/envs/mothermachine/lib/python3.7/site-packages/distributed/utils.py\", line 226, in quiet\n",
      "    yield task\n",
      "  File \"/home/de64/anaconda3/envs/mothermachine/lib/python3.7/site-packages/tornado/gen.py\", line 729, in run\n",
      "    value = future.result()\n",
      "  File \"/home/de64/anaconda3/envs/mothermachine/lib/python3.7/site-packages/tornado/gen.py\", line 736, in run\n",
      "    yielded = self.gen.throw(*exc_info)  # type: ignore\n",
      "  File \"/home/de64/anaconda3/envs/mothermachine/lib/python3.7/site-packages/distributed/core.py\", line 583, in send_recv_from_rpc\n",
      "    % (e, key,))\n",
      "distributed.comm.core.CommClosedError: in <closed TCP>: Stream is closed: while trying to call remote method 'restart'\n",
      "tornado.application - ERROR - Exception in Future <Future finished exception=CommClosedError(\"in <closed TCP>: Stream is closed: while trying to call remote method 'restart'\")> after timeout\n",
      "Traceback (most recent call last):\n",
      "  File \"/home/de64/anaconda3/envs/mothermachine/lib/python3.7/site-packages/distributed/comm/tcp.py\", line 181, in read\n",
      "    n_frames = yield stream.read_bytes(8)\n",
      "  File \"/home/de64/anaconda3/envs/mothermachine/lib/python3.7/site-packages/tornado/gen.py\", line 729, in run\n",
      "    value = future.result()\n",
      "tornado.iostream.StreamClosedError: Stream is closed\n",
      "\n",
      "During handling of the above exception, another exception occurred:\n",
      "\n",
      "Traceback (most recent call last):\n",
      "  File \"/home/de64/anaconda3/envs/mothermachine/lib/python3.7/site-packages/distributed/core.py\", line 580, in send_recv_from_rpc\n",
      "    result = yield send_recv(comm=comm, op=key, **kwargs)\n",
      "  File \"/home/de64/anaconda3/envs/mothermachine/lib/python3.7/site-packages/tornado/gen.py\", line 729, in run\n",
      "    value = future.result()\n",
      "  File \"/home/de64/anaconda3/envs/mothermachine/lib/python3.7/site-packages/tornado/gen.py\", line 742, in run\n",
      "    yielded = self.gen.send(value)\n",
      "  File \"/home/de64/anaconda3/envs/mothermachine/lib/python3.7/site-packages/distributed/core.py\", line 457, in send_recv\n",
      "    response = yield comm.read(deserializers=deserializers)\n",
      "  File \"/home/de64/anaconda3/envs/mothermachine/lib/python3.7/site-packages/tornado/gen.py\", line 729, in run\n",
      "    value = future.result()\n",
      "  File \"/home/de64/anaconda3/envs/mothermachine/lib/python3.7/site-packages/tornado/gen.py\", line 736, in run\n",
      "    yielded = self.gen.throw(*exc_info)  # type: ignore\n",
      "  File \"/home/de64/anaconda3/envs/mothermachine/lib/python3.7/site-packages/distributed/comm/tcp.py\", line 201, in read\n",
      "    convert_stream_closed_error(self, e)\n",
      "  File \"/home/de64/anaconda3/envs/mothermachine/lib/python3.7/site-packages/distributed/comm/tcp.py\", line 130, in convert_stream_closed_error\n",
      "    raise CommClosedError(\"in %s: %s\" % (obj, exc))\n",
      "distributed.comm.core.CommClosedError: in <closed TCP>: Stream is closed\n",
      "\n",
      "During handling of the above exception, another exception occurred:\n",
      "\n",
      "Traceback (most recent call last):\n",
      "  File \"/home/de64/anaconda3/envs/mothermachine/lib/python3.7/site-packages/tornado/gen.py\", line 589, in error_callback\n",
      "    future.result()\n",
      "  File \"/home/de64/anaconda3/envs/mothermachine/lib/python3.7/site-packages/tornado/gen.py\", line 736, in run\n",
      "    yielded = self.gen.throw(*exc_info)  # type: ignore\n",
      "  File \"/home/de64/anaconda3/envs/mothermachine/lib/python3.7/site-packages/distributed/utils.py\", line 214, in All\n",
      "    result = yield tasks.next()\n",
      "  File \"/home/de64/anaconda3/envs/mothermachine/lib/python3.7/site-packages/tornado/gen.py\", line 729, in run\n",
      "    value = future.result()\n",
      "  File \"/home/de64/anaconda3/envs/mothermachine/lib/python3.7/site-packages/tornado/gen.py\", line 736, in run\n",
      "    yielded = self.gen.throw(*exc_info)  # type: ignore\n",
      "  File \"/home/de64/anaconda3/envs/mothermachine/lib/python3.7/site-packages/distributed/core.py\", line 583, in send_recv_from_rpc\n",
      "    % (e, key,))\n",
      "distributed.comm.core.CommClosedError: in <closed TCP>: Stream is closed: while trying to call remote method 'restart'\n",
      "Worker tcp://10.120.17.127:46387 restart in Job 43139612. This can be due to memory issue.\n",
      "Worker tcp://10.120.17.75:59559 restart in Job 43139583. This can be due to memory issue.\n",
      "Worker tcp://10.120.17.99:45427 restart in Job 43139597. This can be due to memory issue.\n",
      "Worker tcp://10.120.17.99:60440 restart in Job 43139596. This can be due to memory issue.\n",
      "Worker tcp://10.120.17.89:58321 restart in Job 43139595. This can be due to memory issue.\n",
      "Worker tcp://10.120.17.89:37041 restart in Job 43139594. This can be due to memory issue.\n"
     ]
    }
   ],
   "source": [
    "dask_controller.retry_failed()"
   ]
  },
  {
   "cell_type": "code",
   "execution_count": 23,
   "metadata": {},
   "outputs": [
    {
     "name": "stderr",
     "output_type": "stream",
     "text": [
      "Worker tcp://10.120.17.11:59632 restart in Job 43146383. This can be due to memory issue.\n",
      "Worker tcp://10.120.17.11:46290 restart in Job 43146382. This can be due to memory issue.\n",
      "Worker tcp://10.120.17.16:48879 restart in Job 43146396. This can be due to memory issue.\n",
      "Worker tcp://10.120.17.107:40300 restart in Job 43146414. This can be due to memory issue.\n",
      "Worker tcp://10.120.17.13:42236 restart in Job 43146385. This can be due to memory issue.\n",
      "Worker tcp://10.120.16.64:56387 restart in Job 43146412. This can be due to memory issue.\n",
      "Worker tcp://10.120.16.242:43511 restart in Job 43146402. This can be due to memory issue.\n",
      "Worker tcp://10.120.17.16:50902 restart in Job 43146396. This can be due to memory issue.\n",
      "Worker tcp://10.120.16.242:53417 restart in Job 43146394. This can be due to memory issue.\n",
      "Worker tcp://10.120.16.242:51173 restart in Job 43146393. This can be due to memory issue.\n",
      "Worker tcp://10.120.17.16:33178 restart in Job 43146395. This can be due to memory issue.\n",
      "Worker tcp://10.120.16.127:38823 restart in Job 43146413. This can be due to memory issue.\n",
      "Worker tcp://10.120.16.78:57155 restart in Job 43146419. This can be due to memory issue.\n",
      "Worker tcp://10.120.16.78:59672 restart in Job 43146420. This can be due to memory issue.\n",
      "Worker tcp://10.120.16.78:37942 restart in Job 43146421. This can be due to memory issue.\n",
      "Worker tcp://10.120.17.77:54886 restart in Job 43146415. This can be due to memory issue.\n",
      "Worker tcp://10.120.17.77:51608 restart in Job 43146416. This can be due to memory issue.\n",
      "Worker tcp://10.120.17.13:57599 restart in Job 43146384. This can be due to memory issue.\n",
      "Worker tcp://10.120.17.13:51024 restart in Job 43146392. This can be due to memory issue.\n",
      "Worker tcp://10.120.17.13:60779 restart in Job 43146403. This can be due to memory issue.\n",
      "Worker tcp://10.120.17.141:46565 restart in Job 43146417. This can be due to memory issue.\n",
      "Worker tcp://10.120.16.244:33642 restart in Job 43146404. This can be due to memory issue.\n",
      "Worker tcp://10.120.17.11:37365 restart in Job 43146382. This can be due to memory issue.\n",
      "Worker tcp://10.120.17.142:38292 restart in Job 43146418. This can be due to memory issue.\n",
      "Worker tcp://10.120.16.170:43535 restart in Job 43146408. This can be due to memory issue.\n",
      "Worker tcp://10.120.16.171:53965 restart in Job 43146406. This can be due to memory issue.\n",
      "Worker tcp://10.120.16.170:42871 restart in Job 43146407. This can be due to memory issue.\n",
      "Worker tcp://10.120.16.170:51352 restart in Job 43146401. This can be due to memory issue.\n",
      "Worker tcp://10.120.16.170:33233 restart in Job 43146409. This can be due to memory issue.\n",
      "Worker tcp://10.120.16.170:42060 restart in Job 43146391. This can be due to memory issue.\n",
      "Worker tcp://10.120.16.190:38757 restart in Job 43146411. This can be due to memory issue.\n",
      "Worker tcp://10.120.16.165:38757 restart in Job 43146397. This can be due to memory issue.\n",
      "Worker tcp://10.120.16.190:44095 restart in Job 43146410. This can be due to memory issue.\n",
      "Worker tcp://10.120.16.164:33979 restart in Job 43146398. This can be due to memory issue.\n",
      "Worker tcp://10.120.16.169:60773 restart in Job 43146390. This can be due to memory issue.\n",
      "Worker tcp://10.120.16.164:34082 restart in Job 43146399. This can be due to memory issue.\n",
      "Worker tcp://10.120.16.169:35246 restart in Job 43146400. This can be due to memory issue.\n",
      "Worker tcp://10.120.16.169:35650 restart in Job 43146389. This can be due to memory issue.\n",
      "Worker tcp://10.120.16.239:44101 restart in Job 43146387. This can be due to memory issue.\n",
      "Worker tcp://10.120.16.239:34485 restart in Job 43146388. This can be due to memory issue.\n",
      "Worker tcp://10.120.16.239:55197 restart in Job 43146386. This can be due to memory issue.\n",
      "Worker tcp://10.120.16.245:57238 restart in Job 43146405. This can be due to memory issue.\n",
      "Worker tcp://10.120.16.134:49868 restart in Job 43146422. This can be due to memory issue.\n",
      "Worker tcp://10.120.17.11:59019 restart in Job 43146383. This can be due to memory issue.\n",
      "distributed.scheduler - ERROR - Not all workers responded positively: ['OK', 'OK', 'OK', 'OK', 'OK', 'OK', 'OK', 'OK', 'OK', 'OK', 'OK', 'OK', 'OK', 'OK', 'OK', 'OK', 'OK', 'OK', 'OK', 'OK', 'OK', 'OK', 'OK', 'OK', 'OK', 'OK', 'OK', 'OK', 'timed out', 'OK', 'OK', 'OK', 'OK', 'OK', 'OK', 'OK', 'OK', 'OK', 'OK', 'OK', 'OK']\n",
      "NoneType: None\n"
     ]
    },
    {
     "data": {
      "text/html": [
       "<table style=\"border: 2px solid white;\">\n",
       "<tr>\n",
       "<td style=\"vertical-align: top; border: 0px solid white\">\n",
       "<h3>Client</h3>\n",
       "<ul>\n",
       "  <li><b>Scheduler: </b>tcp://10.120.16.194:42145\n",
       "  <li><b>Dashboard: </b><a href='http://10.120.16.194:8787/status' target='_blank'>http://10.120.16.194:8787/status</a>\n",
       "</ul>\n",
       "</td>\n",
       "<td style=\"vertical-align: top; border: 0px solid white\">\n",
       "<h3>Cluster</h3>\n",
       "<ul>\n",
       "  <li><b>Workers: </b>41</li>\n",
       "  <li><b>Cores: </b>41</li>\n",
       "  <li><b>Memory: </b>164.00 GB</li>\n",
       "</ul>\n",
       "</td>\n",
       "</tr>\n",
       "</table>"
      ],
      "text/plain": [
       "<Client: scheduler='tcp://10.120.16.194:42145' processes=41 cores=41>"
      ]
     },
     "execution_count": 23,
     "metadata": {},
     "output_type": "execute_result"
    }
   ],
   "source": [
    "dask_controller.daskclient.restart()"
   ]
  },
  {
   "cell_type": "code",
   "execution_count": 13,
   "metadata": {},
   "outputs": [
    {
     "name": "stderr",
     "output_type": "stream",
     "text": [
      "WARNING:dask_jobqueue.core:Worker tcp://10.120.16.187:38711 restart in Job 43285232. This can be due to memory issue.\n",
      "WARNING:dask_jobqueue.core:Worker tcp://10.120.17.16:52553 restart in Job 43285243. This can be due to memory issue.\n",
      "WARNING:dask_jobqueue.core:Worker tcp://10.120.16.187:42443 restart in Job 43285236. This can be due to memory issue.\n",
      "WARNING:dask_jobqueue.core:Worker tcp://10.120.16.187:52278 restart in Job 43285237. This can be due to memory issue.\n",
      "WARNING:dask_jobqueue.core:Worker tcp://10.120.16.161:53558 restart in Job 43285244. This can be due to memory issue.\n",
      "WARNING:dask_jobqueue.core:Worker tcp://10.120.16.245:34434 restart in Job 43285225. This can be due to memory issue.\n",
      "WARNING:dask_jobqueue.core:Worker tcp://10.120.16.162:51504 restart in Job 43285219. This can be due to memory issue.\n",
      "WARNING:dask_jobqueue.core:Worker tcp://10.120.16.193:55226 restart in Job 43285222. This can be due to memory issue.\n",
      "WARNING:dask_jobqueue.core:Worker tcp://10.120.17.13:60983 restart in Job 43285215. This can be due to memory issue.\n",
      "WARNING:dask_jobqueue.core:Worker tcp://10.120.17.13:60357 restart in Job 43285214. This can be due to memory issue.\n",
      "WARNING:dask_jobqueue.core:Worker tcp://10.120.16.165:50348 restart in Job 43285242. This can be due to memory issue.\n",
      "WARNING:dask_jobqueue.core:Worker tcp://10.120.17.16:45533 restart in Job 43285243. This can be due to memory issue.\n",
      "WARNING:dask_jobqueue.core:Worker tcp://10.120.16.244:41511 restart in Job 43285203. This can be due to memory issue.\n",
      "WARNING:dask_jobqueue.core:Worker tcp://10.120.16.243:57207 restart in Job 43285218. This can be due to memory issue.\n",
      "WARNING:dask_jobqueue.core:Worker tcp://10.120.16.243:54141 restart in Job 43285217. This can be due to memory issue.\n",
      "WARNING:dask_jobqueue.core:Worker tcp://10.120.16.242:45844 restart in Job 43285216. This can be due to memory issue.\n",
      "WARNING:dask_jobqueue.core:Worker tcp://10.120.16.170:49485 restart in Job 43285231. This can be due to memory issue.\n",
      "WARNING:dask_jobqueue.core:Worker tcp://10.120.16.162:57645 restart in Job 43285220. This can be due to memory issue.\n",
      "WARNING:dask_jobqueue.core:Worker tcp://10.120.16.189:52844 restart in Job 43285226. This can be due to memory issue.\n",
      "WARNING:dask_jobqueue.core:Worker tcp://10.120.16.171:38214 restart in Job 43285230. This can be due to memory issue.\n",
      "WARNING:dask_jobqueue.core:Worker tcp://10.120.16.245:36345 restart in Job 43285225. This can be due to memory issue.\n",
      "WARNING:dask_jobqueue.core:Worker tcp://10.120.16.180:36945 restart in Job 43285210. This can be due to memory issue.\n",
      "WARNING:dask_jobqueue.core:Worker tcp://10.120.16.190:35348 restart in Job 43285229. This can be due to memory issue.\n",
      "WARNING:dask_jobqueue.core:Worker tcp://10.120.16.190:57428 restart in Job 43285227. This can be due to memory issue.\n",
      "WARNING:dask_jobqueue.core:Worker tcp://10.120.16.190:57071 restart in Job 43285228. This can be due to memory issue.\n",
      "WARNING:dask_jobqueue.core:Worker tcp://10.120.16.187:47499 restart in Job 43285235. This can be due to memory issue.\n",
      "WARNING:dask_jobqueue.core:Worker tcp://10.120.16.187:37730 restart in Job 43285232. This can be due to memory issue.\n",
      "WARNING:dask_jobqueue.core:Worker tcp://10.120.16.187:44674 restart in Job 43285234. This can be due to memory issue.\n",
      "WARNING:dask_jobqueue.core:Worker tcp://10.120.16.187:42409 restart in Job 43285237. This can be due to memory issue.\n",
      "WARNING:dask_jobqueue.core:Worker tcp://10.120.16.187:40838 restart in Job 43285233. This can be due to memory issue.\n",
      "WARNING:dask_jobqueue.core:Worker tcp://10.120.16.187:55789 restart in Job 43285236. This can be due to memory issue.\n",
      "WARNING:dask_jobqueue.core:Worker tcp://10.120.17.11:36683 restart in Job 43285223. This can be due to memory issue.\n",
      "WARNING:dask_jobqueue.core:Worker tcp://10.120.17.11:53616 restart in Job 43285209. This can be due to memory issue.\n",
      "WARNING:dask_jobqueue.core:Worker tcp://10.120.16.164:33769 restart in Job 43285239. This can be due to memory issue.\n",
      "WARNING:dask_jobqueue.core:Worker tcp://10.120.17.11:33194 restart in Job 43285208. This can be due to memory issue.\n",
      "WARNING:dask_jobqueue.core:Worker tcp://10.120.16.164:40448 restart in Job 43285240. This can be due to memory issue.\n",
      "WARNING:dask_jobqueue.core:Worker tcp://10.120.16.161:39395 restart in Job 43285244. This can be due to memory issue.\n",
      "WARNING:dask_jobqueue.core:Worker tcp://10.120.16.161:53975 restart in Job 43285205. This can be due to memory issue.\n",
      "WARNING:dask_jobqueue.core:Worker tcp://10.120.16.161:42484 restart in Job 43285204. This can be due to memory issue.\n",
      "WARNING:dask_jobqueue.core:Worker tcp://10.120.16.161:55472 restart in Job 43285221. This can be due to memory issue.\n",
      "WARNING:dask_jobqueue.core:Worker tcp://10.120.16.193:48519 restart in Job 43285222. This can be due to memory issue.\n",
      "WARNING:dask_jobqueue.core:Worker tcp://10.120.16.193:56465 restart in Job 43285212. This can be due to memory issue.\n",
      "WARNING:dask_jobqueue.core:Worker tcp://10.120.16.168:41478 restart in Job 43285207. This can be due to memory issue.\n",
      "WARNING:dask_jobqueue.core:Worker tcp://10.120.17.16:42816 restart in Job 43285213. This can be due to memory issue.\n",
      "WARNING:dask_jobqueue.core:Worker tcp://10.120.16.168:40508 restart in Job 43285206. This can be due to memory issue.\n",
      "WARNING:dask_jobqueue.core:Worker tcp://10.120.16.162:59811 restart in Job 43285219. This can be due to memory issue.\n",
      "WARNING:dask_jobqueue.core:Worker tcp://10.120.16.164:57870 restart in Job 43285241. This can be due to memory issue.\n",
      "WARNING:dask_jobqueue.core:Worker tcp://10.120.16.179:44374 restart in Job 43285211. This can be due to memory issue.\n",
      "WARNING:dask_jobqueue.core:Worker tcp://10.120.17.16:48100 restart in Job 43285224. This can be due to memory issue.\n"
     ]
    }
   ],
   "source": [
    "dask_controller.retry_processing()"
   ]
  },
  {
   "cell_type": "code",
   "execution_count": null,
   "metadata": {},
   "outputs": [],
   "source": [
    "#scancel --name=dask-worker --user=de64"
   ]
  },
  {
   "cell_type": "markdown",
   "metadata": {},
   "source": [
    "#### Note: need to find a way to associate lanes from init barcoding snapshot with imaging lanes\n",
    "\n",
    "plan:\n",
    "- extract and segment (with phase) barcoding file\n",
    "- extract and segment experiemnt file\n",
    "- for both, note x positions of t=0 trenches\n",
    "- compare these values to map trenches to eachother..."
   ]
  }
 ],
 "metadata": {
  "kernelspec": {
   "display_name": "mothermachine",
   "language": "python",
   "name": "mothermachine"
  },
  "language_info": {
   "codemirror_mode": {
    "name": "ipython",
    "version": 3
   },
   "file_extension": ".py",
   "mimetype": "text/x-python",
   "name": "python",
   "nbconvert_exporter": "python",
   "pygments_lexer": "ipython3",
   "version": "3.6.8"
  }
 },
 "nbformat": 4,
 "nbformat_minor": 2
}
