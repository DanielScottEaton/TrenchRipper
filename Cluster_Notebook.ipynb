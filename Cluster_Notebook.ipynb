{
 "cells": [
  {
   "cell_type": "markdown",
   "metadata": {},
   "source": [
    "## Kymograph Cluster Code\n",
    "\n",
    "should I add a retry call by default?"
   ]
  },
  {
   "cell_type": "code",
   "execution_count": 1,
   "metadata": {},
   "outputs": [
    {
     "name": "stderr",
     "output_type": "stream",
     "text": [
      "/home/de64/anaconda3/envs/mothermachine/lib/python3.7/site-packages/dask/config.py:168: YAMLLoadWarning: calling yaml.load() without Loader=... is deprecated, as the default Loader is unsafe. Please read https://msg.pyyaml.org/load for full details.\n",
      "  data = yaml.load(f.read()) or {}\n",
      "/home/de64/anaconda3/envs/mothermachine/lib/python3.7/site-packages/distributed/config.py:20: YAMLLoadWarning: calling yaml.load() without Loader=... is deprecated, as the default Loader is unsafe. Please read https://msg.pyyaml.org/load for full details.\n",
      "  defaults = yaml.load(f)\n",
      "/home/de64/anaconda3/envs/mothermachine/lib/python3.7/site-packages/dask_jobqueue/config.py:12: YAMLLoadWarning: calling yaml.load() without Loader=... is deprecated, as the default Loader is unsafe. Please read https://msg.pyyaml.org/load for full details.\n",
      "  defaults = yaml.load(f)\n"
     ]
    }
   ],
   "source": [
    "import trenchripper as tr"
   ]
  },
  {
   "cell_type": "code",
   "execution_count": 11,
   "metadata": {},
   "outputs": [
    {
     "name": "stdout",
     "output_type": "stream",
     "text": [
      "Submitted batch job 41036101\n"
     ]
    }
   ],
   "source": [
    "!sbatch -p transfer -t 0-12:00 --wrap=\"rsync -r /n/files/SysBio/PAULSSON\\ LAB/Daniel/Image_Data/Bacillus_Project/2019-05-10_bacillus_training_data /n/scratch2/de64/2019-05-10_bacillus_training_data/\""
   ]
  },
  {
   "cell_type": "markdown",
   "metadata": {},
   "source": [
    "#### Start Dask"
   ]
  },
  {
   "cell_type": "code",
   "execution_count": 12,
   "metadata": {},
   "outputs": [
    {
     "name": "stderr",
     "output_type": "stream",
     "text": [
      "/home/de64/anaconda3/envs/mothermachine/lib/python3.7/site-packages/distributed/bokeh/core.py:57: UserWarning: \n",
      "Port 8787 is already in use. \n",
      "Perhaps you already have a cluster running?\n",
      "Hosting the diagnostics dashboard on a random port instead.\n",
      "  warnings.warn('\\n' + msg)\n"
     ]
    }
   ],
   "source": [
    "# kymo_controller = tr.cluster.dask_controller(walltime='04:00:00',local=False,n_workers=40,memory='2GB')\n",
    "kymo_controller = tr.cluster.dask_controller(walltime='04:00:00',local=False,n_workers=40,memory='4GB')\n",
    "kymo_controller.startdask()\n",
    "kymo_controller.daskcluster.start_workers()"
   ]
  },
  {
   "cell_type": "code",
   "execution_count": 13,
   "metadata": {},
   "outputs": [
    {
     "data": {
      "text/html": [
       "<table style=\"border: 2px solid white;\">\n",
       "<tr>\n",
       "<td style=\"vertical-align: top; border: 0px solid white\">\n",
       "<h3>Client</h3>\n",
       "<ul>\n",
       "  <li><b>Scheduler: </b>tcp://10.120.16.183:53051\n",
       "  <li><b>Dashboard: </b><a href='http://10.120.16.183:47733/status' target='_blank'>http://10.120.16.183:47733/status</a>\n",
       "</ul>\n",
       "</td>\n",
       "<td style=\"vertical-align: top; border: 0px solid white\">\n",
       "<h3>Cluster</h3>\n",
       "<ul>\n",
       "  <li><b>Workers: </b>0</li>\n",
       "  <li><b>Cores: </b>0</li>\n",
       "  <li><b>Memory: </b>0 B</li>\n",
       "</ul>\n",
       "</td>\n",
       "</tr>\n",
       "</table>"
      ],
      "text/plain": [
       "<Client: scheduler='tcp://10.120.16.183:53051' processes=0 cores=0>"
      ]
     },
     "execution_count": 13,
     "metadata": {},
     "output_type": "execute_result"
    }
   ],
   "source": [
    "kymo_controller.daskclient"
   ]
  },
  {
   "cell_type": "markdown",
   "metadata": {},
   "source": [
    "#### Perform Extraction"
   ]
  },
  {
   "cell_type": "code",
   "execution_count": 18,
   "metadata": {},
   "outputs": [],
   "source": [
    "# hdf5_extractor = tr.ndextract.hdf5_fov_extractor(\"/n/scratch2/de64/full_pipeline_test/40x_Ph2_Test_1.5.nd2\",\"/n/scratch2/de64/full_pipeline_test\")\n",
    "hdf5_extractor = tr.ndextract.hdf5_fov_extractor(\"/n/scratch2/de64/2019-05-10_bacillus_training_data/ChannelPhase,RFP_Seq0000.nd2\",\"/n/scratch2/de64/2019-05-10_bacillus_training_data\")"
   ]
  },
  {
   "cell_type": "code",
   "execution_count": 20,
   "metadata": {},
   "outputs": [
    {
     "data": {
      "text/html": [
       "<div>\n",
       "<style scoped>\n",
       "    .dataframe tbody tr th:only-of-type {\n",
       "        vertical-align: middle;\n",
       "    }\n",
       "\n",
       "    .dataframe tbody tr th {\n",
       "        vertical-align: top;\n",
       "    }\n",
       "\n",
       "    .dataframe thead th {\n",
       "        text-align: right;\n",
       "    }\n",
       "</style>\n",
       "<table border=\"1\" class=\"dataframe\">\n",
       "  <thead>\n",
       "    <tr style=\"text-align: right;\">\n",
       "      <th></th>\n",
       "      <th>fov</th>\n",
       "      <th>t</th>\n",
       "      <th>x</th>\n",
       "      <th>y</th>\n",
       "      <th>z</th>\n",
       "    </tr>\n",
       "  </thead>\n",
       "  <tbody>\n",
       "    <tr>\n",
       "      <th>0</th>\n",
       "      <td>0</td>\n",
       "      <td>21603.491950</td>\n",
       "      <td>5339.7</td>\n",
       "      <td>-3886.6</td>\n",
       "      <td>5528.84</td>\n",
       "    </tr>\n",
       "    <tr>\n",
       "      <th>1</th>\n",
       "      <td>0</td>\n",
       "      <td>22054.492848</td>\n",
       "      <td>5340.9</td>\n",
       "      <td>-3886.6</td>\n",
       "      <td>5529.20</td>\n",
       "    </tr>\n",
       "    <tr>\n",
       "      <th>2</th>\n",
       "      <td>0</td>\n",
       "      <td>22504.465272</td>\n",
       "      <td>5341.1</td>\n",
       "      <td>-3886.7</td>\n",
       "      <td>5529.28</td>\n",
       "    </tr>\n",
       "    <tr>\n",
       "      <th>3</th>\n",
       "      <td>0</td>\n",
       "      <td>22954.496112</td>\n",
       "      <td>5341.1</td>\n",
       "      <td>-3886.7</td>\n",
       "      <td>5529.18</td>\n",
       "    </tr>\n",
       "    <tr>\n",
       "      <th>4</th>\n",
       "      <td>0</td>\n",
       "      <td>23404.607544</td>\n",
       "      <td>5341.1</td>\n",
       "      <td>-3886.7</td>\n",
       "      <td>5529.02</td>\n",
       "    </tr>\n",
       "  </tbody>\n",
       "</table>\n",
       "</div>"
      ],
      "text/plain": [
       "   fov             t       x       y        z\n",
       "0    0  21603.491950  5339.7 -3886.6  5528.84\n",
       "1    0  22054.492848  5340.9 -3886.6  5529.20\n",
       "2    0  22504.465272  5341.1 -3886.7  5529.28\n",
       "3    0  22954.496112  5341.1 -3886.7  5529.18\n",
       "4    0  23404.607544  5341.1 -3886.7  5529.02"
      ]
     },
     "execution_count": 20,
     "metadata": {},
     "output_type": "execute_result"
    }
   ],
   "source": [
    "hdf5_extractor.fov_metadata[:5]"
   ]
  },
  {
   "cell_type": "code",
   "execution_count": 21,
   "metadata": {},
   "outputs": [],
   "source": [
    "fov_list = list(range(0,40))"
   ]
  },
  {
   "cell_type": "code",
   "execution_count": 22,
   "metadata": {},
   "outputs": [
    {
     "name": "stderr",
     "output_type": "stream",
     "text": [
      "/home/de64/anaconda3/envs/mothermachine/lib/python3.7/site-packages/tables/path.py:157: NaturalNameWarning: object name is a Python keyword: 'global'; you will not be able to use natural naming to access this object; using ``getattr()`` will still work, though\n",
      "  check_attribute_name(name)\n"
     ]
    }
   ],
   "source": [
    "hdf5_extractor.writemetadata()"
   ]
  },
  {
   "cell_type": "code",
   "execution_count": 23,
   "metadata": {},
   "outputs": [],
   "source": [
    "kymo_controller.mapfovs(hdf5_extractor.extract_fov,fov_list)"
   ]
  },
  {
   "cell_type": "code",
   "execution_count": 24,
   "metadata": {},
   "outputs": [
    {
     "name": "stderr",
     "output_type": "stream",
     "text": [
      "WARNING:dask_jobqueue.core:Worker tcp://10.120.16.192:47389 restart in Job 41036629. This can be due to memory issue.\n",
      "WARNING:dask_jobqueue.core:Worker tcp://10.120.16.238:59406 restart in Job 41036660. This can be due to memory issue.\n",
      "WARNING:dask_jobqueue.core:Worker tcp://10.120.17.13:36845 restart in Job 41036636. This can be due to memory issue.\n",
      "WARNING:dask_jobqueue.core:Worker tcp://10.120.16.193:42747 restart in Job 41036632. This can be due to memory issue.\n",
      "WARNING:dask_jobqueue.core:Worker tcp://10.120.16.189:47752 restart in Job 41036631. This can be due to memory issue.\n",
      "WARNING:dask_jobqueue.core:Worker tcp://10.120.16.239:52595 restart in Job 41036659. This can be due to memory issue.\n",
      "WARNING:dask_jobqueue.core:Worker tcp://10.120.16.245:46080 restart in Job 41036655. This can be due to memory issue.\n",
      "WARNING:dask_jobqueue.core:Worker tcp://10.120.16.183:42397 restart in Job 41036649. This can be due to memory issue.\n",
      "WARNING:dask_jobqueue.core:Worker tcp://10.120.16.183:58800 restart in Job 41036637. This can be due to memory issue.\n",
      "WARNING:dask_jobqueue.core:Worker tcp://10.120.16.245:38052 restart in Job 41036634. This can be due to memory issue.\n",
      "WARNING:dask_jobqueue.core:Worker tcp://10.120.16.192:54058 restart in Job 41036629. This can be due to memory issue.\n",
      "WARNING:dask_jobqueue.core:Worker tcp://10.120.16.192:58676 restart in Job 41036652. This can be due to memory issue.\n",
      "WARNING:dask_jobqueue.core:Worker tcp://10.120.16.181:55185 restart in Job 41036641. This can be due to memory issue.\n",
      "WARNING:dask_jobqueue.core:Worker tcp://10.120.16.178:46838 restart in Job 41036622. This can be due to memory issue.\n",
      "WARNING:dask_jobqueue.core:Worker tcp://10.120.16.180:53593 restart in Job 41036656. This can be due to memory issue.\n",
      "WARNING:dask_jobqueue.core:Worker tcp://10.120.16.180:40666 restart in Job 41036623. This can be due to memory issue.\n",
      "WARNING:dask_jobqueue.core:Worker tcp://10.120.16.238:34166 restart in Job 41036660. This can be due to memory issue.\n",
      "WARNING:dask_jobqueue.core:Worker tcp://10.120.16.187:50945 restart in Job 41036624. This can be due to memory issue.\n",
      "WARNING:dask_jobqueue.core:Worker tcp://10.120.16.187:42383 restart in Job 41036642. This can be due to memory issue.\n",
      "WARNING:dask_jobqueue.core:Worker tcp://10.120.16.238:52216 restart in Job 41036633. This can be due to memory issue.\n",
      "WARNING:dask_jobqueue.core:Worker tcp://10.120.16.238:33487 restart in Job 41036644. This can be due to memory issue.\n",
      "WARNING:dask_jobqueue.core:Worker tcp://10.120.17.12:43292 restart in Job 41036651. This can be due to memory issue.\n",
      "WARNING:dask_jobqueue.core:Worker tcp://10.120.16.244:34522 restart in Job 41036654. This can be due to memory issue.\n",
      "WARNING:dask_jobqueue.core:Worker tcp://10.120.16.193:59542 restart in Job 41036653. This can be due to memory issue.\n",
      "WARNING:dask_jobqueue.core:Worker tcp://10.120.16.193:54655 restart in Job 41036632. This can be due to memory issue.\n",
      "WARNING:dask_jobqueue.core:Worker tcp://10.120.16.243:39533 restart in Job 41036625. This can be due to memory issue.\n",
      "WARNING:dask_jobqueue.core:Worker tcp://10.120.16.179:56907 restart in Job 41036647. This can be due to memory issue.\n",
      "WARNING:dask_jobqueue.core:Worker tcp://10.120.16.179:44499 restart in Job 41036648. This can be due to memory issue.\n",
      "WARNING:dask_jobqueue.core:Worker tcp://10.120.16.179:59783 restart in Job 41036657. This can be due to memory issue.\n",
      "WARNING:dask_jobqueue.core:Worker tcp://10.120.16.179:45589 restart in Job 41036658. This can be due to memory issue.\n",
      "WARNING:dask_jobqueue.core:Worker tcp://10.120.16.191:32939 restart in Job 41036628. This can be due to memory issue.\n",
      "WARNING:dask_jobqueue.core:Worker tcp://10.120.17.13:40766 restart in Job 41036636. This can be due to memory issue.\n",
      "WARNING:dask_jobqueue.core:Worker tcp://10.120.16.191:49641 restart in Job 41036639. This can be due to memory issue.\n",
      "WARNING:dask_jobqueue.core:Worker tcp://10.120.16.191:58039 restart in Job 41036640. This can be due to memory issue.\n",
      "WARNING:dask_jobqueue.core:Worker tcp://10.120.16.191:33622 restart in Job 41036643. This can be due to memory issue.\n",
      "WARNING:dask_jobqueue.core:Worker tcp://10.120.17.13:59035 restart in Job 41036630. This can be due to memory issue.\n",
      "WARNING:dask_jobqueue.core:Worker tcp://10.120.17.11:60479 restart in Job 41036635. This can be due to memory issue.\n",
      "WARNING:dask_jobqueue.core:Worker tcp://10.120.16.171:33667 restart in Job 41036645. This can be due to memory issue.\n",
      "WARNING:dask_jobqueue.core:Worker tcp://10.120.16.171:34277 restart in Job 41036646. This can be due to memory issue.\n",
      "WARNING:dask_jobqueue.core:Worker tcp://10.120.16.184:53269 restart in Job 41036638. This can be due to memory issue.\n",
      "WARNING:dask_jobqueue.core:Worker tcp://10.120.16.184:54043 restart in Job 41036650. This can be due to memory issue.\n",
      "WARNING:dask_jobqueue.core:Worker tcp://10.120.16.184:47109 restart in Job 41036626. This can be due to memory issue.\n",
      "WARNING:dask_jobqueue.core:Worker tcp://10.120.16.185:38462 restart in Job 41036627. This can be due to memory issue.\n",
      "WARNING:dask_jobqueue.core:Worker tcp://10.120.16.162:46266 restart in Job 41036620. This can be due to memory issue.\n",
      "WARNING:dask_jobqueue.core:Worker tcp://10.120.16.165:57301 restart in Job 41036621. This can be due to memory issue.\n"
     ]
    }
   ],
   "source": [
    "kymo_controller.retry_failed()"
   ]
  },
  {
   "cell_type": "code",
   "execution_count": null,
   "metadata": {},
   "outputs": [],
   "source": [
    "# props = kymo_controller.daskclient.gather(kymo_controller.futures) #this will hang until all futures are done"
   ]
  },
  {
   "cell_type": "code",
   "execution_count": 17,
   "metadata": {},
   "outputs": [],
   "source": [
    "# hdf5_extractor.writemetadata()\n",
    "hdf5_extractor.extract_fov(57)"
   ]
  },
  {
   "cell_type": "code",
   "execution_count": 4,
   "metadata": {},
   "outputs": [],
   "source": [
    "# test = tr.utils.pandas_hdf5_handler(\"/n/scratch2/de64/full_pipeline_test/metadata.hdf5\")"
   ]
  },
  {
   "cell_type": "code",
   "execution_count": null,
   "metadata": {},
   "outputs": [],
   "source": []
  },
  {
   "cell_type": "markdown",
   "metadata": {},
   "source": [
    "#### End Dask, Cancel Jobs"
   ]
  },
  {
   "cell_type": "code",
   "execution_count": 3,
   "metadata": {},
   "outputs": [],
   "source": [
    "kymo_controller.shutdown()"
   ]
  },
  {
   "cell_type": "code",
   "execution_count": null,
   "metadata": {},
   "outputs": [],
   "source": [
    "#scancel --name=dask-worker --user=de64"
   ]
  },
  {
   "cell_type": "markdown",
   "metadata": {},
   "source": [
    "#### Generate Kymographs"
   ]
  },
  {
   "cell_type": "markdown",
   "metadata": {},
   "source": [
    "#### Start Dask"
   ]
  },
  {
   "cell_type": "code",
   "execution_count": 2,
   "metadata": {},
   "outputs": [],
   "source": [
    "kymo_controller = tr.cluster.dask_controller(walltime='04:00:00',local=False,n_workers=40,memory='4GB')\n",
    "kymo_controller.startdask()\n",
    "kymo_controller.daskcluster.start_workers()"
   ]
  },
  {
   "cell_type": "code",
   "execution_count": 3,
   "metadata": {},
   "outputs": [
    {
     "data": {
      "text/html": [
       "<table style=\"border: 2px solid white;\">\n",
       "<tr>\n",
       "<td style=\"vertical-align: top; border: 0px solid white\">\n",
       "<h3>Client</h3>\n",
       "<ul>\n",
       "  <li><b>Scheduler: </b>tcp://10.120.16.182:44941\n",
       "  <li><b>Dashboard: </b><a href='http://10.120.16.182:8787/status' target='_blank'>http://10.120.16.182:8787/status</a>\n",
       "</ul>\n",
       "</td>\n",
       "<td style=\"vertical-align: top; border: 0px solid white\">\n",
       "<h3>Cluster</h3>\n",
       "<ul>\n",
       "  <li><b>Workers: </b>0</li>\n",
       "  <li><b>Cores: </b>0</li>\n",
       "  <li><b>Memory: </b>0 B</li>\n",
       "</ul>\n",
       "</td>\n",
       "</tr>\n",
       "</table>"
      ],
      "text/plain": [
       "<Client: scheduler='tcp://10.120.16.182:44941' processes=0 cores=0>"
      ]
     },
     "execution_count": 3,
     "metadata": {},
     "output_type": "execute_result"
    }
   ],
   "source": [
    "kymo_controller.daskclient"
   ]
  },
  {
   "cell_type": "code",
   "execution_count": 13,
   "metadata": {},
   "outputs": [],
   "source": [
    "headpath = \"/n/scratch2/de64/full_pipeline_test\"\n",
    "all_channels = [\"channel_RFP\",\"channel_BF\"]\n",
    "\n",
    "kymo = tr.kymograph.kychunker(headpath=headpath,all_channels=all_channels,trench_len_y=270,padding_y=40,trench_width_x=30,\\\n",
    "                 t_chunk=25,t_range=(0,-1),y_percentile=90,y_min_edge_dist=80,smoothing_kernel_y=(17,1),triangle_nbins=50,triangle_scaling=1.60,\\\n",
    "                 expected_num_rows=2,orientation_detection=0,x_percentile=95,background_kernel_x=(21,1),smoothing_kernel_x=(9,1),otsu_nbins=50,otsu_scaling=0.7)"
   ]
  },
  {
   "cell_type": "code",
   "execution_count": 14,
   "metadata": {},
   "outputs": [],
   "source": [
    "# fov_list = list(range(15)) + list(range(67,80))\n",
    "# fov_list = list(range(20)) + list(range(60,80))\n",
    "fov_list = list(range(0,80))"
   ]
  },
  {
   "cell_type": "code",
   "execution_count": 15,
   "metadata": {},
   "outputs": [],
   "source": [
    "kymo_controller.mapfovs(kymo.generate_kymograph,fov_list,retries=1)"
   ]
  },
  {
   "cell_type": "code",
   "execution_count": 8,
   "metadata": {},
   "outputs": [
    {
     "name": "stderr",
     "output_type": "stream",
     "text": [
      "Worker tcp://10.120.16.72:39901 restart in Job 40875103. This can be due to memory issue.\n",
      "Worker tcp://10.120.16.81:48675 restart in Job 40875091. This can be due to memory issue.\n",
      "Worker tcp://10.120.16.51:46388 restart in Job 40875101. This can be due to memory issue.\n",
      "Worker tcp://10.120.16.65:37642 restart in Job 40875083. This can be due to memory issue.\n",
      "Worker tcp://10.120.16.240:58150 restart in Job 40875087. This can be due to memory issue.\n",
      "Worker tcp://10.120.16.160:48348 restart in Job 40875076. This can be due to memory issue.\n",
      "Worker tcp://10.120.16.238:49592 restart in Job 40875086. This can be due to memory issue.\n",
      "Worker tcp://10.120.16.45:54906 restart in Job 40875081. This can be due to memory issue.\n",
      "Worker tcp://10.120.16.245:39415 restart in Job 40875080. This can be due to memory issue.\n",
      "Worker tcp://10.120.16.182:52858 restart in Job 40875096. This can be due to memory issue.\n",
      "Worker tcp://10.120.16.182:35569 restart in Job 40875085. This can be due to memory issue.\n",
      "Worker tcp://10.120.16.180:55894 restart in Job 40875095. This can be due to memory issue.\n",
      "Worker tcp://10.120.16.40:37595 restart in Job 40875100. This can be due to memory issue.\n",
      "Worker tcp://10.120.16.244:55162 restart in Job 40875097. This can be due to memory issue.\n",
      "Worker tcp://10.120.17.9:44245 restart in Job 40875098. This can be due to memory issue.\n",
      "Worker tcp://10.120.16.48:42386 restart in Job 40875082. This can be due to memory issue.\n",
      "Worker tcp://10.120.16.185:36945 restart in Job 40875078. This can be due to memory issue.\n",
      "Worker tcp://10.120.16.51:43762 restart in Job 40875101. This can be due to memory issue.\n",
      "Worker tcp://10.120.16.58:40096 restart in Job 40875089. This can be due to memory issue.\n",
      "Worker tcp://10.120.16.81:37349 restart in Job 40875091. This can be due to memory issue.\n",
      "Worker tcp://10.120.16.72:42168 restart in Job 40875103. This can be due to memory issue.\n",
      "Worker tcp://10.120.16.70:60437 restart in Job 40875102. This can be due to memory issue.\n",
      "Worker tcp://10.120.16.83:40825 restart in Job 40875092. This can be due to memory issue.\n",
      "Worker tcp://10.120.16.71:58273 restart in Job 40875084. This can be due to memory issue.\n",
      "Worker tcp://10.120.16.168:48471 restart in Job 40875094. This can be due to memory issue.\n",
      "Worker tcp://10.120.16.36:48172 restart in Job 40875088. This can be due to memory issue.\n",
      "Worker tcp://10.120.16.240:52096 restart in Job 40875079. This can be due to memory issue.\n",
      "Worker tcp://10.120.16.104:37067 restart in Job 40875093. This can be due to memory issue.\n",
      "Worker tcp://10.120.16.179:37664 restart in Job 40875075. This can be due to memory issue.\n",
      "Worker tcp://10.120.16.180:44284 restart in Job 40875077. This can be due to memory issue.\n",
      "Worker tcp://10.120.16.240:60268 restart in Job 40875087. This can be due to memory issue.\n",
      "Worker tcp://10.120.16.65:59446 restart in Job 40875083. This can be due to memory issue.\n",
      "Worker tcp://10.120.16.61:46545 restart in Job 40875090. This can be due to memory issue.\n",
      "distributed.scheduler - ERROR - Not all workers responded positively: ['OK', 'OK', 'timed out', 'OK', 'OK', 'OK', 'OK', 'OK', 'OK', 'OK', 'OK', 'OK', 'OK', 'OK', 'OK', 'OK', 'OK', 'OK', 'OK', 'OK', 'OK', 'OK', 'OK', 'OK', 'OK', 'OK', 'OK', 'OK', 'OK']\n",
      "NoneType: None\n",
      "distributed.client - ERROR - Restart timed out after 6.000000 seconds\n",
      "Worker tcp://10.120.16.160:44169 restart in Job 40875099. This can be due to memory issue.\n"
     ]
    }
   ],
   "source": [
    "kymo_controller.retry_failed()"
   ]
  },
  {
   "cell_type": "code",
   "execution_count": 9,
   "metadata": {},
   "outputs": [
    {
     "name": "stdout",
     "output_type": "stream",
     "text": [
      "fovs processed: 79/80\n",
      "lanes processed: 136\n",
      "trenches processed: 7507\n",
      "lanes/fov: 1.7215189873417722\n",
      "trenches/fov: 95.0253164556962\n",
      "failed fovs: [77]\n"
     ]
    }
   ],
   "source": [
    "kymo.collect_metadata(fov_list,use_archive=False,overwrite_archive=True)"
   ]
  },
  {
   "cell_type": "code",
   "execution_count": 4,
   "metadata": {},
   "outputs": [
    {
     "name": "stdout",
     "output_type": "stream",
     "text": [
      "fovs processed: 79/80\n",
      "lanes processed: 136\n",
      "trenches processed: 7507\n",
      "lanes/fov: 1.7215189873417722\n",
      "trenches/fov: 95.0253164556962\n",
      "failed fovs: [77]\n"
     ]
    }
   ],
   "source": [
    "kymo.collect_metadata(fov_list,use_archive=True,overwrite_archive=False)"
   ]
  },
  {
   "cell_type": "markdown",
   "metadata": {},
   "source": [
    "maybe an estimate of memory usage"
   ]
  },
  {
   "cell_type": "code",
   "execution_count": 18,
   "metadata": {},
   "outputs": [
    {
     "name": "stderr",
     "output_type": "stream",
     "text": [
      "/home/de64/TrenchRipper/trenchripper/utils.py:300: UserWarning: Pandas doesn't allow columns to be created via a new attribute name - see https://pandas.pydata.org/pandas-docs/stable/indexing.html#attribute-access\n",
      "  df.metadata = store.get_storer(key).attrs.metadata\n"
     ]
    }
   ],
   "source": [
    "kymo.generate_kymograph(57)"
   ]
  },
  {
   "cell_type": "code",
   "execution_count": 1,
   "metadata": {},
   "outputs": [],
   "source": [
    "import h5py\n",
    "from matplotlib import pyplot as plt"
   ]
  },
  {
   "cell_type": "code",
   "execution_count": 8,
   "metadata": {},
   "outputs": [
    {
     "name": "stdout",
     "output_type": "stream",
     "text": [
      "12\n",
      "63\n"
     ]
    }
   ],
   "source": [
    "# for fov in fov_list:\n",
    "for fov in [12,63]:\n",
    "    print(fov)\n",
    "    with h5py.File(\"/n/scratch2/de64/full_pipeline_test/hdf5/fov_\"+str(fov)+\".hdf5\") as testfile:\n",
    "        data = testfile['channel_RFP']\n",
    "        arr = data[:,:,0]"
   ]
  },
  {
   "cell_type": "code",
   "execution_count": 7,
   "metadata": {},
   "outputs": [
    {
     "data": {
      "text/plain": [
       "(2048,)"
      ]
     },
     "execution_count": 7,
     "metadata": {},
     "output_type": "execute_result"
    }
   ],
   "source": [
    "arr.shape"
   ]
  },
  {
   "cell_type": "code",
   "execution_count": 1,
   "metadata": {},
   "outputs": [],
   "source": [
    "import pandas as pd"
   ]
  },
  {
   "cell_type": "code",
   "execution_count": 6,
   "metadata": {},
   "outputs": [],
   "source": [
    "meta_handle = tr.utils.pandas_hdf5_handler(\"/n/scratch2/de64/full_pipeline_test/metadata.hdf5\")\n",
    "kymo_meta = meta_handle.read_df(\"kymo\")"
   ]
  },
  {
   "cell_type": "code",
   "execution_count": 10,
   "metadata": {},
   "outputs": [
    {
     "data": {
      "text/html": [
       "<div>\n",
       "<style scoped>\n",
       "    .dataframe tbody tr th:only-of-type {\n",
       "        vertical-align: middle;\n",
       "    }\n",
       "\n",
       "    .dataframe tbody tr th {\n",
       "        vertical-align: top;\n",
       "    }\n",
       "\n",
       "    .dataframe thead th {\n",
       "        text-align: right;\n",
       "    }\n",
       "</style>\n",
       "<table border=\"1\" class=\"dataframe\">\n",
       "  <thead>\n",
       "    <tr style=\"text-align: right;\">\n",
       "      <th></th>\n",
       "      <th>fov</th>\n",
       "      <th>lane</th>\n",
       "      <th>trench</th>\n",
       "      <th>timepoints</th>\n",
       "      <th>time (s)</th>\n",
       "      <th>lane orientation</th>\n",
       "      <th>y (local)</th>\n",
       "      <th>x (local)</th>\n",
       "      <th>y (global)</th>\n",
       "      <th>x (global)</th>\n",
       "    </tr>\n",
       "  </thead>\n",
       "  <tbody>\n",
       "    <tr>\n",
       "      <th>0</th>\n",
       "      <td>5</td>\n",
       "      <td>0</td>\n",
       "      <td>0</td>\n",
       "      <td>0</td>\n",
       "      <td>8.705783</td>\n",
       "      <td>bottom</td>\n",
       "      <td>179.151263</td>\n",
       "      <td>3.684902</td>\n",
       "      <td>-2826.448737</td>\n",
       "      <td>4673.084902</td>\n",
       "    </tr>\n",
       "    <tr>\n",
       "      <th>1</th>\n",
       "      <td>5</td>\n",
       "      <td>0</td>\n",
       "      <td>0</td>\n",
       "      <td>1</td>\n",
       "      <td>247.945007</td>\n",
       "      <td>bottom</td>\n",
       "      <td>178.609366</td>\n",
       "      <td>4.010040</td>\n",
       "      <td>-2826.990634</td>\n",
       "      <td>4673.410040</td>\n",
       "    </tr>\n",
       "    <tr>\n",
       "      <th>2</th>\n",
       "      <td>5</td>\n",
       "      <td>0</td>\n",
       "      <td>0</td>\n",
       "      <td>2</td>\n",
       "      <td>487.845095</td>\n",
       "      <td>bottom</td>\n",
       "      <td>178.609366</td>\n",
       "      <td>4.118420</td>\n",
       "      <td>-2827.090634</td>\n",
       "      <td>4673.518420</td>\n",
       "    </tr>\n",
       "    <tr>\n",
       "      <th>3</th>\n",
       "      <td>5</td>\n",
       "      <td>0</td>\n",
       "      <td>0</td>\n",
       "      <td>3</td>\n",
       "      <td>727.915919</td>\n",
       "      <td>bottom</td>\n",
       "      <td>178.717745</td>\n",
       "      <td>4.226799</td>\n",
       "      <td>-2826.882255</td>\n",
       "      <td>4673.626799</td>\n",
       "    </tr>\n",
       "    <tr>\n",
       "      <th>4</th>\n",
       "      <td>5</td>\n",
       "      <td>0</td>\n",
       "      <td>0</td>\n",
       "      <td>4</td>\n",
       "      <td>967.885631</td>\n",
       "      <td>bottom</td>\n",
       "      <td>178.826125</td>\n",
       "      <td>4.226799</td>\n",
       "      <td>-2826.873875</td>\n",
       "      <td>4673.626799</td>\n",
       "    </tr>\n",
       "    <tr>\n",
       "      <th>5</th>\n",
       "      <td>5</td>\n",
       "      <td>0</td>\n",
       "      <td>0</td>\n",
       "      <td>5</td>\n",
       "      <td>1207.842839</td>\n",
       "      <td>bottom</td>\n",
       "      <td>178.934504</td>\n",
       "      <td>4.335179</td>\n",
       "      <td>-2826.765496</td>\n",
       "      <td>4673.735179</td>\n",
       "    </tr>\n",
       "    <tr>\n",
       "      <th>6</th>\n",
       "      <td>5</td>\n",
       "      <td>0</td>\n",
       "      <td>0</td>\n",
       "      <td>6</td>\n",
       "      <td>1447.847807</td>\n",
       "      <td>bottom</td>\n",
       "      <td>178.934504</td>\n",
       "      <td>4.443558</td>\n",
       "      <td>-2826.765496</td>\n",
       "      <td>4673.843558</td>\n",
       "    </tr>\n",
       "    <tr>\n",
       "      <th>7</th>\n",
       "      <td>5</td>\n",
       "      <td>0</td>\n",
       "      <td>0</td>\n",
       "      <td>7</td>\n",
       "      <td>1687.838375</td>\n",
       "      <td>bottom</td>\n",
       "      <td>178.717745</td>\n",
       "      <td>4.443558</td>\n",
       "      <td>-2826.982255</td>\n",
       "      <td>4673.843558</td>\n",
       "    </tr>\n",
       "    <tr>\n",
       "      <th>8</th>\n",
       "      <td>5</td>\n",
       "      <td>0</td>\n",
       "      <td>0</td>\n",
       "      <td>8</td>\n",
       "      <td>1927.856087</td>\n",
       "      <td>bottom</td>\n",
       "      <td>178.609366</td>\n",
       "      <td>4.335179</td>\n",
       "      <td>-2827.090634</td>\n",
       "      <td>4673.635179</td>\n",
       "    </tr>\n",
       "    <tr>\n",
       "      <th>9</th>\n",
       "      <td>5</td>\n",
       "      <td>0</td>\n",
       "      <td>0</td>\n",
       "      <td>9</td>\n",
       "      <td>2167.928783</td>\n",
       "      <td>bottom</td>\n",
       "      <td>178.717745</td>\n",
       "      <td>4.335179</td>\n",
       "      <td>-2826.682255</td>\n",
       "      <td>4673.635179</td>\n",
       "    </tr>\n",
       "    <tr>\n",
       "      <th>10</th>\n",
       "      <td>5</td>\n",
       "      <td>0</td>\n",
       "      <td>0</td>\n",
       "      <td>10</td>\n",
       "      <td>2407.875095</td>\n",
       "      <td>bottom</td>\n",
       "      <td>178.826125</td>\n",
       "      <td>4.335179</td>\n",
       "      <td>-2826.673875</td>\n",
       "      <td>4673.635179</td>\n",
       "    </tr>\n",
       "    <tr>\n",
       "      <th>11</th>\n",
       "      <td>5</td>\n",
       "      <td>0</td>\n",
       "      <td>0</td>\n",
       "      <td>11</td>\n",
       "      <td>2647.858919</td>\n",
       "      <td>bottom</td>\n",
       "      <td>178.392607</td>\n",
       "      <td>4.335179</td>\n",
       "      <td>-2827.207393</td>\n",
       "      <td>4673.635179</td>\n",
       "    </tr>\n",
       "    <tr>\n",
       "      <th>12</th>\n",
       "      <td>5</td>\n",
       "      <td>0</td>\n",
       "      <td>0</td>\n",
       "      <td>12</td>\n",
       "      <td>2887.913375</td>\n",
       "      <td>bottom</td>\n",
       "      <td>178.609366</td>\n",
       "      <td>4.335179</td>\n",
       "      <td>-2827.190634</td>\n",
       "      <td>4673.635179</td>\n",
       "    </tr>\n",
       "    <tr>\n",
       "      <th>13</th>\n",
       "      <td>5</td>\n",
       "      <td>0</td>\n",
       "      <td>0</td>\n",
       "      <td>13</td>\n",
       "      <td>3127.839215</td>\n",
       "      <td>bottom</td>\n",
       "      <td>178.500986</td>\n",
       "      <td>4.335179</td>\n",
       "      <td>-2826.999014</td>\n",
       "      <td>4673.635179</td>\n",
       "    </tr>\n",
       "    <tr>\n",
       "      <th>14</th>\n",
       "      <td>5</td>\n",
       "      <td>0</td>\n",
       "      <td>0</td>\n",
       "      <td>14</td>\n",
       "      <td>3367.872407</td>\n",
       "      <td>bottom</td>\n",
       "      <td>178.717745</td>\n",
       "      <td>4.335179</td>\n",
       "      <td>-2826.882255</td>\n",
       "      <td>4673.635179</td>\n",
       "    </tr>\n",
       "    <tr>\n",
       "      <th>15</th>\n",
       "      <td>5</td>\n",
       "      <td>0</td>\n",
       "      <td>0</td>\n",
       "      <td>15</td>\n",
       "      <td>3607.933991</td>\n",
       "      <td>bottom</td>\n",
       "      <td>178.500986</td>\n",
       "      <td>4.335179</td>\n",
       "      <td>-2826.999014</td>\n",
       "      <td>4673.735179</td>\n",
       "    </tr>\n",
       "    <tr>\n",
       "      <th>16</th>\n",
       "      <td>5</td>\n",
       "      <td>0</td>\n",
       "      <td>0</td>\n",
       "      <td>16</td>\n",
       "      <td>3847.903439</td>\n",
       "      <td>bottom</td>\n",
       "      <td>178.826125</td>\n",
       "      <td>4.443558</td>\n",
       "      <td>-2826.873875</td>\n",
       "      <td>4673.843558</td>\n",
       "    </tr>\n",
       "    <tr>\n",
       "      <th>17</th>\n",
       "      <td>5</td>\n",
       "      <td>0</td>\n",
       "      <td>0</td>\n",
       "      <td>17</td>\n",
       "      <td>4087.958783</td>\n",
       "      <td>bottom</td>\n",
       "      <td>178.826125</td>\n",
       "      <td>4.335179</td>\n",
       "      <td>-2826.873875</td>\n",
       "      <td>4673.635179</td>\n",
       "    </tr>\n",
       "    <tr>\n",
       "      <th>18</th>\n",
       "      <td>5</td>\n",
       "      <td>0</td>\n",
       "      <td>0</td>\n",
       "      <td>18</td>\n",
       "      <td>4327.881599</td>\n",
       "      <td>bottom</td>\n",
       "      <td>178.826125</td>\n",
       "      <td>4.335179</td>\n",
       "      <td>-2826.873875</td>\n",
       "      <td>4673.735179</td>\n",
       "    </tr>\n",
       "    <tr>\n",
       "      <th>19</th>\n",
       "      <td>5</td>\n",
       "      <td>0</td>\n",
       "      <td>0</td>\n",
       "      <td>19</td>\n",
       "      <td>4567.992047</td>\n",
       "      <td>bottom</td>\n",
       "      <td>178.609366</td>\n",
       "      <td>4.335179</td>\n",
       "      <td>-2826.990634</td>\n",
       "      <td>4673.735179</td>\n",
       "    </tr>\n",
       "    <tr>\n",
       "      <th>20</th>\n",
       "      <td>5</td>\n",
       "      <td>0</td>\n",
       "      <td>0</td>\n",
       "      <td>20</td>\n",
       "      <td>4807.923767</td>\n",
       "      <td>bottom</td>\n",
       "      <td>178.717745</td>\n",
       "      <td>4.335179</td>\n",
       "      <td>-2826.982255</td>\n",
       "      <td>4673.735179</td>\n",
       "    </tr>\n",
       "    <tr>\n",
       "      <th>21</th>\n",
       "      <td>5</td>\n",
       "      <td>0</td>\n",
       "      <td>0</td>\n",
       "      <td>21</td>\n",
       "      <td>5047.975463</td>\n",
       "      <td>bottom</td>\n",
       "      <td>178.392607</td>\n",
       "      <td>4.226799</td>\n",
       "      <td>-2827.107393</td>\n",
       "      <td>4673.526799</td>\n",
       "    </tr>\n",
       "    <tr>\n",
       "      <th>22</th>\n",
       "      <td>5</td>\n",
       "      <td>0</td>\n",
       "      <td>0</td>\n",
       "      <td>22</td>\n",
       "      <td>5287.933175</td>\n",
       "      <td>bottom</td>\n",
       "      <td>178.717745</td>\n",
       "      <td>4.226799</td>\n",
       "      <td>-2826.982255</td>\n",
       "      <td>4673.526799</td>\n",
       "    </tr>\n",
       "    <tr>\n",
       "      <th>23</th>\n",
       "      <td>5</td>\n",
       "      <td>0</td>\n",
       "      <td>0</td>\n",
       "      <td>23</td>\n",
       "      <td>5527.924991</td>\n",
       "      <td>bottom</td>\n",
       "      <td>178.717745</td>\n",
       "      <td>4.226799</td>\n",
       "      <td>-2826.982255</td>\n",
       "      <td>4673.626799</td>\n",
       "    </tr>\n",
       "    <tr>\n",
       "      <th>24</th>\n",
       "      <td>5</td>\n",
       "      <td>0</td>\n",
       "      <td>0</td>\n",
       "      <td>24</td>\n",
       "      <td>5767.882439</td>\n",
       "      <td>bottom</td>\n",
       "      <td>178.609366</td>\n",
       "      <td>4.226799</td>\n",
       "      <td>-2827.090634</td>\n",
       "      <td>4673.626799</td>\n",
       "    </tr>\n",
       "    <tr>\n",
       "      <th>25</th>\n",
       "      <td>5</td>\n",
       "      <td>0</td>\n",
       "      <td>1</td>\n",
       "      <td>0</td>\n",
       "      <td>8.705783</td>\n",
       "      <td>bottom</td>\n",
       "      <td>179.151263</td>\n",
       "      <td>7.586563</td>\n",
       "      <td>-2826.448737</td>\n",
       "      <td>4676.986563</td>\n",
       "    </tr>\n",
       "    <tr>\n",
       "      <th>26</th>\n",
       "      <td>5</td>\n",
       "      <td>0</td>\n",
       "      <td>1</td>\n",
       "      <td>1</td>\n",
       "      <td>247.945007</td>\n",
       "      <td>bottom</td>\n",
       "      <td>178.609366</td>\n",
       "      <td>7.911701</td>\n",
       "      <td>-2826.990634</td>\n",
       "      <td>4677.311701</td>\n",
       "    </tr>\n",
       "    <tr>\n",
       "      <th>27</th>\n",
       "      <td>5</td>\n",
       "      <td>0</td>\n",
       "      <td>1</td>\n",
       "      <td>2</td>\n",
       "      <td>487.845095</td>\n",
       "      <td>bottom</td>\n",
       "      <td>178.609366</td>\n",
       "      <td>8.020081</td>\n",
       "      <td>-2827.090634</td>\n",
       "      <td>4677.420081</td>\n",
       "    </tr>\n",
       "    <tr>\n",
       "      <th>28</th>\n",
       "      <td>5</td>\n",
       "      <td>0</td>\n",
       "      <td>1</td>\n",
       "      <td>3</td>\n",
       "      <td>727.915919</td>\n",
       "      <td>bottom</td>\n",
       "      <td>178.717745</td>\n",
       "      <td>8.128460</td>\n",
       "      <td>-2826.882255</td>\n",
       "      <td>4677.528460</td>\n",
       "    </tr>\n",
       "    <tr>\n",
       "      <th>29</th>\n",
       "      <td>5</td>\n",
       "      <td>0</td>\n",
       "      <td>1</td>\n",
       "      <td>4</td>\n",
       "      <td>967.885631</td>\n",
       "      <td>bottom</td>\n",
       "      <td>178.826125</td>\n",
       "      <td>8.128460</td>\n",
       "      <td>-2826.873875</td>\n",
       "      <td>4677.528460</td>\n",
       "    </tr>\n",
       "    <tr>\n",
       "      <th>...</th>\n",
       "      <td>...</td>\n",
       "      <td>...</td>\n",
       "      <td>...</td>\n",
       "      <td>...</td>\n",
       "      <td>...</td>\n",
       "      <td>...</td>\n",
       "      <td>...</td>\n",
       "      <td>...</td>\n",
       "      <td>...</td>\n",
       "      <td>...</td>\n",
       "    </tr>\n",
       "    <tr>\n",
       "      <th>1345</th>\n",
       "      <td>5</td>\n",
       "      <td>0</td>\n",
       "      <td>53</td>\n",
       "      <td>20</td>\n",
       "      <td>4807.923767</td>\n",
       "      <td>bottom</td>\n",
       "      <td>178.717745</td>\n",
       "      <td>211.448345</td>\n",
       "      <td>-2826.982255</td>\n",
       "      <td>4880.848345</td>\n",
       "    </tr>\n",
       "    <tr>\n",
       "      <th>1346</th>\n",
       "      <td>5</td>\n",
       "      <td>0</td>\n",
       "      <td>53</td>\n",
       "      <td>21</td>\n",
       "      <td>5047.975463</td>\n",
       "      <td>bottom</td>\n",
       "      <td>178.392607</td>\n",
       "      <td>211.339965</td>\n",
       "      <td>-2827.107393</td>\n",
       "      <td>4880.639965</td>\n",
       "    </tr>\n",
       "    <tr>\n",
       "      <th>1347</th>\n",
       "      <td>5</td>\n",
       "      <td>0</td>\n",
       "      <td>53</td>\n",
       "      <td>22</td>\n",
       "      <td>5287.933175</td>\n",
       "      <td>bottom</td>\n",
       "      <td>178.717745</td>\n",
       "      <td>211.339965</td>\n",
       "      <td>-2826.982255</td>\n",
       "      <td>4880.639965</td>\n",
       "    </tr>\n",
       "    <tr>\n",
       "      <th>1348</th>\n",
       "      <td>5</td>\n",
       "      <td>0</td>\n",
       "      <td>53</td>\n",
       "      <td>23</td>\n",
       "      <td>5527.924991</td>\n",
       "      <td>bottom</td>\n",
       "      <td>178.717745</td>\n",
       "      <td>211.339965</td>\n",
       "      <td>-2826.982255</td>\n",
       "      <td>4880.739965</td>\n",
       "    </tr>\n",
       "    <tr>\n",
       "      <th>1349</th>\n",
       "      <td>5</td>\n",
       "      <td>0</td>\n",
       "      <td>53</td>\n",
       "      <td>24</td>\n",
       "      <td>5767.882439</td>\n",
       "      <td>bottom</td>\n",
       "      <td>178.609366</td>\n",
       "      <td>211.339965</td>\n",
       "      <td>-2827.090634</td>\n",
       "      <td>4880.739965</td>\n",
       "    </tr>\n",
       "    <tr>\n",
       "      <th>1350</th>\n",
       "      <td>5</td>\n",
       "      <td>0</td>\n",
       "      <td>54</td>\n",
       "      <td>0</td>\n",
       "      <td>8.705783</td>\n",
       "      <td>bottom</td>\n",
       "      <td>179.151263</td>\n",
       "      <td>214.808108</td>\n",
       "      <td>-2826.448737</td>\n",
       "      <td>4884.208108</td>\n",
       "    </tr>\n",
       "    <tr>\n",
       "      <th>1351</th>\n",
       "      <td>5</td>\n",
       "      <td>0</td>\n",
       "      <td>54</td>\n",
       "      <td>1</td>\n",
       "      <td>247.945007</td>\n",
       "      <td>bottom</td>\n",
       "      <td>178.609366</td>\n",
       "      <td>215.133247</td>\n",
       "      <td>-2826.990634</td>\n",
       "      <td>4884.533247</td>\n",
       "    </tr>\n",
       "    <tr>\n",
       "      <th>1352</th>\n",
       "      <td>5</td>\n",
       "      <td>0</td>\n",
       "      <td>54</td>\n",
       "      <td>2</td>\n",
       "      <td>487.845095</td>\n",
       "      <td>bottom</td>\n",
       "      <td>178.609366</td>\n",
       "      <td>215.241626</td>\n",
       "      <td>-2827.090634</td>\n",
       "      <td>4884.641626</td>\n",
       "    </tr>\n",
       "    <tr>\n",
       "      <th>1353</th>\n",
       "      <td>5</td>\n",
       "      <td>0</td>\n",
       "      <td>54</td>\n",
       "      <td>3</td>\n",
       "      <td>727.915919</td>\n",
       "      <td>bottom</td>\n",
       "      <td>178.717745</td>\n",
       "      <td>215.350006</td>\n",
       "      <td>-2826.882255</td>\n",
       "      <td>4884.750006</td>\n",
       "    </tr>\n",
       "    <tr>\n",
       "      <th>1354</th>\n",
       "      <td>5</td>\n",
       "      <td>0</td>\n",
       "      <td>54</td>\n",
       "      <td>4</td>\n",
       "      <td>967.885631</td>\n",
       "      <td>bottom</td>\n",
       "      <td>178.826125</td>\n",
       "      <td>215.350006</td>\n",
       "      <td>-2826.873875</td>\n",
       "      <td>4884.750006</td>\n",
       "    </tr>\n",
       "    <tr>\n",
       "      <th>1355</th>\n",
       "      <td>5</td>\n",
       "      <td>0</td>\n",
       "      <td>54</td>\n",
       "      <td>5</td>\n",
       "      <td>1207.842839</td>\n",
       "      <td>bottom</td>\n",
       "      <td>178.934504</td>\n",
       "      <td>215.458385</td>\n",
       "      <td>-2826.765496</td>\n",
       "      <td>4884.858385</td>\n",
       "    </tr>\n",
       "    <tr>\n",
       "      <th>1356</th>\n",
       "      <td>5</td>\n",
       "      <td>0</td>\n",
       "      <td>54</td>\n",
       "      <td>6</td>\n",
       "      <td>1447.847807</td>\n",
       "      <td>bottom</td>\n",
       "      <td>178.934504</td>\n",
       "      <td>215.566765</td>\n",
       "      <td>-2826.765496</td>\n",
       "      <td>4884.966765</td>\n",
       "    </tr>\n",
       "    <tr>\n",
       "      <th>1357</th>\n",
       "      <td>5</td>\n",
       "      <td>0</td>\n",
       "      <td>54</td>\n",
       "      <td>7</td>\n",
       "      <td>1687.838375</td>\n",
       "      <td>bottom</td>\n",
       "      <td>178.717745</td>\n",
       "      <td>215.566765</td>\n",
       "      <td>-2826.982255</td>\n",
       "      <td>4884.966765</td>\n",
       "    </tr>\n",
       "    <tr>\n",
       "      <th>1358</th>\n",
       "      <td>5</td>\n",
       "      <td>0</td>\n",
       "      <td>54</td>\n",
       "      <td>8</td>\n",
       "      <td>1927.856087</td>\n",
       "      <td>bottom</td>\n",
       "      <td>178.609366</td>\n",
       "      <td>215.458385</td>\n",
       "      <td>-2827.090634</td>\n",
       "      <td>4884.758385</td>\n",
       "    </tr>\n",
       "    <tr>\n",
       "      <th>1359</th>\n",
       "      <td>5</td>\n",
       "      <td>0</td>\n",
       "      <td>54</td>\n",
       "      <td>9</td>\n",
       "      <td>2167.928783</td>\n",
       "      <td>bottom</td>\n",
       "      <td>178.717745</td>\n",
       "      <td>215.458385</td>\n",
       "      <td>-2826.682255</td>\n",
       "      <td>4884.758385</td>\n",
       "    </tr>\n",
       "    <tr>\n",
       "      <th>1360</th>\n",
       "      <td>5</td>\n",
       "      <td>0</td>\n",
       "      <td>54</td>\n",
       "      <td>10</td>\n",
       "      <td>2407.875095</td>\n",
       "      <td>bottom</td>\n",
       "      <td>178.826125</td>\n",
       "      <td>215.458385</td>\n",
       "      <td>-2826.673875</td>\n",
       "      <td>4884.758385</td>\n",
       "    </tr>\n",
       "    <tr>\n",
       "      <th>1361</th>\n",
       "      <td>5</td>\n",
       "      <td>0</td>\n",
       "      <td>54</td>\n",
       "      <td>11</td>\n",
       "      <td>2647.858919</td>\n",
       "      <td>bottom</td>\n",
       "      <td>178.392607</td>\n",
       "      <td>215.458385</td>\n",
       "      <td>-2827.207393</td>\n",
       "      <td>4884.758385</td>\n",
       "    </tr>\n",
       "    <tr>\n",
       "      <th>1362</th>\n",
       "      <td>5</td>\n",
       "      <td>0</td>\n",
       "      <td>54</td>\n",
       "      <td>12</td>\n",
       "      <td>2887.913375</td>\n",
       "      <td>bottom</td>\n",
       "      <td>178.609366</td>\n",
       "      <td>215.458385</td>\n",
       "      <td>-2827.190634</td>\n",
       "      <td>4884.758385</td>\n",
       "    </tr>\n",
       "    <tr>\n",
       "      <th>1363</th>\n",
       "      <td>5</td>\n",
       "      <td>0</td>\n",
       "      <td>54</td>\n",
       "      <td>13</td>\n",
       "      <td>3127.839215</td>\n",
       "      <td>bottom</td>\n",
       "      <td>178.500986</td>\n",
       "      <td>215.458385</td>\n",
       "      <td>-2826.999014</td>\n",
       "      <td>4884.758385</td>\n",
       "    </tr>\n",
       "    <tr>\n",
       "      <th>1364</th>\n",
       "      <td>5</td>\n",
       "      <td>0</td>\n",
       "      <td>54</td>\n",
       "      <td>14</td>\n",
       "      <td>3367.872407</td>\n",
       "      <td>bottom</td>\n",
       "      <td>178.717745</td>\n",
       "      <td>215.458385</td>\n",
       "      <td>-2826.882255</td>\n",
       "      <td>4884.758385</td>\n",
       "    </tr>\n",
       "    <tr>\n",
       "      <th>1365</th>\n",
       "      <td>5</td>\n",
       "      <td>0</td>\n",
       "      <td>54</td>\n",
       "      <td>15</td>\n",
       "      <td>3607.933991</td>\n",
       "      <td>bottom</td>\n",
       "      <td>178.500986</td>\n",
       "      <td>215.458385</td>\n",
       "      <td>-2826.999014</td>\n",
       "      <td>4884.858385</td>\n",
       "    </tr>\n",
       "    <tr>\n",
       "      <th>1366</th>\n",
       "      <td>5</td>\n",
       "      <td>0</td>\n",
       "      <td>54</td>\n",
       "      <td>16</td>\n",
       "      <td>3847.903439</td>\n",
       "      <td>bottom</td>\n",
       "      <td>178.826125</td>\n",
       "      <td>215.566765</td>\n",
       "      <td>-2826.873875</td>\n",
       "      <td>4884.966765</td>\n",
       "    </tr>\n",
       "    <tr>\n",
       "      <th>1367</th>\n",
       "      <td>5</td>\n",
       "      <td>0</td>\n",
       "      <td>54</td>\n",
       "      <td>17</td>\n",
       "      <td>4087.958783</td>\n",
       "      <td>bottom</td>\n",
       "      <td>178.826125</td>\n",
       "      <td>215.458385</td>\n",
       "      <td>-2826.873875</td>\n",
       "      <td>4884.758385</td>\n",
       "    </tr>\n",
       "    <tr>\n",
       "      <th>1368</th>\n",
       "      <td>5</td>\n",
       "      <td>0</td>\n",
       "      <td>54</td>\n",
       "      <td>18</td>\n",
       "      <td>4327.881599</td>\n",
       "      <td>bottom</td>\n",
       "      <td>178.826125</td>\n",
       "      <td>215.458385</td>\n",
       "      <td>-2826.873875</td>\n",
       "      <td>4884.858385</td>\n",
       "    </tr>\n",
       "    <tr>\n",
       "      <th>1369</th>\n",
       "      <td>5</td>\n",
       "      <td>0</td>\n",
       "      <td>54</td>\n",
       "      <td>19</td>\n",
       "      <td>4567.992047</td>\n",
       "      <td>bottom</td>\n",
       "      <td>178.609366</td>\n",
       "      <td>215.458385</td>\n",
       "      <td>-2826.990634</td>\n",
       "      <td>4884.858385</td>\n",
       "    </tr>\n",
       "    <tr>\n",
       "      <th>1370</th>\n",
       "      <td>5</td>\n",
       "      <td>0</td>\n",
       "      <td>54</td>\n",
       "      <td>20</td>\n",
       "      <td>4807.923767</td>\n",
       "      <td>bottom</td>\n",
       "      <td>178.717745</td>\n",
       "      <td>215.458385</td>\n",
       "      <td>-2826.982255</td>\n",
       "      <td>4884.858385</td>\n",
       "    </tr>\n",
       "    <tr>\n",
       "      <th>1371</th>\n",
       "      <td>5</td>\n",
       "      <td>0</td>\n",
       "      <td>54</td>\n",
       "      <td>21</td>\n",
       "      <td>5047.975463</td>\n",
       "      <td>bottom</td>\n",
       "      <td>178.392607</td>\n",
       "      <td>215.350006</td>\n",
       "      <td>-2827.107393</td>\n",
       "      <td>4884.650006</td>\n",
       "    </tr>\n",
       "    <tr>\n",
       "      <th>1372</th>\n",
       "      <td>5</td>\n",
       "      <td>0</td>\n",
       "      <td>54</td>\n",
       "      <td>22</td>\n",
       "      <td>5287.933175</td>\n",
       "      <td>bottom</td>\n",
       "      <td>178.717745</td>\n",
       "      <td>215.350006</td>\n",
       "      <td>-2826.982255</td>\n",
       "      <td>4884.650006</td>\n",
       "    </tr>\n",
       "    <tr>\n",
       "      <th>1373</th>\n",
       "      <td>5</td>\n",
       "      <td>0</td>\n",
       "      <td>54</td>\n",
       "      <td>23</td>\n",
       "      <td>5527.924991</td>\n",
       "      <td>bottom</td>\n",
       "      <td>178.717745</td>\n",
       "      <td>215.350006</td>\n",
       "      <td>-2826.982255</td>\n",
       "      <td>4884.750006</td>\n",
       "    </tr>\n",
       "    <tr>\n",
       "      <th>1374</th>\n",
       "      <td>5</td>\n",
       "      <td>0</td>\n",
       "      <td>54</td>\n",
       "      <td>24</td>\n",
       "      <td>5767.882439</td>\n",
       "      <td>bottom</td>\n",
       "      <td>178.609366</td>\n",
       "      <td>215.350006</td>\n",
       "      <td>-2827.090634</td>\n",
       "      <td>4884.750006</td>\n",
       "    </tr>\n",
       "  </tbody>\n",
       "</table>\n",
       "<p>1375 rows × 10 columns</p>\n",
       "</div>"
      ],
      "text/plain": [
       "      fov  lane  trench  timepoints     time (s) lane orientation   y (local)  \\\n",
       "0       5     0       0           0     8.705783           bottom  179.151263   \n",
       "1       5     0       0           1   247.945007           bottom  178.609366   \n",
       "2       5     0       0           2   487.845095           bottom  178.609366   \n",
       "3       5     0       0           3   727.915919           bottom  178.717745   \n",
       "4       5     0       0           4   967.885631           bottom  178.826125   \n",
       "5       5     0       0           5  1207.842839           bottom  178.934504   \n",
       "6       5     0       0           6  1447.847807           bottom  178.934504   \n",
       "7       5     0       0           7  1687.838375           bottom  178.717745   \n",
       "8       5     0       0           8  1927.856087           bottom  178.609366   \n",
       "9       5     0       0           9  2167.928783           bottom  178.717745   \n",
       "10      5     0       0          10  2407.875095           bottom  178.826125   \n",
       "11      5     0       0          11  2647.858919           bottom  178.392607   \n",
       "12      5     0       0          12  2887.913375           bottom  178.609366   \n",
       "13      5     0       0          13  3127.839215           bottom  178.500986   \n",
       "14      5     0       0          14  3367.872407           bottom  178.717745   \n",
       "15      5     0       0          15  3607.933991           bottom  178.500986   \n",
       "16      5     0       0          16  3847.903439           bottom  178.826125   \n",
       "17      5     0       0          17  4087.958783           bottom  178.826125   \n",
       "18      5     0       0          18  4327.881599           bottom  178.826125   \n",
       "19      5     0       0          19  4567.992047           bottom  178.609366   \n",
       "20      5     0       0          20  4807.923767           bottom  178.717745   \n",
       "21      5     0       0          21  5047.975463           bottom  178.392607   \n",
       "22      5     0       0          22  5287.933175           bottom  178.717745   \n",
       "23      5     0       0          23  5527.924991           bottom  178.717745   \n",
       "24      5     0       0          24  5767.882439           bottom  178.609366   \n",
       "25      5     0       1           0     8.705783           bottom  179.151263   \n",
       "26      5     0       1           1   247.945007           bottom  178.609366   \n",
       "27      5     0       1           2   487.845095           bottom  178.609366   \n",
       "28      5     0       1           3   727.915919           bottom  178.717745   \n",
       "29      5     0       1           4   967.885631           bottom  178.826125   \n",
       "...   ...   ...     ...         ...          ...              ...         ...   \n",
       "1345    5     0      53          20  4807.923767           bottom  178.717745   \n",
       "1346    5     0      53          21  5047.975463           bottom  178.392607   \n",
       "1347    5     0      53          22  5287.933175           bottom  178.717745   \n",
       "1348    5     0      53          23  5527.924991           bottom  178.717745   \n",
       "1349    5     0      53          24  5767.882439           bottom  178.609366   \n",
       "1350    5     0      54           0     8.705783           bottom  179.151263   \n",
       "1351    5     0      54           1   247.945007           bottom  178.609366   \n",
       "1352    5     0      54           2   487.845095           bottom  178.609366   \n",
       "1353    5     0      54           3   727.915919           bottom  178.717745   \n",
       "1354    5     0      54           4   967.885631           bottom  178.826125   \n",
       "1355    5     0      54           5  1207.842839           bottom  178.934504   \n",
       "1356    5     0      54           6  1447.847807           bottom  178.934504   \n",
       "1357    5     0      54           7  1687.838375           bottom  178.717745   \n",
       "1358    5     0      54           8  1927.856087           bottom  178.609366   \n",
       "1359    5     0      54           9  2167.928783           bottom  178.717745   \n",
       "1360    5     0      54          10  2407.875095           bottom  178.826125   \n",
       "1361    5     0      54          11  2647.858919           bottom  178.392607   \n",
       "1362    5     0      54          12  2887.913375           bottom  178.609366   \n",
       "1363    5     0      54          13  3127.839215           bottom  178.500986   \n",
       "1364    5     0      54          14  3367.872407           bottom  178.717745   \n",
       "1365    5     0      54          15  3607.933991           bottom  178.500986   \n",
       "1366    5     0      54          16  3847.903439           bottom  178.826125   \n",
       "1367    5     0      54          17  4087.958783           bottom  178.826125   \n",
       "1368    5     0      54          18  4327.881599           bottom  178.826125   \n",
       "1369    5     0      54          19  4567.992047           bottom  178.609366   \n",
       "1370    5     0      54          20  4807.923767           bottom  178.717745   \n",
       "1371    5     0      54          21  5047.975463           bottom  178.392607   \n",
       "1372    5     0      54          22  5287.933175           bottom  178.717745   \n",
       "1373    5     0      54          23  5527.924991           bottom  178.717745   \n",
       "1374    5     0      54          24  5767.882439           bottom  178.609366   \n",
       "\n",
       "       x (local)   y (global)   x (global)  \n",
       "0       3.684902 -2826.448737  4673.084902  \n",
       "1       4.010040 -2826.990634  4673.410040  \n",
       "2       4.118420 -2827.090634  4673.518420  \n",
       "3       4.226799 -2826.882255  4673.626799  \n",
       "4       4.226799 -2826.873875  4673.626799  \n",
       "5       4.335179 -2826.765496  4673.735179  \n",
       "6       4.443558 -2826.765496  4673.843558  \n",
       "7       4.443558 -2826.982255  4673.843558  \n",
       "8       4.335179 -2827.090634  4673.635179  \n",
       "9       4.335179 -2826.682255  4673.635179  \n",
       "10      4.335179 -2826.673875  4673.635179  \n",
       "11      4.335179 -2827.207393  4673.635179  \n",
       "12      4.335179 -2827.190634  4673.635179  \n",
       "13      4.335179 -2826.999014  4673.635179  \n",
       "14      4.335179 -2826.882255  4673.635179  \n",
       "15      4.335179 -2826.999014  4673.735179  \n",
       "16      4.443558 -2826.873875  4673.843558  \n",
       "17      4.335179 -2826.873875  4673.635179  \n",
       "18      4.335179 -2826.873875  4673.735179  \n",
       "19      4.335179 -2826.990634  4673.735179  \n",
       "20      4.335179 -2826.982255  4673.735179  \n",
       "21      4.226799 -2827.107393  4673.526799  \n",
       "22      4.226799 -2826.982255  4673.526799  \n",
       "23      4.226799 -2826.982255  4673.626799  \n",
       "24      4.226799 -2827.090634  4673.626799  \n",
       "25      7.586563 -2826.448737  4676.986563  \n",
       "26      7.911701 -2826.990634  4677.311701  \n",
       "27      8.020081 -2827.090634  4677.420081  \n",
       "28      8.128460 -2826.882255  4677.528460  \n",
       "29      8.128460 -2826.873875  4677.528460  \n",
       "...          ...          ...          ...  \n",
       "1345  211.448345 -2826.982255  4880.848345  \n",
       "1346  211.339965 -2827.107393  4880.639965  \n",
       "1347  211.339965 -2826.982255  4880.639965  \n",
       "1348  211.339965 -2826.982255  4880.739965  \n",
       "1349  211.339965 -2827.090634  4880.739965  \n",
       "1350  214.808108 -2826.448737  4884.208108  \n",
       "1351  215.133247 -2826.990634  4884.533247  \n",
       "1352  215.241626 -2827.090634  4884.641626  \n",
       "1353  215.350006 -2826.882255  4884.750006  \n",
       "1354  215.350006 -2826.873875  4884.750006  \n",
       "1355  215.458385 -2826.765496  4884.858385  \n",
       "1356  215.566765 -2826.765496  4884.966765  \n",
       "1357  215.566765 -2826.982255  4884.966765  \n",
       "1358  215.458385 -2827.090634  4884.758385  \n",
       "1359  215.458385 -2826.682255  4884.758385  \n",
       "1360  215.458385 -2826.673875  4884.758385  \n",
       "1361  215.458385 -2827.207393  4884.758385  \n",
       "1362  215.458385 -2827.190634  4884.758385  \n",
       "1363  215.458385 -2826.999014  4884.758385  \n",
       "1364  215.458385 -2826.882255  4884.758385  \n",
       "1365  215.458385 -2826.999014  4884.858385  \n",
       "1366  215.566765 -2826.873875  4884.966765  \n",
       "1367  215.458385 -2826.873875  4884.758385  \n",
       "1368  215.458385 -2826.873875  4884.858385  \n",
       "1369  215.458385 -2826.990634  4884.858385  \n",
       "1370  215.458385 -2826.982255  4884.858385  \n",
       "1371  215.350006 -2827.107393  4884.650006  \n",
       "1372  215.350006 -2826.982255  4884.650006  \n",
       "1373  215.350006 -2826.982255  4884.750006  \n",
       "1374  215.350006 -2827.090634  4884.750006  \n",
       "\n",
       "[1375 rows x 10 columns]"
      ]
     },
     "execution_count": 10,
     "metadata": {},
     "output_type": "execute_result"
    }
   ],
   "source": [
    "kymo_meta[kymo_meta[\"fov\"]==5]"
   ]
  },
  {
   "cell_type": "code",
   "execution_count": 11,
   "metadata": {},
   "outputs": [],
   "source": [
    "import h5py\n",
    "from matplotlib import pyplot as plt\n",
    "h5py_handle = h5py.File(\"/n/scratch2/de64/full_pipeline_test/kymo/kymo_5.hdf5\",\"r\")"
   ]
  },
  {
   "cell_type": "code",
   "execution_count": 12,
   "metadata": {},
   "outputs": [],
   "source": [
    "data = h5py_handle['0/channel_RFP']"
   ]
  },
  {
   "cell_type": "code",
   "execution_count": 13,
   "metadata": {},
   "outputs": [
    {
     "data": {
      "text/plain": [
       "(55, 310, 30, 25)"
      ]
     },
     "execution_count": 13,
     "metadata": {},
     "output_type": "execute_result"
    }
   ],
   "source": [
    "data.shape"
   ]
  },
  {
   "cell_type": "code",
   "execution_count": 14,
   "metadata": {},
   "outputs": [
    {
     "data": {
      "text/plain": [
       "(1, 310, 30, 1)"
      ]
     },
     "execution_count": 14,
     "metadata": {},
     "output_type": "execute_result"
    }
   ],
   "source": [
    "data.chunks"
   ]
  },
  {
   "cell_type": "code",
   "execution_count": 15,
   "metadata": {},
   "outputs": [],
   "source": [
    "arr = data[:,:,0]"
   ]
  },
  {
   "cell_type": "code",
   "execution_count": 17,
   "metadata": {},
   "outputs": [],
   "source": [
    "h5py_handle.close()"
   ]
  },
  {
   "cell_type": "code",
   "execution_count": null,
   "metadata": {},
   "outputs": [],
   "source": [
    "print(\"moo\")"
   ]
  },
  {
   "cell_type": "code",
   "execution_count": 32,
   "metadata": {},
   "outputs": [
    {
     "data": {
      "text/plain": [
       "<matplotlib.image.AxesImage at 0x7fa6345f6550>"
      ]
     },
     "execution_count": 32,
     "metadata": {},
     "output_type": "execute_result"
    },
    {
     "data": {
      "image/png": "[encoded data removed]",
      "text/plain": [
       "<Figure size 432x288 with 1 Axes>"
      ]
     },
     "metadata": {
      "needs_background": "light"
     },
     "output_type": "display_data"
    }
   ],
   "source": [
    "plt.imshow(h5py_handle[\"0/channel_RFP\"][0,:,:,0])"
   ]
  },
  {
   "cell_type": "code",
   "execution_count": 51,
   "metadata": {},
   "outputs": [
    {
     "data": {
      "text/plain": [
       "(1, 310, 30, 1)"
      ]
     },
     "execution_count": 51,
     "metadata": {},
     "output_type": "execute_result"
    }
   ],
   "source": [
    "h5py_handle[\"0/channel_RFP\"].chunks"
   ]
  },
  {
   "cell_type": "code",
   "execution_count": 16,
   "metadata": {},
   "outputs": [
    {
     "data": {
      "text/plain": [
       "<matplotlib.image.AxesImage at 0x7f1e84c587b8>"
      ]
     },
     "execution_count": 16,
     "metadata": {},
     "output_type": "execute_result"
    },
    {
     "data": {
      "image/png": "[encoded data removed]",
      "text/plain": [
       "<Figure size 432x288 with 1 Axes>"
      ]
     },
     "metadata": {
      "needs_background": "light"
     },
     "output_type": "display_data"
    }
   ],
   "source": [
    "kymo_handle = tr.utils.kymo_handle()\n",
    "kymo_handle.import_wrap(h5py_handle[\"0/channel_RFP\"][39])\n",
    "plt.imshow(kymo_handle.return_unwrap())"
   ]
  },
  {
   "cell_type": "markdown",
   "metadata": {},
   "source": [
    "#### Generate Segmentation"
   ]
  },
  {
   "cell_type": "markdown",
   "metadata": {},
   "source": [
    "#### Start Dask"
   ]
  },
  {
   "cell_type": "code",
   "execution_count": 4,
   "metadata": {},
   "outputs": [],
   "source": [
    "kymo_controller = tr.cluster.dask_controller(walltime='01:00:00',local=False,n_workers=80,memory='1GB')\n",
    "kymo_controller.startdask()\n",
    "kymo_controller.daskcluster.start_workers()"
   ]
  },
  {
   "cell_type": "code",
   "execution_count": 5,
   "metadata": {},
   "outputs": [
    {
     "data": {
      "text/html": [
       "<table style=\"border: 2px solid white;\">\n",
       "<tr>\n",
       "<td style=\"vertical-align: top; border: 0px solid white\">\n",
       "<h3>Client</h3>\n",
       "<ul>\n",
       "  <li><b>Scheduler: </b>tcp://10.120.16.182:49411\n",
       "  <li><b>Dashboard: </b><a href='http://10.120.16.182:8787/status' target='_blank'>http://10.120.16.182:8787/status</a>\n",
       "</ul>\n",
       "</td>\n",
       "<td style=\"vertical-align: top; border: 0px solid white\">\n",
       "<h3>Cluster</h3>\n",
       "<ul>\n",
       "  <li><b>Workers: </b>13</li>\n",
       "  <li><b>Cores: </b>13</li>\n",
       "  <li><b>Memory: </b>13.00 GB</li>\n",
       "</ul>\n",
       "</td>\n",
       "</tr>\n",
       "</table>"
      ],
      "text/plain": [
       "<Client: scheduler='tcp://10.120.16.182:49411' processes=13 cores=13>"
      ]
     },
     "execution_count": 5,
     "metadata": {},
     "output_type": "execute_result"
    }
   ],
   "source": [
    "kymo_controller.daskclient"
   ]
  },
  {
   "cell_type": "code",
   "execution_count": 14,
   "metadata": {},
   "outputs": [
    {
     "name": "stderr",
     "output_type": "stream",
     "text": [
      "WARNING:dask_jobqueue.core:Worker tcp://10.120.16.163:39665 restart in Job 40852822. This can be due to memory issue.\n",
      "WARNING:dask_jobqueue.core:Worker tcp://10.120.16.188:44447 restart in Job 40852842. This can be due to memory issue.\n",
      "WARNING:dask_jobqueue.core:Worker tcp://10.120.16.238:44148 restart in Job 40852838. This can be due to memory issue.\n",
      "WARNING:dask_jobqueue.core:Worker tcp://10.120.16.238:52624 restart in Job 40852839. This can be due to memory issue.\n",
      "WARNING:dask_jobqueue.core:Worker tcp://10.120.17.12:49027 restart in Job 40852833. This can be due to memory issue.\n",
      "WARNING:dask_jobqueue.core:Worker tcp://10.120.16.183:46042 restart in Job 40852836. This can be due to memory issue.\n",
      "WARNING:dask_jobqueue.core:Worker tcp://10.120.16.183:42658 restart in Job 40852837. This can be due to memory issue.\n",
      "WARNING:dask_jobqueue.core:Worker tcp://10.120.17.15:38606 restart in Job 40852841. This can be due to memory issue.\n",
      "WARNING:dask_jobqueue.core:Worker tcp://10.120.17.15:52073 restart in Job 40852840. This can be due to memory issue.\n",
      "WARNING:dask_jobqueue.core:Worker tcp://10.120.17.15:53324 restart in Job 40852828. This can be due to memory issue.\n",
      "WARNING:dask_jobqueue.core:Worker tcp://10.120.16.161:57726 restart in Job 40852834. This can be due to memory issue.\n",
      "WARNING:dask_jobqueue.core:Worker tcp://10.120.17.9:47915 restart in Job 40852825. This can be due to memory issue.\n",
      "WARNING:dask_jobqueue.core:Worker tcp://10.120.17.16:60426 restart in Job 40852829. This can be due to memory issue.\n",
      "WARNING:dask_jobqueue.core:Worker tcp://10.120.16.185:36802 restart in Job 40852824. This can be due to memory issue.\n",
      "WARNING:dask_jobqueue.core:Worker tcp://10.120.16.165:55232 restart in Job 40852830. This can be due to memory issue.\n",
      "WARNING:dask_jobqueue.core:Worker tcp://10.120.16.168:46825 restart in Job 40852827. This can be due to memory issue.\n",
      "WARNING:dask_jobqueue.core:Worker tcp://10.120.16.168:34650 restart in Job 40852826. This can be due to memory issue.\n",
      "WARNING:dask_jobqueue.core:Worker tcp://10.120.16.161:39537 restart in Job 40852835. This can be due to memory issue.\n",
      "WARNING:dask_jobqueue.core:Worker tcp://10.120.16.166:52124 restart in Job 40852832. This can be due to memory issue.\n",
      "WARNING:dask_jobqueue.core:Worker tcp://10.120.16.166:58780 restart in Job 40852831. This can be due to memory issue.\n",
      "distributed.client - ERROR - Restart timed out after 6.000000 seconds\n"
     ]
    },
    {
     "data": {
      "text/html": [
       "<table style=\"border: 2px solid white;\">\n",
       "<tr>\n",
       "<td style=\"vertical-align: top; border: 0px solid white\">\n",
       "<h3>Client</h3>\n",
       "<ul>\n",
       "  <li><b>Scheduler: </b>tcp://10.120.16.182:47301\n",
       "  <li><b>Dashboard: </b><a href='http://10.120.16.182:8787/status' target='_blank'>http://10.120.16.182:8787/status</a>\n",
       "</ul>\n",
       "</td>\n",
       "<td style=\"vertical-align: top; border: 0px solid white\">\n",
       "<h3>Cluster</h3>\n",
       "<ul>\n",
       "  <li><b>Workers: </b>24</li>\n",
       "  <li><b>Cores: </b>24</li>\n",
       "  <li><b>Memory: </b>24.00 GB</li>\n",
       "</ul>\n",
       "</td>\n",
       "</tr>\n",
       "</table>"
      ],
      "text/plain": [
       "<Client: scheduler='tcp://10.120.16.182:47301' processes=24 cores=24>"
      ]
     },
     "execution_count": 14,
     "metadata": {},
     "output_type": "execute_result"
    },
    {
     "name": "stderr",
     "output_type": "stream",
     "text": [
      "distributed.scheduler - ERROR - Nannies didn't report back restarted within timeout.  Continuuing with restart process\n",
      "tornado.application - ERROR - Exception in Future <Future finished exception=CommClosedError(\"in <closed TCP>: Stream is closed: while trying to call remote method 'restart'\")> after timeout\n",
      "Traceback (most recent call last):\n",
      "  File \"/home/de64/anaconda3/envs/mothermachine/lib/python3.7/site-packages/distributed/comm/tcp.py\", line 181, in read\n",
      "    n_frames = yield stream.read_bytes(8)\n",
      "  File \"/home/de64/anaconda3/envs/mothermachine/lib/python3.7/site-packages/tornado/gen.py\", line 729, in run\n",
      "    value = future.result()\n",
      "tornado.iostream.StreamClosedError: Stream is closed\n",
      "\n",
      "During handling of the above exception, another exception occurred:\n",
      "\n",
      "Traceback (most recent call last):\n",
      "  File \"/home/de64/anaconda3/envs/mothermachine/lib/python3.7/site-packages/distributed/core.py\", line 580, in send_recv_from_rpc\n",
      "    result = yield send_recv(comm=comm, op=key, **kwargs)\n",
      "  File \"/home/de64/anaconda3/envs/mothermachine/lib/python3.7/site-packages/tornado/gen.py\", line 729, in run\n",
      "    value = future.result()\n",
      "  File \"/home/de64/anaconda3/envs/mothermachine/lib/python3.7/site-packages/tornado/gen.py\", line 742, in run\n",
      "    yielded = self.gen.send(value)\n",
      "  File \"/home/de64/anaconda3/envs/mothermachine/lib/python3.7/site-packages/distributed/core.py\", line 457, in send_recv\n",
      "    response = yield comm.read(deserializers=deserializers)\n",
      "  File \"/home/de64/anaconda3/envs/mothermachine/lib/python3.7/site-packages/tornado/gen.py\", line 729, in run\n",
      "    value = future.result()\n",
      "  File \"/home/de64/anaconda3/envs/mothermachine/lib/python3.7/site-packages/tornado/gen.py\", line 736, in run\n",
      "    yielded = self.gen.throw(*exc_info)  # type: ignore\n",
      "  File \"/home/de64/anaconda3/envs/mothermachine/lib/python3.7/site-packages/distributed/comm/tcp.py\", line 201, in read\n",
      "    convert_stream_closed_error(self, e)\n",
      "  File \"/home/de64/anaconda3/envs/mothermachine/lib/python3.7/site-packages/distributed/comm/tcp.py\", line 130, in convert_stream_closed_error\n",
      "    raise CommClosedError(\"in %s: %s\" % (obj, exc))\n",
      "distributed.comm.core.CommClosedError: in <closed TCP>: Stream is closed\n",
      "\n",
      "During handling of the above exception, another exception occurred:\n",
      "\n",
      "Traceback (most recent call last):\n",
      "  File \"/home/de64/anaconda3/envs/mothermachine/lib/python3.7/site-packages/tornado/gen.py\", line 589, in error_callback\n",
      "    future.result()\n",
      "  File \"/home/de64/anaconda3/envs/mothermachine/lib/python3.7/site-packages/tornado/gen.py\", line 736, in run\n",
      "    yielded = self.gen.throw(*exc_info)  # type: ignore\n",
      "  File \"/home/de64/anaconda3/envs/mothermachine/lib/python3.7/site-packages/distributed/utils.py\", line 214, in All\n",
      "    result = yield tasks.next()\n",
      "  File \"/home/de64/anaconda3/envs/mothermachine/lib/python3.7/site-packages/tornado/gen.py\", line 729, in run\n",
      "    value = future.result()\n",
      "  File \"/home/de64/anaconda3/envs/mothermachine/lib/python3.7/site-packages/tornado/gen.py\", line 736, in run\n",
      "    yielded = self.gen.throw(*exc_info)  # type: ignore\n",
      "  File \"/home/de64/anaconda3/envs/mothermachine/lib/python3.7/site-packages/distributed/core.py\", line 583, in send_recv_from_rpc\n",
      "    % (e, key,))\n",
      "distributed.comm.core.CommClosedError: in <closed TCP>: Stream is closed: while trying to call remote method 'restart'\n"
     ]
    }
   ],
   "source": [
    "kymo_controller.daskclient.restart()"
   ]
  },
  {
   "cell_type": "code",
   "execution_count": 6,
   "metadata": {},
   "outputs": [],
   "source": [
    "segment = tr.segment.fluo_segmentation_cluster(\"/n/scratch2/de64/full_pipeline_test\",\"channel_RFP\",smooth_sigma=0.75,wrap_pad=3,hess_pad=4,min_obj_size=30,cell_mask_method='local',\\\n",
    "                 cell_otsu_scaling=1.,local_otsu_r=15,edge_threshold_scaling=1.,threshold_range=20,threshold_step=10,convex_threshold=0.8)"
   ]
  },
  {
   "cell_type": "code",
   "execution_count": 7,
   "metadata": {},
   "outputs": [],
   "source": [
    "fov_list = list(set(range(0,80))-set([77]))"
   ]
  },
  {
   "cell_type": "code",
   "execution_count": 8,
   "metadata": {},
   "outputs": [],
   "source": [
    "kymo_controller.mapfovs(segment.generate_segmentation,fov_list)"
   ]
  },
  {
   "cell_type": "code",
   "execution_count": 3,
   "metadata": {},
   "outputs": [
    {
     "name": "stderr",
     "output_type": "stream",
     "text": [
      "/home/de64/anaconda3/envs/mothermachine/lib/python3.7/site-packages/skimage/util/dtype.py:135: UserWarning: Possible precision loss when converting from float64 to uint8\n",
      "  .format(dtypeobj_in, dtypeobj_out))\n",
      "ERROR:root:Internal Python error in the inspect module.\n",
      "Below is the traceback from this internal error.\n",
      "\n"
     ]
    },
    {
     "name": "stdout",
     "output_type": "stream",
     "text": [
      "Traceback (most recent call last):\n",
      "  File \"/home/de64/anaconda3/envs/mothermachine/lib/python3.7/site-packages/IPython/core/interactiveshell.py\", line 3296, in run_code\n",
      "    exec(code_obj, self.user_global_ns, self.user_ns)\n",
      "  File \"<ipython-input-3-735f591619c3>\", line 1, in <module>\n",
      "    segment.generate_segmentation(10)\n",
      "  File \"/home/de64/TrenchRipper/trenchripper/segment.py\", line 242, in generate_segmentation\n",
      "    hdf5_dataset = self.segment(kymo_arr)\n",
      "  File \"/home/de64/TrenchRipper/trenchripper/segment.py\", line 170, in segment\n",
      "    cell_mask = self.cell_region_mask(working_img,method=self.cell_mask_method,cell_otsu_scaling=self.cell_otsu_scaling,t_tot=t_tot,local_otsu_r=self.local_otsu_r)\n",
      "  File \"/home/de64/TrenchRipper/trenchripper/segment.py\", line 56, in cell_region_mask\n",
      "    local_otsu = sk.filters.rank.otsu(img_arr, otsu_selem)\n",
      "  File \"/home/de64/anaconda3/envs/mothermachine/lib/python3.7/site-packages/skimage/filters/rank/generic.py\", line 1003, in otsu\n",
      "    shift_y=shift_y)\n",
      "  File \"/home/de64/anaconda3/envs/mothermachine/lib/python3.7/site-packages/skimage/filters/rank/generic.py\", line 116, in _apply_scalar_per_pixel\n",
      "    out=out, n_bins=n_bins)\n",
      "KeyboardInterrupt\n",
      "\n",
      "During handling of the above exception, another exception occurred:\n",
      "\n",
      "Traceback (most recent call last):\n",
      "  File \"/home/de64/anaconda3/envs/mothermachine/lib/python3.7/site-packages/IPython/core/interactiveshell.py\", line 2033, in showtraceback\n",
      "    stb = value._render_traceback_()\n",
      "AttributeError: 'KeyboardInterrupt' object has no attribute '_render_traceback_'\n",
      "\n",
      "During handling of the above exception, another exception occurred:\n",
      "\n",
      "Traceback (most recent call last):\n",
      "  File \"/home/de64/anaconda3/envs/mothermachine/lib/python3.7/site-packages/IPython/core/ultratb.py\", line 1095, in get_records\n",
      "    return _fixed_getinnerframes(etb, number_of_lines_of_context, tb_offset)\n",
      "  File \"/home/de64/anaconda3/envs/mothermachine/lib/python3.7/site-packages/IPython/core/ultratb.py\", line 313, in wrapped\n",
      "    return f(*args, **kwargs)\n",
      "  File \"/home/de64/anaconda3/envs/mothermachine/lib/python3.7/site-packages/IPython/core/ultratb.py\", line 347, in _fixed_getinnerframes\n",
      "    records = fix_frame_records_filenames(inspect.getinnerframes(etb, context))\n",
      "  File \"/home/de64/anaconda3/envs/mothermachine/lib/python3.7/inspect.py\", line 1502, in getinnerframes\n",
      "    frameinfo = (tb.tb_frame,) + getframeinfo(tb, context)\n",
      "  File \"/home/de64/anaconda3/envs/mothermachine/lib/python3.7/inspect.py\", line 1460, in getframeinfo\n",
      "    filename = getsourcefile(frame) or getfile(frame)\n",
      "  File \"/home/de64/anaconda3/envs/mothermachine/lib/python3.7/inspect.py\", line 696, in getsourcefile\n",
      "    if getattr(getmodule(object, filename), '__loader__', None) is not None:\n",
      "  File \"/home/de64/anaconda3/envs/mothermachine/lib/python3.7/inspect.py\", line 742, in getmodule\n",
      "    os.path.realpath(f)] = module.__name__\n",
      "  File \"/home/de64/anaconda3/envs/mothermachine/lib/python3.7/posixpath.py\", line 395, in realpath\n",
      "    path, ok = _joinrealpath(filename[:0], filename, {})\n",
      "  File \"/home/de64/anaconda3/envs/mothermachine/lib/python3.7/posixpath.py\", line 429, in _joinrealpath\n",
      "    if not islink(newpath):\n",
      "  File \"/home/de64/anaconda3/envs/mothermachine/lib/python3.7/posixpath.py\", line 171, in islink\n",
      "    st = os.lstat(path)\n",
      "KeyboardInterrupt\n"
     ]
    },
    {
     "ename": "KeyboardInterrupt",
     "evalue": "",
     "output_type": "error",
     "traceback": [
      "\u001b[0;31m---------------------------------------------------------------------------\u001b[0m"
     ]
    }
   ],
   "source": [
    "segment.generate_segmentation(10)"
   ]
  },
  {
   "cell_type": "code",
   "execution_count": 13,
   "metadata": {},
   "outputs": [
    {
     "data": {
      "text/plain": [
       "(<function trenchripper.cluster.dask_controller.mapfovs.<locals>.mapallfovs(fov_number, function=<bound method fluo_segmentation_cluster.generate_segmentation of <trenchripper.segment.fluo_segmentation_cluster object at 0x7fbbc7cd7550>>)>,\n",
       " (1,),\n",
       " {},\n",
       " ())"
      ]
     },
     "execution_count": 13,
     "metadata": {},
     "output_type": "execute_result"
    }
   ],
   "source": [
    "kymo_controller.daskclient.get_futures_error(kymo_controller.futures[1])"
   ]
  },
  {
   "cell_type": "code",
   "execution_count": null,
   "metadata": {},
   "outputs": [],
   "source": []
  },
  {
   "cell_type": "markdown",
   "metadata": {},
   "source": [
    "#### End Dask, Cancel Jobs"
   ]
  },
  {
   "cell_type": "code",
   "execution_count": 9,
   "metadata": {},
   "outputs": [],
   "source": [
    "kymo_controller.shutdown()"
   ]
  },
  {
   "cell_type": "code",
   "execution_count": null,
   "metadata": {},
   "outputs": [],
   "source": []
  },
  {
   "cell_type": "code",
   "execution_count": 4,
   "metadata": {},
   "outputs": [],
   "source": [
    "import h5py\n",
    "from matplotlib import pyplot as plt"
   ]
  },
  {
   "cell_type": "code",
   "execution_count": 5,
   "metadata": {},
   "outputs": [],
   "source": [
    "data = h5py.File(\"/n/scratch2/de64/full_pipeline_test/segmentation/seg_0.hdf5\")"
   ]
  },
  {
   "cell_type": "code",
   "execution_count": 6,
   "metadata": {},
   "outputs": [],
   "source": [
    "kymo_handle = tr.utils.kymo_handle()"
   ]
  },
  {
   "cell_type": "code",
   "execution_count": 7,
   "metadata": {},
   "outputs": [
    {
     "data": {
      "text/plain": [
       "<matplotlib.image.AxesImage at 0x7ffb5ac9dc50>"
      ]
     },
     "execution_count": 7,
     "metadata": {},
     "output_type": "execute_result"
    },
    {
     "data": {
      "image/png": "[encoded data removed]",
      "text/plain": [
       "<Figure size 432x288 with 1 Axes>"
      ]
     },
     "metadata": {
      "needs_background": "light"
     },
     "output_type": "display_data"
    }
   ],
   "source": [
    "kymo_handle.import_wrap(data['0'][30])\n",
    "plt.imshow(kymo_handle.return_unwrap())"
   ]
  },
  {
   "cell_type": "code",
   "execution_count": null,
   "metadata": {},
   "outputs": [],
   "source": []
  },
  {
   "cell_type": "markdown",
   "metadata": {},
   "source": [
    "### NOTE\n",
    "\n",
    "- **How to deal with some fovs having a different number of rows than other fovs??? Try to make more flexible...**"
   ]
  },
  {
   "cell_type": "markdown",
   "metadata": {},
   "source": [
    "maybe add a kymograph viewer here"
   ]
  },
  {
   "cell_type": "markdown",
   "metadata": {},
   "source": [
    "### Note\n",
    "There may be an issue where hdf5 files do not close properly on crashes..."
   ]
  },
  {
   "cell_type": "code",
   "execution_count": 7,
   "metadata": {},
   "outputs": [],
   "source": [
    "# props = kymo_controller.daskclient.gather(kymo_controller.futures) #this will hang until all futures are done"
   ]
  },
  {
   "cell_type": "markdown",
   "metadata": {},
   "source": [
    "#### End Dask, Cancel Jobs"
   ]
  },
  {
   "cell_type": "code",
   "execution_count": 14,
   "metadata": {},
   "outputs": [],
   "source": [
    "kymo_controller.shutdown()"
   ]
  },
  {
   "cell_type": "code",
   "execution_count": null,
   "metadata": {},
   "outputs": [],
   "source": [
    "#scancel --name=dask-worker --user=de64"
   ]
  },
  {
   "cell_type": "markdown",
   "metadata": {},
   "source": [
    "#### Note: access request to the transfer partition pending; automate this bit later"
   ]
  },
  {
   "cell_type": "code",
   "execution_count": 10,
   "metadata": {},
   "outputs": [
    {
     "ename": "CalledProcessError",
     "evalue": "Command 'sbatch -p transfer -t 0-12:00 --wrap=\"rsync /n/files/SysBio/PAULSSON LAB/Daniel/Image_Data/test /n/scratch2/de64/for_sylvia/\"' returned non-zero exit status 1.",
     "output_type": "error",
     "traceback": [
      "\u001b[0;31m---------------------------------------------------------------------------\u001b[0m",
      "\u001b[0;31mCalledProcessError\u001b[0m                        Traceback (most recent call last)",
      "\u001b[0;32m<ipython-input-10-e73a3e022a53>\u001b[0m in \u001b[0;36m<module>\u001b[0;34m()\u001b[0m\n\u001b[1;32m      7\u001b[0m \u001b[0;34m\u001b[0m\u001b[0m\n\u001b[1;32m      8\u001b[0m subprocess.check_output(cmd_str,\n\u001b[0;32m----> 9\u001b[0;31m                 shell=True)\n\u001b[0m",
      "\u001b[0;32m~/anaconda3/envs/mothermachine/lib/python3.6/subprocess.py\u001b[0m in \u001b[0;36mcheck_output\u001b[0;34m(timeout, *popenargs, **kwargs)\u001b[0m\n\u001b[1;32m    334\u001b[0m \u001b[0;34m\u001b[0m\u001b[0m\n\u001b[1;32m    335\u001b[0m     return run(*popenargs, stdout=PIPE, timeout=timeout, check=True,\n\u001b[0;32m--> 336\u001b[0;31m                **kwargs).stdout\n\u001b[0m\u001b[1;32m    337\u001b[0m \u001b[0;34m\u001b[0m\u001b[0m\n\u001b[1;32m    338\u001b[0m \u001b[0;34m\u001b[0m\u001b[0m\n",
      "\u001b[0;32m~/anaconda3/envs/mothermachine/lib/python3.6/subprocess.py\u001b[0m in \u001b[0;36mrun\u001b[0;34m(input, timeout, check, *popenargs, **kwargs)\u001b[0m\n\u001b[1;32m    416\u001b[0m         \u001b[0;32mif\u001b[0m \u001b[0mcheck\u001b[0m \u001b[0;32mand\u001b[0m \u001b[0mretcode\u001b[0m\u001b[0;34m:\u001b[0m\u001b[0;34m\u001b[0m\u001b[0m\n\u001b[1;32m    417\u001b[0m             raise CalledProcessError(retcode, process.args,\n\u001b[0;32m--> 418\u001b[0;31m                                      output=stdout, stderr=stderr)\n\u001b[0m\u001b[1;32m    419\u001b[0m     \u001b[0;32mreturn\u001b[0m \u001b[0mCompletedProcess\u001b[0m\u001b[0;34m(\u001b[0m\u001b[0mprocess\u001b[0m\u001b[0;34m.\u001b[0m\u001b[0margs\u001b[0m\u001b[0;34m,\u001b[0m \u001b[0mretcode\u001b[0m\u001b[0;34m,\u001b[0m \u001b[0mstdout\u001b[0m\u001b[0;34m,\u001b[0m \u001b[0mstderr\u001b[0m\u001b[0;34m)\u001b[0m\u001b[0;34m\u001b[0m\u001b[0m\n\u001b[1;32m    420\u001b[0m \u001b[0;34m\u001b[0m\u001b[0m\n",
      "\u001b[0;31mCalledProcessError\u001b[0m: Command 'sbatch -p transfer -t 0-12:00 --wrap=\"rsync /n/files/SysBio/PAULSSON LAB/Daniel/Image_Data/test /n/scratch2/de64/for_sylvia/\"' returned non-zero exit status 1."
     ]
    }
   ],
   "source": [
    "import subprocess\n",
    "\n",
    "in_path = \"/n/files/SysBio/PAULSSON LAB/Daniel/Image_Data/test\"\n",
    "out_path = \"/n/scratch2/de64/for_sylvia/\"\n",
    "wrap_str = \"rsync \" + in_path + \" \" + out_path\n",
    "cmd_str = 'sbatch -p transfer -t 0-12:00 --wrap=\"' + wrap_str + '\"'\n",
    "\n",
    "subprocess.check_output(cmd_str,\n",
    "                shell=True)"
   ]
  },
  {
   "cell_type": "code",
   "execution_count": 6,
   "metadata": {},
   "outputs": [
    {
     "data": {
      "text/plain": [
       "'sbatch -p transfer -t 0-12:00 --wrap=\"rsync /n/files/SysBio/PAULSSON LAB/Daniel/Image_Data/2019-02-08_bacillus_mbm_top_s750_bottom /n/scratch2/de64/for_sylvia/\"'"
      ]
     },
     "execution_count": 6,
     "metadata": {},
     "output_type": "execute_result"
    }
   ],
   "source": [
    "cmd_str"
   ]
  },
  {
   "cell_type": "code",
   "execution_count": 11,
   "metadata": {},
   "outputs": [
    {
     "name": "stdout",
     "output_type": "stream",
     "text": [
      "sbatch: error: Batch job submission failed: User's group not permitted to use this partition\n"
     ]
    }
   ],
   "source": [
    "!sbatch -p transfer -t 0-12:00 --wrap=\"rsync /n/files/SysBio/PAULSSON\\LAB/Daniel/Image_Data/Bacillus_Project/test /n/scratch2/de64/for_sylvia/\""
   ]
  },
  {
   "cell_type": "markdown",
   "metadata": {},
   "source": [
    "#### Note: need to find a way to associate lanes from init barcoding snapshot with imaging lanes\n",
    "\n",
    "plan:\n",
    "- extract and segment (with phase) barcoding file\n",
    "- extract and segment experiemnt file\n",
    "- for both, note x positions of t=0 trenches\n",
    "- compare these values to map trenches to eachother..."
   ]
  }
 ],
 "metadata": {
  "kernelspec": {
   "display_name": "mothermachine",
   "language": "python",
   "name": "mothermachine"
  },
  "language_info": {
   "codemirror_mode": {
    "name": "ipython",
    "version": 3
   },
   "file_extension": ".py",
   "mimetype": "text/x-python",
   "name": "python",
   "nbconvert_exporter": "python",
   "pygments_lexer": "ipython3",
   "version": "3.7.3"
  }
 },
 "nbformat": 4,
 "nbformat_minor": 2
}
