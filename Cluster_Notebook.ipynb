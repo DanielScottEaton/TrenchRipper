{
 "cells": [
  {
   "cell_type": "markdown",
   "metadata": {},
   "source": [
    "## Kymograph Cluster Code\n",
    "\n",
    "should I add a retry call by default?"
   ]
  },
  {
   "cell_type": "code",
   "execution_count": 3,
   "metadata": {},
   "outputs": [],
   "source": [
    "import trenchripper as tr"
   ]
  },
  {
   "cell_type": "markdown",
   "metadata": {},
   "source": [
    "#### Start Dask"
   ]
  },
  {
   "cell_type": "code",
   "execution_count": 2,
   "metadata": {},
   "outputs": [],
   "source": [
    "# kymo_controller = tr.cluster.dask_controller(walltime='04:00:00',local=False,n_workers=40,memory='2GB')\n",
    "kymo_controller = tr.cluster.dask_controller(walltime='04:00:00',local=False,n_workers=40,memory='4GB')\n",
    "kymo_controller.startdask()\n",
    "kymo_controller.daskcluster.start_workers()"
   ]
  },
  {
   "cell_type": "code",
   "execution_count": 3,
   "metadata": {},
   "outputs": [
    {
     "data": {
      "text/html": [
       "<table style=\"border: 2px solid white;\">\n",
       "<tr>\n",
       "<td style=\"vertical-align: top; border: 0px solid white\">\n",
       "<h3>Client</h3>\n",
       "<ul>\n",
       "  <li><b>Scheduler: </b>tcp://10.120.16.170:53884\n",
       "  <li><b>Dashboard: </b><a href='http://10.120.16.170:8787/status' target='_blank'>http://10.120.16.170:8787/status</a>\n",
       "</ul>\n",
       "</td>\n",
       "<td style=\"vertical-align: top; border: 0px solid white\">\n",
       "<h3>Cluster</h3>\n",
       "<ul>\n",
       "  <li><b>Workers: </b>0</li>\n",
       "  <li><b>Cores: </b>0</li>\n",
       "  <li><b>Memory: </b>0 B</li>\n",
       "</ul>\n",
       "</td>\n",
       "</tr>\n",
       "</table>"
      ],
      "text/plain": [
       "<Client: scheduler='tcp://10.120.16.170:53884' processes=0 cores=0>"
      ]
     },
     "execution_count": 3,
     "metadata": {},
     "output_type": "execute_result"
    }
   ],
   "source": [
    "kymo_controller.daskclient"
   ]
  },
  {
   "cell_type": "markdown",
   "metadata": {},
   "source": [
    "#### Perform Extraction"
   ]
  },
  {
   "cell_type": "code",
   "execution_count": 16,
   "metadata": {},
   "outputs": [
    {
     "name": "stderr",
     "output_type": "stream",
     "text": [
      "/home/de64/anaconda3/lib/python3.7/site-packages/nd2reader/common_raw_metadata.py:94: RuntimeWarning: Reported average frame interval (239968.2 ms) doesn't match the set interval (240000.0 ms). Using the average now.\n",
      "  warnings.warn(message % (avg_interval, interval), RuntimeWarning)\n"
     ]
    }
   ],
   "source": [
    "hdf5_extractor = tr.ndextract.hdf5_fov_extractor(\"/n/scratch2/de64/full_pipeline_test/40x_Ph2_Test_1.5.nd2\",\"/n/scratch2/de64/full_pipeline_test\") ##find a more elegent way to do grids...."
   ]
  },
  {
   "cell_type": "code",
   "execution_count": 5,
   "metadata": {},
   "outputs": [],
   "source": [
    "fov_list = list(range(0,80))"
   ]
  },
  {
   "cell_type": "code",
   "execution_count": 8,
   "metadata": {},
   "outputs": [
    {
     "name": "stderr",
     "output_type": "stream",
     "text": [
      "/home/de64/anaconda3/lib/python3.7/site-packages/tables/path.py:118: NaturalNameWarning: object name is a Python keyword: 'global'; you will not be able to use natural naming to access this object; using ``getattr()`` will still work, though\n",
      "  % (name, _warnInfo), NaturalNameWarning)\n"
     ]
    }
   ],
   "source": [
    "hdf5_extractor.writemetadata()"
   ]
  },
  {
   "cell_type": "code",
   "execution_count": 6,
   "metadata": {},
   "outputs": [],
   "source": [
    "kymo_controller.mapfovs(hdf5_extractor.extract_fov,fov_list)"
   ]
  },
  {
   "cell_type": "code",
   "execution_count": null,
   "metadata": {},
   "outputs": [],
   "source": [
    "# props = kymo_controller.daskclient.gather(kymo_controller.futures) #this will hang until all futures are done"
   ]
  },
  {
   "cell_type": "code",
   "execution_count": 17,
   "metadata": {},
   "outputs": [],
   "source": [
    "# hdf5_extractor.writemetadata()\n",
    "hdf5_extractor.extract_fov(57)"
   ]
  },
  {
   "cell_type": "code",
   "execution_count": 4,
   "metadata": {},
   "outputs": [],
   "source": [
    "# test = tr.utils.pandas_hdf5_handler(\"/n/scratch2/de64/full_pipeline_test/metadata.hdf5\")"
   ]
  },
  {
   "cell_type": "code",
   "execution_count": null,
   "metadata": {},
   "outputs": [],
   "source": []
  },
  {
   "cell_type": "markdown",
   "metadata": {},
   "source": [
    "#### End Dask, Cancel Jobs"
   ]
  },
  {
   "cell_type": "code",
   "execution_count": 7,
   "metadata": {},
   "outputs": [],
   "source": [
    "kymo_controller.shutdown()"
   ]
  },
  {
   "cell_type": "code",
   "execution_count": null,
   "metadata": {},
   "outputs": [],
   "source": [
    "#scancel --name=dask-worker --user=de64"
   ]
  },
  {
   "cell_type": "markdown",
   "metadata": {},
   "source": [
    "#### Generate Kymographs"
   ]
  },
  {
   "cell_type": "markdown",
   "metadata": {},
   "source": [
    "#### Start Dask"
   ]
  },
  {
   "cell_type": "code",
   "execution_count": 7,
   "metadata": {},
   "outputs": [],
   "source": [
    "kymo_controller = tr.cluster.dask_controller(walltime='04:00:00',local=False,n_workers=40,memory='4GB')\n",
    "kymo_controller.startdask()\n",
    "kymo_controller.daskcluster.start_workers()"
   ]
  },
  {
   "cell_type": "code",
   "execution_count": 8,
   "metadata": {},
   "outputs": [
    {
     "data": {
      "text/html": [
       "<table style=\"border: 2px solid white;\">\n",
       "<tr>\n",
       "<td style=\"vertical-align: top; border: 0px solid white\">\n",
       "<h3>Client</h3>\n",
       "<ul>\n",
       "  <li><b>Scheduler: </b>tcp://10.120.16.170:47838\n",
       "  <li><b>Dashboard: </b><a href='http://10.120.16.170:8787/status' target='_blank'>http://10.120.16.170:8787/status</a>\n",
       "</ul>\n",
       "</td>\n",
       "<td style=\"vertical-align: top; border: 0px solid white\">\n",
       "<h3>Cluster</h3>\n",
       "<ul>\n",
       "  <li><b>Workers: </b>0</li>\n",
       "  <li><b>Cores: </b>0</li>\n",
       "  <li><b>Memory: </b>0 B</li>\n",
       "</ul>\n",
       "</td>\n",
       "</tr>\n",
       "</table>"
      ],
      "text/plain": [
       "<Client: scheduler='tcp://10.120.16.170:47838' processes=0 cores=0>"
      ]
     },
     "execution_count": 8,
     "metadata": {},
     "output_type": "execute_result"
    }
   ],
   "source": [
    "kymo_controller.daskclient"
   ]
  },
  {
   "cell_type": "code",
   "execution_count": 9,
   "metadata": {},
   "outputs": [],
   "source": [
    "# input_file_prefix = '/n/scratch2/de64/for_sylvia/timelapse/hdf5/fov_'\n",
    "# output_path = '/n/scratch2/de64/for_sylvia/timelapse/kymo'\n",
    "# all_channels = [\"channel_Phase\"]\n",
    "\n",
    "# kymo = tr.kymograph.kychunker(input_file_prefix=input_file_prefix,output_path=output_path,all_channels=all_channels,trench_len_y=110,padding_y=20,trench_width_x=20,\\\n",
    "#                  t_chunk=25,t_range=(0,400),y_percentile=90,y_min_edge_dist=50,smoothing_kernel_y=(17,1),triangle_nbins=50,triangle_scaling=1.2,\\\n",
    "#                  top_orientation=0,x_percentile=85,background_kernel_x=(301,1),smoothing_kernel_x=(9,1),otsu_nbins=50,otsu_scaling=0.7)\n",
    "\n",
    "# input_file_prefix = \"/n/scratch2/de64/full_pipeline_test/hdf5/fov_\"\n",
    "# output_path = '/n/scratch2/de64/full_pipeline_test/kymo'\n",
    "# all_channels = [\"channel_BF\",\"channel_RFP\"]\n",
    "\n",
    "# kymo = tr.kymograph.kychunker(input_file_prefix=input_file_prefix,output_path=output_path,all_channels=all_channels,trench_len_y=110,padding_y=20,trench_width_x=20,\\\n",
    "#                  t_chunk=25,t_range=(0,-1),y_percentile=90,y_min_edge_dist=50,smoothing_kernel_y=(17,1),triangle_nbins=50,triangle_scaling=1.2,\\\n",
    "#                  orientation_detection='phase',x_percentile=85,background_kernel_x=(301,1),smoothing_kernel_x=(9,1),otsu_nbins=50,otsu_scaling=0.7)\n",
    "\n",
    "\n",
    "headpath = \"/n/scratch2/de64/full_pipeline_test\"\n",
    "all_channels = [\"channel_RFP\",\"channel_BF\"]\n",
    "\n",
    "kymo = tr.kymograph.kychunker(headpath=headpath,all_channels=all_channels,trench_len_y=270,padding_y=40,trench_width_x=30,\\\n",
    "                 t_chunk=25,t_range=(0,-1),y_percentile=90,y_min_edge_dist=50,smoothing_kernel_y=(17,1),triangle_nbins=50,triangle_scaling=1.60,\\\n",
    "                 expected_num_rows=2,orientation_detection=0,x_percentile=95,background_kernel_x=(21,1),smoothing_kernel_x=(9,1),otsu_nbins=50,otsu_scaling=0.7)"
   ]
  },
  {
   "cell_type": "code",
   "execution_count": 10,
   "metadata": {},
   "outputs": [],
   "source": [
    "# fov_list = list(range(15)) + list(range(67,80))\n",
    "# fov_list = list(range(20)) + list(range(60,80))\n",
    "fov_list = list(range(0,80))"
   ]
  },
  {
   "cell_type": "code",
   "execution_count": 11,
   "metadata": {},
   "outputs": [],
   "source": [
    "kymo_controller.mapfovs(kymo.generate_kymograph,fov_list,retries=1)"
   ]
  },
  {
   "cell_type": "code",
   "execution_count": 13,
   "metadata": {},
   "outputs": [
    {
     "name": "stderr",
     "output_type": "stream",
     "text": [
      "Worker tcp://10.120.17.88:54991 restart in Job 40670953. This can be due to memory issue.\n",
      "Worker tcp://10.120.16.124:50044 restart in Job 40670933. This can be due to memory issue.\n",
      "Worker tcp://10.120.17.105:53339 restart in Job 40670962. This can be due to memory issue.\n",
      "Worker tcp://10.120.16.127:49094 restart in Job 40670959. This can be due to memory issue.\n",
      "Worker tcp://10.120.17.110:60847 restart in Job 40670963. This can be due to memory issue.\n",
      "Worker tcp://10.120.17.110:47487 restart in Job 40670938. This can be due to memory issue.\n",
      "Worker tcp://10.120.16.106:41151 restart in Job 40670956. This can be due to memory issue.\n",
      "Worker tcp://10.120.16.107:35828 restart in Job 40670944. This can be due to memory issue.\n",
      "Worker tcp://10.120.17.127:48477 restart in Job 40670954. This can be due to memory issue.\n",
      "Worker tcp://10.120.16.101:34205 restart in Job 40670967. This can be due to memory issue.\n",
      "Worker tcp://10.120.16.133:44244 restart in Job 40670934. This can be due to memory issue.\n",
      "Worker tcp://10.120.16.135:58551 restart in Job 40670947. This can be due to memory issue.\n",
      "Worker tcp://10.120.16.86:33005 restart in Job 40670958. This can be due to memory issue.\n",
      "Worker tcp://10.120.16.144:48316 restart in Job 40670935. This can be due to memory issue.\n",
      "Worker tcp://10.120.16.45:42762 restart in Job 40670966. This can be due to memory issue.\n",
      "Worker tcp://10.120.16.48:51745 restart in Job 40670930. This can be due to memory issue.\n",
      "Worker tcp://10.120.16.120:56788 restart in Job 40670932. This can be due to memory issue.\n",
      "Worker tcp://10.120.17.82:50475 restart in Job 40670952. This can be due to memory issue.\n",
      "Worker tcp://10.120.17.80:43231 restart in Job 40670961. This can be due to memory issue.\n",
      "Worker tcp://10.120.16.153:34474 restart in Job 40670948. This can be due to memory issue.\n",
      "Worker tcp://10.120.17.73:53507 restart in Job 40670951. This can be due to memory issue.\n",
      "Worker tcp://10.120.16.68:43904 restart in Job 40670941. This can be due to memory issue.\n",
      "Worker tcp://10.120.16.106:50092 restart in Job 40670956. This can be due to memory issue.\n",
      "Worker tcp://10.120.16.45:48781 restart in Job 40670966. This can be due to memory issue.\n",
      "Worker tcp://10.120.17.91:52413 restart in Job 40670937. This can be due to memory issue.\n",
      "Worker tcp://10.120.16.101:57463 restart in Job 40670967. This can be due to memory issue.\n",
      "Worker tcp://10.120.16.120:33634 restart in Job 40670932. This can be due to memory issue.\n",
      "Worker tcp://10.120.16.127:53904 restart in Job 40670959. This can be due to memory issue.\n",
      "Worker tcp://10.120.16.78:45094 restart in Job 40670942. This can be due to memory issue.\n",
      "Worker tcp://10.120.16.52:46293 restart in Job 40670931. This can be due to memory issue.\n",
      "Worker tcp://10.120.16.85:33690 restart in Job 40670957. This can be due to memory issue.\n",
      "Worker tcp://10.120.17.61:54230 restart in Job 40670936. This can be due to memory issue.\n",
      "Worker tcp://10.120.16.48:35295 restart in Job 40670930. This can be due to memory issue.\n",
      "Worker tcp://10.120.16.56:33362 restart in Job 40670940. This can be due to memory issue.\n",
      "Worker tcp://10.120.17.110:47374 restart in Job 40670963. This can be due to memory issue.\n",
      "Worker tcp://10.120.17.110:40553 restart in Job 40670938. This can be due to memory issue.\n",
      "Worker tcp://10.120.17.105:51578 restart in Job 40670962. This can be due to memory issue.\n",
      "Worker tcp://10.120.16.124:41541 restart in Job 40670933. This can be due to memory issue.\n",
      "Worker tcp://10.120.17.80:34506 restart in Job 40670961. This can be due to memory issue.\n",
      "Worker tcp://10.120.17.134:38261 restart in Job 40670955. This can be due to memory issue.\n",
      "Worker tcp://10.120.17.71:35693 restart in Job 40670950. This can be due to memory issue.\n",
      "Worker tcp://10.120.17.71:57703 restart in Job 40670949. This can be due to memory issue.\n",
      "Worker tcp://10.120.16.44:35403 restart in Job 40670965. This can be due to memory issue.\n",
      "Worker tcp://10.120.17.127:54101 restart in Job 40670954. This can be due to memory issue.\n",
      "Worker tcp://10.120.16.133:57756 restart in Job 40670934. This can be due to memory issue.\n",
      "Worker tcp://10.120.17.135:41525 restart in Job 40670964. This can be due to memory issue.\n",
      "Worker tcp://10.120.16.86:34664 restart in Job 40670958. This can be due to memory issue.\n",
      "Worker tcp://10.120.16.135:45446 restart in Job 40670947. This can be due to memory issue.\n",
      "Worker tcp://10.120.16.107:53506 restart in Job 40670944. This can be due to memory issue.\n",
      "Worker tcp://10.120.16.144:40154 restart in Job 40670935. This can be due to memory issue.\n",
      "Worker tcp://10.120.17.113:59190 restart in Job 40670939. This can be due to memory issue.\n",
      "Worker tcp://10.120.16.115:46188 restart in Job 40670946. This can be due to memory issue.\n",
      "Worker tcp://10.120.16.153:41623 restart in Job 40670948. This can be due to memory issue.\n",
      "Worker tcp://10.120.17.88:56280 restart in Job 40670953. This can be due to memory issue.\n",
      "Worker tcp://10.120.17.73:55743 restart in Job 40670951. This can be due to memory issue.\n",
      "Worker tcp://10.120.16.104:58363 restart in Job 40670943. This can be due to memory issue.\n",
      "Worker tcp://10.120.16.140:53764 restart in Job 40670960. This can be due to memory issue.\n",
      "Worker tcp://10.120.17.82:48796 restart in Job 40670952. This can be due to memory issue.\n"
     ]
    }
   ],
   "source": [
    "kymo_controller.retry_failed()"
   ]
  },
  {
   "cell_type": "code",
   "execution_count": 14,
   "metadata": {},
   "outputs": [
    {
     "name": "stdout",
     "output_type": "stream",
     "text": [
      "fovs processed: 78/80\n",
      "lanes processed: 135\n",
      "trenches processed: 7452\n",
      "lanes/fov: 1.7307692307692308\n",
      "trenches/fov: 95.53846153846153\n",
      "failed fovs: [57, 77]\n"
     ]
    }
   ],
   "source": [
    "kymo.collect_metadata(fov_list,use_archive=False,overwrite_archive=True)"
   ]
  },
  {
   "cell_type": "code",
   "execution_count": 19,
   "metadata": {},
   "outputs": [
    {
     "name": "stdout",
     "output_type": "stream",
     "text": [
      "fovs processed: 79/80\n",
      "lanes processed: 136\n",
      "trenches processed: 7507\n",
      "lanes/fov: 1.7215189873417722\n",
      "trenches/fov: 95.0253164556962\n",
      "failed fovs: [77]\n"
     ]
    }
   ],
   "source": [
    "kymo.collect_metadata(fov_list,use_archive=True,overwrite_archive=False)"
   ]
  },
  {
   "cell_type": "markdown",
   "metadata": {},
   "source": [
    "maybe an estimate of memory usage"
   ]
  },
  {
   "cell_type": "code",
   "execution_count": 18,
   "metadata": {},
   "outputs": [
    {
     "name": "stderr",
     "output_type": "stream",
     "text": [
      "/home/de64/TrenchRipper/trenchripper/utils.py:300: UserWarning: Pandas doesn't allow columns to be created via a new attribute name - see https://pandas.pydata.org/pandas-docs/stable/indexing.html#attribute-access\n",
      "  df.metadata = store.get_storer(key).attrs.metadata\n"
     ]
    }
   ],
   "source": [
    "kymo.generate_kymograph(57)"
   ]
  },
  {
   "cell_type": "code",
   "execution_count": 1,
   "metadata": {},
   "outputs": [],
   "source": [
    "import h5py\n",
    "from matplotlib import pyplot as plt"
   ]
  },
  {
   "cell_type": "code",
   "execution_count": 8,
   "metadata": {},
   "outputs": [
    {
     "name": "stdout",
     "output_type": "stream",
     "text": [
      "12\n",
      "63\n"
     ]
    }
   ],
   "source": [
    "# for fov in fov_list:\n",
    "for fov in [12,63]:\n",
    "    print(fov)\n",
    "    with h5py.File(\"/n/scratch2/de64/full_pipeline_test/hdf5/fov_\"+str(fov)+\".hdf5\") as testfile:\n",
    "        data = testfile['channel_RFP']\n",
    "        arr = data[:,:,0]"
   ]
  },
  {
   "cell_type": "code",
   "execution_count": 7,
   "metadata": {},
   "outputs": [
    {
     "data": {
      "text/plain": [
       "(2048,)"
      ]
     },
     "execution_count": 7,
     "metadata": {},
     "output_type": "execute_result"
    }
   ],
   "source": [
    "arr.shape"
   ]
  },
  {
   "cell_type": "code",
   "execution_count": 1,
   "metadata": {},
   "outputs": [],
   "source": [
    "import pandas as pd"
   ]
  },
  {
   "cell_type": "code",
   "execution_count": 6,
   "metadata": {},
   "outputs": [],
   "source": [
    "meta_handle = tr.utils.pandas_hdf5_handler(\"/n/scratch2/de64/full_pipeline_test/metadata.hdf5\")\n",
    "kymo_meta = meta_handle.read_df(\"kymo\")"
   ]
  },
  {
   "cell_type": "code",
   "execution_count": 10,
   "metadata": {},
   "outputs": [
    {
     "data": {
      "text/html": [
       "<div>\n",
       "<style scoped>\n",
       "    .dataframe tbody tr th:only-of-type {\n",
       "        vertical-align: middle;\n",
       "    }\n",
       "\n",
       "    .dataframe tbody tr th {\n",
       "        vertical-align: top;\n",
       "    }\n",
       "\n",
       "    .dataframe thead th {\n",
       "        text-align: right;\n",
       "    }\n",
       "</style>\n",
       "<table border=\"1\" class=\"dataframe\">\n",
       "  <thead>\n",
       "    <tr style=\"text-align: right;\">\n",
       "      <th></th>\n",
       "      <th>fov</th>\n",
       "      <th>lane</th>\n",
       "      <th>trench</th>\n",
       "      <th>timepoints</th>\n",
       "      <th>time (s)</th>\n",
       "      <th>lane orientation</th>\n",
       "      <th>y (local)</th>\n",
       "      <th>x (local)</th>\n",
       "      <th>y (global)</th>\n",
       "      <th>x (global)</th>\n",
       "    </tr>\n",
       "  </thead>\n",
       "  <tbody>\n",
       "    <tr>\n",
       "      <th>0</th>\n",
       "      <td>5</td>\n",
       "      <td>0</td>\n",
       "      <td>0</td>\n",
       "      <td>0</td>\n",
       "      <td>8.705783</td>\n",
       "      <td>bottom</td>\n",
       "      <td>179.151263</td>\n",
       "      <td>3.684902</td>\n",
       "      <td>-2826.448737</td>\n",
       "      <td>4673.084902</td>\n",
       "    </tr>\n",
       "    <tr>\n",
       "      <th>1</th>\n",
       "      <td>5</td>\n",
       "      <td>0</td>\n",
       "      <td>0</td>\n",
       "      <td>1</td>\n",
       "      <td>247.945007</td>\n",
       "      <td>bottom</td>\n",
       "      <td>178.609366</td>\n",
       "      <td>4.010040</td>\n",
       "      <td>-2826.990634</td>\n",
       "      <td>4673.410040</td>\n",
       "    </tr>\n",
       "    <tr>\n",
       "      <th>2</th>\n",
       "      <td>5</td>\n",
       "      <td>0</td>\n",
       "      <td>0</td>\n",
       "      <td>2</td>\n",
       "      <td>487.845095</td>\n",
       "      <td>bottom</td>\n",
       "      <td>178.609366</td>\n",
       "      <td>4.118420</td>\n",
       "      <td>-2827.090634</td>\n",
       "      <td>4673.518420</td>\n",
       "    </tr>\n",
       "    <tr>\n",
       "      <th>3</th>\n",
       "      <td>5</td>\n",
       "      <td>0</td>\n",
       "      <td>0</td>\n",
       "      <td>3</td>\n",
       "      <td>727.915919</td>\n",
       "      <td>bottom</td>\n",
       "      <td>178.717745</td>\n",
       "      <td>4.226799</td>\n",
       "      <td>-2826.882255</td>\n",
       "      <td>4673.626799</td>\n",
       "    </tr>\n",
       "    <tr>\n",
       "      <th>4</th>\n",
       "      <td>5</td>\n",
       "      <td>0</td>\n",
       "      <td>0</td>\n",
       "      <td>4</td>\n",
       "      <td>967.885631</td>\n",
       "      <td>bottom</td>\n",
       "      <td>178.826125</td>\n",
       "      <td>4.226799</td>\n",
       "      <td>-2826.873875</td>\n",
       "      <td>4673.626799</td>\n",
       "    </tr>\n",
       "    <tr>\n",
       "      <th>5</th>\n",
       "      <td>5</td>\n",
       "      <td>0</td>\n",
       "      <td>0</td>\n",
       "      <td>5</td>\n",
       "      <td>1207.842839</td>\n",
       "      <td>bottom</td>\n",
       "      <td>178.934504</td>\n",
       "      <td>4.335179</td>\n",
       "      <td>-2826.765496</td>\n",
       "      <td>4673.735179</td>\n",
       "    </tr>\n",
       "    <tr>\n",
       "      <th>6</th>\n",
       "      <td>5</td>\n",
       "      <td>0</td>\n",
       "      <td>0</td>\n",
       "      <td>6</td>\n",
       "      <td>1447.847807</td>\n",
       "      <td>bottom</td>\n",
       "      <td>178.934504</td>\n",
       "      <td>4.443558</td>\n",
       "      <td>-2826.765496</td>\n",
       "      <td>4673.843558</td>\n",
       "    </tr>\n",
       "    <tr>\n",
       "      <th>7</th>\n",
       "      <td>5</td>\n",
       "      <td>0</td>\n",
       "      <td>0</td>\n",
       "      <td>7</td>\n",
       "      <td>1687.838375</td>\n",
       "      <td>bottom</td>\n",
       "      <td>178.717745</td>\n",
       "      <td>4.443558</td>\n",
       "      <td>-2826.982255</td>\n",
       "      <td>4673.843558</td>\n",
       "    </tr>\n",
       "    <tr>\n",
       "      <th>8</th>\n",
       "      <td>5</td>\n",
       "      <td>0</td>\n",
       "      <td>0</td>\n",
       "      <td>8</td>\n",
       "      <td>1927.856087</td>\n",
       "      <td>bottom</td>\n",
       "      <td>178.609366</td>\n",
       "      <td>4.335179</td>\n",
       "      <td>-2827.090634</td>\n",
       "      <td>4673.635179</td>\n",
       "    </tr>\n",
       "    <tr>\n",
       "      <th>9</th>\n",
       "      <td>5</td>\n",
       "      <td>0</td>\n",
       "      <td>0</td>\n",
       "      <td>9</td>\n",
       "      <td>2167.928783</td>\n",
       "      <td>bottom</td>\n",
       "      <td>178.717745</td>\n",
       "      <td>4.335179</td>\n",
       "      <td>-2826.682255</td>\n",
       "      <td>4673.635179</td>\n",
       "    </tr>\n",
       "    <tr>\n",
       "      <th>10</th>\n",
       "      <td>5</td>\n",
       "      <td>0</td>\n",
       "      <td>0</td>\n",
       "      <td>10</td>\n",
       "      <td>2407.875095</td>\n",
       "      <td>bottom</td>\n",
       "      <td>178.826125</td>\n",
       "      <td>4.335179</td>\n",
       "      <td>-2826.673875</td>\n",
       "      <td>4673.635179</td>\n",
       "    </tr>\n",
       "    <tr>\n",
       "      <th>11</th>\n",
       "      <td>5</td>\n",
       "      <td>0</td>\n",
       "      <td>0</td>\n",
       "      <td>11</td>\n",
       "      <td>2647.858919</td>\n",
       "      <td>bottom</td>\n",
       "      <td>178.392607</td>\n",
       "      <td>4.335179</td>\n",
       "      <td>-2827.207393</td>\n",
       "      <td>4673.635179</td>\n",
       "    </tr>\n",
       "    <tr>\n",
       "      <th>12</th>\n",
       "      <td>5</td>\n",
       "      <td>0</td>\n",
       "      <td>0</td>\n",
       "      <td>12</td>\n",
       "      <td>2887.913375</td>\n",
       "      <td>bottom</td>\n",
       "      <td>178.609366</td>\n",
       "      <td>4.335179</td>\n",
       "      <td>-2827.190634</td>\n",
       "      <td>4673.635179</td>\n",
       "    </tr>\n",
       "    <tr>\n",
       "      <th>13</th>\n",
       "      <td>5</td>\n",
       "      <td>0</td>\n",
       "      <td>0</td>\n",
       "      <td>13</td>\n",
       "      <td>3127.839215</td>\n",
       "      <td>bottom</td>\n",
       "      <td>178.500986</td>\n",
       "      <td>4.335179</td>\n",
       "      <td>-2826.999014</td>\n",
       "      <td>4673.635179</td>\n",
       "    </tr>\n",
       "    <tr>\n",
       "      <th>14</th>\n",
       "      <td>5</td>\n",
       "      <td>0</td>\n",
       "      <td>0</td>\n",
       "      <td>14</td>\n",
       "      <td>3367.872407</td>\n",
       "      <td>bottom</td>\n",
       "      <td>178.717745</td>\n",
       "      <td>4.335179</td>\n",
       "      <td>-2826.882255</td>\n",
       "      <td>4673.635179</td>\n",
       "    </tr>\n",
       "    <tr>\n",
       "      <th>15</th>\n",
       "      <td>5</td>\n",
       "      <td>0</td>\n",
       "      <td>0</td>\n",
       "      <td>15</td>\n",
       "      <td>3607.933991</td>\n",
       "      <td>bottom</td>\n",
       "      <td>178.500986</td>\n",
       "      <td>4.335179</td>\n",
       "      <td>-2826.999014</td>\n",
       "      <td>4673.735179</td>\n",
       "    </tr>\n",
       "    <tr>\n",
       "      <th>16</th>\n",
       "      <td>5</td>\n",
       "      <td>0</td>\n",
       "      <td>0</td>\n",
       "      <td>16</td>\n",
       "      <td>3847.903439</td>\n",
       "      <td>bottom</td>\n",
       "      <td>178.826125</td>\n",
       "      <td>4.443558</td>\n",
       "      <td>-2826.873875</td>\n",
       "      <td>4673.843558</td>\n",
       "    </tr>\n",
       "    <tr>\n",
       "      <th>17</th>\n",
       "      <td>5</td>\n",
       "      <td>0</td>\n",
       "      <td>0</td>\n",
       "      <td>17</td>\n",
       "      <td>4087.958783</td>\n",
       "      <td>bottom</td>\n",
       "      <td>178.826125</td>\n",
       "      <td>4.335179</td>\n",
       "      <td>-2826.873875</td>\n",
       "      <td>4673.635179</td>\n",
       "    </tr>\n",
       "    <tr>\n",
       "      <th>18</th>\n",
       "      <td>5</td>\n",
       "      <td>0</td>\n",
       "      <td>0</td>\n",
       "      <td>18</td>\n",
       "      <td>4327.881599</td>\n",
       "      <td>bottom</td>\n",
       "      <td>178.826125</td>\n",
       "      <td>4.335179</td>\n",
       "      <td>-2826.873875</td>\n",
       "      <td>4673.735179</td>\n",
       "    </tr>\n",
       "    <tr>\n",
       "      <th>19</th>\n",
       "      <td>5</td>\n",
       "      <td>0</td>\n",
       "      <td>0</td>\n",
       "      <td>19</td>\n",
       "      <td>4567.992047</td>\n",
       "      <td>bottom</td>\n",
       "      <td>178.609366</td>\n",
       "      <td>4.335179</td>\n",
       "      <td>-2826.990634</td>\n",
       "      <td>4673.735179</td>\n",
       "    </tr>\n",
       "    <tr>\n",
       "      <th>20</th>\n",
       "      <td>5</td>\n",
       "      <td>0</td>\n",
       "      <td>0</td>\n",
       "      <td>20</td>\n",
       "      <td>4807.923767</td>\n",
       "      <td>bottom</td>\n",
       "      <td>178.717745</td>\n",
       "      <td>4.335179</td>\n",
       "      <td>-2826.982255</td>\n",
       "      <td>4673.735179</td>\n",
       "    </tr>\n",
       "    <tr>\n",
       "      <th>21</th>\n",
       "      <td>5</td>\n",
       "      <td>0</td>\n",
       "      <td>0</td>\n",
       "      <td>21</td>\n",
       "      <td>5047.975463</td>\n",
       "      <td>bottom</td>\n",
       "      <td>178.392607</td>\n",
       "      <td>4.226799</td>\n",
       "      <td>-2827.107393</td>\n",
       "      <td>4673.526799</td>\n",
       "    </tr>\n",
       "    <tr>\n",
       "      <th>22</th>\n",
       "      <td>5</td>\n",
       "      <td>0</td>\n",
       "      <td>0</td>\n",
       "      <td>22</td>\n",
       "      <td>5287.933175</td>\n",
       "      <td>bottom</td>\n",
       "      <td>178.717745</td>\n",
       "      <td>4.226799</td>\n",
       "      <td>-2826.982255</td>\n",
       "      <td>4673.526799</td>\n",
       "    </tr>\n",
       "    <tr>\n",
       "      <th>23</th>\n",
       "      <td>5</td>\n",
       "      <td>0</td>\n",
       "      <td>0</td>\n",
       "      <td>23</td>\n",
       "      <td>5527.924991</td>\n",
       "      <td>bottom</td>\n",
       "      <td>178.717745</td>\n",
       "      <td>4.226799</td>\n",
       "      <td>-2826.982255</td>\n",
       "      <td>4673.626799</td>\n",
       "    </tr>\n",
       "    <tr>\n",
       "      <th>24</th>\n",
       "      <td>5</td>\n",
       "      <td>0</td>\n",
       "      <td>0</td>\n",
       "      <td>24</td>\n",
       "      <td>5767.882439</td>\n",
       "      <td>bottom</td>\n",
       "      <td>178.609366</td>\n",
       "      <td>4.226799</td>\n",
       "      <td>-2827.090634</td>\n",
       "      <td>4673.626799</td>\n",
       "    </tr>\n",
       "    <tr>\n",
       "      <th>25</th>\n",
       "      <td>5</td>\n",
       "      <td>0</td>\n",
       "      <td>1</td>\n",
       "      <td>0</td>\n",
       "      <td>8.705783</td>\n",
       "      <td>bottom</td>\n",
       "      <td>179.151263</td>\n",
       "      <td>7.586563</td>\n",
       "      <td>-2826.448737</td>\n",
       "      <td>4676.986563</td>\n",
       "    </tr>\n",
       "    <tr>\n",
       "      <th>26</th>\n",
       "      <td>5</td>\n",
       "      <td>0</td>\n",
       "      <td>1</td>\n",
       "      <td>1</td>\n",
       "      <td>247.945007</td>\n",
       "      <td>bottom</td>\n",
       "      <td>178.609366</td>\n",
       "      <td>7.911701</td>\n",
       "      <td>-2826.990634</td>\n",
       "      <td>4677.311701</td>\n",
       "    </tr>\n",
       "    <tr>\n",
       "      <th>27</th>\n",
       "      <td>5</td>\n",
       "      <td>0</td>\n",
       "      <td>1</td>\n",
       "      <td>2</td>\n",
       "      <td>487.845095</td>\n",
       "      <td>bottom</td>\n",
       "      <td>178.609366</td>\n",
       "      <td>8.020081</td>\n",
       "      <td>-2827.090634</td>\n",
       "      <td>4677.420081</td>\n",
       "    </tr>\n",
       "    <tr>\n",
       "      <th>28</th>\n",
       "      <td>5</td>\n",
       "      <td>0</td>\n",
       "      <td>1</td>\n",
       "      <td>3</td>\n",
       "      <td>727.915919</td>\n",
       "      <td>bottom</td>\n",
       "      <td>178.717745</td>\n",
       "      <td>8.128460</td>\n",
       "      <td>-2826.882255</td>\n",
       "      <td>4677.528460</td>\n",
       "    </tr>\n",
       "    <tr>\n",
       "      <th>29</th>\n",
       "      <td>5</td>\n",
       "      <td>0</td>\n",
       "      <td>1</td>\n",
       "      <td>4</td>\n",
       "      <td>967.885631</td>\n",
       "      <td>bottom</td>\n",
       "      <td>178.826125</td>\n",
       "      <td>8.128460</td>\n",
       "      <td>-2826.873875</td>\n",
       "      <td>4677.528460</td>\n",
       "    </tr>\n",
       "    <tr>\n",
       "      <th>...</th>\n",
       "      <td>...</td>\n",
       "      <td>...</td>\n",
       "      <td>...</td>\n",
       "      <td>...</td>\n",
       "      <td>...</td>\n",
       "      <td>...</td>\n",
       "      <td>...</td>\n",
       "      <td>...</td>\n",
       "      <td>...</td>\n",
       "      <td>...</td>\n",
       "    </tr>\n",
       "    <tr>\n",
       "      <th>1345</th>\n",
       "      <td>5</td>\n",
       "      <td>0</td>\n",
       "      <td>53</td>\n",
       "      <td>20</td>\n",
       "      <td>4807.923767</td>\n",
       "      <td>bottom</td>\n",
       "      <td>178.717745</td>\n",
       "      <td>211.448345</td>\n",
       "      <td>-2826.982255</td>\n",
       "      <td>4880.848345</td>\n",
       "    </tr>\n",
       "    <tr>\n",
       "      <th>1346</th>\n",
       "      <td>5</td>\n",
       "      <td>0</td>\n",
       "      <td>53</td>\n",
       "      <td>21</td>\n",
       "      <td>5047.975463</td>\n",
       "      <td>bottom</td>\n",
       "      <td>178.392607</td>\n",
       "      <td>211.339965</td>\n",
       "      <td>-2827.107393</td>\n",
       "      <td>4880.639965</td>\n",
       "    </tr>\n",
       "    <tr>\n",
       "      <th>1347</th>\n",
       "      <td>5</td>\n",
       "      <td>0</td>\n",
       "      <td>53</td>\n",
       "      <td>22</td>\n",
       "      <td>5287.933175</td>\n",
       "      <td>bottom</td>\n",
       "      <td>178.717745</td>\n",
       "      <td>211.339965</td>\n",
       "      <td>-2826.982255</td>\n",
       "      <td>4880.639965</td>\n",
       "    </tr>\n",
       "    <tr>\n",
       "      <th>1348</th>\n",
       "      <td>5</td>\n",
       "      <td>0</td>\n",
       "      <td>53</td>\n",
       "      <td>23</td>\n",
       "      <td>5527.924991</td>\n",
       "      <td>bottom</td>\n",
       "      <td>178.717745</td>\n",
       "      <td>211.339965</td>\n",
       "      <td>-2826.982255</td>\n",
       "      <td>4880.739965</td>\n",
       "    </tr>\n",
       "    <tr>\n",
       "      <th>1349</th>\n",
       "      <td>5</td>\n",
       "      <td>0</td>\n",
       "      <td>53</td>\n",
       "      <td>24</td>\n",
       "      <td>5767.882439</td>\n",
       "      <td>bottom</td>\n",
       "      <td>178.609366</td>\n",
       "      <td>211.339965</td>\n",
       "      <td>-2827.090634</td>\n",
       "      <td>4880.739965</td>\n",
       "    </tr>\n",
       "    <tr>\n",
       "      <th>1350</th>\n",
       "      <td>5</td>\n",
       "      <td>0</td>\n",
       "      <td>54</td>\n",
       "      <td>0</td>\n",
       "      <td>8.705783</td>\n",
       "      <td>bottom</td>\n",
       "      <td>179.151263</td>\n",
       "      <td>214.808108</td>\n",
       "      <td>-2826.448737</td>\n",
       "      <td>4884.208108</td>\n",
       "    </tr>\n",
       "    <tr>\n",
       "      <th>1351</th>\n",
       "      <td>5</td>\n",
       "      <td>0</td>\n",
       "      <td>54</td>\n",
       "      <td>1</td>\n",
       "      <td>247.945007</td>\n",
       "      <td>bottom</td>\n",
       "      <td>178.609366</td>\n",
       "      <td>215.133247</td>\n",
       "      <td>-2826.990634</td>\n",
       "      <td>4884.533247</td>\n",
       "    </tr>\n",
       "    <tr>\n",
       "      <th>1352</th>\n",
       "      <td>5</td>\n",
       "      <td>0</td>\n",
       "      <td>54</td>\n",
       "      <td>2</td>\n",
       "      <td>487.845095</td>\n",
       "      <td>bottom</td>\n",
       "      <td>178.609366</td>\n",
       "      <td>215.241626</td>\n",
       "      <td>-2827.090634</td>\n",
       "      <td>4884.641626</td>\n",
       "    </tr>\n",
       "    <tr>\n",
       "      <th>1353</th>\n",
       "      <td>5</td>\n",
       "      <td>0</td>\n",
       "      <td>54</td>\n",
       "      <td>3</td>\n",
       "      <td>727.915919</td>\n",
       "      <td>bottom</td>\n",
       "      <td>178.717745</td>\n",
       "      <td>215.350006</td>\n",
       "      <td>-2826.882255</td>\n",
       "      <td>4884.750006</td>\n",
       "    </tr>\n",
       "    <tr>\n",
       "      <th>1354</th>\n",
       "      <td>5</td>\n",
       "      <td>0</td>\n",
       "      <td>54</td>\n",
       "      <td>4</td>\n",
       "      <td>967.885631</td>\n",
       "      <td>bottom</td>\n",
       "      <td>178.826125</td>\n",
       "      <td>215.350006</td>\n",
       "      <td>-2826.873875</td>\n",
       "      <td>4884.750006</td>\n",
       "    </tr>\n",
       "    <tr>\n",
       "      <th>1355</th>\n",
       "      <td>5</td>\n",
       "      <td>0</td>\n",
       "      <td>54</td>\n",
       "      <td>5</td>\n",
       "      <td>1207.842839</td>\n",
       "      <td>bottom</td>\n",
       "      <td>178.934504</td>\n",
       "      <td>215.458385</td>\n",
       "      <td>-2826.765496</td>\n",
       "      <td>4884.858385</td>\n",
       "    </tr>\n",
       "    <tr>\n",
       "      <th>1356</th>\n",
       "      <td>5</td>\n",
       "      <td>0</td>\n",
       "      <td>54</td>\n",
       "      <td>6</td>\n",
       "      <td>1447.847807</td>\n",
       "      <td>bottom</td>\n",
       "      <td>178.934504</td>\n",
       "      <td>215.566765</td>\n",
       "      <td>-2826.765496</td>\n",
       "      <td>4884.966765</td>\n",
       "    </tr>\n",
       "    <tr>\n",
       "      <th>1357</th>\n",
       "      <td>5</td>\n",
       "      <td>0</td>\n",
       "      <td>54</td>\n",
       "      <td>7</td>\n",
       "      <td>1687.838375</td>\n",
       "      <td>bottom</td>\n",
       "      <td>178.717745</td>\n",
       "      <td>215.566765</td>\n",
       "      <td>-2826.982255</td>\n",
       "      <td>4884.966765</td>\n",
       "    </tr>\n",
       "    <tr>\n",
       "      <th>1358</th>\n",
       "      <td>5</td>\n",
       "      <td>0</td>\n",
       "      <td>54</td>\n",
       "      <td>8</td>\n",
       "      <td>1927.856087</td>\n",
       "      <td>bottom</td>\n",
       "      <td>178.609366</td>\n",
       "      <td>215.458385</td>\n",
       "      <td>-2827.090634</td>\n",
       "      <td>4884.758385</td>\n",
       "    </tr>\n",
       "    <tr>\n",
       "      <th>1359</th>\n",
       "      <td>5</td>\n",
       "      <td>0</td>\n",
       "      <td>54</td>\n",
       "      <td>9</td>\n",
       "      <td>2167.928783</td>\n",
       "      <td>bottom</td>\n",
       "      <td>178.717745</td>\n",
       "      <td>215.458385</td>\n",
       "      <td>-2826.682255</td>\n",
       "      <td>4884.758385</td>\n",
       "    </tr>\n",
       "    <tr>\n",
       "      <th>1360</th>\n",
       "      <td>5</td>\n",
       "      <td>0</td>\n",
       "      <td>54</td>\n",
       "      <td>10</td>\n",
       "      <td>2407.875095</td>\n",
       "      <td>bottom</td>\n",
       "      <td>178.826125</td>\n",
       "      <td>215.458385</td>\n",
       "      <td>-2826.673875</td>\n",
       "      <td>4884.758385</td>\n",
       "    </tr>\n",
       "    <tr>\n",
       "      <th>1361</th>\n",
       "      <td>5</td>\n",
       "      <td>0</td>\n",
       "      <td>54</td>\n",
       "      <td>11</td>\n",
       "      <td>2647.858919</td>\n",
       "      <td>bottom</td>\n",
       "      <td>178.392607</td>\n",
       "      <td>215.458385</td>\n",
       "      <td>-2827.207393</td>\n",
       "      <td>4884.758385</td>\n",
       "    </tr>\n",
       "    <tr>\n",
       "      <th>1362</th>\n",
       "      <td>5</td>\n",
       "      <td>0</td>\n",
       "      <td>54</td>\n",
       "      <td>12</td>\n",
       "      <td>2887.913375</td>\n",
       "      <td>bottom</td>\n",
       "      <td>178.609366</td>\n",
       "      <td>215.458385</td>\n",
       "      <td>-2827.190634</td>\n",
       "      <td>4884.758385</td>\n",
       "    </tr>\n",
       "    <tr>\n",
       "      <th>1363</th>\n",
       "      <td>5</td>\n",
       "      <td>0</td>\n",
       "      <td>54</td>\n",
       "      <td>13</td>\n",
       "      <td>3127.839215</td>\n",
       "      <td>bottom</td>\n",
       "      <td>178.500986</td>\n",
       "      <td>215.458385</td>\n",
       "      <td>-2826.999014</td>\n",
       "      <td>4884.758385</td>\n",
       "    </tr>\n",
       "    <tr>\n",
       "      <th>1364</th>\n",
       "      <td>5</td>\n",
       "      <td>0</td>\n",
       "      <td>54</td>\n",
       "      <td>14</td>\n",
       "      <td>3367.872407</td>\n",
       "      <td>bottom</td>\n",
       "      <td>178.717745</td>\n",
       "      <td>215.458385</td>\n",
       "      <td>-2826.882255</td>\n",
       "      <td>4884.758385</td>\n",
       "    </tr>\n",
       "    <tr>\n",
       "      <th>1365</th>\n",
       "      <td>5</td>\n",
       "      <td>0</td>\n",
       "      <td>54</td>\n",
       "      <td>15</td>\n",
       "      <td>3607.933991</td>\n",
       "      <td>bottom</td>\n",
       "      <td>178.500986</td>\n",
       "      <td>215.458385</td>\n",
       "      <td>-2826.999014</td>\n",
       "      <td>4884.858385</td>\n",
       "    </tr>\n",
       "    <tr>\n",
       "      <th>1366</th>\n",
       "      <td>5</td>\n",
       "      <td>0</td>\n",
       "      <td>54</td>\n",
       "      <td>16</td>\n",
       "      <td>3847.903439</td>\n",
       "      <td>bottom</td>\n",
       "      <td>178.826125</td>\n",
       "      <td>215.566765</td>\n",
       "      <td>-2826.873875</td>\n",
       "      <td>4884.966765</td>\n",
       "    </tr>\n",
       "    <tr>\n",
       "      <th>1367</th>\n",
       "      <td>5</td>\n",
       "      <td>0</td>\n",
       "      <td>54</td>\n",
       "      <td>17</td>\n",
       "      <td>4087.958783</td>\n",
       "      <td>bottom</td>\n",
       "      <td>178.826125</td>\n",
       "      <td>215.458385</td>\n",
       "      <td>-2826.873875</td>\n",
       "      <td>4884.758385</td>\n",
       "    </tr>\n",
       "    <tr>\n",
       "      <th>1368</th>\n",
       "      <td>5</td>\n",
       "      <td>0</td>\n",
       "      <td>54</td>\n",
       "      <td>18</td>\n",
       "      <td>4327.881599</td>\n",
       "      <td>bottom</td>\n",
       "      <td>178.826125</td>\n",
       "      <td>215.458385</td>\n",
       "      <td>-2826.873875</td>\n",
       "      <td>4884.858385</td>\n",
       "    </tr>\n",
       "    <tr>\n",
       "      <th>1369</th>\n",
       "      <td>5</td>\n",
       "      <td>0</td>\n",
       "      <td>54</td>\n",
       "      <td>19</td>\n",
       "      <td>4567.992047</td>\n",
       "      <td>bottom</td>\n",
       "      <td>178.609366</td>\n",
       "      <td>215.458385</td>\n",
       "      <td>-2826.990634</td>\n",
       "      <td>4884.858385</td>\n",
       "    </tr>\n",
       "    <tr>\n",
       "      <th>1370</th>\n",
       "      <td>5</td>\n",
       "      <td>0</td>\n",
       "      <td>54</td>\n",
       "      <td>20</td>\n",
       "      <td>4807.923767</td>\n",
       "      <td>bottom</td>\n",
       "      <td>178.717745</td>\n",
       "      <td>215.458385</td>\n",
       "      <td>-2826.982255</td>\n",
       "      <td>4884.858385</td>\n",
       "    </tr>\n",
       "    <tr>\n",
       "      <th>1371</th>\n",
       "      <td>5</td>\n",
       "      <td>0</td>\n",
       "      <td>54</td>\n",
       "      <td>21</td>\n",
       "      <td>5047.975463</td>\n",
       "      <td>bottom</td>\n",
       "      <td>178.392607</td>\n",
       "      <td>215.350006</td>\n",
       "      <td>-2827.107393</td>\n",
       "      <td>4884.650006</td>\n",
       "    </tr>\n",
       "    <tr>\n",
       "      <th>1372</th>\n",
       "      <td>5</td>\n",
       "      <td>0</td>\n",
       "      <td>54</td>\n",
       "      <td>22</td>\n",
       "      <td>5287.933175</td>\n",
       "      <td>bottom</td>\n",
       "      <td>178.717745</td>\n",
       "      <td>215.350006</td>\n",
       "      <td>-2826.982255</td>\n",
       "      <td>4884.650006</td>\n",
       "    </tr>\n",
       "    <tr>\n",
       "      <th>1373</th>\n",
       "      <td>5</td>\n",
       "      <td>0</td>\n",
       "      <td>54</td>\n",
       "      <td>23</td>\n",
       "      <td>5527.924991</td>\n",
       "      <td>bottom</td>\n",
       "      <td>178.717745</td>\n",
       "      <td>215.350006</td>\n",
       "      <td>-2826.982255</td>\n",
       "      <td>4884.750006</td>\n",
       "    </tr>\n",
       "    <tr>\n",
       "      <th>1374</th>\n",
       "      <td>5</td>\n",
       "      <td>0</td>\n",
       "      <td>54</td>\n",
       "      <td>24</td>\n",
       "      <td>5767.882439</td>\n",
       "      <td>bottom</td>\n",
       "      <td>178.609366</td>\n",
       "      <td>215.350006</td>\n",
       "      <td>-2827.090634</td>\n",
       "      <td>4884.750006</td>\n",
       "    </tr>\n",
       "  </tbody>\n",
       "</table>\n",
       "<p>1375 rows × 10 columns</p>\n",
       "</div>"
      ],
      "text/plain": [
       "      fov  lane  trench  timepoints     time (s) lane orientation   y (local)  \\\n",
       "0       5     0       0           0     8.705783           bottom  179.151263   \n",
       "1       5     0       0           1   247.945007           bottom  178.609366   \n",
       "2       5     0       0           2   487.845095           bottom  178.609366   \n",
       "3       5     0       0           3   727.915919           bottom  178.717745   \n",
       "4       5     0       0           4   967.885631           bottom  178.826125   \n",
       "5       5     0       0           5  1207.842839           bottom  178.934504   \n",
       "6       5     0       0           6  1447.847807           bottom  178.934504   \n",
       "7       5     0       0           7  1687.838375           bottom  178.717745   \n",
       "8       5     0       0           8  1927.856087           bottom  178.609366   \n",
       "9       5     0       0           9  2167.928783           bottom  178.717745   \n",
       "10      5     0       0          10  2407.875095           bottom  178.826125   \n",
       "11      5     0       0          11  2647.858919           bottom  178.392607   \n",
       "12      5     0       0          12  2887.913375           bottom  178.609366   \n",
       "13      5     0       0          13  3127.839215           bottom  178.500986   \n",
       "14      5     0       0          14  3367.872407           bottom  178.717745   \n",
       "15      5     0       0          15  3607.933991           bottom  178.500986   \n",
       "16      5     0       0          16  3847.903439           bottom  178.826125   \n",
       "17      5     0       0          17  4087.958783           bottom  178.826125   \n",
       "18      5     0       0          18  4327.881599           bottom  178.826125   \n",
       "19      5     0       0          19  4567.992047           bottom  178.609366   \n",
       "20      5     0       0          20  4807.923767           bottom  178.717745   \n",
       "21      5     0       0          21  5047.975463           bottom  178.392607   \n",
       "22      5     0       0          22  5287.933175           bottom  178.717745   \n",
       "23      5     0       0          23  5527.924991           bottom  178.717745   \n",
       "24      5     0       0          24  5767.882439           bottom  178.609366   \n",
       "25      5     0       1           0     8.705783           bottom  179.151263   \n",
       "26      5     0       1           1   247.945007           bottom  178.609366   \n",
       "27      5     0       1           2   487.845095           bottom  178.609366   \n",
       "28      5     0       1           3   727.915919           bottom  178.717745   \n",
       "29      5     0       1           4   967.885631           bottom  178.826125   \n",
       "...   ...   ...     ...         ...          ...              ...         ...   \n",
       "1345    5     0      53          20  4807.923767           bottom  178.717745   \n",
       "1346    5     0      53          21  5047.975463           bottom  178.392607   \n",
       "1347    5     0      53          22  5287.933175           bottom  178.717745   \n",
       "1348    5     0      53          23  5527.924991           bottom  178.717745   \n",
       "1349    5     0      53          24  5767.882439           bottom  178.609366   \n",
       "1350    5     0      54           0     8.705783           bottom  179.151263   \n",
       "1351    5     0      54           1   247.945007           bottom  178.609366   \n",
       "1352    5     0      54           2   487.845095           bottom  178.609366   \n",
       "1353    5     0      54           3   727.915919           bottom  178.717745   \n",
       "1354    5     0      54           4   967.885631           bottom  178.826125   \n",
       "1355    5     0      54           5  1207.842839           bottom  178.934504   \n",
       "1356    5     0      54           6  1447.847807           bottom  178.934504   \n",
       "1357    5     0      54           7  1687.838375           bottom  178.717745   \n",
       "1358    5     0      54           8  1927.856087           bottom  178.609366   \n",
       "1359    5     0      54           9  2167.928783           bottom  178.717745   \n",
       "1360    5     0      54          10  2407.875095           bottom  178.826125   \n",
       "1361    5     0      54          11  2647.858919           bottom  178.392607   \n",
       "1362    5     0      54          12  2887.913375           bottom  178.609366   \n",
       "1363    5     0      54          13  3127.839215           bottom  178.500986   \n",
       "1364    5     0      54          14  3367.872407           bottom  178.717745   \n",
       "1365    5     0      54          15  3607.933991           bottom  178.500986   \n",
       "1366    5     0      54          16  3847.903439           bottom  178.826125   \n",
       "1367    5     0      54          17  4087.958783           bottom  178.826125   \n",
       "1368    5     0      54          18  4327.881599           bottom  178.826125   \n",
       "1369    5     0      54          19  4567.992047           bottom  178.609366   \n",
       "1370    5     0      54          20  4807.923767           bottom  178.717745   \n",
       "1371    5     0      54          21  5047.975463           bottom  178.392607   \n",
       "1372    5     0      54          22  5287.933175           bottom  178.717745   \n",
       "1373    5     0      54          23  5527.924991           bottom  178.717745   \n",
       "1374    5     0      54          24  5767.882439           bottom  178.609366   \n",
       "\n",
       "       x (local)   y (global)   x (global)  \n",
       "0       3.684902 -2826.448737  4673.084902  \n",
       "1       4.010040 -2826.990634  4673.410040  \n",
       "2       4.118420 -2827.090634  4673.518420  \n",
       "3       4.226799 -2826.882255  4673.626799  \n",
       "4       4.226799 -2826.873875  4673.626799  \n",
       "5       4.335179 -2826.765496  4673.735179  \n",
       "6       4.443558 -2826.765496  4673.843558  \n",
       "7       4.443558 -2826.982255  4673.843558  \n",
       "8       4.335179 -2827.090634  4673.635179  \n",
       "9       4.335179 -2826.682255  4673.635179  \n",
       "10      4.335179 -2826.673875  4673.635179  \n",
       "11      4.335179 -2827.207393  4673.635179  \n",
       "12      4.335179 -2827.190634  4673.635179  \n",
       "13      4.335179 -2826.999014  4673.635179  \n",
       "14      4.335179 -2826.882255  4673.635179  \n",
       "15      4.335179 -2826.999014  4673.735179  \n",
       "16      4.443558 -2826.873875  4673.843558  \n",
       "17      4.335179 -2826.873875  4673.635179  \n",
       "18      4.335179 -2826.873875  4673.735179  \n",
       "19      4.335179 -2826.990634  4673.735179  \n",
       "20      4.335179 -2826.982255  4673.735179  \n",
       "21      4.226799 -2827.107393  4673.526799  \n",
       "22      4.226799 -2826.982255  4673.526799  \n",
       "23      4.226799 -2826.982255  4673.626799  \n",
       "24      4.226799 -2827.090634  4673.626799  \n",
       "25      7.586563 -2826.448737  4676.986563  \n",
       "26      7.911701 -2826.990634  4677.311701  \n",
       "27      8.020081 -2827.090634  4677.420081  \n",
       "28      8.128460 -2826.882255  4677.528460  \n",
       "29      8.128460 -2826.873875  4677.528460  \n",
       "...          ...          ...          ...  \n",
       "1345  211.448345 -2826.982255  4880.848345  \n",
       "1346  211.339965 -2827.107393  4880.639965  \n",
       "1347  211.339965 -2826.982255  4880.639965  \n",
       "1348  211.339965 -2826.982255  4880.739965  \n",
       "1349  211.339965 -2827.090634  4880.739965  \n",
       "1350  214.808108 -2826.448737  4884.208108  \n",
       "1351  215.133247 -2826.990634  4884.533247  \n",
       "1352  215.241626 -2827.090634  4884.641626  \n",
       "1353  215.350006 -2826.882255  4884.750006  \n",
       "1354  215.350006 -2826.873875  4884.750006  \n",
       "1355  215.458385 -2826.765496  4884.858385  \n",
       "1356  215.566765 -2826.765496  4884.966765  \n",
       "1357  215.566765 -2826.982255  4884.966765  \n",
       "1358  215.458385 -2827.090634  4884.758385  \n",
       "1359  215.458385 -2826.682255  4884.758385  \n",
       "1360  215.458385 -2826.673875  4884.758385  \n",
       "1361  215.458385 -2827.207393  4884.758385  \n",
       "1362  215.458385 -2827.190634  4884.758385  \n",
       "1363  215.458385 -2826.999014  4884.758385  \n",
       "1364  215.458385 -2826.882255  4884.758385  \n",
       "1365  215.458385 -2826.999014  4884.858385  \n",
       "1366  215.566765 -2826.873875  4884.966765  \n",
       "1367  215.458385 -2826.873875  4884.758385  \n",
       "1368  215.458385 -2826.873875  4884.858385  \n",
       "1369  215.458385 -2826.990634  4884.858385  \n",
       "1370  215.458385 -2826.982255  4884.858385  \n",
       "1371  215.350006 -2827.107393  4884.650006  \n",
       "1372  215.350006 -2826.982255  4884.650006  \n",
       "1373  215.350006 -2826.982255  4884.750006  \n",
       "1374  215.350006 -2827.090634  4884.750006  \n",
       "\n",
       "[1375 rows x 10 columns]"
      ]
     },
     "execution_count": 10,
     "metadata": {},
     "output_type": "execute_result"
    }
   ],
   "source": [
    "kymo_meta[kymo_meta[\"fov\"]==5]"
   ]
  },
  {
   "cell_type": "code",
   "execution_count": 11,
   "metadata": {},
   "outputs": [],
   "source": [
    "import h5py\n",
    "from matplotlib import pyplot as plt\n",
    "h5py_handle = h5py.File(\"/n/scratch2/de64/full_pipeline_test/kymo/kymo_5.hdf5\",\"r\")"
   ]
  },
  {
   "cell_type": "code",
   "execution_count": 12,
   "metadata": {},
   "outputs": [],
   "source": [
    "data = h5py_handle['0/channel_RFP']"
   ]
  },
  {
   "cell_type": "code",
   "execution_count": 13,
   "metadata": {},
   "outputs": [
    {
     "data": {
      "text/plain": [
       "(55, 310, 30, 25)"
      ]
     },
     "execution_count": 13,
     "metadata": {},
     "output_type": "execute_result"
    }
   ],
   "source": [
    "data.shape"
   ]
  },
  {
   "cell_type": "code",
   "execution_count": 14,
   "metadata": {},
   "outputs": [
    {
     "data": {
      "text/plain": [
       "(1, 310, 30, 1)"
      ]
     },
     "execution_count": 14,
     "metadata": {},
     "output_type": "execute_result"
    }
   ],
   "source": [
    "data.chunks"
   ]
  },
  {
   "cell_type": "code",
   "execution_count": 15,
   "metadata": {},
   "outputs": [],
   "source": [
    "arr = data[:,:,0]"
   ]
  },
  {
   "cell_type": "code",
   "execution_count": 17,
   "metadata": {},
   "outputs": [],
   "source": [
    "h5py_handle.close()"
   ]
  },
  {
   "cell_type": "code",
   "execution_count": null,
   "metadata": {},
   "outputs": [],
   "source": [
    "print(\"moo\")"
   ]
  },
  {
   "cell_type": "code",
   "execution_count": 32,
   "metadata": {},
   "outputs": [
    {
     "data": {
      "text/plain": [
       "<matplotlib.image.AxesImage at 0x7fa6345f6550>"
      ]
     },
     "execution_count": 32,
     "metadata": {},
     "output_type": "execute_result"
    },
    {
     "data": {
      "image/png": "[encoded data removed]",
      "text/plain": [
       "<Figure size 432x288 with 1 Axes>"
      ]
     },
     "metadata": {
      "needs_background": "light"
     },
     "output_type": "display_data"
    }
   ],
   "source": [
    "plt.imshow(h5py_handle[\"0/channel_RFP\"][0,:,:,0])"
   ]
  },
  {
   "cell_type": "code",
   "execution_count": 51,
   "metadata": {},
   "outputs": [
    {
     "data": {
      "text/plain": [
       "(1, 310, 30, 1)"
      ]
     },
     "execution_count": 51,
     "metadata": {},
     "output_type": "execute_result"
    }
   ],
   "source": [
    "h5py_handle[\"0/channel_RFP\"].chunks"
   ]
  },
  {
   "cell_type": "code",
   "execution_count": 16,
   "metadata": {},
   "outputs": [
    {
     "data": {
      "text/plain": [
       "<matplotlib.image.AxesImage at 0x7f1e84c587b8>"
      ]
     },
     "execution_count": 16,
     "metadata": {},
     "output_type": "execute_result"
    },
    {
     "data": {
      "image/png": "[encoded data removed]",
      "text/plain": [
       "<Figure size 432x288 with 1 Axes>"
      ]
     },
     "metadata": {
      "needs_background": "light"
     },
     "output_type": "display_data"
    }
   ],
   "source": [
    "kymo_handle = tr.utils.kymo_handle()\n",
    "kymo_handle.import_wrap(h5py_handle[\"0/channel_RFP\"][39])\n",
    "plt.imshow(kymo_handle.return_unwrap())"
   ]
  },
  {
   "cell_type": "markdown",
   "metadata": {},
   "source": [
    "#### Generate Segmentation"
   ]
  },
  {
   "cell_type": "markdown",
   "metadata": {},
   "source": [
    "#### Start Dask"
   ]
  },
  {
   "cell_type": "code",
   "execution_count": 24,
   "metadata": {},
   "outputs": [
    {
     "name": "stderr",
     "output_type": "stream",
     "text": [
      "/home/de64/anaconda3/lib/python3.7/site-packages/distributed/bokeh/core.py:57: UserWarning: \n",
      "Port 8787 is already in use. \n",
      "Perhaps you already have a cluster running?\n",
      "Hosting the diagnostics dashboard on a random port instead.\n",
      "  warnings.warn('\\n' + msg)\n"
     ]
    }
   ],
   "source": [
    "kymo_controller = tr.cluster.dask_controller(walltime='01:00:00',local=False,n_workers=80,memory='1GB')\n",
    "kymo_controller.startdask()\n",
    "kymo_controller.daskcluster.start_workers()"
   ]
  },
  {
   "cell_type": "code",
   "execution_count": 34,
   "metadata": {},
   "outputs": [
    {
     "data": {
      "text/html": [
       "<table style=\"border: 2px solid white;\">\n",
       "<tr>\n",
       "<td style=\"vertical-align: top; border: 0px solid white\">\n",
       "<h3>Client</h3>\n",
       "<ul>\n",
       "  <li><b>Scheduler: </b>tcp://10.120.16.161:41877\n",
       "  <li><b>Dashboard: </b><a href='http://10.120.16.161:42759/status' target='_blank'>http://10.120.16.161:42759/status</a>\n",
       "</ul>\n",
       "</td>\n",
       "<td style=\"vertical-align: top; border: 0px solid white\">\n",
       "<h3>Cluster</h3>\n",
       "<ul>\n",
       "  <li><b>Workers: </b>30</li>\n",
       "  <li><b>Cores: </b>30</li>\n",
       "  <li><b>Memory: </b>30.00 GB</li>\n",
       "</ul>\n",
       "</td>\n",
       "</tr>\n",
       "</table>"
      ],
      "text/plain": [
       "<Client: scheduler='tcp://10.120.16.161:41877' processes=30 cores=30>"
      ]
     },
     "execution_count": 34,
     "metadata": {},
     "output_type": "execute_result"
    }
   ],
   "source": [
    "kymo_controller.daskclient"
   ]
  },
  {
   "cell_type": "code",
   "execution_count": 56,
   "metadata": {},
   "outputs": [
    {
     "name": "stderr",
     "output_type": "stream",
     "text": [
      "Worker tcp://10.120.16.106:33149 restart in Job 40670956. This can be due to memory issue.\n",
      "Worker tcp://10.120.16.45:44835 restart in Job 40670966. This can be due to memory issue.\n",
      "Worker tcp://10.120.16.101:55006 restart in Job 40670967. This can be due to memory issue.\n",
      "Worker tcp://10.120.16.68:32904 restart in Job 40670941. This can be due to memory issue.\n",
      "Worker tcp://10.120.16.120:35591 restart in Job 40670932. This can be due to memory issue.\n",
      "Worker tcp://10.120.17.91:50342 restart in Job 40670937. This can be due to memory issue.\n",
      "Worker tcp://10.120.17.80:36472 restart in Job 40670961. This can be due to memory issue.\n",
      "Worker tcp://10.120.16.44:59274 restart in Job 40670965. This can be due to memory issue.\n",
      "Worker tcp://10.120.17.71:40797 restart in Job 40670950. This can be due to memory issue.\n",
      "Worker tcp://10.120.17.71:58611 restart in Job 40670949. This can be due to memory issue.\n",
      "Worker tcp://10.120.17.134:46546 restart in Job 40670955. This can be due to memory issue.\n",
      "Worker tcp://10.120.16.133:52956 restart in Job 40670934. This can be due to memory issue.\n",
      "Worker tcp://10.120.16.85:43995 restart in Job 40670957. This can be due to memory issue.\n",
      "Worker tcp://10.120.16.48:47844 restart in Job 40670930. This can be due to memory issue.\n",
      "Worker tcp://10.120.16.124:33868 restart in Job 40670933. This can be due to memory issue.\n",
      "Worker tcp://10.120.17.61:38963 restart in Job 40670936. This can be due to memory issue.\n",
      "Worker tcp://10.120.17.110:35910 restart in Job 40670963. This can be due to memory issue.\n",
      "Worker tcp://10.120.17.110:47340 restart in Job 40670938. This can be due to memory issue.\n",
      "Worker tcp://10.120.17.73:56072 restart in Job 40670951. This can be due to memory issue.\n",
      "Worker tcp://10.120.16.169:39913 restart in Job 40670968. This can be due to memory issue.\n",
      "Worker tcp://10.120.16.144:45286 restart in Job 40670935. This can be due to memory issue.\n",
      "Worker tcp://10.120.16.107:37648 restart in Job 40670944. This can be due to memory issue.\n",
      "Worker tcp://10.120.16.56:34099 restart in Job 40670940. This can be due to memory issue.\n",
      "Worker tcp://10.120.16.78:42859 restart in Job 40670942. This can be due to memory issue.\n",
      "Worker tcp://10.120.16.135:45325 restart in Job 40670947. This can be due to memory issue.\n",
      "Worker tcp://10.120.16.52:49406 restart in Job 40670931. This can be due to memory issue.\n",
      "Worker tcp://10.120.16.52:40806 restart in Job 40670971. This can be due to memory issue.\n",
      "Worker tcp://10.120.17.113:37041 restart in Job 40670939. This can be due to memory issue.\n",
      "Worker tcp://10.120.17.135:46775 restart in Job 40670964. This can be due to memory issue.\n",
      "Worker tcp://10.120.16.111:59695 restart in Job 40670970. This can be due to memory issue.\n",
      "Worker tcp://10.120.16.127:42375 restart in Job 40670959. This can be due to memory issue.\n",
      "Worker tcp://10.120.17.127:44054 restart in Job 40670954. This can be due to memory issue.\n",
      "Worker tcp://10.120.17.105:53410 restart in Job 40670962. This can be due to memory issue.\n",
      "Worker tcp://10.120.16.86:53982 restart in Job 40670958. This can be due to memory issue.\n",
      "Worker tcp://10.120.16.115:39380 restart in Job 40670946. This can be due to memory issue.\n",
      "Worker tcp://10.120.16.87:37331 restart in Job 40670969. This can be due to memory issue.\n",
      "Worker tcp://10.120.16.104:58990 restart in Job 40670943. This can be due to memory issue.\n",
      "Worker tcp://10.120.17.88:55936 restart in Job 40670953. This can be due to memory issue.\n",
      "Worker tcp://10.120.16.140:59397 restart in Job 40670960. This can be due to memory issue.\n",
      "Worker tcp://10.120.16.153:50179 restart in Job 40670948. This can be due to memory issue.\n",
      "Worker tcp://10.120.17.82:42394 restart in Job 40670952. This can be due to memory issue.\n"
     ]
    },
    {
     "data": {
      "text/html": [
       "<table style=\"border: 2px solid white;\">\n",
       "<tr>\n",
       "<td style=\"vertical-align: top; border: 0px solid white\">\n",
       "<h3>Client</h3>\n",
       "<ul>\n",
       "  <li><b>Scheduler: </b>tcp://10.120.16.170:47838\n",
       "  <li><b>Dashboard: </b><a href='http://10.120.16.170:8787/status' target='_blank'>http://10.120.16.170:8787/status</a>\n",
       "</ul>\n",
       "</td>\n",
       "<td style=\"vertical-align: top; border: 0px solid white\">\n",
       "<h3>Cluster</h3>\n",
       "<ul>\n",
       "  <li><b>Workers: </b>41</li>\n",
       "  <li><b>Cores: </b>41</li>\n",
       "  <li><b>Memory: </b>164.00 GB</li>\n",
       "</ul>\n",
       "</td>\n",
       "</tr>\n",
       "</table>"
      ],
      "text/plain": [
       "<Client: scheduler='tcp://10.120.16.170:47838' processes=38 cores=38>"
      ]
     },
     "execution_count": 56,
     "metadata": {},
     "output_type": "execute_result"
    }
   ],
   "source": [
    "kymo_controller.daskclient.restart()"
   ]
  },
  {
   "cell_type": "code",
   "execution_count": 57,
   "metadata": {},
   "outputs": [],
   "source": [
    "segment = tr.segment.fluo_segmentation_cluster(\"/n/scratch2/de64/full_pipeline_test\",\"channel_RFP\",smooth_sigma=0.75,wrap_pad=3,hess_pad=4,min_obj_size=30,cell_mask_method='local',\\\n",
    "                 cell_otsu_scaling=1.,local_otsu_r=15,edge_threshold_scaling=1.,threshold_range=20,threshold_step=10,convex_threshold=0.8)"
   ]
  },
  {
   "cell_type": "code",
   "execution_count": 58,
   "metadata": {},
   "outputs": [],
   "source": [
    "fov_list = list(set(range(0,80))-set([77]))"
   ]
  },
  {
   "cell_type": "code",
   "execution_count": 59,
   "metadata": {},
   "outputs": [],
   "source": [
    "kymo_controller.mapfovs(segment.generate_segmentation,fov_list)"
   ]
  },
  {
   "cell_type": "markdown",
   "metadata": {},
   "source": [
    "#### End Dask, Cancel Jobs"
   ]
  },
  {
   "cell_type": "code",
   "execution_count": 15,
   "metadata": {},
   "outputs": [],
   "source": [
    "kymo_controller.shutdown()"
   ]
  },
  {
   "cell_type": "code",
   "execution_count": null,
   "metadata": {},
   "outputs": [],
   "source": []
  },
  {
   "cell_type": "code",
   "execution_count": 4,
   "metadata": {},
   "outputs": [],
   "source": [
    "import h5py\n",
    "from matplotlib import pyplot as plt"
   ]
  },
  {
   "cell_type": "code",
   "execution_count": 5,
   "metadata": {},
   "outputs": [],
   "source": [
    "data = h5py.File(\"/n/scratch2/de64/full_pipeline_test/segmentation/seg_0.hdf5\")"
   ]
  },
  {
   "cell_type": "code",
   "execution_count": 6,
   "metadata": {},
   "outputs": [],
   "source": [
    "kymo_handle = tr.utils.kymo_handle()"
   ]
  },
  {
   "cell_type": "code",
   "execution_count": 7,
   "metadata": {},
   "outputs": [
    {
     "data": {
      "text/plain": [
       "<matplotlib.image.AxesImage at 0x7ffb5ac9dc50>"
      ]
     },
     "execution_count": 7,
     "metadata": {},
     "output_type": "execute_result"
    },
    {
     "data": {
      "image/png": "[encoded data removed]",
      "text/plain": [
       "<Figure size 432x288 with 1 Axes>"
      ]
     },
     "metadata": {
      "needs_background": "light"
     },
     "output_type": "display_data"
    }
   ],
   "source": [
    "kymo_handle.import_wrap(data['0'][30])\n",
    "plt.imshow(kymo_handle.return_unwrap())"
   ]
  },
  {
   "cell_type": "code",
   "execution_count": null,
   "metadata": {},
   "outputs": [],
   "source": []
  },
  {
   "cell_type": "markdown",
   "metadata": {},
   "source": [
    "### NOTE\n",
    "\n",
    "- **How to deal with some fovs having a different number of rows than other fovs??? Try to make more flexible...**"
   ]
  },
  {
   "cell_type": "markdown",
   "metadata": {},
   "source": [
    "maybe add a kymograph viewer here"
   ]
  },
  {
   "cell_type": "markdown",
   "metadata": {},
   "source": [
    "### Note\n",
    "There may be an issue where hdf5 files do not close properly on crashes..."
   ]
  },
  {
   "cell_type": "code",
   "execution_count": 7,
   "metadata": {},
   "outputs": [],
   "source": [
    "# props = kymo_controller.daskclient.gather(kymo_controller.futures) #this will hang until all futures are done"
   ]
  },
  {
   "cell_type": "markdown",
   "metadata": {},
   "source": [
    "#### End Dask, Cancel Jobs"
   ]
  },
  {
   "cell_type": "code",
   "execution_count": 14,
   "metadata": {},
   "outputs": [],
   "source": [
    "kymo_controller.shutdown()"
   ]
  },
  {
   "cell_type": "code",
   "execution_count": null,
   "metadata": {},
   "outputs": [],
   "source": [
    "#scancel --name=dask-worker --user=de64"
   ]
  },
  {
   "cell_type": "markdown",
   "metadata": {},
   "source": [
    "#### Note: access request to the transfer partition pending; automate this bit later"
   ]
  },
  {
   "cell_type": "code",
   "execution_count": 10,
   "metadata": {},
   "outputs": [
    {
     "ename": "CalledProcessError",
     "evalue": "Command 'sbatch -p transfer -t 0-12:00 --wrap=\"rsync /n/files/SysBio/PAULSSON LAB/Daniel/Image_Data/test /n/scratch2/de64/for_sylvia/\"' returned non-zero exit status 1.",
     "output_type": "error",
     "traceback": [
      "\u001b[0;31m---------------------------------------------------------------------------\u001b[0m",
      "\u001b[0;31mCalledProcessError\u001b[0m                        Traceback (most recent call last)",
      "\u001b[0;32m<ipython-input-10-e73a3e022a53>\u001b[0m in \u001b[0;36m<module>\u001b[0;34m()\u001b[0m\n\u001b[1;32m      7\u001b[0m \u001b[0;34m\u001b[0m\u001b[0m\n\u001b[1;32m      8\u001b[0m subprocess.check_output(cmd_str,\n\u001b[0;32m----> 9\u001b[0;31m                 shell=True)\n\u001b[0m",
      "\u001b[0;32m~/anaconda3/envs/mothermachine/lib/python3.6/subprocess.py\u001b[0m in \u001b[0;36mcheck_output\u001b[0;34m(timeout, *popenargs, **kwargs)\u001b[0m\n\u001b[1;32m    334\u001b[0m \u001b[0;34m\u001b[0m\u001b[0m\n\u001b[1;32m    335\u001b[0m     return run(*popenargs, stdout=PIPE, timeout=timeout, check=True,\n\u001b[0;32m--> 336\u001b[0;31m                **kwargs).stdout\n\u001b[0m\u001b[1;32m    337\u001b[0m \u001b[0;34m\u001b[0m\u001b[0m\n\u001b[1;32m    338\u001b[0m \u001b[0;34m\u001b[0m\u001b[0m\n",
      "\u001b[0;32m~/anaconda3/envs/mothermachine/lib/python3.6/subprocess.py\u001b[0m in \u001b[0;36mrun\u001b[0;34m(input, timeout, check, *popenargs, **kwargs)\u001b[0m\n\u001b[1;32m    416\u001b[0m         \u001b[0;32mif\u001b[0m \u001b[0mcheck\u001b[0m \u001b[0;32mand\u001b[0m \u001b[0mretcode\u001b[0m\u001b[0;34m:\u001b[0m\u001b[0;34m\u001b[0m\u001b[0m\n\u001b[1;32m    417\u001b[0m             raise CalledProcessError(retcode, process.args,\n\u001b[0;32m--> 418\u001b[0;31m                                      output=stdout, stderr=stderr)\n\u001b[0m\u001b[1;32m    419\u001b[0m     \u001b[0;32mreturn\u001b[0m \u001b[0mCompletedProcess\u001b[0m\u001b[0;34m(\u001b[0m\u001b[0mprocess\u001b[0m\u001b[0;34m.\u001b[0m\u001b[0margs\u001b[0m\u001b[0;34m,\u001b[0m \u001b[0mretcode\u001b[0m\u001b[0;34m,\u001b[0m \u001b[0mstdout\u001b[0m\u001b[0;34m,\u001b[0m \u001b[0mstderr\u001b[0m\u001b[0;34m)\u001b[0m\u001b[0;34m\u001b[0m\u001b[0m\n\u001b[1;32m    420\u001b[0m \u001b[0;34m\u001b[0m\u001b[0m\n",
      "\u001b[0;31mCalledProcessError\u001b[0m: Command 'sbatch -p transfer -t 0-12:00 --wrap=\"rsync /n/files/SysBio/PAULSSON LAB/Daniel/Image_Data/test /n/scratch2/de64/for_sylvia/\"' returned non-zero exit status 1."
     ]
    }
   ],
   "source": [
    "import subprocess\n",
    "\n",
    "in_path = \"/n/files/SysBio/PAULSSON LAB/Daniel/Image_Data/test\"\n",
    "out_path = \"/n/scratch2/de64/for_sylvia/\"\n",
    "wrap_str = \"rsync \" + in_path + \" \" + out_path\n",
    "cmd_str = 'sbatch -p transfer -t 0-12:00 --wrap=\"' + wrap_str + '\"'\n",
    "\n",
    "subprocess.check_output(cmd_str,\n",
    "                shell=True)"
   ]
  },
  {
   "cell_type": "code",
   "execution_count": 6,
   "metadata": {},
   "outputs": [
    {
     "data": {
      "text/plain": [
       "'sbatch -p transfer -t 0-12:00 --wrap=\"rsync /n/files/SysBio/PAULSSON LAB/Daniel/Image_Data/2019-02-08_bacillus_mbm_top_s750_bottom /n/scratch2/de64/for_sylvia/\"'"
      ]
     },
     "execution_count": 6,
     "metadata": {},
     "output_type": "execute_result"
    }
   ],
   "source": [
    "cmd_str"
   ]
  },
  {
   "cell_type": "code",
   "execution_count": 11,
   "metadata": {},
   "outputs": [
    {
     "name": "stdout",
     "output_type": "stream",
     "text": [
      "sbatch: error: Batch job submission failed: User's group not permitted to use this partition\n"
     ]
    }
   ],
   "source": [
    "!sbatch -p transfer -t 0-12:00 --wrap=\"rsync /n/files/SysBio/PAULSSON\\LAB/Daniel/Image_Data/Bacillus_Project/test /n/scratch2/de64/for_sylvia/\""
   ]
  },
  {
   "cell_type": "markdown",
   "metadata": {},
   "source": [
    "#### Note: need to find a way to associate lanes from init barcoding snapshot with imaging lanes\n",
    "\n",
    "plan:\n",
    "- extract and segment (with phase) barcoding file\n",
    "- extract and segment experiemnt file\n",
    "- for both, note x positions of t=0 trenches\n",
    "- compare these values to map trenches to eachother..."
   ]
  },
  {
   "cell_type": "code",
   "execution_count": 11,
   "metadata": {},
   "outputs": [],
   "source": [
    "import h5py\n",
    "from matplotlib import pyplot as plt\n",
    "import numpy as np"
   ]
  },
  {
   "cell_type": "code",
   "execution_count": 12,
   "metadata": {},
   "outputs": [
    {
     "data": {
      "text/plain": [
       "array([1, 2])"
      ]
     },
     "execution_count": 12,
     "metadata": {},
     "output_type": "execute_result"
    }
   ],
   "source": [
    "np.array([1,2])[:]"
   ]
  },
  {
   "cell_type": "code",
   "execution_count": 22,
   "metadata": {},
   "outputs": [],
   "source": [
    "h5py_handle = h5py.File(\"/n/scratch2/de64/for_sylvia/timelapse/kymo/kymo_10.hdf5\",\"r\")"
   ]
  },
  {
   "cell_type": "code",
   "execution_count": 23,
   "metadata": {},
   "outputs": [
    {
     "data": {
      "text/plain": [
       "['0', '1']"
      ]
     },
     "execution_count": 23,
     "metadata": {},
     "output_type": "execute_result"
    }
   ],
   "source": [
    "list(h5py_handle.keys())"
   ]
  },
  {
   "cell_type": "code",
   "execution_count": 28,
   "metadata": {},
   "outputs": [],
   "source": [
    "top = h5py_handle[\"1/channel_Phase\"]"
   ]
  },
  {
   "cell_type": "code",
   "execution_count": 29,
   "metadata": {},
   "outputs": [],
   "source": [
    "# top = h5py_handle[\"channel_Phase\"]"
   ]
  },
  {
   "cell_type": "code",
   "execution_count": 30,
   "metadata": {},
   "outputs": [
    {
     "data": {
      "text/plain": [
       "<HDF5 dataset \"channel_Phase\": shape (83, 130, 20, 400), type \"<u2\">"
      ]
     },
     "execution_count": 30,
     "metadata": {},
     "output_type": "execute_result"
    }
   ],
   "source": [
    "top"
   ]
  },
  {
   "cell_type": "code",
   "execution_count": 31,
   "metadata": {},
   "outputs": [
    {
     "data": {
      "image/png": "[encoded data removed]",
      "text/plain": [
       "<Figure size 432x288 with 1 Axes>"
      ]
     },
     "metadata": {
      "needs_background": "light"
     },
     "output_type": "display_data"
    }
   ],
   "source": [
    "# plt.imshow(top[50,:,:,20])\n",
    "tr.tplot.plot_kymograph(top[10,:,:,0:20])"
   ]
  },
  {
   "cell_type": "code",
   "execution_count": 25,
   "metadata": {},
   "outputs": [],
   "source": [
    "def test_fn():\n",
    "    h5py_handle = h5py.File(\"/n/scratch2/de64/for_sylvia/timelapse/hdf5/fov_0.hdf5\",\"r\");\n",
    "    top = h5py_handle[\"channel_Phase\"];\n",
    "    test = top[:,:,0:50];\n",
    "    output2 = np.percentile(test,85,axis=1,interpolation='lower');\n",
    "    output3 = np.percentile(test,85,axis=1,interpolation='higher');\n",
    "    output4 = np.percentile(test,85,axis=1,interpolation='linear');\n",
    "    h5py_handle.close()"
   ]
  },
  {
   "cell_type": "code",
   "execution_count": 26,
   "metadata": {},
   "outputs": [
    {
     "name": "stdout",
     "output_type": "stream",
     "text": [
      "The line_profiler extension is already loaded. To reload it, use:\n",
      "  %reload_ext line_profiler\n"
     ]
    },
    {
     "data": {
      "text/plain": [
       "Timer unit: 1e-06 s\n",
       "\n",
       "Total time: 39.6359 s\n",
       "File: <ipython-input-25-1a56ceeb7df0>\n",
       "Function: test_fn at line 1\n",
       "\n",
       "Line #      Hits         Time  Per Hit   % Time  Line Contents\n",
       "==============================================================\n",
       "     1                                           def test_fn():\n",
       "     2         1       3147.0   3147.0      0.0      h5py_handle = h5py.File(\"/n/scratch2/de64/for_sylvia/timelapse/hdf5/fov_0.hdf5\",\"r\");\n",
       "     3         1        481.0    481.0      0.0      top = h5py_handle[\"channel_Phase\"];\n",
       "     4         1   20586913.0 20586913.0     51.9      test = top[:,:,0:50];\n",
       "     5         1    5080581.0 5080581.0     12.8      output2 = np.percentile(test,85,axis=1,interpolation='lower');\n",
       "     6         1    5942326.0 5942326.0     15.0      output3 = np.percentile(test,85,axis=1,interpolation='higher');\n",
       "     7         1    8021980.0 8021980.0     20.2      output4 = np.percentile(test,85,axis=1,interpolation='linear');\n",
       "     8         1        447.0    447.0      0.0      h5py_handle.close()"
      ]
     },
     "metadata": {},
     "output_type": "display_data"
    }
   ],
   "source": [
    "%load_ext line_profiler\n",
    "%lprun -f test_fn test_fn()"
   ]
  },
  {
   "cell_type": "code",
   "execution_count": 13,
   "metadata": {},
   "outputs": [
    {
     "ename": "AttributeError",
     "evalue": "'Dataset' object has no attribute 'index'",
     "output_type": "error",
     "traceback": [
      "\u001b[0;31m---------------------------------------------------------------------------\u001b[0m",
      "\u001b[0;31mAttributeError\u001b[0m                            Traceback (most recent call last)",
      "\u001b[0;32m<ipython-input-13-cca49fe7f8a1>\u001b[0m in \u001b[0;36m<module>\u001b[0;34m()\u001b[0m\n\u001b[0;32m----> 1\u001b[0;31m \u001b[0mtop\u001b[0m\u001b[0;34m.\u001b[0m\u001b[0mindex\u001b[0m\u001b[0;34m\u001b[0m\u001b[0m\n\u001b[0m",
      "\u001b[0;31mAttributeError\u001b[0m: 'Dataset' object has no attribute 'index'"
     ]
    }
   ],
   "source": []
  },
  {
   "cell_type": "code",
   "execution_count": 21,
   "metadata": {},
   "outputs": [
    {
     "name": "stdout",
     "output_type": "stream",
     "text": [
      "[slice(None, None, None), slice(None, None, None), slice(0, 50, None)]\n"
     ]
    }
   ],
   "source": [
    "h5py_handle = h5py.File(\"/n/scratch2/de64/for_sylvia/timelapse/hdf5/fov_0.hdf5\",\"r\");\n",
    "top = h5py_handle[\"channel_Phase\"];\n",
    "slc = [slice(None)] * len(top.shape)\n",
    "slc[2] = slice(0, 50)\n",
    "print(slc)\n",
    "test = top[tuple(slc)];\n",
    "h5py_handle.close()"
   ]
  },
  {
   "cell_type": "code",
   "execution_count": 22,
   "metadata": {},
   "outputs": [],
   "source": [
    "h5py_handle = h5py.File(\"/n/scratch2/de64/for_sylvia/timelapse/hdf5/fov_0.hdf5\",\"r\");\n",
    "top = h5py_handle[\"channel_Phase\"];\n",
    "test = top[:,:,range(0,50)];\n",
    "h5py_handle.close()"
   ]
  },
  {
   "cell_type": "code",
   "execution_count": 73,
   "metadata": {},
   "outputs": [],
   "source": [
    "h5py_handle = h5py.File(\"/n/scratch2/de64/for_sylvia/timelapse/hdf5/fov_0.hdf5\",\"r\");\n",
    "top = h5py_handle[\"channel_Phase\"];\n",
    "test = top[:,:,list(range(0,50))];\n",
    "h5py_handle.close()"
   ]
  },
  {
   "cell_type": "code",
   "execution_count": null,
   "metadata": {},
   "outputs": [],
   "source": [
    "h5py_handle = h5py.File(\"/n/scratch2/de64/for_sylvia/timelapse/hdf5/fov_0.hdf5\",\"r\");\n",
    "top = h5py_handle[\"channel_Phase\"];\n",
    "test = np.take(top, list(range(0,50)), axis=2)\n",
    "h5py_handle.close()"
   ]
  },
  {
   "cell_type": "code",
   "execution_count": null,
   "metadata": {},
   "outputs": [],
   "source": [
    "np.take(h5py_handle[\"channel_Phase\"], [1,2,3,4,5], axis=2) ##this operation is killing me"
   ]
  },
  {
   "cell_type": "code",
   "execution_count": 9,
   "metadata": {},
   "outputs": [
    {
     "data": {
      "text/plain": [
       "(2048, 2048, 20)"
      ]
     },
     "execution_count": 9,
     "metadata": {},
     "output_type": "execute_result"
    }
   ],
   "source": [
    "h5py_handle[\"channel_Phase\"][:,:,:20].shape"
   ]
  },
  {
   "cell_type": "code",
   "execution_count": 4,
   "metadata": {},
   "outputs": [],
   "source": [
    "h5py_handle.close()"
   ]
  },
  {
   "cell_type": "code",
   "execution_count": 8,
   "metadata": {},
   "outputs": [
    {
     "data": {
      "text/plain": [
       "<HDF5 dataset \"channel_YFP\": shape (85, 160, 20, 1), type \"<u2\">"
      ]
     },
     "execution_count": 8,
     "metadata": {},
     "output_type": "execute_result"
    }
   ],
   "source": [
    "h5py_handle[\"1/channel_YFP\"]"
   ]
  },
  {
   "cell_type": "code",
   "execution_count": 12,
   "metadata": {},
   "outputs": [],
   "source": [
    "h5py_handle.close()"
   ]
  },
  {
   "cell_type": "code",
   "execution_count": null,
   "metadata": {},
   "outputs": [],
   "source": []
  },
  {
   "cell_type": "code",
   "execution_count": 39,
   "metadata": {},
   "outputs": [],
   "source": [
    "testlist = [\"success\"]\n",
    "potato = \"fail\""
   ]
  },
  {
   "cell_type": "code",
   "execution_count": 43,
   "metadata": {},
   "outputs": [],
   "source": [
    "def test(potato, testlist):\n",
    "    exec(\"potato = testlist\")\n",
    "    return potato"
   ]
  },
  {
   "cell_type": "code",
   "execution_count": 44,
   "metadata": {},
   "outputs": [
    {
     "data": {
      "text/plain": [
       "'fail'"
      ]
     },
     "execution_count": 44,
     "metadata": {},
     "output_type": "execute_result"
    }
   ],
   "source": [
    "test(potato,[\"moo\"])"
   ]
  },
  {
   "cell_type": "code",
   "execution_count": 45,
   "metadata": {},
   "outputs": [
    {
     "data": {
      "text/plain": [
       "'fail'"
      ]
     },
     "execution_count": 45,
     "metadata": {},
     "output_type": "execute_result"
    }
   ],
   "source": [
    "potato"
   ]
  },
  {
   "cell_type": "code",
   "execution_count": 5,
   "metadata": {},
   "outputs": [],
   "source": [
    "h5py_handle = h5py.File(\"/n/scratch2/de64/for_sylvia/timelapse/hdf5/fov_0.hdf5\",\"r\")"
   ]
  },
  {
   "cell_type": "code",
   "execution_count": 6,
   "metadata": {},
   "outputs": [
    {
     "data": {
      "text/plain": [
       "(256, 256, 1)"
      ]
     },
     "execution_count": 6,
     "metadata": {},
     "output_type": "execute_result"
    }
   ],
   "source": [
    "h5py_handle[\"channel_Phase\"].chunks"
   ]
  },
  {
   "cell_type": "code",
   "execution_count": 7,
   "metadata": {},
   "outputs": [
    {
     "data": {
      "text/plain": [
       "<HDF5 dataset \"channel_Phase\": shape (2048, 2048, 648), type \"<u2\">"
      ]
     },
     "execution_count": 7,
     "metadata": {},
     "output_type": "execute_result"
    }
   ],
   "source": [
    "h5py_handle[\"channel_Phase\"]"
   ]
  },
  {
   "cell_type": "code",
   "execution_count": 32,
   "metadata": {},
   "outputs": [
    {
     "name": "stderr",
     "output_type": "stream",
     "text": [
      "/home/de64/anaconda3/envs/mothermachine/lib/python3.6/site-packages/ipykernel_launcher.py:1: FutureWarning: Using a non-tuple sequence for multidimensional indexing is deprecated; use `arr[tuple(seq)]` instead of `arr[seq]`. In the future this will be interpreted as an array index, `arr[np.array(seq)]`, which will result either in an error or a different result.\n",
      "  \"\"\"Entry point for launching an IPython kernel.\n"
     ]
    },
    {
     "data": {
      "text/plain": [
       "array([[[1., 1., 1., 1.],\n",
       "        [1., 1., 1., 1.],\n",
       "        [1., 1., 1., 1.]],\n",
       "\n",
       "       [[1., 1., 1., 1.],\n",
       "        [1., 1., 1., 1.],\n",
       "        [1., 1., 1., 1.]]])"
      ]
     },
     "execution_count": 32,
     "metadata": {},
     "output_type": "execute_result"
    }
   ],
   "source": [
    "target[slc]"
   ]
  },
  {
   "cell_type": "code",
   "execution_count": null,
   "metadata": {},
   "outputs": [],
   "source": []
  }
 ],
 "metadata": {
  "kernelspec": {
   "display_name": "Python 3",
   "language": "python",
   "name": "python3"
  },
  "language_info": {
   "codemirror_mode": {
    "name": "ipython",
    "version": 3
   },
   "file_extension": ".py",
   "mimetype": "text/x-python",
   "name": "python",
   "nbconvert_exporter": "python",
   "pygments_lexer": "ipython3",
   "version": "3.7.1"
  }
 },
 "nbformat": 4,
 "nbformat_minor": 2
}
