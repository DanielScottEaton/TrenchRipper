{
 "cells": [
  {
   "cell_type": "markdown",
   "metadata": {},
   "source": [
    "## Kymograph Cluster Code\n",
    "\n",
    "should I add a retry call by default?"
   ]
  },
  {
   "cell_type": "code",
   "execution_count": 1,
   "metadata": {},
   "outputs": [
    {
     "name": "stderr",
     "output_type": "stream",
     "text": [
      "/home/de64/anaconda3/envs/mothermachine/lib/python3.7/site-packages/dask/config.py:168: YAMLLoadWarning: calling yaml.load() without Loader=... is deprecated, as the default Loader is unsafe. Please read https://msg.pyyaml.org/load for full details.\n",
      "  data = yaml.load(f.read()) or {}\n",
      "/home/de64/anaconda3/envs/mothermachine/lib/python3.7/site-packages/distributed/config.py:20: YAMLLoadWarning: calling yaml.load() without Loader=... is deprecated, as the default Loader is unsafe. Please read https://msg.pyyaml.org/load for full details.\n",
      "  defaults = yaml.load(f)\n",
      "/home/de64/anaconda3/envs/mothermachine/lib/python3.7/site-packages/dask_jobqueue/config.py:12: YAMLLoadWarning: calling yaml.load() without Loader=... is deprecated, as the default Loader is unsafe. Please read https://msg.pyyaml.org/load for full details.\n",
      "  defaults = yaml.load(f)\n"
     ]
    }
   ],
   "source": [
    "import trenchripper as tr"
   ]
  },
  {
   "cell_type": "code",
   "execution_count": 3,
   "metadata": {},
   "outputs": [
    {
     "name": "stdout",
     "output_type": "stream",
     "text": [
      "Submitted batch job 41305444\n"
     ]
    }
   ],
   "source": [
    "!sbatch -p transfer -t 0-12:00 --wrap=\"rsync -r /n/files/SysBio/PAULSSON\\ LAB/Daniel/Image_Data/Bacillus_Project/2019-05-13_bacillus_training_data/ /n/scratch2/de64/2019-05-13_bacillus_training_data\""
   ]
  },
  {
   "cell_type": "markdown",
   "metadata": {},
   "source": [
    "#### Start Dask"
   ]
  },
  {
   "cell_type": "code",
   "execution_count": 2,
   "metadata": {},
   "outputs": [],
   "source": [
    "# kymo_controller = tr.cluster.dask_controller(walltime='04:00:00',local=False,n_workers=40,memory='2GB')\n",
    "kymo_controller = tr.cluster.dask_controller(walltime='04:00:00',local=False,n_workers=40,memory='4GB')\n",
    "kymo_controller.startdask()\n",
    "kymo_controller.daskcluster.start_workers()"
   ]
  },
  {
   "cell_type": "code",
   "execution_count": 3,
   "metadata": {},
   "outputs": [
    {
     "data": {
      "text/html": [
       "<table style=\"border: 2px solid white;\">\n",
       "<tr>\n",
       "<td style=\"vertical-align: top; border: 0px solid white\">\n",
       "<h3>Client</h3>\n",
       "<ul>\n",
       "  <li><b>Scheduler: </b>tcp://10.120.16.189:50206\n",
       "  <li><b>Dashboard: </b><a href='http://10.120.16.189:8787/status' target='_blank'>http://10.120.16.189:8787/status</a>\n",
       "</ul>\n",
       "</td>\n",
       "<td style=\"vertical-align: top; border: 0px solid white\">\n",
       "<h3>Cluster</h3>\n",
       "<ul>\n",
       "  <li><b>Workers: </b>0</li>\n",
       "  <li><b>Cores: </b>0</li>\n",
       "  <li><b>Memory: </b>0 B</li>\n",
       "</ul>\n",
       "</td>\n",
       "</tr>\n",
       "</table>"
      ],
      "text/plain": [
       "<Client: scheduler='tcp://10.120.16.189:50206' processes=0 cores=0>"
      ]
     },
     "execution_count": 3,
     "metadata": {},
     "output_type": "execute_result"
    }
   ],
   "source": [
    "kymo_controller.daskclient"
   ]
  },
  {
   "cell_type": "markdown",
   "metadata": {},
   "source": [
    "#### Perform Extraction"
   ]
  },
  {
   "cell_type": "code",
   "execution_count": 4,
   "metadata": {},
   "outputs": [
    {
     "name": "stderr",
     "output_type": "stream",
     "text": [
      "/home/de64/anaconda3/envs/mothermachine/lib/python3.7/site-packages/nd2reader/common_raw_metadata.py:94: RuntimeWarning: Reported average frame interval (426929.1 ms) doesn't match the set interval (900000.0 ms). Using the average now.\n",
      "  warnings.warn(message % (avg_interval, interval), RuntimeWarning)\n"
     ]
    }
   ],
   "source": [
    "# hdf5_extractor = tr.ndextract.hdf5_fov_extractor(\"/n/scratch2/de64/full_pipeline_test/40x_Ph2_Test_1.5.nd2\",\"/n/scratch2/de64/full_pipeline_test\")\n",
    "hdf5_extractor = tr.ndextract.hdf5_fov_extractor(\"/n/scratch2/de64/2019-05-13_bacillus_training_data/NDExp_Seq0000.nd2\",\"/n/scratch2/de64/2019-05-13_bacillus_training_data\")"
   ]
  },
  {
   "cell_type": "code",
   "execution_count": 5,
   "metadata": {},
   "outputs": [
    {
     "data": {
      "text/html": [
       "<div>\n",
       "<style scoped>\n",
       "    .dataframe tbody tr th:only-of-type {\n",
       "        vertical-align: middle;\n",
       "    }\n",
       "\n",
       "    .dataframe tbody tr th {\n",
       "        vertical-align: top;\n",
       "    }\n",
       "\n",
       "    .dataframe thead th {\n",
       "        text-align: right;\n",
       "    }\n",
       "</style>\n",
       "<table border=\"1\" class=\"dataframe\">\n",
       "  <thead>\n",
       "    <tr style=\"text-align: right;\">\n",
       "      <th></th>\n",
       "      <th>fov</th>\n",
       "      <th>t</th>\n",
       "      <th>x</th>\n",
       "      <th>y</th>\n",
       "      <th>z</th>\n",
       "    </tr>\n",
       "  </thead>\n",
       "  <tbody>\n",
       "    <tr>\n",
       "      <th>0</th>\n",
       "      <td>0</td>\n",
       "      <td>5.633044</td>\n",
       "      <td>7467.5</td>\n",
       "      <td>1414.8</td>\n",
       "      <td>5299.95</td>\n",
       "    </tr>\n",
       "    <tr>\n",
       "      <th>1</th>\n",
       "      <td>0</td>\n",
       "      <td>428.153476</td>\n",
       "      <td>7469.9</td>\n",
       "      <td>1414.8</td>\n",
       "      <td>5300.70</td>\n",
       "    </tr>\n",
       "    <tr>\n",
       "      <th>2</th>\n",
       "      <td>0</td>\n",
       "      <td>848.096212</td>\n",
       "      <td>7469.9</td>\n",
       "      <td>1414.8</td>\n",
       "      <td>5300.50</td>\n",
       "    </tr>\n",
       "    <tr>\n",
       "      <th>3</th>\n",
       "      <td>0</td>\n",
       "      <td>1268.186668</td>\n",
       "      <td>7469.8</td>\n",
       "      <td>1414.8</td>\n",
       "      <td>5300.40</td>\n",
       "    </tr>\n",
       "    <tr>\n",
       "      <th>4</th>\n",
       "      <td>0</td>\n",
       "      <td>1688.212492</td>\n",
       "      <td>7469.9</td>\n",
       "      <td>1414.7</td>\n",
       "      <td>5300.40</td>\n",
       "    </tr>\n",
       "  </tbody>\n",
       "</table>\n",
       "</div>"
      ],
      "text/plain": [
       "   fov            t       x       y        z\n",
       "0    0     5.633044  7467.5  1414.8  5299.95\n",
       "1    0   428.153476  7469.9  1414.8  5300.70\n",
       "2    0   848.096212  7469.9  1414.8  5300.50\n",
       "3    0  1268.186668  7469.8  1414.8  5300.40\n",
       "4    0  1688.212492  7469.9  1414.7  5300.40"
      ]
     },
     "execution_count": 5,
     "metadata": {},
     "output_type": "execute_result"
    }
   ],
   "source": [
    "hdf5_extractor.fov_metadata[:5]"
   ]
  },
  {
   "cell_type": "code",
   "execution_count": 6,
   "metadata": {},
   "outputs": [
    {
     "name": "stdout",
     "output_type": "stream",
     "text": [
      "[0, 1, 2, 3, 4, 5, 6, 7, 8, 9, 10, 11, 12, 13, 14, 15, 16, 17, 18, 19, 20, 21, 22, 23, 24, 25, 26, 27, 28, 29, 30, 31, 32, 33, 34, 35, 36, 37, 38, 39]\n"
     ]
    }
   ],
   "source": [
    "print(hdf5_extractor.exp_metadata['fields_of_view'])"
   ]
  },
  {
   "cell_type": "code",
   "execution_count": 10,
   "metadata": {},
   "outputs": [],
   "source": [
    "fov_list = list(range(0,40))"
   ]
  },
  {
   "cell_type": "code",
   "execution_count": 8,
   "metadata": {},
   "outputs": [
    {
     "name": "stderr",
     "output_type": "stream",
     "text": [
      "/home/de64/anaconda3/envs/mothermachine/lib/python3.7/site-packages/tables/path.py:157: NaturalNameWarning: object name is a Python keyword: 'global'; you will not be able to use natural naming to access this object; using ``getattr()`` will still work, though\n",
      "  check_attribute_name(name)\n"
     ]
    }
   ],
   "source": [
    "hdf5_extractor.writemetadata()"
   ]
  },
  {
   "cell_type": "code",
   "execution_count": 11,
   "metadata": {},
   "outputs": [],
   "source": [
    "kymo_controller.mapfovs(hdf5_extractor.extract_fov,fov_list)"
   ]
  },
  {
   "cell_type": "code",
   "execution_count": 24,
   "metadata": {},
   "outputs": [
    {
     "name": "stderr",
     "output_type": "stream",
     "text": [
      "WARNING:dask_jobqueue.core:Worker tcp://10.120.16.192:47389 restart in Job 41036629. This can be due to memory issue.\n",
      "WARNING:dask_jobqueue.core:Worker tcp://10.120.16.238:59406 restart in Job 41036660. This can be due to memory issue.\n",
      "WARNING:dask_jobqueue.core:Worker tcp://10.120.17.13:36845 restart in Job 41036636. This can be due to memory issue.\n",
      "WARNING:dask_jobqueue.core:Worker tcp://10.120.16.193:42747 restart in Job 41036632. This can be due to memory issue.\n",
      "WARNING:dask_jobqueue.core:Worker tcp://10.120.16.189:47752 restart in Job 41036631. This can be due to memory issue.\n",
      "WARNING:dask_jobqueue.core:Worker tcp://10.120.16.239:52595 restart in Job 41036659. This can be due to memory issue.\n",
      "WARNING:dask_jobqueue.core:Worker tcp://10.120.16.245:46080 restart in Job 41036655. This can be due to memory issue.\n",
      "WARNING:dask_jobqueue.core:Worker tcp://10.120.16.183:42397 restart in Job 41036649. This can be due to memory issue.\n",
      "WARNING:dask_jobqueue.core:Worker tcp://10.120.16.183:58800 restart in Job 41036637. This can be due to memory issue.\n",
      "WARNING:dask_jobqueue.core:Worker tcp://10.120.16.245:38052 restart in Job 41036634. This can be due to memory issue.\n",
      "WARNING:dask_jobqueue.core:Worker tcp://10.120.16.192:54058 restart in Job 41036629. This can be due to memory issue.\n",
      "WARNING:dask_jobqueue.core:Worker tcp://10.120.16.192:58676 restart in Job 41036652. This can be due to memory issue.\n",
      "WARNING:dask_jobqueue.core:Worker tcp://10.120.16.181:55185 restart in Job 41036641. This can be due to memory issue.\n",
      "WARNING:dask_jobqueue.core:Worker tcp://10.120.16.178:46838 restart in Job 41036622. This can be due to memory issue.\n",
      "WARNING:dask_jobqueue.core:Worker tcp://10.120.16.180:53593 restart in Job 41036656. This can be due to memory issue.\n",
      "WARNING:dask_jobqueue.core:Worker tcp://10.120.16.180:40666 restart in Job 41036623. This can be due to memory issue.\n",
      "WARNING:dask_jobqueue.core:Worker tcp://10.120.16.238:34166 restart in Job 41036660. This can be due to memory issue.\n",
      "WARNING:dask_jobqueue.core:Worker tcp://10.120.16.187:50945 restart in Job 41036624. This can be due to memory issue.\n",
      "WARNING:dask_jobqueue.core:Worker tcp://10.120.16.187:42383 restart in Job 41036642. This can be due to memory issue.\n",
      "WARNING:dask_jobqueue.core:Worker tcp://10.120.16.238:52216 restart in Job 41036633. This can be due to memory issue.\n",
      "WARNING:dask_jobqueue.core:Worker tcp://10.120.16.238:33487 restart in Job 41036644. This can be due to memory issue.\n",
      "WARNING:dask_jobqueue.core:Worker tcp://10.120.17.12:43292 restart in Job 41036651. This can be due to memory issue.\n",
      "WARNING:dask_jobqueue.core:Worker tcp://10.120.16.244:34522 restart in Job 41036654. This can be due to memory issue.\n",
      "WARNING:dask_jobqueue.core:Worker tcp://10.120.16.193:59542 restart in Job 41036653. This can be due to memory issue.\n",
      "WARNING:dask_jobqueue.core:Worker tcp://10.120.16.193:54655 restart in Job 41036632. This can be due to memory issue.\n",
      "WARNING:dask_jobqueue.core:Worker tcp://10.120.16.243:39533 restart in Job 41036625. This can be due to memory issue.\n",
      "WARNING:dask_jobqueue.core:Worker tcp://10.120.16.179:56907 restart in Job 41036647. This can be due to memory issue.\n",
      "WARNING:dask_jobqueue.core:Worker tcp://10.120.16.179:44499 restart in Job 41036648. This can be due to memory issue.\n",
      "WARNING:dask_jobqueue.core:Worker tcp://10.120.16.179:59783 restart in Job 41036657. This can be due to memory issue.\n",
      "WARNING:dask_jobqueue.core:Worker tcp://10.120.16.179:45589 restart in Job 41036658. This can be due to memory issue.\n",
      "WARNING:dask_jobqueue.core:Worker tcp://10.120.16.191:32939 restart in Job 41036628. This can be due to memory issue.\n",
      "WARNING:dask_jobqueue.core:Worker tcp://10.120.17.13:40766 restart in Job 41036636. This can be due to memory issue.\n",
      "WARNING:dask_jobqueue.core:Worker tcp://10.120.16.191:49641 restart in Job 41036639. This can be due to memory issue.\n",
      "WARNING:dask_jobqueue.core:Worker tcp://10.120.16.191:58039 restart in Job 41036640. This can be due to memory issue.\n",
      "WARNING:dask_jobqueue.core:Worker tcp://10.120.16.191:33622 restart in Job 41036643. This can be due to memory issue.\n",
      "WARNING:dask_jobqueue.core:Worker tcp://10.120.17.13:59035 restart in Job 41036630. This can be due to memory issue.\n",
      "WARNING:dask_jobqueue.core:Worker tcp://10.120.17.11:60479 restart in Job 41036635. This can be due to memory issue.\n",
      "WARNING:dask_jobqueue.core:Worker tcp://10.120.16.171:33667 restart in Job 41036645. This can be due to memory issue.\n",
      "WARNING:dask_jobqueue.core:Worker tcp://10.120.16.171:34277 restart in Job 41036646. This can be due to memory issue.\n",
      "WARNING:dask_jobqueue.core:Worker tcp://10.120.16.184:53269 restart in Job 41036638. This can be due to memory issue.\n",
      "WARNING:dask_jobqueue.core:Worker tcp://10.120.16.184:54043 restart in Job 41036650. This can be due to memory issue.\n",
      "WARNING:dask_jobqueue.core:Worker tcp://10.120.16.184:47109 restart in Job 41036626. This can be due to memory issue.\n",
      "WARNING:dask_jobqueue.core:Worker tcp://10.120.16.185:38462 restart in Job 41036627. This can be due to memory issue.\n",
      "WARNING:dask_jobqueue.core:Worker tcp://10.120.16.162:46266 restart in Job 41036620. This can be due to memory issue.\n",
      "WARNING:dask_jobqueue.core:Worker tcp://10.120.16.165:57301 restart in Job 41036621. This can be due to memory issue.\n"
     ]
    }
   ],
   "source": [
    "kymo_controller.retry_failed()"
   ]
  },
  {
   "cell_type": "code",
   "execution_count": 15,
   "metadata": {},
   "outputs": [
    {
     "name": "stderr",
     "output_type": "stream",
     "text": [
      "Worker tcp://10.120.16.160:42887 restart in Job 41609817. This can be due to memory issue.\n",
      "Worker tcp://10.120.16.160:56485 restart in Job 41609819. This can be due to memory issue.\n",
      "Worker tcp://10.120.16.160:43287 restart in Job 41609818. This can be due to memory issue.\n",
      "Worker tcp://10.120.16.155:53925 restart in Job 41609843. This can be due to memory issue.\n",
      "Worker tcp://10.120.16.78:47620 restart in Job 41609837. This can be due to memory issue.\n",
      "Worker tcp://10.120.16.193:50781 restart in Job 41609821. This can be due to memory issue.\n",
      "Worker tcp://10.120.17.9:48076 restart in Job 41609812. This can be due to memory issue.\n",
      "Worker tcp://10.120.16.243:54795 restart in Job 41609814. This can be due to memory issue.\n",
      "Worker tcp://10.120.16.243:38300 restart in Job 41609811. This can be due to memory issue.\n",
      "Worker tcp://10.120.16.136:55973 restart in Job 41609850. This can be due to memory issue.\n",
      "Worker tcp://10.120.16.136:33727 restart in Job 41609849. This can be due to memory issue.\n",
      "Worker tcp://10.120.17.56:44506 restart in Job 41609845. This can be due to memory issue.\n",
      "Worker tcp://10.120.16.35:33436 restart in Job 41609836. This can be due to memory issue.\n",
      "Worker tcp://10.120.17.82:33539 restart in Job 41609844. This can be due to memory issue.\n",
      "Worker tcp://10.120.16.190:56028 restart in Job 41609810. This can be due to memory issue.\n",
      "Worker tcp://10.120.17.95:60129 restart in Job 41609846. This can be due to memory issue.\n",
      "Worker tcp://10.120.16.188:37693 restart in Job 41609826. This can be due to memory issue.\n",
      "Worker tcp://10.120.17.11:60987 restart in Job 41609815. This can be due to memory issue.\n",
      "Worker tcp://10.120.17.11:36461 restart in Job 41609816. This can be due to memory issue.\n",
      "Worker tcp://10.120.17.13:40357 restart in Job 41609813. This can be due to memory issue.\n",
      "Worker tcp://10.120.16.97:50056 restart in Job 41609848. This can be due to memory issue.\n",
      "Worker tcp://10.120.16.97:55752 restart in Job 41609847. This can be due to memory issue.\n",
      "Worker tcp://10.120.16.85:46219 restart in Job 41609841. This can be due to memory issue.\n",
      "Worker tcp://10.120.16.192:36208 restart in Job 41609825. This can be due to memory issue.\n",
      "Worker tcp://10.120.16.192:51363 restart in Job 41609823. This can be due to memory issue.\n",
      "Worker tcp://10.120.16.192:55171 restart in Job 41609822. This can be due to memory issue.\n",
      "Worker tcp://10.120.16.192:52424 restart in Job 41609824. This can be due to memory issue.\n",
      "Worker tcp://10.120.16.242:54540 restart in Job 41609820. This can be due to memory issue.\n",
      "Worker tcp://10.120.16.163:58357 restart in Job 41609834. This can be due to memory issue.\n",
      "Worker tcp://10.120.16.164:37240 restart in Job 41609835. This can be due to memory issue.\n",
      "Worker tcp://10.120.16.188:46929 restart in Job 41609829. This can be due to memory issue.\n",
      "Worker tcp://10.120.16.188:60711 restart in Job 41609828. This can be due to memory issue.\n",
      "Worker tcp://10.120.16.188:51876 restart in Job 41609831. This can be due to memory issue.\n",
      "Worker tcp://10.120.16.188:33826 restart in Job 41609832. This can be due to memory issue.\n",
      "Worker tcp://10.120.16.167:36171 restart in Job 41609809. This can be due to memory issue.\n",
      "Worker tcp://10.120.16.188:40470 restart in Job 41609833. This can be due to memory issue.\n",
      "Worker tcp://10.120.16.188:37253 restart in Job 41609830. This can be due to memory issue.\n",
      "Worker tcp://10.120.16.188:56697 restart in Job 41609827. This can be due to memory issue.\n",
      "Worker tcp://10.120.17.14:56540 restart in Job 41609838. This can be due to memory issue.\n",
      "Worker tcp://10.120.17.14:40958 restart in Job 41609839. This can be due to memory issue.\n",
      "Worker tcp://10.120.16.94:43179 restart in Job 41609842. This can be due to memory issue.\n"
     ]
    }
   ],
   "source": [
    "kymo_controller.retry_processing()"
   ]
  },
  {
   "cell_type": "code",
   "execution_count": null,
   "metadata": {},
   "outputs": [],
   "source": [
    "# props = kymo_controller.daskclient.gather(kymo_controller.futures) #this will hang until all futures are done"
   ]
  },
  {
   "cell_type": "code",
   "execution_count": 9,
   "metadata": {},
   "outputs": [],
   "source": [
    "# hdf5_extractor.writemetadata()\n",
    "hdf5_extractor.extract_fov(4)"
   ]
  },
  {
   "cell_type": "code",
   "execution_count": 4,
   "metadata": {},
   "outputs": [],
   "source": [
    "# test = tr.utils.pandas_hdf5_handler(\"/n/scratch2/de64/full_pipeline_test/metadata.hdf5\")"
   ]
  },
  {
   "cell_type": "code",
   "execution_count": null,
   "metadata": {},
   "outputs": [],
   "source": []
  },
  {
   "cell_type": "markdown",
   "metadata": {},
   "source": [
    "#### End Dask, Cancel Jobs"
   ]
  },
  {
   "cell_type": "code",
   "execution_count": 12,
   "metadata": {},
   "outputs": [],
   "source": [
    "kymo_controller.shutdown()"
   ]
  },
  {
   "cell_type": "code",
   "execution_count": 1,
   "metadata": {},
   "outputs": [],
   "source": [
    "#scancel --name=dask-worker --user=de64"
   ]
  },
  {
   "cell_type": "markdown",
   "metadata": {},
   "source": [
    "#### Generate Kymographs"
   ]
  },
  {
   "cell_type": "markdown",
   "metadata": {},
   "source": [
    "#### Start Dask"
   ]
  },
  {
   "cell_type": "code",
   "execution_count": 2,
   "metadata": {},
   "outputs": [],
   "source": [
    "kymo_controller = tr.cluster.dask_controller(walltime='04:00:00',local=False,n_workers=40,memory='4GB')\n",
    "kymo_controller.startdask()\n",
    "kymo_controller.daskcluster.start_workers()"
   ]
  },
  {
   "cell_type": "code",
   "execution_count": 3,
   "metadata": {},
   "outputs": [
    {
     "data": {
      "text/html": [
       "<table style=\"border: 2px solid white;\">\n",
       "<tr>\n",
       "<td style=\"vertical-align: top; border: 0px solid white\">\n",
       "<h3>Client</h3>\n",
       "<ul>\n",
       "  <li><b>Scheduler: </b>tcp://10.120.16.182:44941\n",
       "  <li><b>Dashboard: </b><a href='http://10.120.16.182:8787/status' target='_blank'>http://10.120.16.182:8787/status</a>\n",
       "</ul>\n",
       "</td>\n",
       "<td style=\"vertical-align: top; border: 0px solid white\">\n",
       "<h3>Cluster</h3>\n",
       "<ul>\n",
       "  <li><b>Workers: </b>0</li>\n",
       "  <li><b>Cores: </b>0</li>\n",
       "  <li><b>Memory: </b>0 B</li>\n",
       "</ul>\n",
       "</td>\n",
       "</tr>\n",
       "</table>"
      ],
      "text/plain": [
       "<Client: scheduler='tcp://10.120.16.182:44941' processes=0 cores=0>"
      ]
     },
     "execution_count": 3,
     "metadata": {},
     "output_type": "execute_result"
    }
   ],
   "source": [
    "kymo_controller.daskclient"
   ]
  },
  {
   "cell_type": "code",
   "execution_count": 20,
   "metadata": {},
   "outputs": [
    {
     "name": "stderr",
     "output_type": "stream",
     "text": [
      "Worker tcp://10.120.16.245:37690 restart in Job 41036842. This can be due to memory issue.\n",
      "Worker tcp://10.120.16.245:42723 restart in Job 41036822. This can be due to memory issue.\n",
      "Worker tcp://10.120.17.15:52797 restart in Job 41036844. This can be due to memory issue.\n",
      "Worker tcp://10.120.16.162:52759 restart in Job 41036839. This can be due to memory issue.\n",
      "Worker tcp://10.120.16.192:53899 restart in Job 41036818. This can be due to memory issue.\n",
      "Worker tcp://10.120.16.240:53652 restart in Job 41036841. This can be due to memory issue.\n",
      "Worker tcp://10.120.16.170:39129 restart in Job 41036835. This can be due to memory issue.\n",
      "Worker tcp://10.120.16.170:42636 restart in Job 41036846. This can be due to memory issue.\n",
      "Worker tcp://10.120.16.42:46835 restart in Job 41036826. This can be due to memory issue.\n",
      "Worker tcp://10.120.17.11:39089 restart in Job 41036809. This can be due to memory issue.\n",
      "Worker tcp://10.120.16.171:38779 restart in Job 41036819. This can be due to memory issue.\n",
      "Worker tcp://10.120.16.152:54230 restart in Job 41036838. This can be due to memory issue.\n",
      "Worker tcp://10.120.16.166:54677 restart in Job 41036849. This can be due to memory issue.\n",
      "Worker tcp://10.120.16.166:34924 restart in Job 41036829. This can be due to memory issue.\n",
      "Worker tcp://10.120.16.191:36775 restart in Job 41036816. This can be due to memory issue.\n",
      "Worker tcp://10.120.16.244:38930 restart in Job 41036823. This can be due to memory issue.\n",
      "Worker tcp://10.120.16.244:40619 restart in Job 41036824. This can be due to memory issue.\n",
      "Worker tcp://10.120.17.14:51378 restart in Job 41036812. This can be due to memory issue.\n",
      "Worker tcp://10.120.17.16:39651 restart in Job 41036815. This can be due to memory issue.\n",
      "Worker tcp://10.120.17.16:33550 restart in Job 41036814. This can be due to memory issue.\n",
      "Worker tcp://10.120.17.14:49448 restart in Job 41036813. This can be due to memory issue.\n",
      "Worker tcp://10.120.17.13:47628 restart in Job 41036843. This can be due to memory issue.\n",
      "Worker tcp://10.120.17.9:50820 restart in Job 41036833. This can be due to memory issue.\n",
      "Worker tcp://10.120.17.12:54763 restart in Job 41036821. This can be due to memory issue.\n",
      "Worker tcp://10.120.16.165:35931 restart in Job 41036847. This can be due to memory issue.\n",
      "Worker tcp://10.120.16.160:49159 restart in Job 41036810. This can be due to memory issue.\n",
      "Worker tcp://10.120.16.160:55844 restart in Job 41036811. This can be due to memory issue.\n",
      "Worker tcp://10.120.16.165:47837 restart in Job 41036848. This can be due to memory issue.\n",
      "Worker tcp://10.120.16.185:43545 restart in Job 41036820. This can be due to memory issue.\n",
      "Worker tcp://10.120.16.185:40455 restart in Job 41036840. This can be due to memory issue.\n",
      "Worker tcp://10.120.16.185:45095 restart in Job 41036831. This can be due to memory issue.\n",
      "Worker tcp://10.120.16.96:41639 restart in Job 41036837. This can be due to memory issue.\n",
      "Worker tcp://10.120.16.169:33325 restart in Job 41036834. This can be due to memory issue.\n",
      "Worker tcp://10.120.16.169:53134 restart in Job 41036845. This can be due to memory issue.\n",
      "Worker tcp://10.120.16.35:53705 restart in Job 41036836. This can be due to memory issue.\n",
      "Worker tcp://10.120.16.58:38500 restart in Job 41036827. This can be due to memory issue.\n",
      "Worker tcp://10.120.16.192:39975 restart in Job 41036817. This can be due to memory issue.\n",
      "Worker tcp://10.120.16.40:56703 restart in Job 41036825. This can be due to memory issue.\n",
      "Worker tcp://10.120.16.178:48156 restart in Job 41036830. This can be due to memory issue.\n",
      "Worker tcp://10.120.16.239:50561 restart in Job 41036832. This can be due to memory issue.\n",
      "Worker tcp://10.120.16.62:54369 restart in Job 41036828. This can be due to memory issue.\n"
     ]
    },
    {
     "data": {
      "text/html": [
       "<table style=\"border: 2px solid white;\">\n",
       "<tr>\n",
       "<td style=\"vertical-align: top; border: 0px solid white\">\n",
       "<h3>Client</h3>\n",
       "<ul>\n",
       "  <li><b>Scheduler: </b>tcp://10.120.16.183:35598\n",
       "  <li><b>Dashboard: </b><a href='http://10.120.16.183:8787/status' target='_blank'>http://10.120.16.183:8787/status</a>\n",
       "</ul>\n",
       "</td>\n",
       "<td style=\"vertical-align: top; border: 0px solid white\">\n",
       "<h3>Cluster</h3>\n",
       "<ul>\n",
       "  <li><b>Workers: </b>41</li>\n",
       "  <li><b>Cores: </b>41</li>\n",
       "  <li><b>Memory: </b>164.00 GB</li>\n",
       "</ul>\n",
       "</td>\n",
       "</tr>\n",
       "</table>"
      ],
      "text/plain": [
       "<Client: scheduler='tcp://10.120.16.183:35598' processes=40 cores=40>"
      ]
     },
     "execution_count": 20,
     "metadata": {},
     "output_type": "execute_result"
    }
   ],
   "source": [
    "kymo_controller.daskclient.restart()"
   ]
  },
  {
   "cell_type": "code",
   "execution_count": 18,
   "metadata": {},
   "outputs": [],
   "source": [
    "# headpath = \"/n/scratch2/de64/full_pipeline_test\"\n",
    "# all_channels = [\"channel_RFP\",\"channel_BF\"]\n",
    "\n",
    "# kymo = tr.kymograph.kychunker(headpath=headpath,all_channels=all_channels,trench_len_y=270,padding_y=40,trench_width_x=30,\\\n",
    "#                  t_chunk=25,t_range=(0,-1),y_percentile=90,y_min_edge_dist=80,smoothing_kernel_y=(17,1),triangle_nbins=50,triangle_scaling=1.60,\\\n",
    "#                  expected_num_rows=2,orientation_detection=0,x_percentile=95,background_kernel_x=(21,1),smoothing_kernel_x=(9,1),otsu_nbins=50,otsu_scaling=0.7)\n",
    "\n",
    "\n",
    "headpath = \"/n/scratch2/de64/2019-05-13_bacillus_training_data/\"\n",
    "all_channels = [\"channel_RFP\",\"channel_Phase\"]\n",
    "\n",
    "kymo = tr.kymograph.kychunker(headpath=headpath,all_channels=all_channels,trench_len_y=200,padding_y=20,trench_width_x=20,\\\n",
    "                 t_chunk=100,t_range=(0,-1),y_percentile=60,y_min_edge_dist=80,smoothing_kernel_y=(17,1),triangle_nbins=50,triangle_scaling=1.1,\\\n",
    "                 expected_num_rows=2,orientation_detection=0,orientation_on_fail=1,x_percentile=99,background_kernel_x=(21,1),smoothing_kernel_x=(9,1),otsu_nbins=50,otsu_scaling=0.25)"
   ]
  },
  {
   "cell_type": "code",
   "execution_count": null,
   "metadata": {},
   "outputs": [],
   "source": [
    "# Y Percentile 60\n",
    "# Y Smoothing Kernel 17\n",
    "# Triangle Trheshold Bins 50\n",
    "# Triangle Threshold Scaling 1.1\n",
    "# Minimum Trench Length 50\n",
    "# Y Padding 20\n",
    "# Trench Length 200\n",
    "# Orientation Detection Method 0\n",
    "# Expected Number of Rows (Manual Orientation Detection) 2\n",
    "# Top Orientation when Row Drifts Out (Manual Orientation Detection) 0\n",
    "# X Percentile 99\n",
    "# X Background Kernel 21\n",
    "# X Smoothing Kernel 9\n",
    "# Otsu Trheshold Bins 50\n",
    "# Otsu Threshold Scaling 0.33\n",
    "# Trench Width 26"
   ]
  },
  {
   "cell_type": "code",
   "execution_count": 20,
   "metadata": {},
   "outputs": [],
   "source": [
    "# fov_list = list(range(0,80))\n",
    "fov_list = list(range(0,40))"
   ]
  },
  {
   "cell_type": "code",
   "execution_count": 21,
   "metadata": {},
   "outputs": [],
   "source": [
    "kymo_controller.mapfovs(kymo.generate_kymograph,fov_list,retries=1)"
   ]
  },
  {
   "cell_type": "code",
   "execution_count": 19,
   "metadata": {},
   "outputs": [
    {
     "name": "stderr",
     "output_type": "stream",
     "text": [
      "Worker tcp://10.120.17.15:43808 restart in Job 41036844. This can be due to memory issue.\n",
      "Worker tcp://10.120.16.162:54276 restart in Job 41036839. This can be due to memory issue.\n",
      "Worker tcp://10.120.16.240:49237 restart in Job 41036841. This can be due to memory issue.\n",
      "Worker tcp://10.120.16.239:44172 restart in Job 41036832. This can be due to memory issue.\n",
      "Worker tcp://10.120.16.245:46225 restart in Job 41036842. This can be due to memory issue.\n",
      "Worker tcp://10.120.16.245:44293 restart in Job 41036822. This can be due to memory issue.\n",
      "Worker tcp://10.120.16.192:45802 restart in Job 41036818. This can be due to memory issue.\n",
      "Worker tcp://10.120.16.192:44079 restart in Job 41036817. This can be due to memory issue.\n",
      "Worker tcp://10.120.16.178:34030 restart in Job 41036830. This can be due to memory issue.\n",
      "Worker tcp://10.120.16.169:48143 restart in Job 41036834. This can be due to memory issue.\n",
      "Worker tcp://10.120.16.169:44339 restart in Job 41036845. This can be due to memory issue.\n",
      "Worker tcp://10.120.16.165:44442 restart in Job 41036848. This can be due to memory issue.\n",
      "Worker tcp://10.120.16.165:51672 restart in Job 41036847. This can be due to memory issue.\n",
      "Worker tcp://10.120.16.96:57664 restart in Job 41036837. This can be due to memory issue.\n",
      "Worker tcp://10.120.16.58:54236 restart in Job 41036827. This can be due to memory issue.\n",
      "Worker tcp://10.120.16.185:38160 restart in Job 41036840. This can be due to memory issue.\n",
      "Worker tcp://10.120.16.185:33090 restart in Job 41036820. This can be due to memory issue.\n",
      "Worker tcp://10.120.16.185:41455 restart in Job 41036831. This can be due to memory issue.\n",
      "Worker tcp://10.120.16.40:50790 restart in Job 41036825. This can be due to memory issue.\n",
      "Worker tcp://10.120.16.166:38174 restart in Job 41036849. This can be due to memory issue.\n",
      "Worker tcp://10.120.16.166:60549 restart in Job 41036829. This can be due to memory issue.\n",
      "Worker tcp://10.120.17.13:45090 restart in Job 41036843. This can be due to memory issue.\n",
      "Worker tcp://10.120.16.152:56652 restart in Job 41036838. This can be due to memory issue.\n",
      "Worker tcp://10.120.17.11:36076 restart in Job 41036809. This can be due to memory issue.\n",
      "Worker tcp://10.120.16.35:40460 restart in Job 41036836. This can be due to memory issue.\n",
      "Worker tcp://10.120.17.16:54966 restart in Job 41036815. This can be due to memory issue.\n",
      "Worker tcp://10.120.17.16:59942 restart in Job 41036814. This can be due to memory issue.\n",
      "Worker tcp://10.120.17.14:39369 restart in Job 41036812. This can be due to memory issue.\n",
      "Worker tcp://10.120.17.14:53027 restart in Job 41036813. This can be due to memory issue.\n",
      "Worker tcp://10.120.16.191:55930 restart in Job 41036816. This can be due to memory issue.\n",
      "Worker tcp://10.120.17.12:41496 restart in Job 41036821. This can be due to memory issue.\n",
      "Worker tcp://10.120.16.160:45877 restart in Job 41036811. This can be due to memory issue.\n",
      "Worker tcp://10.120.16.244:47224 restart in Job 41036823. This can be due to memory issue.\n",
      "Worker tcp://10.120.16.160:53441 restart in Job 41036810. This can be due to memory issue.\n",
      "Worker tcp://10.120.17.9:47410 restart in Job 41036833. This can be due to memory issue.\n",
      "Worker tcp://10.120.16.170:53204 restart in Job 41036846. This can be due to memory issue.\n",
      "Worker tcp://10.120.16.42:54117 restart in Job 41036826. This can be due to memory issue.\n",
      "Worker tcp://10.120.16.171:41849 restart in Job 41036819. This can be due to memory issue.\n",
      "Worker tcp://10.120.16.244:41289 restart in Job 41036824. This can be due to memory issue.\n",
      "Worker tcp://10.120.16.170:46508 restart in Job 41036835. This can be due to memory issue.\n",
      "Worker tcp://10.120.16.62:55353 restart in Job 41036828. This can be due to memory issue.\n"
     ]
    }
   ],
   "source": [
    "kymo_controller.retry_failed()"
   ]
  },
  {
   "cell_type": "code",
   "execution_count": 22,
   "metadata": {},
   "outputs": [
    {
     "name": "stdout",
     "output_type": "stream",
     "text": [
      "fovs processed: 35/40\n",
      "lanes processed: 70\n",
      "trenches processed: 5739\n",
      "lanes/fov: 2.0\n",
      "trenches/fov: 163.97142857142856\n",
      "failed fovs: [36, 39, 12, 17, 27]\n"
     ]
    }
   ],
   "source": [
    "kymo.collect_metadata(fov_list,use_archive=False,overwrite_archive=True)"
   ]
  },
  {
   "cell_type": "code",
   "execution_count": 4,
   "metadata": {},
   "outputs": [
    {
     "name": "stdout",
     "output_type": "stream",
     "text": [
      "fovs processed: 79/80\n",
      "lanes processed: 136\n",
      "trenches processed: 7507\n",
      "lanes/fov: 1.7215189873417722\n",
      "trenches/fov: 95.0253164556962\n",
      "failed fovs: [77]\n"
     ]
    }
   ],
   "source": [
    "kymo.collect_metadata(fov_list,use_archive=True,overwrite_archive=False)"
   ]
  },
  {
   "cell_type": "markdown",
   "metadata": {},
   "source": [
    "maybe an estimate of memory usage"
   ]
  },
  {
   "cell_type": "code",
   "execution_count": 19,
   "metadata": {},
   "outputs": [
    {
     "name": "stderr",
     "output_type": "stream",
     "text": [
      "/home/de64/TrenchRipper/trenchripper/utils.py:294: UserWarning: Pandas doesn't allow columns to be created via a new attribute name - see https://pandas.pydata.org/pandas-docs/stable/indexing.html#attribute-access\n",
      "  df.metadata = store.get_storer(key).attrs.metadata\n"
     ]
    }
   ],
   "source": [
    "kymo.generate_kymograph(0)"
   ]
  },
  {
   "cell_type": "code",
   "execution_count": 1,
   "metadata": {},
   "outputs": [],
   "source": [
    "import h5py\n",
    "from matplotlib import pyplot as plt"
   ]
  },
  {
   "cell_type": "code",
   "execution_count": 8,
   "metadata": {},
   "outputs": [
    {
     "name": "stdout",
     "output_type": "stream",
     "text": [
      "12\n",
      "63\n"
     ]
    }
   ],
   "source": [
    "# for fov in fov_list:\n",
    "for fov in [12,63]:\n",
    "    print(fov)\n",
    "    with h5py.File(\"/n/scratch2/de64/full_pipeline_test/hdf5/fov_\"+str(fov)+\".hdf5\") as testfile:\n",
    "        data = testfile['channel_RFP']\n",
    "        arr = data[:,:,0]"
   ]
  },
  {
   "cell_type": "code",
   "execution_count": 7,
   "metadata": {},
   "outputs": [
    {
     "data": {
      "text/plain": [
       "(2048,)"
      ]
     },
     "execution_count": 7,
     "metadata": {},
     "output_type": "execute_result"
    }
   ],
   "source": [
    "arr.shape"
   ]
  },
  {
   "cell_type": "code",
   "execution_count": 6,
   "metadata": {},
   "outputs": [
    {
     "data": {
      "text/plain": [
       "array([1, 3, 4])"
      ]
     },
     "execution_count": 6,
     "metadata": {},
     "output_type": "execute_result"
    }
   ],
   "source": [
    "import numpy as np\n",
    "arr = np.array([1,2,3,4])\n",
    "arr[np.array([0,2,3])]"
   ]
  },
  {
   "cell_type": "code",
   "execution_count": 1,
   "metadata": {},
   "outputs": [],
   "source": [
    "import pandas as pd"
   ]
  },
  {
   "cell_type": "code",
   "execution_count": 46,
   "metadata": {},
   "outputs": [
    {
     "name": "stderr",
     "output_type": "stream",
     "text": [
      "/home/de64/TrenchRipper/trenchripper/utils.py:293: UserWarning: Pandas doesn't allow columns to be created via a new attribute name - see https://pandas.pydata.org/pandas-docs/stable/indexing.html#attribute-access\n",
      "  df.metadata = store.get_storer(key).attrs.metadata\n"
     ]
    }
   ],
   "source": [
    "meta_handle = tr.utils.pandas_hdf5_handler(\"/n/scratch2/de64/2019-05-10_bacillus_training_data/metadata.hdf5\")\n",
    "global_meta = meta_handle.read_df(\"global\",read_metadata=True)"
   ]
  },
  {
   "cell_type": "code",
   "execution_count": 47,
   "metadata": {},
   "outputs": [
    {
     "data": {
      "text/plain": [
       "{'height': 2048,\n",
       " 'width': 2048,\n",
       " 'date': datetime.datetime(2019, 5, 11, 11, 3, 13),\n",
       " 'fields_of_view': [0,\n",
       "  1,\n",
       "  2,\n",
       "  3,\n",
       "  4,\n",
       "  5,\n",
       "  6,\n",
       "  7,\n",
       "  8,\n",
       "  9,\n",
       "  10,\n",
       "  11,\n",
       "  12,\n",
       "  13,\n",
       "  14,\n",
       "  15,\n",
       "  16,\n",
       "  17,\n",
       "  18,\n",
       "  19,\n",
       "  20,\n",
       "  21,\n",
       "  22,\n",
       "  23,\n",
       "  24,\n",
       "  25,\n",
       "  26,\n",
       "  27,\n",
       "  28,\n",
       "  29,\n",
       "  30,\n",
       "  31,\n",
       "  32,\n",
       "  33,\n",
       "  34,\n",
       "  35,\n",
       "  36,\n",
       "  37,\n",
       "  38,\n",
       "  39],\n",
       " 'frames': [0,\n",
       "  1,\n",
       "  2,\n",
       "  3,\n",
       "  4,\n",
       "  5,\n",
       "  6,\n",
       "  7,\n",
       "  8,\n",
       "  9,\n",
       "  10,\n",
       "  11,\n",
       "  12,\n",
       "  13,\n",
       "  14,\n",
       "  15,\n",
       "  16,\n",
       "  17,\n",
       "  18,\n",
       "  19,\n",
       "  20,\n",
       "  21,\n",
       "  22,\n",
       "  23,\n",
       "  24,\n",
       "  25,\n",
       "  26,\n",
       "  27,\n",
       "  28,\n",
       "  29,\n",
       "  30,\n",
       "  31,\n",
       "  32,\n",
       "  33,\n",
       "  34,\n",
       "  35,\n",
       "  36,\n",
       "  37,\n",
       "  38,\n",
       "  39,\n",
       "  40,\n",
       "  41,\n",
       "  42,\n",
       "  43,\n",
       "  44,\n",
       "  45,\n",
       "  46,\n",
       "  47,\n",
       "  48,\n",
       "  49,\n",
       "  50,\n",
       "  51,\n",
       "  52,\n",
       "  53,\n",
       "  54,\n",
       "  55,\n",
       "  56,\n",
       "  57,\n",
       "  58,\n",
       "  59,\n",
       "  60,\n",
       "  61,\n",
       "  62,\n",
       "  63,\n",
       "  64,\n",
       "  65,\n",
       "  66,\n",
       "  67,\n",
       "  68,\n",
       "  69,\n",
       "  70,\n",
       "  71,\n",
       "  72,\n",
       "  73,\n",
       "  74],\n",
       " 'z_levels': [],\n",
       " 'total_images_per_channel': 3000,\n",
       " 'channels': ['Phase', 'RFP'],\n",
       " 'pixel_microns': 0.161563668819371,\n",
       " 'num_frames': 75,\n",
       " 'experiment': {'description': '',\n",
       "  'loops': [{'start': 0,\n",
       "    'duration': 43200000.0,\n",
       "    'stimulation': False,\n",
       "    'sampling_interval': 1.1126075504340058e-306}]},\n",
       " 'num_fovs': 40,\n",
       " 'settings': {'Phase': {'camera_name': 'Andor Zyla VSC-04365',\n",
       "   'obj_settings': {'wsObjectiveName': 'Plan Apo λ 40x Ph2 DM',\n",
       "    'dObjectiveMag': 40.0,\n",
       "    'dObjectiveNA': 0.95,\n",
       "    'dRefractIndex': 1.0},\n",
       "   'Camera_Type': 'Andor_Zyla',\n",
       "   'Binning': '1x1',\n",
       "   'Exposure': '25_ms',\n",
       "   'Readout_Mode': 'Rolling_shutter_at_16-bit',\n",
       "   'Readout_Rate': '200_MHz_',\n",
       "   'Conversion_Gain': 'Dual_Gain_1/4',\n",
       "   'Spurious_Noise_Filter': 'on',\n",
       "   'Sensor_Mode': 'Normal',\n",
       "   'Trigger_Mode': 'Internal',\n",
       "   'Temperature': '1.0°C'},\n",
       "  'RFP': {'camera_name': 'Andor Zyla VSC-04365',\n",
       "   'obj_settings': {'wsObjectiveName': 'Plan Apo λ 40x Ph2 DM',\n",
       "    'dObjectiveMag': 40.0,\n",
       "    'dObjectiveNA': 0.95,\n",
       "    'dRefractIndex': 1.0},\n",
       "   'Camera_Type': 'Andor_Zyla',\n",
       "   'Binning': '1x1',\n",
       "   'Exposure': '25_ms',\n",
       "   'Readout_Mode': 'Rolling_shutter_at_16-bit',\n",
       "   'Readout_Rate': '200_MHz_',\n",
       "   'Conversion_Gain': 'Dual_Gain_1/4',\n",
       "   'Spurious_Noise_Filter': 'on',\n",
       "   'Sensor_Mode': 'Normal',\n",
       "   'Trigger_Mode': 'Internal',\n",
       "   'Temperature': '1.0°C'}}}"
      ]
     },
     "execution_count": 47,
     "metadata": {},
     "output_type": "execute_result"
    }
   ],
   "source": [
    "global_meta.metadata"
   ]
  },
  {
   "cell_type": "code",
   "execution_count": 16,
   "metadata": {},
   "outputs": [
    {
     "data": {
      "text/plain": [
       "<matplotlib.image.AxesImage at 0x7f1e84c587b8>"
      ]
     },
     "execution_count": 16,
     "metadata": {},
     "output_type": "execute_result"
    },
    {
     "data": {
      "image/png": "[encoded data removed]",
      "text/plain": [
       "<Figure size 432x288 with 1 Axes>"
      ]
     },
     "metadata": {
      "needs_background": "light"
     },
     "output_type": "display_data"
    }
   ],
   "source": [
    "kymo_handle = tr.utils.kymo_handle()\n",
    "kymo_handle.import_wrap(h5py_handle[\"0/channel_RFP\"][39])\n",
    "plt.imshow(kymo_handle.return_unwrap())"
   ]
  },
  {
   "cell_type": "markdown",
   "metadata": {},
   "source": [
    "#### Generate Segmentation"
   ]
  },
  {
   "cell_type": "markdown",
   "metadata": {},
   "source": [
    "#### Start Dask"
   ]
  },
  {
   "cell_type": "code",
   "execution_count": 4,
   "metadata": {},
   "outputs": [],
   "source": [
    "kymo_controller = tr.cluster.dask_controller(walltime='01:00:00',local=False,n_workers=80,memory='1GB')\n",
    "kymo_controller.startdask()\n",
    "kymo_controller.daskcluster.start_workers()"
   ]
  },
  {
   "cell_type": "code",
   "execution_count": 5,
   "metadata": {},
   "outputs": [
    {
     "data": {
      "text/html": [
       "<table style=\"border: 2px solid white;\">\n",
       "<tr>\n",
       "<td style=\"vertical-align: top; border: 0px solid white\">\n",
       "<h3>Client</h3>\n",
       "<ul>\n",
       "  <li><b>Scheduler: </b>tcp://10.120.16.182:49411\n",
       "  <li><b>Dashboard: </b><a href='http://10.120.16.182:8787/status' target='_blank'>http://10.120.16.182:8787/status</a>\n",
       "</ul>\n",
       "</td>\n",
       "<td style=\"vertical-align: top; border: 0px solid white\">\n",
       "<h3>Cluster</h3>\n",
       "<ul>\n",
       "  <li><b>Workers: </b>13</li>\n",
       "  <li><b>Cores: </b>13</li>\n",
       "  <li><b>Memory: </b>13.00 GB</li>\n",
       "</ul>\n",
       "</td>\n",
       "</tr>\n",
       "</table>"
      ],
      "text/plain": [
       "<Client: scheduler='tcp://10.120.16.182:49411' processes=13 cores=13>"
      ]
     },
     "execution_count": 5,
     "metadata": {},
     "output_type": "execute_result"
    }
   ],
   "source": [
    "kymo_controller.daskclient"
   ]
  },
  {
   "cell_type": "code",
   "execution_count": 23,
   "metadata": {},
   "outputs": [
    {
     "name": "stderr",
     "output_type": "stream",
     "text": [
      "Worker tcp://10.120.17.14:40958 restart in Job 41609839. This can be due to memory issue.\n",
      "Worker tcp://10.120.16.155:53925 restart in Job 41609843. This can be due to memory issue.\n",
      "Worker tcp://10.120.16.188:51876 restart in Job 41609831. This can be due to memory issue.\n",
      "Worker tcp://10.120.16.188:33826 restart in Job 41609832. This can be due to memory issue.\n",
      "Worker tcp://10.120.16.94:43179 restart in Job 41609842. This can be due to memory issue.\n",
      "Worker tcp://10.120.16.190:44899 restart in Job 41609810. This can be due to memory issue.\n",
      "Worker tcp://10.120.16.155:58305 restart in Job 41609843. This can be due to memory issue.\n",
      "Worker tcp://10.120.17.95:33322 restart in Job 41609846. This can be due to memory issue.\n",
      "Worker tcp://10.120.16.193:56620 restart in Job 41609821. This can be due to memory issue.\n",
      "Worker tcp://10.120.16.243:47095 restart in Job 41609811. This can be due to memory issue.\n",
      "Worker tcp://10.120.16.243:55645 restart in Job 41609814. This can be due to memory issue.\n",
      "Worker tcp://10.120.16.160:56228 restart in Job 41609819. This can be due to memory issue.\n",
      "Worker tcp://10.120.16.160:41654 restart in Job 41609818. This can be due to memory issue.\n",
      "Worker tcp://10.120.16.160:55542 restart in Job 41609817. This can be due to memory issue.\n",
      "Worker tcp://10.120.17.14:57369 restart in Job 41609839. This can be due to memory issue.\n",
      "Worker tcp://10.120.17.14:33221 restart in Job 41609838. This can be due to memory issue.\n",
      "Worker tcp://10.120.16.136:48737 restart in Job 41609850. This can be due to memory issue.\n",
      "Worker tcp://10.120.16.136:33045 restart in Job 41609849. This can be due to memory issue.\n",
      "Worker tcp://10.120.16.242:56279 restart in Job 41609820. This can be due to memory issue.\n",
      "Worker tcp://10.120.17.9:51979 restart in Job 41609812. This can be due to memory issue.\n",
      "Worker tcp://10.120.16.78:33979 restart in Job 41609837. This can be due to memory issue.\n",
      "Worker tcp://10.120.17.56:44211 restart in Job 41609845. This can be due to memory issue.\n",
      "Worker tcp://10.120.16.192:46512 restart in Job 41609822. This can be due to memory issue.\n",
      "Worker tcp://10.120.16.192:50249 restart in Job 41609823. This can be due to memory issue.\n",
      "Worker tcp://10.120.16.163:47634 restart in Job 41609834. This can be due to memory issue.\n",
      "Worker tcp://10.120.16.97:50439 restart in Job 41609848. This can be due to memory issue.\n",
      "Worker tcp://10.120.16.97:35262 restart in Job 41609847. This can be due to memory issue.\n",
      "Worker tcp://10.120.16.192:37783 restart in Job 41609825. This can be due to memory issue.\n",
      "Worker tcp://10.120.16.192:35391 restart in Job 41609824. This can be due to memory issue.\n",
      "Worker tcp://10.120.17.11:60857 restart in Job 41609816. This can be due to memory issue.\n",
      "Worker tcp://10.120.17.82:34251 restart in Job 41609844. This can be due to memory issue.\n",
      "Worker tcp://10.120.17.11:44906 restart in Job 41609815. This can be due to memory issue.\n",
      "Worker tcp://10.120.17.13:52408 restart in Job 41609813. This can be due to memory issue.\n",
      "Worker tcp://10.120.16.35:53787 restart in Job 41609836. This can be due to memory issue.\n",
      "Worker tcp://10.120.16.188:42159 restart in Job 41609829. This can be due to memory issue.\n",
      "Worker tcp://10.120.16.188:37832 restart in Job 41609830. This can be due to memory issue.\n",
      "Worker tcp://10.120.16.188:51661 restart in Job 41609826. This can be due to memory issue.\n",
      "Worker tcp://10.120.16.188:55947 restart in Job 41609828. This can be due to memory issue.\n",
      "Worker tcp://10.120.16.188:47422 restart in Job 41609833. This can be due to memory issue.\n",
      "Worker tcp://10.120.16.188:55991 restart in Job 41609827. This can be due to memory issue.\n",
      "Worker tcp://10.120.16.188:39466 restart in Job 41609832. This can be due to memory issue.\n",
      "Worker tcp://10.120.16.188:49946 restart in Job 41609831. This can be due to memory issue.\n",
      "Worker tcp://10.120.16.164:34487 restart in Job 41609835. This can be due to memory issue.\n",
      "Worker tcp://10.120.16.167:39857 restart in Job 41609809. This can be due to memory issue.\n",
      "Worker tcp://10.120.16.85:45306 restart in Job 41609841. This can be due to memory issue.\n",
      "distributed.client - ERROR - Restart timed out after 6.000000 seconds\n"
     ]
    },
    {
     "data": {
      "text/html": [
       "<table style=\"border: 2px solid white;\">\n",
       "<tr>\n",
       "<td style=\"vertical-align: top; border: 0px solid white\">\n",
       "<h3>Client</h3>\n",
       "<ul>\n",
       "  <li><b>Scheduler: </b>tcp://10.120.16.189:50206\n",
       "  <li><b>Dashboard: </b><a href='http://10.120.16.189:8787/status' target='_blank'>http://10.120.16.189:8787/status</a>\n",
       "</ul>\n",
       "</td>\n",
       "<td style=\"vertical-align: top; border: 0px solid white\">\n",
       "<h3>Cluster</h3>\n",
       "<ul>\n",
       "  <li><b>Workers: </b>40</li>\n",
       "  <li><b>Cores: </b>40</li>\n",
       "  <li><b>Memory: </b>160.00 GB</li>\n",
       "</ul>\n",
       "</td>\n",
       "</tr>\n",
       "</table>"
      ],
      "text/plain": [
       "<Client: scheduler='tcp://10.120.16.189:50206' processes=40 cores=40>"
      ]
     },
     "execution_count": 23,
     "metadata": {},
     "output_type": "execute_result"
    },
    {
     "name": "stderr",
     "output_type": "stream",
     "text": [
      "distributed.scheduler - ERROR - Nannies didn't report back restarted within timeout.  Continuuing with restart process\n",
      "tornado.application - ERROR - Exception in Future <Future finished exception=CommClosedError(\"in <closed TCP>: Stream is closed: while trying to call remote method 'restart'\")> after timeout\n",
      "Traceback (most recent call last):\n",
      "  File \"/home/de64/anaconda3/envs/mothermachine/lib/python3.7/site-packages/distributed/comm/tcp.py\", line 181, in read\n",
      "    n_frames = yield stream.read_bytes(8)\n",
      "  File \"/home/de64/anaconda3/envs/mothermachine/lib/python3.7/site-packages/tornado/gen.py\", line 729, in run\n",
      "    value = future.result()\n",
      "tornado.iostream.StreamClosedError: Stream is closed\n",
      "\n",
      "During handling of the above exception, another exception occurred:\n",
      "\n",
      "Traceback (most recent call last):\n",
      "  File \"/home/de64/anaconda3/envs/mothermachine/lib/python3.7/site-packages/distributed/core.py\", line 580, in send_recv_from_rpc\n",
      "    result = yield send_recv(comm=comm, op=key, **kwargs)\n",
      "  File \"/home/de64/anaconda3/envs/mothermachine/lib/python3.7/site-packages/tornado/gen.py\", line 729, in run\n",
      "    value = future.result()\n",
      "  File \"/home/de64/anaconda3/envs/mothermachine/lib/python3.7/site-packages/tornado/gen.py\", line 742, in run\n",
      "    yielded = self.gen.send(value)\n",
      "  File \"/home/de64/anaconda3/envs/mothermachine/lib/python3.7/site-packages/distributed/core.py\", line 457, in send_recv\n",
      "    response = yield comm.read(deserializers=deserializers)\n",
      "  File \"/home/de64/anaconda3/envs/mothermachine/lib/python3.7/site-packages/tornado/gen.py\", line 729, in run\n",
      "    value = future.result()\n",
      "  File \"/home/de64/anaconda3/envs/mothermachine/lib/python3.7/site-packages/tornado/gen.py\", line 736, in run\n",
      "    yielded = self.gen.throw(*exc_info)  # type: ignore\n",
      "  File \"/home/de64/anaconda3/envs/mothermachine/lib/python3.7/site-packages/distributed/comm/tcp.py\", line 201, in read\n",
      "    convert_stream_closed_error(self, e)\n",
      "  File \"/home/de64/anaconda3/envs/mothermachine/lib/python3.7/site-packages/distributed/comm/tcp.py\", line 130, in convert_stream_closed_error\n",
      "    raise CommClosedError(\"in %s: %s\" % (obj, exc))\n",
      "distributed.comm.core.CommClosedError: in <closed TCP>: Stream is closed\n",
      "\n",
      "During handling of the above exception, another exception occurred:\n",
      "\n",
      "Traceback (most recent call last):\n",
      "  File \"/home/de64/anaconda3/envs/mothermachine/lib/python3.7/site-packages/tornado/gen.py\", line 589, in error_callback\n",
      "    future.result()\n",
      "  File \"/home/de64/anaconda3/envs/mothermachine/lib/python3.7/site-packages/tornado/gen.py\", line 736, in run\n",
      "    yielded = self.gen.throw(*exc_info)  # type: ignore\n",
      "  File \"/home/de64/anaconda3/envs/mothermachine/lib/python3.7/site-packages/distributed/utils.py\", line 214, in All\n",
      "    result = yield tasks.next()\n",
      "  File \"/home/de64/anaconda3/envs/mothermachine/lib/python3.7/site-packages/tornado/gen.py\", line 729, in run\n",
      "    value = future.result()\n",
      "  File \"/home/de64/anaconda3/envs/mothermachine/lib/python3.7/site-packages/tornado/gen.py\", line 736, in run\n",
      "    yielded = self.gen.throw(*exc_info)  # type: ignore\n",
      "  File \"/home/de64/anaconda3/envs/mothermachine/lib/python3.7/site-packages/distributed/core.py\", line 583, in send_recv_from_rpc\n",
      "    % (e, key,))\n",
      "distributed.comm.core.CommClosedError: in <closed TCP>: Stream is closed: while trying to call remote method 'restart'\n",
      "Worker tcp://10.120.16.94:47728 restart in Job 41609842. This can be due to memory issue.\n"
     ]
    }
   ],
   "source": [
    "kymo_controller.daskclient.restart()"
   ]
  },
  {
   "cell_type": "code",
   "execution_count": 15,
   "metadata": {},
   "outputs": [],
   "source": [
    "# segment = tr.segment.fluo_segmentation_cluster(\"/n/scratch2/de64/full_pipeline_test\",\"channel_RFP\",smooth_sigma=0.75,wrap_pad=3,hess_pad=4,min_obj_size=30,cell_mask_method='local',\\\n",
    "#                  cell_otsu_scaling=1.,local_otsu_r=15,edge_threshold_scaling=1.,threshold_range=20,threshold_step=10,convex_threshold=0.8)\n",
    "segment = tr.segment.fluo_segmentation_cluster(\"/n/scratch2/de64/2019-05-10_bacillus_training_data/\",\"channel_RFP\",smooth_sigma=0.75,wrap_pad=3,hess_pad=4,min_obj_size=30,cell_mask_method='local',\\\n",
    "                 cell_otsu_scaling=1.,local_otsu_r=15,edge_threshold_scaling=1.,threshold_range=20,threshold_step=10,convex_threshold=0.8)"
   ]
  },
  {
   "cell_type": "code",
   "execution_count": 16,
   "metadata": {},
   "outputs": [],
   "source": [
    "# fov_list = list(set(range(0,80))-set([77]))\n",
    "fov_list = list(set(range(0,40)) - set([34, 35, 36, 37, 38, 39, 9, 10, 11, 17]))"
   ]
  },
  {
   "cell_type": "code",
   "execution_count": 17,
   "metadata": {},
   "outputs": [],
   "source": [
    "kymo_controller.mapfovs(segment.generate_segmentation,fov_list)"
   ]
  },
  {
   "cell_type": "code",
   "execution_count": 3,
   "metadata": {},
   "outputs": [
    {
     "name": "stderr",
     "output_type": "stream",
     "text": [
      "/home/de64/anaconda3/envs/mothermachine/lib/python3.7/site-packages/skimage/util/dtype.py:135: UserWarning: Possible precision loss when converting from float64 to uint8\n",
      "  .format(dtypeobj_in, dtypeobj_out))\n",
      "ERROR:root:Internal Python error in the inspect module.\n",
      "Below is the traceback from this internal error.\n",
      "\n"
     ]
    },
    {
     "name": "stdout",
     "output_type": "stream",
     "text": [
      "Traceback (most recent call last):\n",
      "  File \"/home/de64/anaconda3/envs/mothermachine/lib/python3.7/site-packages/IPython/core/interactiveshell.py\", line 3296, in run_code\n",
      "    exec(code_obj, self.user_global_ns, self.user_ns)\n",
      "  File \"<ipython-input-3-735f591619c3>\", line 1, in <module>\n",
      "    segment.generate_segmentation(10)\n",
      "  File \"/home/de64/TrenchRipper/trenchripper/segment.py\", line 242, in generate_segmentation\n",
      "    hdf5_dataset = self.segment(kymo_arr)\n",
      "  File \"/home/de64/TrenchRipper/trenchripper/segment.py\", line 170, in segment\n",
      "    cell_mask = self.cell_region_mask(working_img,method=self.cell_mask_method,cell_otsu_scaling=self.cell_otsu_scaling,t_tot=t_tot,local_otsu_r=self.local_otsu_r)\n",
      "  File \"/home/de64/TrenchRipper/trenchripper/segment.py\", line 56, in cell_region_mask\n",
      "    local_otsu = sk.filters.rank.otsu(img_arr, otsu_selem)\n",
      "  File \"/home/de64/anaconda3/envs/mothermachine/lib/python3.7/site-packages/skimage/filters/rank/generic.py\", line 1003, in otsu\n",
      "    shift_y=shift_y)\n",
      "  File \"/home/de64/anaconda3/envs/mothermachine/lib/python3.7/site-packages/skimage/filters/rank/generic.py\", line 116, in _apply_scalar_per_pixel\n",
      "    out=out, n_bins=n_bins)\n",
      "KeyboardInterrupt\n",
      "\n",
      "During handling of the above exception, another exception occurred:\n",
      "\n",
      "Traceback (most recent call last):\n",
      "  File \"/home/de64/anaconda3/envs/mothermachine/lib/python3.7/site-packages/IPython/core/interactiveshell.py\", line 2033, in showtraceback\n",
      "    stb = value._render_traceback_()\n",
      "AttributeError: 'KeyboardInterrupt' object has no attribute '_render_traceback_'\n",
      "\n",
      "During handling of the above exception, another exception occurred:\n",
      "\n",
      "Traceback (most recent call last):\n",
      "  File \"/home/de64/anaconda3/envs/mothermachine/lib/python3.7/site-packages/IPython/core/ultratb.py\", line 1095, in get_records\n",
      "    return _fixed_getinnerframes(etb, number_of_lines_of_context, tb_offset)\n",
      "  File \"/home/de64/anaconda3/envs/mothermachine/lib/python3.7/site-packages/IPython/core/ultratb.py\", line 313, in wrapped\n",
      "    return f(*args, **kwargs)\n",
      "  File \"/home/de64/anaconda3/envs/mothermachine/lib/python3.7/site-packages/IPython/core/ultratb.py\", line 347, in _fixed_getinnerframes\n",
      "    records = fix_frame_records_filenames(inspect.getinnerframes(etb, context))\n",
      "  File \"/home/de64/anaconda3/envs/mothermachine/lib/python3.7/inspect.py\", line 1502, in getinnerframes\n",
      "    frameinfo = (tb.tb_frame,) + getframeinfo(tb, context)\n",
      "  File \"/home/de64/anaconda3/envs/mothermachine/lib/python3.7/inspect.py\", line 1460, in getframeinfo\n",
      "    filename = getsourcefile(frame) or getfile(frame)\n",
      "  File \"/home/de64/anaconda3/envs/mothermachine/lib/python3.7/inspect.py\", line 696, in getsourcefile\n",
      "    if getattr(getmodule(object, filename), '__loader__', None) is not None:\n",
      "  File \"/home/de64/anaconda3/envs/mothermachine/lib/python3.7/inspect.py\", line 742, in getmodule\n",
      "    os.path.realpath(f)] = module.__name__\n",
      "  File \"/home/de64/anaconda3/envs/mothermachine/lib/python3.7/posixpath.py\", line 395, in realpath\n",
      "    path, ok = _joinrealpath(filename[:0], filename, {})\n",
      "  File \"/home/de64/anaconda3/envs/mothermachine/lib/python3.7/posixpath.py\", line 429, in _joinrealpath\n",
      "    if not islink(newpath):\n",
      "  File \"/home/de64/anaconda3/envs/mothermachine/lib/python3.7/posixpath.py\", line 171, in islink\n",
      "    st = os.lstat(path)\n",
      "KeyboardInterrupt\n"
     ]
    },
    {
     "ename": "KeyboardInterrupt",
     "evalue": "",
     "output_type": "error",
     "traceback": [
      "\u001b[0;31m---------------------------------------------------------------------------\u001b[0m"
     ]
    }
   ],
   "source": [
    "segment.generate_segmentation(10)"
   ]
  },
  {
   "cell_type": "code",
   "execution_count": 13,
   "metadata": {},
   "outputs": [
    {
     "data": {
      "text/plain": [
       "(<function trenchripper.cluster.dask_controller.mapfovs.<locals>.mapallfovs(fov_number, function=<bound method fluo_segmentation_cluster.generate_segmentation of <trenchripper.segment.fluo_segmentation_cluster object at 0x7fbbc7cd7550>>)>,\n",
       " (1,),\n",
       " {},\n",
       " ())"
      ]
     },
     "execution_count": 13,
     "metadata": {},
     "output_type": "execute_result"
    }
   ],
   "source": [
    "kymo_controller.daskclient.get_futures_error(kymo_controller.futures[1])"
   ]
  },
  {
   "cell_type": "code",
   "execution_count": null,
   "metadata": {},
   "outputs": [],
   "source": []
  },
  {
   "cell_type": "markdown",
   "metadata": {},
   "source": [
    "#### End Dask, Cancel Jobs"
   ]
  },
  {
   "cell_type": "code",
   "execution_count": 24,
   "metadata": {},
   "outputs": [],
   "source": [
    "kymo_controller.shutdown()"
   ]
  },
  {
   "cell_type": "code",
   "execution_count": null,
   "metadata": {},
   "outputs": [],
   "source": []
  },
  {
   "cell_type": "code",
   "execution_count": 9,
   "metadata": {},
   "outputs": [
    {
     "name": "stderr",
     "output_type": "stream",
     "text": [
      "/home/de64/anaconda3/envs/mothermachine/lib/python3.7/site-packages/dask/config.py:168: YAMLLoadWarning: calling yaml.load() without Loader=... is deprecated, as the default Loader is unsafe. Please read https://msg.pyyaml.org/load for full details.\n",
      "  data = yaml.load(f.read()) or {}\n"
     ]
    }
   ],
   "source": [
    "import h5py\n",
    "from matplotlib import pyplot as plt\n",
    "import numpy as np\n",
    "import skimage as sk"
   ]
  },
  {
   "cell_type": "code",
   "execution_count": 2,
   "metadata": {},
   "outputs": [],
   "source": [
    "data = h5py.File(\"/n/scratch2/de64/2019-05-10_bacillus_training_data/hdf5/fov_1.hdf5\")"
   ]
  },
  {
   "cell_type": "code",
   "execution_count": 28,
   "metadata": {},
   "outputs": [],
   "source": [
    "array = data[\"channel_RFP\"][:,:,10]"
   ]
  },
  {
   "cell_type": "code",
   "execution_count": 29,
   "metadata": {},
   "outputs": [
    {
     "data": {
      "image/png": "[encoded data removed]",
      "text/plain": [
       "<Figure size 432x288 with 1 Axes>"
      ]
     },
     "metadata": {
      "needs_background": "light"
     },
     "output_type": "display_data"
    }
   ],
   "source": [
    "plt.hist(array.flatten(),bins=100)\n",
    "plt.show()"
   ]
  },
  {
   "cell_type": "code",
   "execution_count": 39,
   "metadata": {},
   "outputs": [
    {
     "data": {
      "text/plain": [
       "<matplotlib.image.AxesImage at 0x7f5fd2432ef0>"
      ]
     },
     "execution_count": 39,
     "metadata": {},
     "output_type": "execute_result"
    },
    {
     "data": {
      "image/png": "[encoded data removed]",
      "text/plain": [
       "<Figure size 432x288 with 1 Axes>"
      ]
     },
     "metadata": {
      "needs_background": "light"
     },
     "output_type": "display_data"
    }
   ],
   "source": [
    "plt.imshow(array[470:500,175:190])"
   ]
  },
  {
   "cell_type": "code",
   "execution_count": 40,
   "metadata": {},
   "outputs": [
    {
     "data": {
      "text/plain": [
       "array([[116, 112, 122, 130, 123, 121, 157, 132, 129, 112, 108, 114, 119,\n",
       "        127, 121],\n",
       "       [129, 125, 117, 124, 121, 148, 148, 139, 143, 124, 115, 103, 112,\n",
       "        113, 114],\n",
       "       [123, 133, 118, 134, 136, 144, 164, 147, 151, 144, 122, 114, 112,\n",
       "        112, 103],\n",
       "       [123, 121, 128, 136, 151, 159, 196, 163, 149, 135, 130, 112, 125,\n",
       "        124, 114],\n",
       "       [115, 113, 125, 129, 156, 160, 156, 164, 148, 130, 120, 136, 125,\n",
       "        122, 106],\n",
       "       [119, 119, 137, 122, 176, 193, 170, 181, 149, 125, 108, 122, 123,\n",
       "        114, 111],\n",
       "       [129, 135, 137, 142, 155, 178, 167, 164, 140, 126, 127, 107, 121,\n",
       "        116, 129],\n",
       "       [120, 128, 125, 141, 160, 171, 177, 183, 137, 116, 128, 127, 105,\n",
       "        119, 120],\n",
       "       [122, 132, 142, 131, 158, 206, 175, 146, 152, 138, 128, 128, 130,\n",
       "        130, 118],\n",
       "       [133, 120, 140, 152, 173, 205, 178, 162, 144, 131, 105, 126, 122,\n",
       "        121, 113],\n",
       "       [125, 149, 123, 167, 178, 176, 192, 166, 149, 130, 130, 127, 114,\n",
       "        120, 129],\n",
       "       [127, 124, 134, 146, 171, 173, 171, 181, 141, 125, 124, 118, 117,\n",
       "        120, 115],\n",
       "       [124, 129, 155, 155, 176, 177, 171, 149, 152, 127, 123, 114, 124,\n",
       "        116, 113],\n",
       "       [134, 133, 164, 167, 180, 171, 184, 147, 135, 117, 126, 110, 125,\n",
       "        119, 121],\n",
       "       [125, 152, 145, 184, 159, 176, 177, 146, 141, 120, 116, 111, 116,\n",
       "        126, 114],\n",
       "       [136, 129, 167, 184, 179, 170, 163, 167, 126, 114, 115, 125, 119,\n",
       "        109, 141],\n",
       "       [136, 148, 133, 195, 148, 183, 170, 145, 138, 133, 125, 123, 109,\n",
       "        116, 132],\n",
       "       [126, 125, 158, 157, 186, 168, 164, 158, 134, 131, 114, 110, 115,\n",
       "        116, 108],\n",
       "       [121, 152, 144, 165, 207, 171, 178, 140, 119, 121, 110, 126, 127,\n",
       "        110, 112],\n",
       "       [130, 135, 166, 172, 161, 152, 135, 150, 127, 117, 122, 118, 124,\n",
       "        116, 128],\n",
       "       [133, 148, 153, 180, 169, 174, 137, 117, 141, 125, 118, 109, 109,\n",
       "        115, 128],\n",
       "       [122, 143, 153, 178, 137, 155, 152, 132, 120, 122, 114, 120, 107,\n",
       "        115, 125],\n",
       "       [142, 124, 144, 177, 168, 155, 147, 119, 125, 110, 115, 138, 121,\n",
       "        106, 123],\n",
       "       [121, 102, 131, 154, 152, 149, 161, 127, 119, 138, 118, 111, 106,\n",
       "        124, 109],\n",
       "       [ 96, 126, 143, 144, 134, 128, 119, 128, 109, 119, 124, 119, 120,\n",
       "        113, 121],\n",
       "       [127, 129, 141, 134, 123, 145, 105, 112, 114, 118, 117, 116, 118,\n",
       "        113, 124],\n",
       "       [111, 115, 130, 130, 126, 131, 142, 116, 119, 114, 119, 123, 110,\n",
       "        123, 110],\n",
       "       [108, 147, 126, 135, 138, 159, 122, 145, 117, 106, 124, 108, 123,\n",
       "        113, 115],\n",
       "       [119, 135, 136, 145, 157, 170, 144, 126, 141, 114, 108, 123, 106,\n",
       "        129, 120],\n",
       "       [121, 125, 132, 167, 166, 168, 164, 143, 128, 101, 120, 118, 119,\n",
       "        132, 116]], dtype=uint16)"
      ]
     },
     "execution_count": 40,
     "metadata": {},
     "output_type": "execute_result"
    }
   ],
   "source": [
    "array[470:500,175:190]"
   ]
  },
  {
   "cell_type": "code",
   "execution_count": null,
   "metadata": {},
   "outputs": [],
   "source": [
    "np.percentile(data[\"channel_RFP\"][:,:,0],90)"
   ]
  },
  {
   "cell_type": "code",
   "execution_count": 21,
   "metadata": {},
   "outputs": [],
   "source": [
    "kymo_handle = tr.utils.kymo_handle()"
   ]
  },
  {
   "cell_type": "code",
   "execution_count": 25,
   "metadata": {},
   "outputs": [
    {
     "data": {
      "text/plain": [
       "['18',\n",
       " '19',\n",
       " '20',\n",
       " '21',\n",
       " '22',\n",
       " '23',\n",
       " '24',\n",
       " '25',\n",
       " '26',\n",
       " '27',\n",
       " '28',\n",
       " '29',\n",
       " '30',\n",
       " '31']"
      ]
     },
     "execution_count": 25,
     "metadata": {},
     "output_type": "execute_result"
    }
   ],
   "source": [
    "list(data.keys())"
   ]
  },
  {
   "cell_type": "code",
   "execution_count": 29,
   "metadata": {},
   "outputs": [
    {
     "data": {
      "text/plain": [
       "<matplotlib.image.AxesImage at 0x7f43827d6828>"
      ]
     },
     "execution_count": 29,
     "metadata": {},
     "output_type": "execute_result"
    },
    {
     "data": {
      "image/png": "[encoded data removed]",
      "text/plain": [
       "<Figure size 432x288 with 1 Axes>"
      ]
     },
     "metadata": {
      "needs_background": "light"
     },
     "output_type": "display_data"
    }
   ],
   "source": [
    "kymo_handle.import_wrap(data['19'])\n",
    "plt.imshow(kymo_handle.return_unwrap())"
   ]
  },
  {
   "cell_type": "code",
   "execution_count": null,
   "metadata": {},
   "outputs": [],
   "source": []
  },
  {
   "cell_type": "markdown",
   "metadata": {},
   "source": [
    "### NOTE\n",
    "\n",
    "- **How to deal with some fovs having a different number of rows than other fovs??? Try to make more flexible...**"
   ]
  },
  {
   "cell_type": "markdown",
   "metadata": {},
   "source": [
    "maybe add a kymograph viewer here"
   ]
  },
  {
   "cell_type": "markdown",
   "metadata": {},
   "source": [
    "### Note\n",
    "There may be an issue where hdf5 files do not close properly on crashes..."
   ]
  },
  {
   "cell_type": "code",
   "execution_count": 7,
   "metadata": {},
   "outputs": [],
   "source": [
    "# props = kymo_controller.daskclient.gather(kymo_controller.futures) #this will hang until all futures are done"
   ]
  },
  {
   "cell_type": "markdown",
   "metadata": {},
   "source": [
    "#### End Dask, Cancel Jobs"
   ]
  },
  {
   "cell_type": "code",
   "execution_count": 14,
   "metadata": {},
   "outputs": [],
   "source": [
    "kymo_controller.shutdown()"
   ]
  },
  {
   "cell_type": "code",
   "execution_count": null,
   "metadata": {},
   "outputs": [],
   "source": [
    "#scancel --name=dask-worker --user=de64"
   ]
  },
  {
   "cell_type": "markdown",
   "metadata": {},
   "source": [
    "#### Note: access request to the transfer partition pending; automate this bit later"
   ]
  },
  {
   "cell_type": "code",
   "execution_count": 10,
   "metadata": {},
   "outputs": [
    {
     "ename": "CalledProcessError",
     "evalue": "Command 'sbatch -p transfer -t 0-12:00 --wrap=\"rsync /n/files/SysBio/PAULSSON LAB/Daniel/Image_Data/test /n/scratch2/de64/for_sylvia/\"' returned non-zero exit status 1.",
     "output_type": "error",
     "traceback": [
      "\u001b[0;31m---------------------------------------------------------------------------\u001b[0m",
      "\u001b[0;31mCalledProcessError\u001b[0m                        Traceback (most recent call last)",
      "\u001b[0;32m<ipython-input-10-e73a3e022a53>\u001b[0m in \u001b[0;36m<module>\u001b[0;34m()\u001b[0m\n\u001b[1;32m      7\u001b[0m \u001b[0;34m\u001b[0m\u001b[0m\n\u001b[1;32m      8\u001b[0m subprocess.check_output(cmd_str,\n\u001b[0;32m----> 9\u001b[0;31m                 shell=True)\n\u001b[0m",
      "\u001b[0;32m~/anaconda3/envs/mothermachine/lib/python3.6/subprocess.py\u001b[0m in \u001b[0;36mcheck_output\u001b[0;34m(timeout, *popenargs, **kwargs)\u001b[0m\n\u001b[1;32m    334\u001b[0m \u001b[0;34m\u001b[0m\u001b[0m\n\u001b[1;32m    335\u001b[0m     return run(*popenargs, stdout=PIPE, timeout=timeout, check=True,\n\u001b[0;32m--> 336\u001b[0;31m                **kwargs).stdout\n\u001b[0m\u001b[1;32m    337\u001b[0m \u001b[0;34m\u001b[0m\u001b[0m\n\u001b[1;32m    338\u001b[0m \u001b[0;34m\u001b[0m\u001b[0m\n",
      "\u001b[0;32m~/anaconda3/envs/mothermachine/lib/python3.6/subprocess.py\u001b[0m in \u001b[0;36mrun\u001b[0;34m(input, timeout, check, *popenargs, **kwargs)\u001b[0m\n\u001b[1;32m    416\u001b[0m         \u001b[0;32mif\u001b[0m \u001b[0mcheck\u001b[0m \u001b[0;32mand\u001b[0m \u001b[0mretcode\u001b[0m\u001b[0;34m:\u001b[0m\u001b[0;34m\u001b[0m\u001b[0m\n\u001b[1;32m    417\u001b[0m             raise CalledProcessError(retcode, process.args,\n\u001b[0;32m--> 418\u001b[0;31m                                      output=stdout, stderr=stderr)\n\u001b[0m\u001b[1;32m    419\u001b[0m     \u001b[0;32mreturn\u001b[0m \u001b[0mCompletedProcess\u001b[0m\u001b[0;34m(\u001b[0m\u001b[0mprocess\u001b[0m\u001b[0;34m.\u001b[0m\u001b[0margs\u001b[0m\u001b[0;34m,\u001b[0m \u001b[0mretcode\u001b[0m\u001b[0;34m,\u001b[0m \u001b[0mstdout\u001b[0m\u001b[0;34m,\u001b[0m \u001b[0mstderr\u001b[0m\u001b[0;34m)\u001b[0m\u001b[0;34m\u001b[0m\u001b[0m\n\u001b[1;32m    420\u001b[0m \u001b[0;34m\u001b[0m\u001b[0m\n",
      "\u001b[0;31mCalledProcessError\u001b[0m: Command 'sbatch -p transfer -t 0-12:00 --wrap=\"rsync /n/files/SysBio/PAULSSON LAB/Daniel/Image_Data/test /n/scratch2/de64/for_sylvia/\"' returned non-zero exit status 1."
     ]
    }
   ],
   "source": [
    "import subprocess\n",
    "\n",
    "in_path = \"/n/files/SysBio/PAULSSON LAB/Daniel/Image_Data/test\"\n",
    "out_path = \"/n/scratch2/de64/for_sylvia/\"\n",
    "wrap_str = \"rsync \" + in_path + \" \" + out_path\n",
    "cmd_str = 'sbatch -p transfer -t 0-12:00 --wrap=\"' + wrap_str + '\"'\n",
    "\n",
    "subprocess.check_output(cmd_str,\n",
    "                shell=True)"
   ]
  },
  {
   "cell_type": "code",
   "execution_count": 6,
   "metadata": {},
   "outputs": [
    {
     "data": {
      "text/plain": [
       "'sbatch -p transfer -t 0-12:00 --wrap=\"rsync /n/files/SysBio/PAULSSON LAB/Daniel/Image_Data/2019-02-08_bacillus_mbm_top_s750_bottom /n/scratch2/de64/for_sylvia/\"'"
      ]
     },
     "execution_count": 6,
     "metadata": {},
     "output_type": "execute_result"
    }
   ],
   "source": [
    "cmd_str"
   ]
  },
  {
   "cell_type": "code",
   "execution_count": 11,
   "metadata": {},
   "outputs": [
    {
     "name": "stdout",
     "output_type": "stream",
     "text": [
      "sbatch: error: Batch job submission failed: User's group not permitted to use this partition\n"
     ]
    }
   ],
   "source": [
    "!sbatch -p transfer -t 0-12:00 --wrap=\"rsync /n/files/SysBio/PAULSSON\\LAB/Daniel/Image_Data/Bacillus_Project/test /n/scratch2/de64/for_sylvia/\""
   ]
  },
  {
   "cell_type": "markdown",
   "metadata": {},
   "source": [
    "#### Note: need to find a way to associate lanes from init barcoding snapshot with imaging lanes\n",
    "\n",
    "plan:\n",
    "- extract and segment (with phase) barcoding file\n",
    "- extract and segment experiemnt file\n",
    "- for both, note x positions of t=0 trenches\n",
    "- compare these values to map trenches to eachother..."
   ]
  }
 ],
 "metadata": {
  "kernelspec": {
   "display_name": "mothermachine",
   "language": "python",
   "name": "mothermachine"
  },
  "language_info": {
   "codemirror_mode": {
    "name": "ipython",
    "version": 3
   },
   "file_extension": ".py",
   "mimetype": "text/x-python",
   "name": "python",
   "nbconvert_exporter": "python",
   "pygments_lexer": "ipython3",
   "version": "3.7.3"
  }
 },
 "nbformat": 4,
 "nbformat_minor": 2
}
