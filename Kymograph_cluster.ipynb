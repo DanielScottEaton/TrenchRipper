{
 "cells": [
  {
   "cell_type": "markdown",
   "metadata": {},
   "source": [
    "## Kymograph Cluster Code"
   ]
  },
  {
   "cell_type": "code",
   "execution_count": 1,
   "metadata": {},
   "outputs": [],
   "source": [
    "import trenchripper as tr"
   ]
  },
  {
   "cell_type": "markdown",
   "metadata": {},
   "source": [
    "#### Start Dask"
   ]
  },
  {
   "cell_type": "code",
   "execution_count": 2,
   "metadata": {},
   "outputs": [],
   "source": [
    "kymo_controller = tr.cluster.dask_controller(walltime='04:00:00',local=False,n_workers=40,memory='2GB')\n",
    "kymo_controller.startdask()\n",
    "kymo_controller.daskcluster.start_workers()"
   ]
  },
  {
   "cell_type": "code",
   "execution_count": 3,
   "metadata": {},
   "outputs": [
    {
     "data": {
      "text/html": [
       "<table style=\"border: 2px solid white;\">\n",
       "<tr>\n",
       "<td style=\"vertical-align: top; border: 0px solid white\">\n",
       "<h3>Client</h3>\n",
       "<ul>\n",
       "  <li><b>Scheduler: </b>tcp://10.120.16.239:58838\n",
       "  <li><b>Dashboard: </b><a href='http://10.120.16.239:8787/status' target='_blank'>http://10.120.16.239:8787/status</a>\n",
       "</ul>\n",
       "</td>\n",
       "<td style=\"vertical-align: top; border: 0px solid white\">\n",
       "<h3>Cluster</h3>\n",
       "<ul>\n",
       "  <li><b>Workers: </b>10</li>\n",
       "  <li><b>Cores: </b>10</li>\n",
       "  <li><b>Memory: </b>20.00 GB</li>\n",
       "</ul>\n",
       "</td>\n",
       "</tr>\n",
       "</table>"
      ],
      "text/plain": [
       "<Client: scheduler='tcp://10.120.16.239:58838' processes=7 cores=7>"
      ]
     },
     "execution_count": 3,
     "metadata": {},
     "output_type": "execute_result"
    }
   ],
   "source": [
    "kymo_controller.daskclient"
   ]
  },
  {
   "cell_type": "markdown",
   "metadata": {},
   "source": [
    "#### Perform Extraction"
   ]
  },
  {
   "cell_type": "code",
   "execution_count": 4,
   "metadata": {},
   "outputs": [],
   "source": [
    "hdf5_extractor = tr.ndextract.hdf5_fov_extractor(\"/n/scratch2/de64/for_sylvia/Bacillus_revival_12_7_2020.nd2\",\"/n/scratch2/de64/full_pipeline_test/hdf5\")"
   ]
  },
  {
   "cell_type": "code",
   "execution_count": 5,
   "metadata": {},
   "outputs": [],
   "source": [
    "kymo_controller.mapfovs(hdf5_extractor.extract_fov,40)"
   ]
  },
  {
   "cell_type": "code",
   "execution_count": null,
   "metadata": {},
   "outputs": [],
   "source": [
    "props = kymo_controller.daskclient.gather(kymo_controller.futures) #this will hang until all futures are done"
   ]
  },
  {
   "cell_type": "markdown",
   "metadata": {},
   "source": [
    "#### Generate Kymographs"
   ]
  },
  {
   "cell_type": "code",
   "execution_count": 3,
   "metadata": {},
   "outputs": [],
   "source": [
    "input_file_prefix = '/n/groups/paulsson/Daniel/Image_analysis_pipeline/tiff_extraction/test_out_4/fov_'\n",
    "output_path = '/n/groups/paulsson/Daniel/Image_analysis_pipeline/kymographs_6'\n",
    "all_channels = [\"channel_BF\",\"channel_RFP\"]\n",
    "\n",
    "kymo = tr.kymograph.kychunker(input_file_prefix=input_file_prefix,output_path=output_path,all_channels=all_channels,trench_len_y=270,padding_y=20,trench_width_x=30,\\\n",
    "                 t_chunk=25,y_percentile=85,y_min_edge_dist=50,smoothing_kernel_y=(9,1),triangle_nbins=50,triangle_scaling=1.,\\\n",
    "                 top_orientation=0,x_percentile=85,background_kernel_x=(301,1),smoothing_kernel_x=(9,1),otsu_nbins=50,otsu_scaling=1.)"
   ]
  },
  {
   "cell_type": "code",
   "execution_count": 6,
   "metadata": {},
   "outputs": [],
   "source": [
    "kymo_controller.mapfovs(kymo.generate_kymograph,30)"
   ]
  },
  {
   "cell_type": "code",
   "execution_count": 7,
   "metadata": {},
   "outputs": [],
   "source": [
    "props = kymo_controller.daskclient.gather(kymo_controller.futures) #this will hang until all futures are done"
   ]
  },
  {
   "cell_type": "markdown",
   "metadata": {},
   "source": [
    "#### End Dask, Cancel Jobs"
   ]
  },
  {
   "cell_type": "code",
   "execution_count": 7,
   "metadata": {},
   "outputs": [
    {
     "name": "stderr",
     "output_type": "stream",
     "text": [
      "distributed.scheduler - ERROR - '31631782'\n",
      "Traceback (most recent call last):\n",
      "  File \"/home/de64/anaconda3/envs/mothermachine/lib/python3.6/site-packages/distributed/scheduler.py\", line 1306, in add_worker\n",
      "    plugin.add_worker(scheduler=self, worker=address)\n",
      "  File \"/home/de64/anaconda3/envs/mothermachine/lib/python3.6/site-packages/dask_jobqueue/core.py\", line 62, in add_worker\n",
      "    self.running_jobs[job_id] = self.pending_jobs.pop(job_id)\n",
      "KeyError: '31631782'\n",
      "distributed.scheduler - ERROR - '31631793'\n",
      "Traceback (most recent call last):\n",
      "  File \"/home/de64/anaconda3/envs/mothermachine/lib/python3.6/site-packages/distributed/scheduler.py\", line 1306, in add_worker\n",
      "    plugin.add_worker(scheduler=self, worker=address)\n",
      "  File \"/home/de64/anaconda3/envs/mothermachine/lib/python3.6/site-packages/dask_jobqueue/core.py\", line 62, in add_worker\n",
      "    self.running_jobs[job_id] = self.pending_jobs.pop(job_id)\n",
      "KeyError: '31631793'\n",
      "distributed.scheduler - ERROR - '31631791'\n",
      "Traceback (most recent call last):\n",
      "  File \"/home/de64/anaconda3/envs/mothermachine/lib/python3.6/site-packages/distributed/scheduler.py\", line 1306, in add_worker\n",
      "    plugin.add_worker(scheduler=self, worker=address)\n",
      "  File \"/home/de64/anaconda3/envs/mothermachine/lib/python3.6/site-packages/dask_jobqueue/core.py\", line 62, in add_worker\n",
      "    self.running_jobs[job_id] = self.pending_jobs.pop(job_id)\n",
      "KeyError: '31631791'\n",
      "distributed.scheduler - ERROR - '31631790'\n",
      "Traceback (most recent call last):\n",
      "  File \"/home/de64/anaconda3/envs/mothermachine/lib/python3.6/site-packages/distributed/scheduler.py\", line 1306, in add_worker\n",
      "    plugin.add_worker(scheduler=self, worker=address)\n",
      "  File \"/home/de64/anaconda3/envs/mothermachine/lib/python3.6/site-packages/dask_jobqueue/core.py\", line 62, in add_worker\n",
      "    self.running_jobs[job_id] = self.pending_jobs.pop(job_id)\n",
      "KeyError: '31631790'\n",
      "distributed.scheduler - ERROR - '31631789'\n",
      "Traceback (most recent call last):\n",
      "  File \"/home/de64/anaconda3/envs/mothermachine/lib/python3.6/site-packages/distributed/scheduler.py\", line 1306, in add_worker\n",
      "    plugin.add_worker(scheduler=self, worker=address)\n",
      "  File \"/home/de64/anaconda3/envs/mothermachine/lib/python3.6/site-packages/dask_jobqueue/core.py\", line 62, in add_worker\n",
      "    self.running_jobs[job_id] = self.pending_jobs.pop(job_id)\n",
      "KeyError: '31631789'\n",
      "distributed.scheduler - ERROR - '31631792'\n",
      "Traceback (most recent call last):\n",
      "  File \"/home/de64/anaconda3/envs/mothermachine/lib/python3.6/site-packages/distributed/scheduler.py\", line 1306, in add_worker\n",
      "    plugin.add_worker(scheduler=self, worker=address)\n",
      "  File \"/home/de64/anaconda3/envs/mothermachine/lib/python3.6/site-packages/dask_jobqueue/core.py\", line 62, in add_worker\n",
      "    self.running_jobs[job_id] = self.pending_jobs.pop(job_id)\n",
      "KeyError: '31631792'\n",
      "distributed.scheduler - ERROR - '31631781'\n",
      "Traceback (most recent call last):\n",
      "  File \"/home/de64/anaconda3/envs/mothermachine/lib/python3.6/site-packages/distributed/scheduler.py\", line 1306, in add_worker\n",
      "    plugin.add_worker(scheduler=self, worker=address)\n",
      "  File \"/home/de64/anaconda3/envs/mothermachine/lib/python3.6/site-packages/dask_jobqueue/core.py\", line 62, in add_worker\n",
      "    self.running_jobs[job_id] = self.pending_jobs.pop(job_id)\n",
      "KeyError: '31631781'\n",
      "distributed.scheduler - ERROR - '31631778'\n",
      "Traceback (most recent call last):\n",
      "  File \"/home/de64/anaconda3/envs/mothermachine/lib/python3.6/site-packages/distributed/scheduler.py\", line 1306, in add_worker\n",
      "    plugin.add_worker(scheduler=self, worker=address)\n",
      "  File \"/home/de64/anaconda3/envs/mothermachine/lib/python3.6/site-packages/dask_jobqueue/core.py\", line 62, in add_worker\n",
      "    self.running_jobs[job_id] = self.pending_jobs.pop(job_id)\n",
      "KeyError: '31631778'\n",
      "distributed.scheduler - ERROR - '31631779'\n",
      "Traceback (most recent call last):\n",
      "  File \"/home/de64/anaconda3/envs/mothermachine/lib/python3.6/site-packages/distributed/scheduler.py\", line 1306, in add_worker\n",
      "    plugin.add_worker(scheduler=self, worker=address)\n",
      "  File \"/home/de64/anaconda3/envs/mothermachine/lib/python3.6/site-packages/dask_jobqueue/core.py\", line 62, in add_worker\n",
      "    self.running_jobs[job_id] = self.pending_jobs.pop(job_id)\n",
      "KeyError: '31631779'\n",
      "distributed.scheduler - ERROR - '31631780'\n",
      "Traceback (most recent call last):\n",
      "  File \"/home/de64/anaconda3/envs/mothermachine/lib/python3.6/site-packages/distributed/scheduler.py\", line 1306, in add_worker\n",
      "    plugin.add_worker(scheduler=self, worker=address)\n",
      "  File \"/home/de64/anaconda3/envs/mothermachine/lib/python3.6/site-packages/dask_jobqueue/core.py\", line 62, in add_worker\n",
      "    self.running_jobs[job_id] = self.pending_jobs.pop(job_id)\n",
      "KeyError: '31631780'\n",
      "distributed.scheduler - ERROR - '31631802'\n",
      "Traceback (most recent call last):\n",
      "  File \"/home/de64/anaconda3/envs/mothermachine/lib/python3.6/site-packages/distributed/scheduler.py\", line 1306, in add_worker\n",
      "    plugin.add_worker(scheduler=self, worker=address)\n",
      "  File \"/home/de64/anaconda3/envs/mothermachine/lib/python3.6/site-packages/dask_jobqueue/core.py\", line 62, in add_worker\n",
      "    self.running_jobs[job_id] = self.pending_jobs.pop(job_id)\n",
      "KeyError: '31631802'\n",
      "distributed.scheduler - ERROR - '31631792'\n",
      "Traceback (most recent call last):\n",
      "  File \"/home/de64/anaconda3/envs/mothermachine/lib/python3.6/site-packages/distributed/scheduler.py\", line 1712, in remove_worker\n",
      "    plugin.remove_worker(scheduler=self, worker=address)\n",
      "  File \"/home/de64/anaconda3/envs/mothermachine/lib/python3.6/site-packages/dask_jobqueue/core.py\", line 74, in remove_worker\n",
      "    del self.running_jobs[job_id][name]\n",
      "KeyError: '31631792'\n",
      "distributed.scheduler - ERROR - '31631790'\n",
      "Traceback (most recent call last):\n",
      "  File \"/home/de64/anaconda3/envs/mothermachine/lib/python3.6/site-packages/distributed/scheduler.py\", line 1712, in remove_worker\n",
      "    plugin.remove_worker(scheduler=self, worker=address)\n",
      "  File \"/home/de64/anaconda3/envs/mothermachine/lib/python3.6/site-packages/dask_jobqueue/core.py\", line 74, in remove_worker\n",
      "    del self.running_jobs[job_id][name]\n",
      "KeyError: '31631790'\n",
      "distributed.scheduler - ERROR - '31631789'\n",
      "Traceback (most recent call last):\n",
      "  File \"/home/de64/anaconda3/envs/mothermachine/lib/python3.6/site-packages/distributed/scheduler.py\", line 1712, in remove_worker\n",
      "    plugin.remove_worker(scheduler=self, worker=address)\n",
      "  File \"/home/de64/anaconda3/envs/mothermachine/lib/python3.6/site-packages/dask_jobqueue/core.py\", line 74, in remove_worker\n",
      "    del self.running_jobs[job_id][name]\n",
      "KeyError: '31631789'\n",
      "distributed.scheduler - ERROR - '31631784'\n",
      "Traceback (most recent call last):\n",
      "  File \"/home/de64/anaconda3/envs/mothermachine/lib/python3.6/site-packages/distributed/scheduler.py\", line 1306, in add_worker\n",
      "    plugin.add_worker(scheduler=self, worker=address)\n",
      "  File \"/home/de64/anaconda3/envs/mothermachine/lib/python3.6/site-packages/dask_jobqueue/core.py\", line 62, in add_worker\n",
      "    self.running_jobs[job_id] = self.pending_jobs.pop(job_id)\n",
      "KeyError: '31631784'\n",
      "distributed.scheduler - ERROR - '31631791'\n",
      "Traceback (most recent call last):\n",
      "  File \"/home/de64/anaconda3/envs/mothermachine/lib/python3.6/site-packages/distributed/scheduler.py\", line 1712, in remove_worker\n",
      "    plugin.remove_worker(scheduler=self, worker=address)\n",
      "  File \"/home/de64/anaconda3/envs/mothermachine/lib/python3.6/site-packages/dask_jobqueue/core.py\", line 74, in remove_worker\n",
      "    del self.running_jobs[job_id][name]\n",
      "KeyError: '31631791'\n",
      "distributed.scheduler - ERROR - '31631802'\n",
      "Traceback (most recent call last):\n",
      "  File \"/home/de64/anaconda3/envs/mothermachine/lib/python3.6/site-packages/distributed/scheduler.py\", line 1712, in remove_worker\n",
      "    plugin.remove_worker(scheduler=self, worker=address)\n",
      "  File \"/home/de64/anaconda3/envs/mothermachine/lib/python3.6/site-packages/dask_jobqueue/core.py\", line 74, in remove_worker\n",
      "    del self.running_jobs[job_id][name]\n",
      "KeyError: '31631802'\n",
      "distributed.scheduler - ERROR - '31631793'\n",
      "Traceback (most recent call last):\n",
      "  File \"/home/de64/anaconda3/envs/mothermachine/lib/python3.6/site-packages/distributed/scheduler.py\", line 1712, in remove_worker\n",
      "    plugin.remove_worker(scheduler=self, worker=address)\n",
      "  File \"/home/de64/anaconda3/envs/mothermachine/lib/python3.6/site-packages/dask_jobqueue/core.py\", line 74, in remove_worker\n",
      "    del self.running_jobs[job_id][name]\n",
      "KeyError: '31631793'\n",
      "distributed.scheduler - ERROR - '31631779'\n",
      "Traceback (most recent call last):\n",
      "  File \"/home/de64/anaconda3/envs/mothermachine/lib/python3.6/site-packages/distributed/scheduler.py\", line 1712, in remove_worker\n",
      "    plugin.remove_worker(scheduler=self, worker=address)\n",
      "  File \"/home/de64/anaconda3/envs/mothermachine/lib/python3.6/site-packages/dask_jobqueue/core.py\", line 74, in remove_worker\n",
      "    del self.running_jobs[job_id][name]\n",
      "KeyError: '31631779'\n",
      "distributed.scheduler - ERROR - '31631780'\n",
      "Traceback (most recent call last):\n",
      "  File \"/home/de64/anaconda3/envs/mothermachine/lib/python3.6/site-packages/distributed/scheduler.py\", line 1712, in remove_worker\n",
      "    plugin.remove_worker(scheduler=self, worker=address)\n",
      "  File \"/home/de64/anaconda3/envs/mothermachine/lib/python3.6/site-packages/dask_jobqueue/core.py\", line 74, in remove_worker\n",
      "    del self.running_jobs[job_id][name]\n",
      "KeyError: '31631780'\n",
      "distributed.scheduler - ERROR - '31631782'\n",
      "Traceback (most recent call last):\n",
      "  File \"/home/de64/anaconda3/envs/mothermachine/lib/python3.6/site-packages/distributed/scheduler.py\", line 1712, in remove_worker\n",
      "    plugin.remove_worker(scheduler=self, worker=address)\n",
      "  File \"/home/de64/anaconda3/envs/mothermachine/lib/python3.6/site-packages/dask_jobqueue/core.py\", line 74, in remove_worker\n",
      "    del self.running_jobs[job_id][name]\n",
      "KeyError: '31631782'\n",
      "distributed.scheduler - ERROR - '31631784'\n",
      "Traceback (most recent call last):\n",
      "  File \"/home/de64/anaconda3/envs/mothermachine/lib/python3.6/site-packages/distributed/scheduler.py\", line 1712, in remove_worker\n",
      "    plugin.remove_worker(scheduler=self, worker=address)\n",
      "  File \"/home/de64/anaconda3/envs/mothermachine/lib/python3.6/site-packages/dask_jobqueue/core.py\", line 74, in remove_worker\n",
      "    del self.running_jobs[job_id][name]\n",
      "KeyError: '31631784'\n",
      "distributed.scheduler - ERROR - '31631778'\n",
      "Traceback (most recent call last):\n",
      "  File \"/home/de64/anaconda3/envs/mothermachine/lib/python3.6/site-packages/distributed/scheduler.py\", line 1712, in remove_worker\n",
      "    plugin.remove_worker(scheduler=self, worker=address)\n",
      "  File \"/home/de64/anaconda3/envs/mothermachine/lib/python3.6/site-packages/dask_jobqueue/core.py\", line 74, in remove_worker\n",
      "    del self.running_jobs[job_id][name]\n",
      "KeyError: '31631778'\n",
      "distributed.scheduler - ERROR - '31631781'\n",
      "Traceback (most recent call last):\n",
      "  File \"/home/de64/anaconda3/envs/mothermachine/lib/python3.6/site-packages/distributed/scheduler.py\", line 1712, in remove_worker\n",
      "    plugin.remove_worker(scheduler=self, worker=address)\n",
      "  File \"/home/de64/anaconda3/envs/mothermachine/lib/python3.6/site-packages/dask_jobqueue/core.py\", line 74, in remove_worker\n",
      "    del self.running_jobs[job_id][name]\n",
      "KeyError: '31631781'\n"
     ]
    }
   ],
   "source": [
    "kymo_controller.shutdown()"
   ]
  }
 ],
 "metadata": {
  "kernelspec": {
   "display_name": "Python 3",
   "language": "python",
   "name": "python3"
  },
  "language_info": {
   "codemirror_mode": {
    "name": "ipython",
    "version": 3
   },
   "file_extension": ".py",
   "mimetype": "text/x-python",
   "name": "python",
   "nbconvert_exporter": "python",
   "pygments_lexer": "ipython3",
   "version": "3.6.6"
  }
 },
 "nbformat": 4,
 "nbformat_minor": 2
}
