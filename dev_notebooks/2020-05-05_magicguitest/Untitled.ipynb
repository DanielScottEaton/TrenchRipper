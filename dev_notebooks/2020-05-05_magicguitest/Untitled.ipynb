{
 "cells": [
  {
   "cell_type": "code",
   "execution_count": null,
   "metadata": {},
   "outputs": [],
   "source": []
  },
  {
   "cell_type": "code",
   "execution_count": null,
   "metadata": {},
   "outputs": [],
   "source": [
    "import math\n",
    "from enum import Enum\n",
    "from magicgui import magicgui\n",
    "\n",
    "\n",
    "class Medium(Enum):\n",
    "    Glass = 1.520\n",
    "    Oil = 1.515\n",
    "    Water = 1.333\n",
    "    Air = 1.0003\n",
    "\n",
    "\n",
    "# decorate your function with the @magicgui decorator\n",
    "@magicgui(call_button=\"calculate\")\n",
    "def snells_law(aoi=30.0, n1=Medium.Glass, n2=Medium.Water, degrees=True):\n",
    "    aoi = math.radians(aoi) if degrees else aoi\n",
    "    try:\n",
    "        result = math.asin(n1.value * math.sin(aoi) / n2.value)\n",
    "        return math.degrees(result) if degrees else result\n",
    "    except ValueError:\n",
    "        return \"Total internal reflection!\"\n",
    "\n",
    "\n",
    "# your function will now have a new attribute \"Gui\"\n",
    "# call it to create (and optionally show) the new GUI!\n",
    "snell_gui = snells_law.Gui(show=True)"
   ]
  },
  {
   "cell_type": "code",
   "execution_count": null,
   "metadata": {},
   "outputs": [],
   "source": [
    "import numpy as np\n",
    "\n",
    "#### Full Example ####\n",
    "def str_to_int(string):\n",
    "    code = {\"A\": 0, \"C\": 1, \"G\": 2, \"T\": 3}\n",
    "    conv_str = np.array(list(map(lambda x: code[x], string)))\n",
    "    return conv_str\n",
    "\n",
    "\n",
    "ex_1 = np.apply_along_axis(\n",
    "    \"\".join, 1, np.random.choice([\"A\", \"C\", \"G\", \"T\"], size=(10000, 20))\n",
    ")  # example array of strings\n",
    "ex_2 = np.apply_along_axis(\n",
    "    \"\".join, 1, np.random.choice([\"A\", \"C\", \"G\", \"T\"], size=(10000, 20))\n",
    ")  # example array of strings\n",
    "ex_1_int = np.array(\n",
    "    list(map(str_to_int, ex_1)), dtype=\"uint8\"\n",
    ")  # conversion to (N, L) array of integers\n",
    "ex_2_int = np.array(\n",
    "    list(map(str_to_int, ex_2)), dtype=\"uint8\"\n",
    ")  # conversion to (N, L) array of integers\n",
    "ex_1_broadcast = np.array(\n",
    "    ex_1_int[:, np.newaxis, :]\n",
    ")  # reshaping for broadcast operation (N, L) -> (N, 1, L)\n",
    "ex_2_broadcast = np.array(\n",
    "    ex_2_int[np.newaxis, :, :]\n",
    ")  # reshaping for broadcast operation (N, L) -> (1, N, L)\n",
    "bool_arr = ex_1_broadcast == ex_2_broadcast  # broadcast comparison (N, N, L)\n",
    "match_arr = np.sum(bool_arr, axis=2)  # summing over L (N, N)"
   ]
  },
  {
   "cell_type": "code",
   "execution_count": null,
   "metadata": {},
   "outputs": [],
   "source": []
  }
 ],
 "metadata": {
  "kernelspec": {
   "display_name": "Python 3",
   "language": "python",
   "name": "python3"
  },
  "language_info": {
   "codemirror_mode": {
    "name": "ipython",
    "version": 3
   },
   "file_extension": ".py",
   "mimetype": "text/x-python",
   "name": "python",
   "nbconvert_exporter": "python",
   "pygments_lexer": "ipython3",
   "version": "3.7.6"
  }
 },
 "nbformat": 4,
 "nbformat_minor": 4
}
