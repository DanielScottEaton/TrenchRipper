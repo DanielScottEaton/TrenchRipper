{
 "cells": [
  {
   "cell_type": "markdown",
   "metadata": {
    "toc-hr-collapsed": false
   },
   "source": [
    "# TrenchRipper Master Notebook"
   ]
  },
  {
   "cell_type": "markdown",
   "metadata": {},
   "source": [
    "#### Imports"
   ]
  },
  {
   "cell_type": "code",
   "execution_count": 1,
   "metadata": {},
   "outputs": [
    {
     "name": "stderr",
     "output_type": "stream",
     "text": [
      "/home/de64/anaconda3/envs/mothermachine/lib/python3.6/site-packages/dask_jobqueue/config.py:12: YAMLLoadWarning: calling yaml.load() without Loader=... is deprecated, as the default Loader is unsafe. Please read https://msg.pyyaml.org/load for full details.\n",
      "  defaults = yaml.load(f)\n"
     ]
    }
   ],
   "source": [
    "import trenchripper as tr\n",
    "\n",
    "from ipywidgets import interact, interactive, fixed, interact_manual, FloatSlider, IntSlider, Dropdown, IntText, SelectMultiple, IntRangeSlider\n",
    "import ipywidgets as widgets\n",
    "import matplotlib\n",
    "import warnings\n",
    "import copy\n",
    "\n",
    "matplotlib.rcParams['figure.figsize'] = [20, 10]\n",
    "warnings.filterwarnings(action='once')"
   ]
  },
  {
   "cell_type": "markdown",
   "metadata": {},
   "source": [
    "#### Specify Paths\n",
    "\n",
    "Begin by defining the directory in which all processing will be done, as well as the initial nd2 file we will be processing."
   ]
  },
  {
   "cell_type": "code",
   "execution_count": 2,
   "metadata": {},
   "outputs": [],
   "source": [
    "headpath = \"/n/scratch2/de64/2019-06-18_DE85_training_data\"\n",
    "nd2file = \"/n/scratch2/de64/2019-06-18_DE85_training_data/bde17_gotime.nd2\""
   ]
  },
  {
   "cell_type": "markdown",
   "metadata": {
    "toc-hr-collapsed": false
   },
   "source": [
    "#### Transfer files into the scratch folder"
   ]
  },
  {
   "cell_type": "code",
   "execution_count": null,
   "metadata": {},
   "outputs": [],
   "source": [
    "sourcedir = \"/n/files/SysBio/PAULSSON\\ LAB/Daniel/Image_Data/Bacillus_Project/2019-06-18_DE85_training_data\"\n",
    "targetdir = \"/n/scratch2/de64/2019-06-18_DE85_training_data\"\n",
    "tr.cluster.transferjob(sourcedir,targetdir)"
   ]
  },
  {
   "cell_type": "markdown",
   "metadata": {
    "toc-hr-collapsed": true
   },
   "source": [
    "### Extract to hdf5 files"
   ]
  },
  {
   "cell_type": "markdown",
   "metadata": {},
   "source": [
    "#### Start Dask Workers"
   ]
  },
  {
   "cell_type": "code",
   "execution_count": 2,
   "metadata": {},
   "outputs": [
    {
     "name": "stderr",
     "output_type": "stream",
     "text": [
      "/home/de64/anaconda3/envs/mothermachine/lib/python3.6/site-packages/distributed/deploy/local.py:138: UserWarning: diagnostics_port has been deprecated. Please use `dashboard_address=` instead\n",
      "  \"diagnostics_port has been deprecated. \"\n"
     ]
    }
   ],
   "source": [
    "dask_controller = tr.cluster.dask_controller(walltime='04:00:00',local=False,n_workers=40,memory='4GB')\n",
    "dask_controller.startdask()\n",
    "dask_controller.daskcluster.start_workers()"
   ]
  },
  {
   "cell_type": "code",
   "execution_count": 3,
   "metadata": {},
   "outputs": [
    {
     "data": {
      "text/html": [
       "<a href=\"http://10.120.16.193:8787/status\">Dashboard</a>"
      ],
      "text/plain": [
       "<IPython.core.display.HTML object>"
      ]
     },
     "metadata": {},
     "output_type": "display_data"
    }
   ],
   "source": [
    "dask_controller.displaydashboard()"
   ]
  },
  {
   "cell_type": "markdown",
   "metadata": {},
   "source": [
    "#### Perform Extraction"
   ]
  },
  {
   "cell_type": "code",
   "execution_count": 10,
   "metadata": {},
   "outputs": [
    {
     "name": "stderr",
     "output_type": "stream",
     "text": [
      "/home/de64/anaconda3/envs/mothermachine/lib/python3.6/site-packages/nd2reader/common_raw_metadata.py:94: RuntimeWarning: Reported average frame interval (587498.1 ms) doesn't match the set interval (600000.0 ms). Using the average now.\n",
      "  warnings.warn(message % (avg_interval, interval), RuntimeWarning)\n"
     ]
    }
   ],
   "source": [
    "hdf5_extractor = tr.ndextract.hdf5_fov_extractor(nd2file,headpath)"
   ]
  },
  {
   "cell_type": "code",
   "execution_count": 12,
   "metadata": {},
   "outputs": [],
   "source": [
    "hdf5_extractor.writemetadata()\n",
    "fov_list = hdf5_extractor.exp_metadata['fields_of_view']\n",
    "dask_controller.mapfovs(hdf5_extractor.extract_fov,fov_list)"
   ]
  },
  {
   "cell_type": "markdown",
   "metadata": {},
   "source": [
    "#### Shutdown Dask"
   ]
  },
  {
   "cell_type": "code",
   "execution_count": 5,
   "metadata": {},
   "outputs": [],
   "source": [
    "dask_controller.shutdown()"
   ]
  },
  {
   "cell_type": "markdown",
   "metadata": {
    "toc-hr-collapsed": true
   },
   "source": [
    "## Kymographs"
   ]
  },
  {
   "cell_type": "markdown",
   "metadata": {
    "toc-hr-collapsed": true
   },
   "source": [
    "### Test Parameters"
   ]
  },
  {
   "cell_type": "markdown",
   "metadata": {
    "toc-hr-collapsed": false
   },
   "source": [
    "#### Initialize the interactive kymograph class\n",
    "\n",
    "As a first step, initialize the `tr.interactive.kymograph_interactive` class that will be handling all steps of generating a kymograph. \n",
    "\n",
    "You will need to specify the following `args` and `kwargs` (in order):\n",
    "\n",
    "\n",
    "**Args**\n",
    "\n",
    "**input_file_prefix (string)** : File prefix for all input hdf5 files of the form \"\\[input_file_prefix\\]\\[number\\].hdf5\" This should be the default output format for the hdf5 export code, but you will need to rename files if taking input files from a different source.\n",
    "\n",
    "**all_channels (list)** : list of strings corresponding to the different image channels available in the input hdf5 file, with the channel used for segmenting trenches in the first position. NOTE: these names must match those of the input hdf5 file datasets.\n",
    "\n",
    "**fov_list (list)** : List of ints corresponding to the fovs that you wish to make kymographs of.\n",
    "\n",
    "**Kwargs**\n",
    "\n",
    "**t_subsample_step (int)** : Step size to be used for subsampling input files in time, recommend that subsampling results in between 5 and 20 timepoints for quick processing.\n",
    "\n",
    "**t_range (tuple of ints)** : Range size to be used for subsampling input files in time.\n",
    "\n",
    "The last line will perform import and subsampling of the input hdf5 image files."
   ]
  },
  {
   "cell_type": "code",
   "execution_count": 17,
   "metadata": {},
   "outputs": [],
   "source": [
    "matplotlib.rcParams['figure.figsize'] = [20, 10]\n",
    "interactive_kymograph = tr.interactive.kymograph_interactive(headpath)\n",
    "channels,shape,all_fov_list,timepoints_len = interactive_kymograph.get_image_params(0)"
   ]
  },
  {
   "cell_type": "code",
   "execution_count": 18,
   "metadata": {},
   "outputs": [
    {
     "data": {
      "application/vnd.jupyter.widget-view+json": {
       "model_id": "482f1cc6ca6948669b2008d62390de9d",
       "version_major": 2,
       "version_minor": 0
      },
      "text/plain": [
       "interactive(children=(IntText(value=0, description='FOV number:'), IntSlider(value=0, continuous_update=False,…"
      ]
     },
     "metadata": {},
     "output_type": "display_data"
    }
   ],
   "source": [
    "interact(interactive_kymograph.view_image,fov_idx=IntText(value=0,description='FOV number:',disabled=False),\\\n",
    "         t=IntSlider(value=0, min=0, max=timepoints_len-1, step=1,continuous_update=False),\n",
    "        channel=Dropdown(options=channels,value=channels[0],description='Channel:',disabled=False));"
   ]
  },
  {
   "cell_type": "code",
   "execution_count": 19,
   "metadata": {},
   "outputs": [
    {
     "data": {
      "application/vnd.jupyter.widget-view+json": {
       "model_id": "55b7c13be9364e4a8b881847136a40be",
       "version_major": 2,
       "version_minor": 0
      },
      "text/plain": [
       "interactive(children=(Dropdown(description='seg_channel', options=('channel_GFP', 'channel_Phase'), value='cha…"
      ]
     },
     "metadata": {},
     "output_type": "display_data"
    }
   ],
   "source": [
    "import_hdf5 = interactive(interactive_kymograph.import_hdf5_files, {\"manual\":True},all_channels=fixed(channels),seg_channel=Dropdown(options=channels,value=channels[0]),\\\n",
    "                          fov_list=SelectMultiple(options=all_fov_list),t_range=IntRangeSlider(value=[0, timepoints_len-1],min=0,max=timepoints_len-1,step=1,disabled=False,continuous_update=False),\\\n",
    "                          t_subsample_step=IntSlider(value=10, min=0, max=200, step=10));\n",
    "display(import_hdf5)"
   ]
  },
  {
   "cell_type": "code",
   "execution_count": 20,
   "metadata": {},
   "outputs": [],
   "source": [
    "imported_array_list = copy.copy(import_hdf5.result)"
   ]
  },
  {
   "cell_type": "markdown",
   "metadata": {},
   "source": [
    "#### Tune \"trench-row\" detection hyperparameters\n",
    "\n",
    "The kymograph code begins by detecting the positions of trench rows in the image as follows:\n",
    "\n",
    "1. Reducing each 2D image to a 1D signal along the y-axis by computing the qth percentile of the data along the x-axis\n",
    "2. Smooth this signal using a median kernel\n",
    "3. Use a [triangle threshold](https://imagej.net/Auto_Threshold#Triangle) to determine the trench row poisitons\n",
    "\n",
    "This method uses the following `kwargs`, which you can tune here:\n",
    "\n",
    "**y_percentile (int)** : Percentile to use for step 1.\n",
    "\n",
    "**smoothing_kernel_y_dim_0 (int)** : Median kernel size to use for step 2.\n",
    "\n",
    "**triangle_nbins (int)** : Number of bins to use in the triangle method histogram.\n",
    "\n",
    "**triangle_scaling (float)** : Scaling factor to apply to the threshold determined by the triangle method.\n",
    "\n",
    "\n",
    "Running the following widget will display the smoothed 1-D signal for each of your timepoints. In addition, the threshold value for each fov will be displayed as a red line."
   ]
  },
  {
   "cell_type": "code",
   "execution_count": 21,
   "metadata": {},
   "outputs": [
    {
     "data": {
      "application/vnd.jupyter.widget-view+json": {
       "model_id": "d6af28e244d847e4a6b829cc87852bdf",
       "version_major": 2,
       "version_minor": 0
      },
      "text/plain": [
       "interactive(children=(IntSlider(value=100, description='y_percentile'), IntSlider(value=17, description='smoot…"
      ]
     },
     "metadata": {},
     "output_type": "display_data"
    }
   ],
   "source": [
    "matplotlib.rcParams['figure.figsize'] = [20, 10]\n",
    "\n",
    "row_detection = interactive(interactive_kymograph.preview_y_precentiles, {\"manual\":True},imported_array_list=fixed(imported_array_list),y_percentile=IntSlider(value=100, min=0, max=100, step=1),\\\n",
    "         smoothing_kernel_y_dim_0=IntSlider(value=17, min=1, max=20, step=1),triangle_nbins=IntSlider(value=50, min=10, max=200, step=10),\\\n",
    "                triangle_scaling=FloatSlider(value=3.5, min=0., max=4., step=0.05));\n",
    "display(row_detection)"
   ]
  },
  {
   "cell_type": "markdown",
   "metadata": {},
   "source": [
    "#### Generate \"trench-row\" detection output\n",
    "\n",
    "After determining your desired hyperparameters, set them in the next cell and run it to produce output for later steps. **Note: The thresholding parameters do not need to be specified at this point.**"
   ]
  },
  {
   "cell_type": "code",
   "execution_count": 23,
   "metadata": {},
   "outputs": [],
   "source": [
    "y_percentiles_smoothed_list = copy.copy(row_detection.result)"
   ]
  },
  {
   "cell_type": "markdown",
   "metadata": {},
   "source": [
    "#### Tune \"trench-row\" cropping hyperparameters\n",
    "\n",
    "Next, we will use the detected rows to perform cropping of the input image in the y-dimension:\n",
    "\n",
    "1. Determine edges of trench rows based on threshold mask.\n",
    "2. Filter out rows that are too small.\n",
    "3. Perform cropping using the \"end\" of the row as reference (the end referring to the part of the trench farthest from the feeding channel).\n",
    "\n",
    "This method uses the following `kwargs`, which you can tune here:\n",
    "\n",
    "**triangle_nbins (int)** : Number of bins to use in the triangle method histogram.\n",
    "\n",
    "**triangle_scaling (float)** : Scaling factor to apply to the threshold determined by the triangle method.\n",
    "\n",
    "**y_min_edge_dist (int)** : Minimum row length necessary for detection.\n",
    "\n",
    "**padding_y (int)** : Padding to be used when cropping in the y-dimension.\n",
    "\n",
    "**trench_len_y (int)** : Length from the end of the tenches to be used when cropping in the y-dimension.\n",
    "\n",
    "**top_orientation (int)** : The orientation of the top-most row where 0 corresponds to a trench with a downward-oriented trench opening and 1 corresponds to a trench with an upward-oriented trench opening.\n",
    "\n",
    "**vertical_spacing (float)** : Parameter for setting the distance of plots being viewed.\n",
    "\n",
    "Running the following widget will display y-cropped images for each fov and timepoint."
   ]
  },
  {
   "cell_type": "code",
   "execution_count": 24,
   "metadata": {},
   "outputs": [
    {
     "data": {
      "application/vnd.jupyter.widget-view+json": {
       "model_id": "00989c5dd1b04e80b350060c03c728e0",
       "version_major": 2,
       "version_minor": 0
      },
      "text/plain": [
       "interactive(children=(IntSlider(value=50, description='triangle_nbins', max=200, min=10, step=10), FloatSlider…"
      ]
     },
     "metadata": {},
     "output_type": "display_data"
    }
   ],
   "source": [
    "matplotlib.rcParams['figure.figsize'] = [20, 10]\n",
    "y_cropping = interactive(interactive_kymograph.preview_y_crop,{\"manual\":True},y_percentiles_smoothed_list=fixed(y_percentiles_smoothed_list),\\\n",
    "                imported_array_list=fixed(imported_array_list),\\\n",
    "                triangle_nbins=IntSlider(value=50, min=10, max=200, step=10),\\\n",
    "                triangle_scaling=FloatSlider(value=1.05, min=0., max=4., step=0.05),\\\n",
    "                y_min_edge_dist=IntSlider(value=50, min=10, max=200, step=10),\\\n",
    "                padding_y=IntSlider(value=20, min=0, max=100, step=1),\\\n",
    "                trench_len_y=IntSlider(value=270, min=0, max=1000, step=10),\n",
    "               vertical_spacing=FloatSlider(value=0.9, min=0., max=2., step=0.01),\\\n",
    "                expected_num_rows=IntText(value=2,description='Number of Rows:',disabled=False),\\\n",
    "               orientation_detection=Dropdown(options=[0, 1, 'phase'],value=0,description='Orientation:',disabled=False),\n",
    "                orientation_on_fail=Dropdown(options=[None,0, 1],value=0,description='Orientation when < expected rows:',disabled=False))\n",
    "display(y_cropping)"
   ]
  },
  {
   "cell_type": "markdown",
   "metadata": {},
   "source": [
    "#### Generate \"trench-row\" cropping output\n",
    "\n",
    "After determining your desired hyperparameters, set them in the next cell and run it to produce output for later steps."
   ]
  },
  {
   "cell_type": "code",
   "execution_count": 25,
   "metadata": {},
   "outputs": [],
   "source": [
    "cropped_in_y_list = copy.copy(y_cropping.result)"
   ]
  },
  {
   "cell_type": "markdown",
   "metadata": {},
   "source": [
    "#### Tune trench detection hyperparameters\n",
    "\n",
    "Next, we will detect the positions of trenchs in the y-cropped images as follows:\n",
    "\n",
    "1. Reducing each 2D image to a 1D signal along the x-axis by computing the qth percentile of the data along the y-axis.\n",
    "2. Determine the signal background by smooth this signal using a large median kernel.\n",
    "3. Subtract the background signal.\n",
    "4. Smooth the resultant signal using a median kernel.\n",
    "5. Use a [otsu threhsold](https://imagej.net/Auto_Threshold#Otsu) to determine the trench midpoint poisitons.\n",
    "\n",
    "This method uses the following `kwargs`, which you can tune here:\n",
    "\n",
    "**x_percentile (int)** : Percentile to use for step 1.\n",
    "\n",
    "**background_kernel_x (int)** : Median kernel size to use for step 2.\n",
    "\n",
    "**smoothing_kernel_x (int)** : Median kernel size to use for step 4.\n",
    "\n",
    "**otsu_nbins (int)** : Number of bins to use in the Otsu's method histogram.\n",
    "\n",
    "**otsu_scaling (float)** : Scaling factor to apply to the threshold determined by Otsu's method.\n",
    "\n",
    "**vertical_spacing (float)** : Parameter for setting the distance of plots being viewed.\n",
    "\n",
    "Running the following widget will display the smoothed 1-D signal for each of your timepoints. In addition, the threshold value for each fov will be displayed as a red line."
   ]
  },
  {
   "cell_type": "code",
   "execution_count": 26,
   "metadata": {},
   "outputs": [
    {
     "data": {
      "application/vnd.jupyter.widget-view+json": {
       "model_id": "4d418a2186e245b38815a99a36e90c3b",
       "version_major": 2,
       "version_minor": 0
      },
      "text/plain": [
       "interactive(children=(IntSlider(value=0, description='t', max=4), IntSlider(value=85, description='x_percentil…"
      ]
     },
     "metadata": {},
     "output_type": "display_data"
    }
   ],
   "source": [
    "trench_detection = interactive(interactive_kymograph.preview_x_percentiles, {\"manual\":True}, cropped_in_y_list=fixed(cropped_in_y_list),t=IntSlider(value=0, min=0, max=cropped_in_y_list[0].shape[4]-1, step=1),\\\n",
    "                x_percentile=IntSlider(value=85, min=50, max=100, step=1),background_kernel_x=IntSlider(value=21, min=1, max=601, step=20), smoothing_kernel_x=IntSlider(value=9, min=1, max=31, step=2),\\\n",
    "               otsu_nbins=IntSlider(value=50, min=10, max=200, step=10),otsu_scaling=FloatSlider(value=0.25, min=0., max=2., step=0.01),\\\n",
    "               vertical_spacing=FloatSlider(value=0.9, min=0., max=2., step=0.01));\n",
    "display(trench_detection)"
   ]
  },
  {
   "cell_type": "markdown",
   "metadata": {},
   "source": [
    "#### Generate trench detection output\n",
    "\n",
    "After determining your desired hyperparameters, set them in the next cell and run it to produce output for later steps. **Note: The thresholding parameters do not need to be specified at this point.**"
   ]
  },
  {
   "cell_type": "code",
   "execution_count": 27,
   "metadata": {},
   "outputs": [],
   "source": [
    "smoothed_x_percentiles_list = trench_detection.result"
   ]
  },
  {
   "cell_type": "markdown",
   "metadata": {},
   "source": [
    "#### Check midpoint drift\n",
    "\n",
    "Next, we will perform x-dimension drift correction of our detected midpoints as follows:\n",
    "\n",
    "1. Begin at t=1\n",
    "2. For $m \\in \\{midpoints(t)\\}$ assign $n \\in \\{midpoints(t-1)\\}$ to m if n is the closest midpoint to m at time $t-1$,\n",
    "points that are not the closest midpoint to any midpoints in m will not be mapped.\n",
    "3. Compute the translation of each midpoint at time.\n",
    "4. Take the average of this value as the x-dimension drift from time t-1 to t.\n",
    "\n",
    "This method uses the following `kwargs`, which you can tune here:\n",
    "\n",
    "**otsu_nbins (int)** : Number of bins to use in the Otsu's method histogram.\n",
    "\n",
    "**otsu_scaling (float)** : Scaling factor to apply to the threshold determined by Otsu's method.\n",
    "\n",
    "**vertical_spacing (float)** : Parameter for setting the distance of plots being viewed.\n",
    "\n",
    "Running the following widget will display the detected midpoints for each of your timepoints. If there is too much sparsity, or discontinuity, your drift correction will not be accurate."
   ]
  },
  {
   "cell_type": "code",
   "execution_count": 28,
   "metadata": {},
   "outputs": [
    {
     "data": {
      "application/vnd.jupyter.widget-view+json": {
       "model_id": "7a0f1d19754445f68892c65baf8d0f5b",
       "version_major": 2,
       "version_minor": 0
      },
      "text/plain": [
       "interactive(children=(IntSlider(value=50, description='otsu_nbins', max=200, min=10, step=10), FloatSlider(val…"
      ]
     },
     "metadata": {},
     "output_type": "display_data"
    }
   ],
   "source": [
    "midpoint_drift = interactive(interactive_kymograph.preview_midpoints,{\"manual\":True},smoothed_x_percentiles_list=fixed(smoothed_x_percentiles_list),\\\n",
    "                otsu_nbins=IntSlider(value=50, min=10, max=200, step=10),\n",
    "                otsu_scaling=FloatSlider(value=0.25, min=0., max=2., step=0.01),\\\n",
    "               vertical_spacing=FloatSlider(value=0.8, min=0., max=2., step=0.01));\n",
    "display(midpoint_drift)"
   ]
  },
  {
   "cell_type": "markdown",
   "metadata": {},
   "source": [
    "#### Generate midpoint drift output\n",
    "\n",
    "After determining your desired hyperparameters, set them in the next cell and run it to produce output for later steps."
   ]
  },
  {
   "cell_type": "code",
   "execution_count": 29,
   "metadata": {},
   "outputs": [],
   "source": [
    "all_midpoints_list,x_drift_list = midpoint_drift.result"
   ]
  },
  {
   "cell_type": "code",
   "execution_count": 30,
   "metadata": {},
   "outputs": [
    {
     "data": {
      "application/vnd.jupyter.widget-view+json": {
       "model_id": "057c6380c17940bf8677c39ae598e8c0",
       "version_major": 2,
       "version_minor": 0
      },
      "text/plain": [
       "interactive(children=(IntSlider(value=30, description='trench_width_x', max=50, min=10), FloatSlider(value=0.0…"
      ]
     },
     "metadata": {},
     "output_type": "display_data"
    }
   ],
   "source": [
    "corrected_midpoints = interactive(interactive_kymograph.preview_corrected_midpoints,{\"manual\":True},all_midpoints_list=fixed(all_midpoints_list),\\\n",
    "                                  x_drift_list = fixed(x_drift_list),trench_width_x=IntSlider(value=30, min=10, max=50, step=1),\\\n",
    "                                  trench_present_thr=FloatSlider(value=0., min=0., max=1., step=0.05),\\\n",
    "                                  vertical_spacing=FloatSlider(value=0.8, min=0., max=2., step=0.01));\n",
    "display(corrected_midpoints)"
   ]
  },
  {
   "cell_type": "markdown",
   "metadata": {},
   "source": [
    "#### Tune trench cropping hyperparameters\n",
    "\n",
    "Trench cropping simply uses the drift-corrected midpoints as a reference and crops out some fixed length around them to produce an output kymograph\n",
    "\n",
    "This method uses the following `kwargs`, which you can tune here:\n",
    "\n",
    "**trench_width_x (int)** : Trench width to use for cropping.\n",
    "\n",
    "**vertical_spacing (float)** : Parameter for setting the distance of plots being viewed.\n",
    "\n",
    "Running the following widget will display a random kymograph for each row in each fov."
   ]
  },
  {
   "cell_type": "code",
   "execution_count": 31,
   "metadata": {},
   "outputs": [
    {
     "data": {
      "application/vnd.jupyter.widget-view+json": {
       "model_id": "b41648c99cdd4236b5d3ca72508a2a1b",
       "version_major": 2,
       "version_minor": 0
      },
      "text/plain": [
       "interactive(children=(IntSlider(value=30, description='trench_width_x', max=50, min=10), FloatSlider(value=0.0…"
      ]
     },
     "metadata": {},
     "output_type": "display_data"
    },
    {
     "data": {
      "text/plain": [
       "<function ipywidgets.widgets.interaction._InteractFactory.__call__.<locals>.<lambda>(*args, **kwargs)>"
      ]
     },
     "execution_count": 31,
     "metadata": {},
     "output_type": "execute_result"
    }
   ],
   "source": [
    "matplotlib.rcParams['figure.figsize'] = [20, 10]\n",
    "interact_manual(interactive_kymograph.preview_kymographs,cropped_in_y_list=fixed(cropped_in_y_list),all_midpoints_list=fixed(all_midpoints_list),\\\n",
    "                x_drift_list=fixed(x_drift_list),trench_width_x=IntSlider(value=30, min=10, max=50, step=1),\\\n",
    "                trench_present_thr=FloatSlider(value=0., min=0., max=1., step=0.05),\\\n",
    "               vertical_spacing=FloatSlider(value=0.8, min=0., max=2., step=0.01))"
   ]
  },
  {
   "cell_type": "markdown",
   "metadata": {},
   "source": [
    "#### Export and save hyperparameters"
   ]
  },
  {
   "cell_type": "code",
   "execution_count": 32,
   "metadata": {},
   "outputs": [
    {
     "name": "stdout",
     "output_type": "stream",
     "text": [
      "Y Percentile 99\n",
      "Y Smoothing Kernel 17\n",
      "Triangle Trheshold Bins 50\n",
      "Triangle Threshold Scaling 3.5\n",
      "Minimum Trench Length 50\n",
      "Y Padding 30\n",
      "Trench Length 300\n",
      "Orientation Detection Method 1\n",
      "Expected Number of Rows (Manual Orientation Detection) 1\n",
      "Top Orientation when Row Drifts Out (Manual Orientation Detection) 1\n",
      "X Percentile 95\n",
      "X Background Kernel 21\n",
      "X Smoothing Kernel 9\n",
      "Otsu Trheshold Bins 50\n",
      "Otsu Threshold Scaling 0.25\n",
      "Trench Width 22\n",
      "Trench Presence Threshold 0.6\n",
      "All Channels ['channel_GFP', 'channel_Phase']\n",
      "Time Range (0, 49)\n"
     ]
    }
   ],
   "source": [
    "interactive_kymograph.process_results()"
   ]
  },
  {
   "cell_type": "code",
   "execution_count": 33,
   "metadata": {},
   "outputs": [],
   "source": [
    "interactive_kymograph.write_param_file()"
   ]
  },
  {
   "cell_type": "markdown",
   "metadata": {
    "toc-hr-collapsed": true
   },
   "source": [
    "### Generate Kymograph"
   ]
  },
  {
   "cell_type": "markdown",
   "metadata": {},
   "source": [
    "#### Start Dask Workers"
   ]
  },
  {
   "cell_type": "code",
   "execution_count": 34,
   "metadata": {},
   "outputs": [
    {
     "name": "stderr",
     "output_type": "stream",
     "text": [
      "/home/de64/anaconda3/envs/mothermachine/lib/python3.6/site-packages/distributed/deploy/local.py:138: UserWarning: diagnostics_port has been deprecated. Please use `dashboard_address=` instead\n",
      "  \"diagnostics_port has been deprecated. \"\n",
      "/home/de64/anaconda3/envs/mothermachine/lib/python3.6/site-packages/distributed/bokeh/core.py:74: UserWarning: \n",
      "Port 8787 is already in use. \n",
      "Perhaps you already have a cluster running?\n",
      "Hosting the diagnostics dashboard on a random port instead.\n",
      "  warnings.warn(\"\\n\" + msg)\n",
      "/home/de64/anaconda3/envs/mothermachine/lib/python3.6/site-packages/distributed/bokeh/core.py:77: ResourceWarning: unclosed <socket.socket fd=91, family=AddressFamily.AF_INET, type=2049, proto=6, laddr=('0.0.0.0', 0)>\n",
      "  raise\n"
     ]
    }
   ],
   "source": [
    "dask_controller = tr.cluster.dask_controller(walltime='04:00:00',local=False,n_workers=20,memory='4GB')\n",
    "dask_controller.startdask()\n",
    "dask_controller.daskcluster.start_workers()"
   ]
  },
  {
   "cell_type": "code",
   "execution_count": 35,
   "metadata": {},
   "outputs": [
    {
     "data": {
      "text/html": [
       "<a href=\"http://10.120.16.178:60492/status\">Dashboard</a>"
      ],
      "text/plain": [
       "<IPython.core.display.HTML object>"
      ]
     },
     "metadata": {},
     "output_type": "display_data"
    }
   ],
   "source": [
    "dask_controller.displaydashboard()"
   ]
  },
  {
   "cell_type": "code",
   "execution_count": 36,
   "metadata": {},
   "outputs": [],
   "source": [
    "kymo = tr.kymograph.kychunker(headpath=headpath,paramfile=True)"
   ]
  },
  {
   "cell_type": "code",
   "execution_count": 37,
   "metadata": {},
   "outputs": [
    {
     "name": "stderr",
     "output_type": "stream",
     "text": [
      "/home/de64/TrenchRipper/trenchripper/utils.py:295: UserWarning: Pandas doesn't allow columns to be created via a new attribute name - see https://pandas.pydata.org/pandas-docs/stable/indexing.html#attribute-access\n",
      "  df.metadata = store.get_storer(key).attrs.metadata\n"
     ]
    }
   ],
   "source": [
    "kymo.dask_full_kymograph(dask_controller)"
   ]
  },
  {
   "cell_type": "markdown",
   "metadata": {},
   "source": [
    "#### Check kymograph statistics"
   ]
  },
  {
   "cell_type": "code",
   "execution_count": 38,
   "metadata": {},
   "outputs": [
    {
     "name": "stdout",
     "output_type": "stream",
     "text": [
      "fovs processed: 41/50\n",
      "lanes processed: 41\n",
      "trenches processed: 1605\n",
      "lanes/fov: 1.0\n",
      "trenches/fov: 39.146341463414636\n",
      "failed fovs: [35, 37, 11, 12, 45, 47, 48, 49, 31]\n"
     ]
    }
   ],
   "source": [
    "kymo.kymo_report()"
   ]
  },
  {
   "cell_type": "markdown",
   "metadata": {},
   "source": [
    "#### Shutdown Dask"
   ]
  },
  {
   "cell_type": "code",
   "execution_count": 39,
   "metadata": {},
   "outputs": [],
   "source": [
    "dask_controller.shutdown()"
   ]
  },
  {
   "cell_type": "markdown",
   "metadata": {
    "toc-hr-collapsed": true
   },
   "source": [
    "## Segmentation"
   ]
  },
  {
   "cell_type": "markdown",
   "metadata": {
    "toc-hr-collapsed": true
   },
   "source": [
    "### Test Parameters"
   ]
  },
  {
   "cell_type": "markdown",
   "metadata": {},
   "source": [
    "#### Initialize the interactive segmentation class\n",
    "\n",
    "As a first step, initialize the `tr.interactive.fluo_segmentation_interactive` class that will be handling all steps of generating a segmentation. \n",
    "\n",
    "You will need to specify the following `args` (in order):\n",
    "\n",
    "\n",
    "**Args**\n",
    "\n",
    "**headpath (string)** : Top level path being used for processing (same as the rest of the mother machine pipeline.)"
   ]
  },
  {
   "cell_type": "code",
   "execution_count": 3,
   "metadata": {},
   "outputs": [
    {
     "name": "stderr",
     "output_type": "stream",
     "text": [
      "/home/de64/anaconda3/envs/mothermachine/lib/python3.6/importlib/_bootstrap.py:219: RuntimeWarning: numpy.ufunc size changed, may indicate binary incompatibility. Expected 192 from C header, got 216 from PyObject\n",
      "  return f(*args, **kwds)\n",
      "/home/de64/TrenchRipper/trenchripper/utils.py:295: UserWarning: Pandas doesn't allow columns to be created via a new attribute name - see https://pandas.pydata.org/pandas-docs/stable/indexing.html#attribute-access\n",
      "  df.metadata = store.get_storer(key).attrs.metadata\n"
     ]
    }
   ],
   "source": [
    "matplotlib.rcParams['figure.figsize'] = [20, 10]\n",
    "interactive_segmentation = tr.interactive.fluo_segmentation_interactive(headpath)"
   ]
  },
  {
   "cell_type": "markdown",
   "metadata": {},
   "source": [
    "#### Choose channel to segment on"
   ]
  },
  {
   "cell_type": "code",
   "execution_count": 4,
   "metadata": {},
   "outputs": [
    {
     "data": {
      "application/vnd.jupyter.widget-view+json": {
       "model_id": "212ab713922349b395cedd6d9e53fa54",
       "version_major": 2,
       "version_minor": 0
      },
      "text/plain": [
       "interactive(children=(Dropdown(description='seg_channel', options=('channel_Phase', 'channel_GFP'), value='cha…"
      ]
     },
     "metadata": {},
     "output_type": "display_data"
    }
   ],
   "source": [
    "choose_channel = interactive(interactive_segmentation.choose_seg_channel, {\"manual\":True},seg_channel=Dropdown(options=interactive_segmentation.all_channels,\\\n",
    "                                                                                              value=interactive_segmentation.all_channels[0]));\n",
    "display(choose_channel)"
   ]
  },
  {
   "cell_type": "markdown",
   "metadata": {},
   "source": [
    "#### Import data\n",
    "\n",
    "Fill in \n",
    "\n",
    "You will need to tune the following `args` and `kwargs` (in order):\n",
    "\n",
    "**fov_idx (int)** :\n",
    "\n",
    "**n_trenches (int)** :\n",
    "\n",
    "**t_range (tuple)** :\n",
    "\n",
    "**t_subsample_step (int)** :"
   ]
  },
  {
   "cell_type": "code",
   "execution_count": 5,
   "metadata": {},
   "outputs": [
    {
     "data": {
      "application/vnd.jupyter.widget-view+json": {
       "model_id": "261be28db2514cf696c63908ab511321",
       "version_major": 2,
       "version_minor": 0
      },
      "text/plain": [
       "interactive(children=(IntText(value=0, description='FOV number:'), IntText(value=1, description='Number of tre…"
      ]
     },
     "metadata": {},
     "output_type": "display_data"
    }
   ],
   "source": [
    "kymo_arr_int = interactive(interactive_segmentation.import_array, {\"manual\":True},fov_idx=IntText(value=0,description='FOV number:',disabled=False),\\\n",
    "                       n_trenches=IntText(value=1,description='Number of trenches:',disabled=False),\\\n",
    "                       t_range=IntRangeSlider(value=[interactive_segmentation.t_range[0],interactive_segmentation.t_range[1]-1],\\\n",
    "                        description='Time Range:',min=interactive_segmentation.t_range[0],max=interactive_segmentation.t_range[1]-1,step=1,disabled=False),\\\n",
    "                       t_subsample_step=IntSlider(value=1,description='Time Subsampling Step:', min=1, max=20, step=1),\\\n",
    "                       fig_size_y=IntSlider(value=9, description='Figure Size (Y Dimension):' , min=1, max=30, step=1),\\\n",
    "                       fig_size_x=IntSlider(value=6, description='Figure Size (X Dimension):', min=1, max=30, step=1));\n",
    "display(kymo_arr_int)"
   ]
  },
  {
   "cell_type": "code",
   "execution_count": 6,
   "metadata": {},
   "outputs": [],
   "source": [
    "kymo_arr = copy.copy(kymo_arr_int.result)"
   ]
  },
  {
   "cell_type": "markdown",
   "metadata": {},
   "source": [
    "#### Scale data\n",
    "\n",
    "Fill in \n",
    "\n",
    "You will need to tune the following `args` and `kwargs` (in order):\n",
    "\n",
    "**scale (bool)** : Whether to scale the kymograph in time.\n",
    "\n",
    "**scaling_percentile (int)** : Whole image intensity percentile to use to determine scaling constant. "
   ]
  },
  {
   "cell_type": "code",
   "execution_count": 7,
   "metadata": {},
   "outputs": [
    {
     "data": {
      "application/vnd.jupyter.widget-view+json": {
       "model_id": "28dd84eb7c95480ea661937e90214500",
       "version_major": 2,
       "version_minor": 0
      },
      "text/plain": [
       "interactive(children=(Dropdown(description='Scale Fluorescence?', options=(True, False), value=True), IntSlide…"
      ]
     },
     "metadata": {},
     "output_type": "display_data"
    }
   ],
   "source": [
    "scaled_list_int = interactive(interactive_segmentation.plot_scaled, {\"manual\":True},kymo_arr=fixed(kymo_arr),\\\n",
    "                          scale=Dropdown(options=[True,False],value=True,description='Scale Fluorescence?',disabled=False),\\\n",
    "                          scaling_percentile=IntSlider(value=90,description='Scaling Percentile:',min=0,max=100,step=1,disabled=False));\n",
    "display(scaled_list_int)"
   ]
  },
  {
   "cell_type": "code",
   "execution_count": 8,
   "metadata": {},
   "outputs": [],
   "source": [
    "scaled_list = copy.copy(scaled_list_int.result)"
   ]
  },
  {
   "cell_type": "markdown",
   "metadata": {},
   "source": [
    "#### Apply Gaussian Filter\n",
    "\n",
    "Fill in \n",
    "\n",
    "You will need to tune the following `args` and `kwargs` (in order):\n",
    "\n",
    "**smooth_sigma (float)** : Standard deviation of gaussian kernel."
   ]
  },
  {
   "cell_type": "code",
   "execution_count": 9,
   "metadata": {},
   "outputs": [
    {
     "data": {
      "application/vnd.jupyter.widget-view+json": {
       "model_id": "25e50dc6ffa640bf9425e44ad27b45b4",
       "version_major": 2,
       "version_minor": 0
      },
      "text/plain": [
       "interactive(children=(FloatSlider(value=0.75, description='Gaussian Kernel Sigma:', max=3.0, step=0.25), Butto…"
      ]
     },
     "metadata": {},
     "output_type": "display_data"
    }
   ],
   "source": [
    "proc_list_int = interactive(interactive_segmentation.plot_processed, {\"manual\":True},scaled_list=fixed(scaled_list),\\\n",
    "                          smooth_sigma=FloatSlider(value=0.75,description='Gaussian Kernel Sigma:',min=0.,max=3.,step=0.25,disabled=False));\n",
    "display(proc_list_int)"
   ]
  },
  {
   "cell_type": "code",
   "execution_count": 10,
   "metadata": {},
   "outputs": [
    {
     "data": {
      "image/png": "[encoded data removed]",
      "text/plain": [
       "<Figure size 360x432 with 2 Axes>"
      ]
     },
     "metadata": {
      "needs_background": "light"
     },
     "output_type": "display_data"
    }
   ],
   "source": [
    "proc_list = copy.copy(proc_list_int.result)\n",
    "eigval_list = interactive_segmentation.plot_eigval(proc_list)"
   ]
  },
  {
   "cell_type": "markdown",
   "metadata": {},
   "source": [
    "#### Determine Cell Mask Envelope\n",
    "\n",
    "Fill in.\n",
    "\n",
    "You will need to tune the following `args` and `kwargs` (in order):\n",
    "\n",
    "**cell_mask_method (str)** : Thresholding method, can be a local or global Otsu threshold.\n",
    "\n",
    "**cell_otsu_scaling (float)** : Scaling factor applied to determined threshold.\n",
    "\n",
    "**local_otsu_r (int)** : Radius of thresholding kernel used in the local otsu thresholding."
   ]
  },
  {
   "cell_type": "code",
   "execution_count": 11,
   "metadata": {},
   "outputs": [
    {
     "data": {
      "application/vnd.jupyter.widget-view+json": {
       "model_id": "ea31a4f3f06a41779dff8cf66f6f3c43",
       "version_major": 2,
       "version_minor": 0
      },
      "text/plain": [
       "interactive(children=(FloatSlider(value=0.95, description='Global Threshold Scaling:', max=2.0, step=0.01), Dr…"
      ]
     },
     "metadata": {},
     "output_type": "display_data"
    }
   ],
   "source": [
    "cell_mask_list_int = interactive(interactive_segmentation.plot_cell_mask, {\"manual\":True},proc_list=fixed(proc_list),\\\n",
    "                          cell_mask_method=Dropdown(options=['local','global'],value='local',description='Cell Mask Thresholding Method:',disabled=False),\\\n",
    "                          global_otsu_scaling=FloatSlider(value=0.95,description='Global Threshold Scaling:',min=0.,max=2.,step=0.01,disabled=False),\\\n",
    "                          cell_otsu_scaling=FloatSlider(value=0.95,description='Cell Threshold Scaling:',min=0.,max=2.,step=0.01,disabled=False),\\\n",
    "                          local_otsu_r=IntSlider(value=15,description='Local Otsu Radius:',min=0,max=30,step=1,disabled=False));\n",
    "display(cell_mask_list_int)"
   ]
  },
  {
   "cell_type": "code",
   "execution_count": 12,
   "metadata": {},
   "outputs": [],
   "source": [
    "cell_mask_list = copy.copy(cell_mask_list_int.result)"
   ]
  },
  {
   "cell_type": "markdown",
   "metadata": {},
   "source": [
    "#### Display Edge Mask at Threshold Value\n",
    "\n",
    "Fill in.\n",
    "\n",
    "You will need to tune the following `args` and `kwargs` (in order):\n",
    "\n",
    "**edge_threshold_scaling (float)** : Scaling factor applied to determined threshold."
   ]
  },
  {
   "cell_type": "code",
   "execution_count": 13,
   "metadata": {},
   "outputs": [
    {
     "data": {
      "application/vnd.jupyter.widget-view+json": {
       "model_id": "472f114e03d74cfc8ff6b0cec58aceb9",
       "version_major": 2,
       "version_minor": 0
      },
      "text/plain": [
       "interactive(children=(FloatSlider(value=1.0, description='Edge Threshold Scaling', max=2.0, step=0.01), IntSli…"
      ]
     },
     "metadata": {},
     "output_type": "display_data"
    }
   ],
   "source": [
    "composite_mask_list_int = interactive(interactive_segmentation.plot_threshold_result, {\"manual\":True},eigval_list=fixed(eigval_list),cell_mask_list=fixed(cell_mask_list),\\\n",
    "                          edge_threshold_scaling=FloatSlider(value=1.,description='Edge Threshold Scaling',min=0.,max=2.,step=0.01,disabled=False),\\\n",
    "                          min_obj_size=IntSlider(value=30,description='Minimum Object Size:',min=0,max=100,step=2,disabled=False));\n",
    "display(composite_mask_list_int)"
   ]
  },
  {
   "cell_type": "markdown",
   "metadata": {},
   "source": [
    "#### Threshold Sampling and Convexity Calculation\n",
    "\n",
    "Fill in.\n",
    "\n",
    "You will need to tune the following `args` and `kwargs` (in order):\n",
    "\n",
    "**edge_threshold_scaling (float)** : Scaling factor applied to determined threshold.\n",
    "\n",
    "**threshold_step_perc (float)** : Threshold step size to be used for trying multiple thresholds.\n",
    "\n",
    "**threshold_perc_num_steps (int)** : Number of steps to use when generating multiple thresholds."
   ]
  },
  {
   "cell_type": "code",
   "execution_count": 14,
   "metadata": {},
   "outputs": [
    {
     "data": {
      "application/vnd.jupyter.widget-view+json": {
       "model_id": "223aae36a1a84d26b21af5840ce88545",
       "version_major": 2,
       "version_minor": 0
      },
      "text/plain": [
       "interactive(children=(FloatSlider(value=0.9, description='Edge Threshold Scaling', max=2.0, step=0.01), FloatS…"
      ]
     },
     "metadata": {},
     "output_type": "display_data"
    }
   ],
   "source": [
    "conv_scores_list_int = interactive(interactive_segmentation.plot_scores, {\"manual\":True},eigval_list=fixed(eigval_list),cell_mask_list=fixed(cell_mask_list),\\\n",
    "                          edge_threshold_scaling=FloatSlider(value=0.9,description='Edge Threshold Scaling',min=0.,max=2.,step=0.01,disabled=False),\\\n",
    "                          threshold_step_perc=FloatSlider(value=0.05,description='Threshold Step Percent',min=0.,max=0.5,step=0.01,disabled=False),\\\n",
    "                          threshold_perc_num_steps=IntSlider(value=2,description='Number of Threshold Steps',min=0,max=5,step=1,disabled=False),\\\n",
    "                          min_obj_size=IntSlider(value=30,description='Minimum Object Size:',min=0,max=100,step=2,disabled=False));\n",
    "display(conv_scores_list_int)"
   ]
  },
  {
   "cell_type": "code",
   "execution_count": 15,
   "metadata": {},
   "outputs": [],
   "source": [
    "conv_scores_list = copy.copy(conv_scores_list_int.result)"
   ]
  },
  {
   "cell_type": "markdown",
   "metadata": {},
   "source": [
    "#### Convexity Thresholding\n",
    "\n",
    "Fill in.\n",
    "\n",
    "You will need to tune the following `args` and `kwargs` (in order):\n",
    "\n",
    "**convex_threshold (float)** : Threshold to be used for convexity thresholding."
   ]
  },
  {
   "cell_type": "code",
   "execution_count": 16,
   "metadata": {},
   "outputs": [
    {
     "data": {
      "application/vnd.jupyter.widget-view+json": {
       "model_id": "2a16702c5abe4ca69334039d6594a750",
       "version_major": 2,
       "version_minor": 0
      },
      "text/plain": [
       "interactive(children=(FloatSlider(value=0.75, description='Convexity Threshold:', max=1.0, step=0.01), Button(…"
      ]
     },
     "metadata": {},
     "output_type": "display_data"
    }
   ],
   "source": [
    "final_mask_list_int = interactive(interactive_segmentation.plot_final_mask, {\"manual\":True},conv_scores_list=fixed(conv_scores_list),\\\n",
    "                          convex_threshold=FloatSlider(value=0.75,description='Convexity Threshold:',min=0.,max=1.,step=0.01,disabled=False));\n",
    "display(final_mask_list_int)"
   ]
  },
  {
   "cell_type": "code",
   "execution_count": 18,
   "metadata": {},
   "outputs": [
    {
     "name": "stdout",
     "output_type": "stream",
     "text": [
      "Scale Fluorescence? False\n",
      "Scaling Percentile: 90\n",
      "Gaussian Kernel Sigma: 1.25\n",
      "Cell Mask Thresholding Method: local\n",
      "Global Threshold Scaling: 1.25\n",
      "Cell Threshold Scaling: 1.05\n",
      "Local Otsu Radius: 15\n",
      "Edge Threshold Scaling: 0.9\n",
      "Threshold Step Percent: 0.05\n",
      "Number of Threshold Steps: 2\n",
      "Minimum Object Size: 30\n",
      "Segmentation Channel: channel_GFP\n",
      "Convexity Threshold: 0.75\n"
     ]
    }
   ],
   "source": [
    "interactive_segmentation.process_results()"
   ]
  },
  {
   "cell_type": "code",
   "execution_count": 19,
   "metadata": {},
   "outputs": [],
   "source": [
    "interactive_segmentation.write_param_file()"
   ]
  },
  {
   "cell_type": "markdown",
   "metadata": {
    "toc-hr-collapsed": true
   },
   "source": [
    "### Generate Segmentation"
   ]
  },
  {
   "cell_type": "markdown",
   "metadata": {},
   "source": [
    "#### Start Dask Workers"
   ]
  },
  {
   "cell_type": "code",
   "execution_count": 3,
   "metadata": {},
   "outputs": [],
   "source": [
    "dask_controller = tr.cluster.dask_controller(walltime='01:00:00',local=False,n_workers=40,memory='1GB')\n",
    "dask_controller.startdask()\n",
    "dask_controller.daskcluster.start_workers()"
   ]
  },
  {
   "cell_type": "code",
   "execution_count": 6,
   "metadata": {},
   "outputs": [
    {
     "data": {
      "text/html": [
       "<a href=\"http://10.120.16.178:8787/status\">Dashboard</a>"
      ],
      "text/plain": [
       "<IPython.core.display.HTML object>"
      ]
     },
     "metadata": {},
     "output_type": "display_data"
    }
   ],
   "source": [
    "dask_controller.displaydashboard()"
   ]
  },
  {
   "cell_type": "code",
   "execution_count": 7,
   "metadata": {},
   "outputs": [],
   "source": [
    "segment = tr.segment.fluo_segmentation_cluster(headpath,paramfile=True)"
   ]
  },
  {
   "cell_type": "code",
   "execution_count": 8,
   "metadata": {},
   "outputs": [
    {
     "name": "stderr",
     "output_type": "stream",
     "text": [
      "/home/de64/anaconda3/envs/mothermachine/lib/python3.6/importlib/_bootstrap.py:219: RuntimeWarning: numpy.ufunc size changed, may indicate binary incompatibility. Expected 192 from C header, got 216 from PyObject\n",
      "  return f(*args, **kwds)\n"
     ]
    }
   ],
   "source": [
    "segment.dask_segment(dask_controller)"
   ]
  },
  {
   "cell_type": "markdown",
   "metadata": {
    "toc-hr-collapsed": true
   },
   "source": [
    "## Other"
   ]
  },
  {
   "cell_type": "markdown",
   "metadata": {},
   "source": [
    "#### Dask Utilities"
   ]
  },
  {
   "cell_type": "code",
   "execution_count": 39,
   "metadata": {},
   "outputs": [],
   "source": [
    "dask_controller.shutdown()"
   ]
  },
  {
   "cell_type": "code",
   "execution_count": 17,
   "metadata": {},
   "outputs": [
    {
     "name": "stderr",
     "output_type": "stream",
     "text": [
      "Worker tcp://10.120.16.117:43008 restart in Job 43139620. This can be due to memory issue.\n",
      "Worker tcp://10.120.17.99:46159 restart in Job 43139597. This can be due to memory issue.\n",
      "Worker tcp://10.120.17.99:47339 restart in Job 43139596. This can be due to memory issue.\n",
      "Worker tcp://10.120.16.54:36220 restart in Job 43139615. This can be due to memory issue.\n",
      "Worker tcp://10.120.17.112:51330 restart in Job 43139598. This can be due to memory issue.\n",
      "Worker tcp://10.120.16.49:52635 restart in Job 43139590. This can be due to memory issue.\n",
      "Worker tcp://10.120.17.129:42849 restart in Job 43139600. This can be due to memory issue.\n",
      "Worker tcp://10.120.17.129:52698 restart in Job 43139601. This can be due to memory issue.\n",
      "Worker tcp://10.120.17.120:34163 restart in Job 43139608. This can be due to memory issue.\n",
      "Worker tcp://10.120.17.120:49615 restart in Job 43139609. This can be due to memory issue.\n",
      "Worker tcp://10.120.16.135:51837 restart in Job 43139621. This can be due to memory issue.\n",
      "Worker tcp://10.120.17.126:40070 restart in Job 43139610. This can be due to memory issue.\n",
      "Worker tcp://10.120.17.126:34868 restart in Job 43139611. This can be due to memory issue.\n",
      "Worker tcp://10.120.16.145:37687 restart in Job 43139603. This can be due to memory issue.\n",
      "Worker tcp://10.120.17.102:44720 restart in Job 43139584. This can be due to memory issue.\n",
      "Worker tcp://10.120.16.39:54222 restart in Job 43139588. This can be due to memory issue.\n",
      "Worker tcp://10.120.16.39:49633 restart in Job 43139587. This can be due to memory issue.\n",
      "Worker tcp://10.120.16.48:47608 restart in Job 43139614. This can be due to memory issue.\n",
      "Worker tcp://10.120.16.84:35943 restart in Job 43139617. This can be due to memory issue.\n",
      "Worker tcp://10.120.17.114:43667 restart in Job 43139586. This can be due to memory issue.\n",
      "Worker tcp://10.120.17.121:52776 restart in Job 43139607. This can be due to memory issue.\n",
      "Worker tcp://10.120.17.121:50956 restart in Job 43139602. This can be due to memory issue.\n",
      "Worker tcp://10.120.17.141:60212 restart in Job 43139604. This can be due to memory issue.\n",
      "Worker tcp://10.120.16.110:50079 restart in Job 43139618. This can be due to memory issue.\n",
      "Worker tcp://10.120.16.82:44333 restart in Job 43139616. This can be due to memory issue.\n",
      "Worker tcp://10.120.17.79:48911 restart in Job 43139605. This can be due to memory issue.\n",
      "Worker tcp://10.120.17.79:40905 restart in Job 43139606. This can be due to memory issue.\n",
      "Worker tcp://10.120.16.139:54150 restart in Job 43139622. This can be due to memory issue.\n",
      "Worker tcp://10.120.16.180:45279 restart in Job 43139623. This can be due to memory issue.\n",
      "Worker tcp://10.120.16.115:56499 restart in Job 43139619. This can be due to memory issue.\n",
      "Worker tcp://10.120.16.92:43915 restart in Job 43139591. This can be due to memory issue.\n",
      "Worker tcp://10.120.16.92:38642 restart in Job 43139592. This can be due to memory issue.\n",
      "Worker tcp://10.120.17.104:43929 restart in Job 43139585. This can be due to memory issue.\n",
      "Worker tcp://10.120.16.117:56368 restart in Job 43139620. This can be due to memory issue.\n",
      "Worker tcp://10.120.16.54:53464 restart in Job 43139615. This can be due to memory issue.\n",
      "Worker tcp://10.120.17.113:33595 restart in Job 43139599. This can be due to memory issue.\n",
      "Worker tcp://10.120.16.49:50215 restart in Job 43139593. This can be due to memory issue.\n",
      "Worker tcp://10.120.16.49:49179 restart in Job 43139589. This can be due to memory issue.\n",
      "Worker tcp://10.120.16.42:52275 restart in Job 43139613. This can be due to memory issue.\n",
      "distributed.client - ERROR - Restart timed out after 6.000000 seconds\n",
      "distributed.scheduler - ERROR - Nannies didn't report back restarted within timeout.  Continuuing with restart process\n",
      "Future exception was never retrieved\n",
      "future: <Future finished exception=CommClosedError(\"in <closed TCP>: Stream is closed: while trying to call remote method 'restart'\")>\n",
      "Traceback (most recent call last):\n",
      "  File \"/home/de64/anaconda3/envs/mothermachine/lib/python3.7/site-packages/distributed/comm/tcp.py\", line 181, in read\n",
      "    n_frames = yield stream.read_bytes(8)\n",
      "  File \"/home/de64/anaconda3/envs/mothermachine/lib/python3.7/site-packages/tornado/gen.py\", line 729, in run\n",
      "    value = future.result()\n",
      "tornado.iostream.StreamClosedError: Stream is closed\n",
      "\n",
      "During handling of the above exception, another exception occurred:\n",
      "\n",
      "Traceback (most recent call last):\n",
      "  File \"/home/de64/anaconda3/envs/mothermachine/lib/python3.7/site-packages/distributed/core.py\", line 580, in send_recv_from_rpc\n",
      "    result = yield send_recv(comm=comm, op=key, **kwargs)\n",
      "  File \"/home/de64/anaconda3/envs/mothermachine/lib/python3.7/site-packages/tornado/gen.py\", line 729, in run\n",
      "    value = future.result()\n",
      "  File \"/home/de64/anaconda3/envs/mothermachine/lib/python3.7/site-packages/tornado/gen.py\", line 742, in run\n",
      "    yielded = self.gen.send(value)\n",
      "  File \"/home/de64/anaconda3/envs/mothermachine/lib/python3.7/site-packages/distributed/core.py\", line 457, in send_recv\n",
      "    response = yield comm.read(deserializers=deserializers)\n",
      "  File \"/home/de64/anaconda3/envs/mothermachine/lib/python3.7/site-packages/tornado/gen.py\", line 729, in run\n",
      "    value = future.result()\n",
      "  File \"/home/de64/anaconda3/envs/mothermachine/lib/python3.7/site-packages/tornado/gen.py\", line 736, in run\n",
      "    yielded = self.gen.throw(*exc_info)  # type: ignore\n",
      "  File \"/home/de64/anaconda3/envs/mothermachine/lib/python3.7/site-packages/distributed/comm/tcp.py\", line 201, in read\n",
      "    convert_stream_closed_error(self, e)\n",
      "  File \"/home/de64/anaconda3/envs/mothermachine/lib/python3.7/site-packages/distributed/comm/tcp.py\", line 130, in convert_stream_closed_error\n",
      "    raise CommClosedError(\"in %s: %s\" % (obj, exc))\n",
      "distributed.comm.core.CommClosedError: in <closed TCP>: Stream is closed\n",
      "\n",
      "During handling of the above exception, another exception occurred:\n",
      "\n",
      "Traceback (most recent call last):\n",
      "  File \"/home/de64/anaconda3/envs/mothermachine/lib/python3.7/site-packages/tornado/gen.py\", line 736, in run\n",
      "    yielded = self.gen.throw(*exc_info)  # type: ignore\n",
      "  File \"/home/de64/anaconda3/envs/mothermachine/lib/python3.7/site-packages/distributed/utils.py\", line 214, in All\n",
      "    result = yield tasks.next()\n",
      "  File \"/home/de64/anaconda3/envs/mothermachine/lib/python3.7/site-packages/tornado/gen.py\", line 729, in run\n",
      "    value = future.result()\n",
      "  File \"/home/de64/anaconda3/envs/mothermachine/lib/python3.7/site-packages/tornado/gen.py\", line 736, in run\n",
      "    yielded = self.gen.throw(*exc_info)  # type: ignore\n",
      "  File \"/home/de64/anaconda3/envs/mothermachine/lib/python3.7/site-packages/distributed/core.py\", line 583, in send_recv_from_rpc\n",
      "    % (e, key,))\n",
      "distributed.comm.core.CommClosedError: in <closed TCP>: Stream is closed: while trying to call remote method 'restart'\n",
      "\n",
      "During handling of the above exception, another exception occurred:\n",
      "\n",
      "Traceback (most recent call last):\n",
      "  File \"/home/de64/anaconda3/envs/mothermachine/lib/python3.7/site-packages/tornado/gen.py\", line 736, in run\n",
      "    yielded = self.gen.throw(*exc_info)  # type: ignore\n",
      "  File \"/home/de64/anaconda3/envs/mothermachine/lib/python3.7/site-packages/distributed/utils.py\", line 226, in quiet\n",
      "    yield task\n",
      "  File \"/home/de64/anaconda3/envs/mothermachine/lib/python3.7/site-packages/tornado/gen.py\", line 729, in run\n",
      "    value = future.result()\n",
      "  File \"/home/de64/anaconda3/envs/mothermachine/lib/python3.7/site-packages/tornado/gen.py\", line 736, in run\n",
      "    yielded = self.gen.throw(*exc_info)  # type: ignore\n",
      "  File \"/home/de64/anaconda3/envs/mothermachine/lib/python3.7/site-packages/distributed/core.py\", line 583, in send_recv_from_rpc\n",
      "    % (e, key,))\n",
      "distributed.comm.core.CommClosedError: in <closed TCP>: Stream is closed: while trying to call remote method 'restart'\n",
      "tornado.application - ERROR - Exception in Future <Future finished exception=CommClosedError(\"in <closed TCP>: Stream is closed: while trying to call remote method 'restart'\")> after timeout\n",
      "Traceback (most recent call last):\n",
      "  File \"/home/de64/anaconda3/envs/mothermachine/lib/python3.7/site-packages/distributed/comm/tcp.py\", line 181, in read\n",
      "    n_frames = yield stream.read_bytes(8)\n",
      "  File \"/home/de64/anaconda3/envs/mothermachine/lib/python3.7/site-packages/tornado/gen.py\", line 729, in run\n",
      "    value = future.result()\n",
      "tornado.iostream.StreamClosedError: Stream is closed\n",
      "\n",
      "During handling of the above exception, another exception occurred:\n",
      "\n",
      "Traceback (most recent call last):\n",
      "  File \"/home/de64/anaconda3/envs/mothermachine/lib/python3.7/site-packages/distributed/core.py\", line 580, in send_recv_from_rpc\n",
      "    result = yield send_recv(comm=comm, op=key, **kwargs)\n",
      "  File \"/home/de64/anaconda3/envs/mothermachine/lib/python3.7/site-packages/tornado/gen.py\", line 729, in run\n",
      "    value = future.result()\n",
      "  File \"/home/de64/anaconda3/envs/mothermachine/lib/python3.7/site-packages/tornado/gen.py\", line 742, in run\n",
      "    yielded = self.gen.send(value)\n",
      "  File \"/home/de64/anaconda3/envs/mothermachine/lib/python3.7/site-packages/distributed/core.py\", line 457, in send_recv\n",
      "    response = yield comm.read(deserializers=deserializers)\n",
      "  File \"/home/de64/anaconda3/envs/mothermachine/lib/python3.7/site-packages/tornado/gen.py\", line 729, in run\n",
      "    value = future.result()\n",
      "  File \"/home/de64/anaconda3/envs/mothermachine/lib/python3.7/site-packages/tornado/gen.py\", line 736, in run\n",
      "    yielded = self.gen.throw(*exc_info)  # type: ignore\n",
      "  File \"/home/de64/anaconda3/envs/mothermachine/lib/python3.7/site-packages/distributed/comm/tcp.py\", line 201, in read\n",
      "    convert_stream_closed_error(self, e)\n",
      "  File \"/home/de64/anaconda3/envs/mothermachine/lib/python3.7/site-packages/distributed/comm/tcp.py\", line 130, in convert_stream_closed_error\n",
      "    raise CommClosedError(\"in %s: %s\" % (obj, exc))\n",
      "distributed.comm.core.CommClosedError: in <closed TCP>: Stream is closed\n",
      "\n",
      "During handling of the above exception, another exception occurred:\n",
      "\n",
      "Traceback (most recent call last):\n",
      "  File \"/home/de64/anaconda3/envs/mothermachine/lib/python3.7/site-packages/tornado/gen.py\", line 589, in error_callback\n",
      "    future.result()\n",
      "  File \"/home/de64/anaconda3/envs/mothermachine/lib/python3.7/site-packages/tornado/gen.py\", line 736, in run\n",
      "    yielded = self.gen.throw(*exc_info)  # type: ignore\n",
      "  File \"/home/de64/anaconda3/envs/mothermachine/lib/python3.7/site-packages/distributed/utils.py\", line 214, in All\n",
      "    result = yield tasks.next()\n",
      "  File \"/home/de64/anaconda3/envs/mothermachine/lib/python3.7/site-packages/tornado/gen.py\", line 729, in run\n",
      "    value = future.result()\n",
      "  File \"/home/de64/anaconda3/envs/mothermachine/lib/python3.7/site-packages/tornado/gen.py\", line 736, in run\n",
      "    yielded = self.gen.throw(*exc_info)  # type: ignore\n",
      "  File \"/home/de64/anaconda3/envs/mothermachine/lib/python3.7/site-packages/distributed/core.py\", line 583, in send_recv_from_rpc\n",
      "    % (e, key,))\n",
      "distributed.comm.core.CommClosedError: in <closed TCP>: Stream is closed: while trying to call remote method 'restart'\n",
      "Worker tcp://10.120.17.127:46387 restart in Job 43139612. This can be due to memory issue.\n",
      "Worker tcp://10.120.17.75:59559 restart in Job 43139583. This can be due to memory issue.\n",
      "Worker tcp://10.120.17.99:45427 restart in Job 43139597. This can be due to memory issue.\n",
      "Worker tcp://10.120.17.99:60440 restart in Job 43139596. This can be due to memory issue.\n",
      "Worker tcp://10.120.17.89:58321 restart in Job 43139595. This can be due to memory issue.\n",
      "Worker tcp://10.120.17.89:37041 restart in Job 43139594. This can be due to memory issue.\n"
     ]
    }
   ],
   "source": [
    "dask_controller.retry_failed()"
   ]
  },
  {
   "cell_type": "code",
   "execution_count": 25,
   "metadata": {},
   "outputs": [
    {
     "name": "stderr",
     "output_type": "stream",
     "text": [
      "distributed.scheduler - INFO - Send lost future signal to clients\n",
      "distributed.scheduler - INFO - Remove worker tcp://10.120.16.168:56574\n",
      "distributed.core - INFO - Removing comms to tcp://10.120.16.168:56574\n",
      "distributed.scheduler - INFO - Remove worker tcp://10.120.16.179:47654\n",
      "distributed.core - INFO - Removing comms to tcp://10.120.16.179:47654\n",
      "distributed.scheduler - INFO - Remove worker tcp://10.120.16.185:34174\n",
      "distributed.core - INFO - Removing comms to tcp://10.120.16.185:34174\n",
      "distributed.scheduler - INFO - Remove worker tcp://10.120.16.185:40188\n",
      "distributed.core - INFO - Removing comms to tcp://10.120.16.185:40188\n",
      "distributed.scheduler - INFO - Remove worker tcp://10.120.16.186:35178\n",
      "distributed.core - INFO - Removing comms to tcp://10.120.16.186:35178\n",
      "distributed.scheduler - INFO - Remove worker tcp://10.120.16.186:35857\n",
      "distributed.core - INFO - Removing comms to tcp://10.120.16.186:35857\n",
      "distributed.scheduler - INFO - Remove worker tcp://10.120.16.186:36989\n",
      "distributed.core - INFO - Removing comms to tcp://10.120.16.186:36989\n",
      "distributed.scheduler - INFO - Remove worker tcp://10.120.16.186:37367\n",
      "distributed.core - INFO - Removing comms to tcp://10.120.16.186:37367\n",
      "distributed.scheduler - INFO - Remove worker tcp://10.120.16.186:40080\n",
      "distributed.core - INFO - Removing comms to tcp://10.120.16.186:40080\n",
      "distributed.scheduler - INFO - Remove worker tcp://10.120.16.186:40227\n",
      "distributed.core - INFO - Removing comms to tcp://10.120.16.186:40227\n",
      "distributed.scheduler - INFO - Remove worker tcp://10.120.16.186:48941\n",
      "distributed.core - INFO - Removing comms to tcp://10.120.16.186:48941\n",
      "distributed.scheduler - INFO - Remove worker tcp://10.120.16.186:53851\n",
      "distributed.core - INFO - Removing comms to tcp://10.120.16.186:53851\n",
      "distributed.scheduler - INFO - Remove worker tcp://10.120.16.186:54555\n",
      "distributed.core - INFO - Removing comms to tcp://10.120.16.186:54555\n",
      "distributed.scheduler - INFO - Remove worker tcp://10.120.16.186:58000\n",
      "distributed.core - INFO - Removing comms to tcp://10.120.16.186:58000\n",
      "distributed.scheduler - INFO - Remove worker tcp://10.120.16.187:56505\n",
      "distributed.core - INFO - Removing comms to tcp://10.120.16.187:56505\n",
      "distributed.scheduler - INFO - Remove worker tcp://10.120.16.188:33797\n",
      "distributed.core - INFO - Removing comms to tcp://10.120.16.188:33797\n",
      "distributed.scheduler - INFO - Remove worker tcp://10.120.16.188:34582\n",
      "distributed.core - INFO - Removing comms to tcp://10.120.16.188:34582\n",
      "distributed.scheduler - INFO - Remove worker tcp://10.120.16.188:35047\n",
      "distributed.core - INFO - Removing comms to tcp://10.120.16.188:35047\n",
      "distributed.scheduler - INFO - Remove worker tcp://10.120.16.188:35811\n",
      "distributed.core - INFO - Removing comms to tcp://10.120.16.188:35811\n",
      "distributed.scheduler - INFO - Remove worker tcp://10.120.16.188:41664\n",
      "distributed.core - INFO - Removing comms to tcp://10.120.16.188:41664\n",
      "distributed.scheduler - INFO - Remove worker tcp://10.120.16.188:46116\n",
      "distributed.core - INFO - Removing comms to tcp://10.120.16.188:46116\n",
      "distributed.scheduler - INFO - Remove worker tcp://10.120.16.188:52018\n",
      "distributed.core - INFO - Removing comms to tcp://10.120.16.188:52018\n",
      "distributed.scheduler - INFO - Remove worker tcp://10.120.16.188:52466\n",
      "distributed.core - INFO - Removing comms to tcp://10.120.16.188:52466\n",
      "distributed.scheduler - INFO - Remove worker tcp://10.120.16.188:53044\n",
      "distributed.core - INFO - Removing comms to tcp://10.120.16.188:53044\n",
      "distributed.scheduler - INFO - Remove worker tcp://10.120.16.188:56311\n",
      "distributed.core - INFO - Removing comms to tcp://10.120.16.188:56311\n",
      "distributed.scheduler - INFO - Remove worker tcp://10.120.16.188:56724\n",
      "distributed.core - INFO - Removing comms to tcp://10.120.16.188:56724\n",
      "distributed.scheduler - INFO - Remove worker tcp://10.120.16.188:59417\n",
      "distributed.core - INFO - Removing comms to tcp://10.120.16.188:59417\n",
      "distributed.scheduler - INFO - Remove worker tcp://10.120.16.188:60005\n",
      "distributed.core - INFO - Removing comms to tcp://10.120.16.188:60005\n",
      "distributed.scheduler - INFO - Remove worker tcp://10.120.16.243:37196\n",
      "distributed.core - INFO - Removing comms to tcp://10.120.16.243:37196\n",
      "distributed.scheduler - INFO - Remove worker tcp://10.120.16.243:41458\n",
      "distributed.core - INFO - Removing comms to tcp://10.120.16.243:41458\n",
      "distributed.scheduler - INFO - Remove worker tcp://10.120.16.244:34330\n",
      "distributed.core - INFO - Removing comms to tcp://10.120.16.244:34330\n",
      "distributed.scheduler - INFO - Remove worker tcp://10.120.16.55:47065\n",
      "distributed.core - INFO - Removing comms to tcp://10.120.16.55:47065\n",
      "distributed.scheduler - INFO - Remove worker tcp://10.120.16.86:48821\n",
      "distributed.core - INFO - Removing comms to tcp://10.120.16.86:48821\n",
      "distributed.scheduler - INFO - Remove worker tcp://10.120.16.86:59043\n",
      "distributed.core - INFO - Removing comms to tcp://10.120.16.86:59043\n",
      "distributed.scheduler - INFO - Remove worker tcp://10.120.17.138:32785\n",
      "distributed.core - INFO - Removing comms to tcp://10.120.17.138:32785\n",
      "distributed.scheduler - INFO - Remove worker tcp://10.120.17.138:36772\n",
      "distributed.core - INFO - Removing comms to tcp://10.120.17.138:36772\n",
      "distributed.scheduler - INFO - Remove worker tcp://10.120.17.15:35722\n",
      "distributed.core - INFO - Removing comms to tcp://10.120.17.15:35722\n",
      "distributed.scheduler - INFO - Remove worker tcp://10.120.17.15:48476\n",
      "distributed.core - INFO - Removing comms to tcp://10.120.17.15:48476\n",
      "distributed.scheduler - INFO - Remove worker tcp://10.120.17.16:35091\n",
      "distributed.core - INFO - Removing comms to tcp://10.120.17.16:35091\n",
      "distributed.scheduler - INFO - Remove worker tcp://10.120.17.16:47839\n",
      "distributed.core - INFO - Removing comms to tcp://10.120.17.16:47839\n",
      "distributed.scheduler - INFO - Remove worker tcp://10.120.17.94:47248\n",
      "distributed.core - INFO - Removing comms to tcp://10.120.17.94:47248\n",
      "distributed.scheduler - INFO - Lost all workers\n",
      "distributed.scheduler - INFO - Clear task state\n",
      "Worker tcp://10.120.16.186:40227 restart in Job 47336382. This can be due to memory issue.\n",
      "distributed.scheduler - INFO - Register tcp://10.120.16.186:40227\n",
      "Worker tcp://10.120.16.186:35178 restart in Job 47336391. This can be due to memory issue.\n",
      "distributed.scheduler - INFO - Register tcp://10.120.16.186:35178\n",
      "Worker tcp://10.120.16.186:35857 restart in Job 47336388. This can be due to memory issue.\n",
      "distributed.scheduler - INFO - Register tcp://10.120.16.186:35857\n",
      "Worker tcp://10.120.16.186:54555 restart in Job 47336379. This can be due to memory issue.\n",
      "distributed.scheduler - INFO - Register tcp://10.120.16.186:54555\n",
      "Worker tcp://10.120.16.186:53851 restart in Job 47336390. This can be due to memory issue.\n",
      "distributed.scheduler - INFO - Register tcp://10.120.16.186:53851\n",
      "Worker tcp://10.120.16.186:58000 restart in Job 47336383. This can be due to memory issue.\n",
      "distributed.scheduler - INFO - Register tcp://10.120.16.186:58000\n",
      "Worker tcp://10.120.16.55:47065 restart in Job 47336409. This can be due to memory issue.\n",
      "distributed.scheduler - INFO - Register tcp://10.120.16.55:47065\n",
      "distributed.scheduler - INFO - Starting worker compute stream, tcp://10.120.16.186:40227\n",
      "distributed.core - INFO - Starting established connection\n",
      "distributed.scheduler - INFO - Starting worker compute stream, tcp://10.120.16.186:35178\n",
      "distributed.core - INFO - Starting established connection\n",
      "distributed.scheduler - INFO - Starting worker compute stream, tcp://10.120.16.186:35857\n",
      "distributed.core - INFO - Starting established connection\n",
      "distributed.scheduler - INFO - Starting worker compute stream, tcp://10.120.16.186:54555\n",
      "distributed.core - INFO - Starting established connection\n",
      "distributed.scheduler - INFO - Starting worker compute stream, tcp://10.120.16.186:53851\n",
      "distributed.core - INFO - Starting established connection\n",
      "distributed.scheduler - INFO - Starting worker compute stream, tcp://10.120.16.186:58000\n",
      "distributed.core - INFO - Starting established connection\n",
      "distributed.scheduler - INFO - Starting worker compute stream, tcp://10.120.16.55:47065\n",
      "distributed.core - INFO - Starting established connection\n",
      "Worker tcp://10.120.17.94:47248 restart in Job 47336414. This can be due to memory issue.\n",
      "distributed.scheduler - INFO - Register tcp://10.120.17.94:47248\n",
      "distributed.scheduler - INFO - Starting worker compute stream, tcp://10.120.17.94:47248\n",
      "distributed.core - INFO - Starting established connection\n",
      "Worker tcp://10.120.16.86:48821 restart in Job 47336411. This can be due to memory issue.\n",
      "distributed.scheduler - INFO - Register tcp://10.120.16.86:48821\n",
      "Worker tcp://10.120.16.243:37196 restart in Job 47336418. This can be due to memory issue.\n",
      "distributed.scheduler - INFO - Register tcp://10.120.16.243:37196\n",
      "distributed.scheduler - INFO - Starting worker compute stream, tcp://10.120.16.86:48821\n",
      "distributed.core - INFO - Starting established connection\n",
      "distributed.scheduler - INFO - Starting worker compute stream, tcp://10.120.16.243:37196\n",
      "distributed.core - INFO - Starting established connection\n",
      "distributed.scheduler - INFO - Remove worker tcp://10.120.16.55:47065\n",
      "distributed.core - INFO - Removing comms to tcp://10.120.16.55:47065\n",
      "distributed.scheduler - INFO - Remove worker tcp://10.120.17.94:47248\n",
      "distributed.core - INFO - Removing comms to tcp://10.120.17.94:47248\n",
      "distributed.scheduler - INFO - Remove worker tcp://10.120.16.86:48821\n",
      "distributed.core - INFO - Removing comms to tcp://10.120.16.86:48821\n",
      "distributed.scheduler - INFO - Remove worker tcp://10.120.16.243:37196\n",
      "distributed.core - INFO - Removing comms to tcp://10.120.16.243:37196\n",
      "distributed.batched - INFO - Batched Comm Closed: in <closed TCP>: ConnectionResetError: [Errno 104] Connection reset by peer\n",
      "distributed.scheduler - INFO - Remove worker tcp://10.120.16.186:35857\n",
      "distributed.core - INFO - Removing comms to tcp://10.120.16.186:35857\n",
      "distributed.scheduler - INFO - Remove worker tcp://10.120.16.186:58000\n",
      "distributed.core - INFO - Removing comms to tcp://10.120.16.186:58000\n",
      "distributed.scheduler - INFO - Remove worker tcp://10.120.16.186:40227\n",
      "distributed.core - INFO - Removing comms to tcp://10.120.16.186:40227\n",
      "distributed.scheduler - INFO - Remove worker tcp://10.120.16.186:35178\n",
      "distributed.core - INFO - Removing comms to tcp://10.120.16.186:35178\n",
      "distributed.batched - INFO - Batched Comm Closed: in <closed TCP>: Stream is closed\n",
      "distributed.scheduler - INFO - Remove worker tcp://10.120.16.186:54555\n",
      "distributed.core - INFO - Removing comms to tcp://10.120.16.186:54555\n",
      "distributed.scheduler - INFO - Remove worker tcp://10.120.16.186:53851\n",
      "distributed.core - INFO - Removing comms to tcp://10.120.16.186:53851\n",
      "distributed.scheduler - INFO - Lost all workers\n",
      "Worker tcp://10.120.16.243:54911 restart in Job 47336417. This can be due to memory issue.\n",
      "distributed.scheduler - INFO - Register tcp://10.120.16.243:54911\n",
      "distributed.scheduler - INFO - Starting worker compute stream, tcp://10.120.16.243:54911\n",
      "distributed.core - INFO - Starting established connection\n",
      "Worker tcp://10.120.16.243:33903 restart in Job 47336418. This can be due to memory issue.\n",
      "distributed.scheduler - INFO - Register tcp://10.120.16.243:33903\n",
      "distributed.scheduler - INFO - Starting worker compute stream, tcp://10.120.16.243:33903\n",
      "distributed.core - INFO - Starting established connection\n",
      "Worker tcp://10.120.17.16:39716 restart in Job 47336407. This can be due to memory issue.\n",
      "distributed.scheduler - INFO - Register tcp://10.120.17.16:39716\n",
      "distributed.scheduler - INFO - Starting worker compute stream, tcp://10.120.17.16:39716\n",
      "distributed.core - INFO - Starting established connection\n",
      "Worker tcp://10.120.16.179:49396 restart in Job 47336406. This can be due to memory issue.\n",
      "distributed.scheduler - INFO - Register tcp://10.120.16.179:49396\n",
      "distributed.scheduler - INFO - Starting worker compute stream, tcp://10.120.16.179:49396\n",
      "distributed.core - INFO - Starting established connection\n",
      "Worker tcp://10.120.17.15:50726 restart in Job 47336420. This can be due to memory issue.\n",
      "distributed.scheduler - INFO - Register tcp://10.120.17.15:50726\n",
      "distributed.scheduler - INFO - Starting worker compute stream, tcp://10.120.17.15:50726\n",
      "distributed.core - INFO - Starting established connection\n",
      "Worker tcp://10.120.17.15:36161 restart in Job 47336421. This can be due to memory issue.\n",
      "distributed.scheduler - INFO - Register tcp://10.120.17.15:36161\n",
      "distributed.scheduler - INFO - Starting worker compute stream, tcp://10.120.17.15:36161\n",
      "distributed.core - INFO - Starting established connection\n",
      "Worker tcp://10.120.16.187:40718 restart in Job 47336415. This can be due to memory issue.\n",
      "distributed.scheduler - INFO - Register tcp://10.120.16.187:40718\n",
      "distributed.scheduler - INFO - Starting worker compute stream, tcp://10.120.16.187:40718\n",
      "distributed.core - INFO - Starting established connection\n",
      "Worker tcp://10.120.17.138:32861 restart in Job 47336413. This can be due to memory issue.\n",
      "distributed.scheduler - INFO - Register tcp://10.120.17.138:32861\n",
      "distributed.scheduler - INFO - Starting worker compute stream, tcp://10.120.17.138:32861\n",
      "distributed.core - INFO - Starting established connection\n",
      "Worker tcp://10.120.16.86:40903 restart in Job 47336410. This can be due to memory issue.\n",
      "distributed.scheduler - INFO - Register tcp://10.120.16.86:40903\n",
      "distributed.scheduler - INFO - Starting worker compute stream, tcp://10.120.16.86:40903\n",
      "distributed.core - INFO - Starting established connection\n",
      "Worker tcp://10.120.16.86:36896 restart in Job 47336411. This can be due to memory issue.\n",
      "distributed.scheduler - INFO - Register tcp://10.120.16.86:36896\n",
      "distributed.scheduler - INFO - Starting worker compute stream, tcp://10.120.16.86:36896\n",
      "distributed.core - INFO - Starting established connection\n",
      "Worker tcp://10.120.17.138:58172 restart in Job 47336412. This can be due to memory issue.\n",
      "distributed.scheduler - INFO - Register tcp://10.120.17.138:58172\n",
      "distributed.scheduler - INFO - Starting worker compute stream, tcp://10.120.17.138:58172\n",
      "distributed.core - INFO - Starting established connection\n",
      "Worker tcp://10.120.17.94:60408 restart in Job 47336414. This can be due to memory issue.\n",
      "distributed.scheduler - INFO - Register tcp://10.120.17.94:60408\n",
      "distributed.scheduler - INFO - Starting worker compute stream, tcp://10.120.17.94:60408\n",
      "distributed.core - INFO - Starting established connection\n",
      "Worker tcp://10.120.16.55:35682 restart in Job 47336409. This can be due to memory issue.\n",
      "distributed.scheduler - INFO - Register tcp://10.120.16.55:35682\n",
      "Worker tcp://10.120.16.244:44482 restart in Job 47336416. This can be due to memory issue.\n",
      "distributed.scheduler - INFO - Register tcp://10.120.16.244:44482\n",
      "distributed.scheduler - INFO - Starting worker compute stream, tcp://10.120.16.55:35682\n",
      "distributed.core - INFO - Starting established connection\n",
      "distributed.scheduler - INFO - Starting worker compute stream, tcp://10.120.16.244:44482\n",
      "distributed.core - INFO - Starting established connection\n",
      "Worker tcp://10.120.16.168:57074 restart in Job 47336405. This can be due to memory issue.\n",
      "distributed.scheduler - INFO - Register tcp://10.120.16.168:57074\n",
      "distributed.scheduler - INFO - Starting worker compute stream, tcp://10.120.16.168:57074\n",
      "distributed.core - INFO - Starting established connection\n",
      "Worker tcp://10.120.16.185:53085 restart in Job 47336378. This can be due to memory issue.\n",
      "distributed.scheduler - INFO - Register tcp://10.120.16.185:53085\n",
      "distributed.scheduler - INFO - Starting worker compute stream, tcp://10.120.16.185:53085\n",
      "distributed.core - INFO - Starting established connection\n",
      "Worker tcp://10.120.16.185:45295 restart in Job 47336419. This can be due to memory issue.\n",
      "distributed.scheduler - INFO - Register tcp://10.120.16.185:45295\n",
      "distributed.scheduler - INFO - Starting worker compute stream, tcp://10.120.16.185:45295\n",
      "distributed.core - INFO - Starting established connection\n",
      "Worker tcp://10.120.16.186:58809 restart in Job 47336380. This can be due to memory issue.\n",
      "distributed.scheduler - INFO - Register tcp://10.120.16.186:58809\n",
      "distributed.scheduler - INFO - Starting worker compute stream, tcp://10.120.16.186:58809\n",
      "distributed.core - INFO - Starting established connection\n",
      "Worker tcp://10.120.17.16:48611 restart in Job 47336408. This can be due to memory issue.\n",
      "distributed.scheduler - INFO - Register tcp://10.120.17.16:48611\n",
      "distributed.scheduler - INFO - Starting worker compute stream, tcp://10.120.17.16:48611\n",
      "distributed.core - INFO - Starting established connection\n",
      "Worker tcp://10.120.16.186:53949 restart in Job 47336383. This can be due to memory issue.\n",
      "distributed.scheduler - INFO - Register tcp://10.120.16.186:53949\n",
      "Worker tcp://10.120.16.186:55755 restart in Job 47336381. This can be due to memory issue.\n",
      "distributed.scheduler - INFO - Register tcp://10.120.16.186:55755\n",
      "Worker tcp://10.120.16.186:45329 restart in Job 47336385. This can be due to memory issue.\n",
      "distributed.scheduler - INFO - Register tcp://10.120.16.186:45329\n",
      "distributed.scheduler - INFO - Starting worker compute stream, tcp://10.120.16.186:53949\n",
      "distributed.core - INFO - Starting established connection\n",
      "distributed.scheduler - INFO - Starting worker compute stream, tcp://10.120.16.186:55755\n",
      "distributed.core - INFO - Starting established connection\n",
      "distributed.scheduler - INFO - Starting worker compute stream, tcp://10.120.16.186:45329\n",
      "distributed.core - INFO - Starting established connection\n",
      "Worker tcp://10.120.16.186:60447 restart in Job 47336384. This can be due to memory issue.\n",
      "distributed.scheduler - INFO - Register tcp://10.120.16.186:60447\n",
      "distributed.scheduler - INFO - Starting worker compute stream, tcp://10.120.16.186:60447\n",
      "distributed.core - INFO - Starting established connection\n",
      "Worker tcp://10.120.16.186:33459 restart in Job 47336390. This can be due to memory issue.\n",
      "distributed.scheduler - INFO - Register tcp://10.120.16.186:33459\n",
      "distributed.scheduler - INFO - Starting worker compute stream, tcp://10.120.16.186:33459\n",
      "distributed.core - INFO - Starting established connection\n",
      "Worker tcp://10.120.16.186:35788 restart in Job 47336391. This can be due to memory issue.\n",
      "distributed.scheduler - INFO - Register tcp://10.120.16.186:35788\n",
      "distributed.scheduler - INFO - Starting worker compute stream, tcp://10.120.16.186:35788\n",
      "distributed.core - INFO - Starting established connection\n",
      "Worker tcp://10.120.16.186:53657 restart in Job 47336379. This can be due to memory issue.\n",
      "distributed.scheduler - INFO - Register tcp://10.120.16.186:53657\n",
      "distributed.scheduler - INFO - Starting worker compute stream, tcp://10.120.16.186:53657\n",
      "distributed.core - INFO - Starting established connection\n",
      "Worker tcp://10.120.16.186:36375 restart in Job 47336382. This can be due to memory issue.\n",
      "distributed.scheduler - INFO - Register tcp://10.120.16.186:36375\n",
      "distributed.scheduler - INFO - Starting worker compute stream, tcp://10.120.16.186:36375\n",
      "distributed.core - INFO - Starting established connection\n",
      "Worker tcp://10.120.16.186:33556 restart in Job 47336388. This can be due to memory issue.\n",
      "distributed.scheduler - INFO - Register tcp://10.120.16.186:33556\n",
      "distributed.scheduler - INFO - Starting worker compute stream, tcp://10.120.16.186:33556\n",
      "distributed.core - INFO - Starting established connection\n",
      "Worker tcp://10.120.16.188:39581 restart in Job 47336392. This can be due to memory issue.\n",
      "distributed.scheduler - INFO - Register tcp://10.120.16.188:39581\n",
      "distributed.scheduler - INFO - Starting worker compute stream, tcp://10.120.16.188:39581\n",
      "distributed.core - INFO - Starting established connection\n",
      "Worker tcp://10.120.16.188:36234 restart in Job 47336398. This can be due to memory issue.\n",
      "distributed.scheduler - INFO - Register tcp://10.120.16.188:36234\n",
      "distributed.scheduler - INFO - Starting worker compute stream, tcp://10.120.16.188:36234\n",
      "distributed.core - INFO - Starting established connection\n",
      "Worker tcp://10.120.16.188:37259 restart in Job 47336395. This can be due to memory issue.\n",
      "distributed.scheduler - INFO - Register tcp://10.120.16.188:37259\n",
      "distributed.scheduler - INFO - Starting worker compute stream, tcp://10.120.16.188:37259\n",
      "distributed.core - INFO - Starting established connection\n",
      "Worker tcp://10.120.16.188:47334 restart in Job 47336400. This can be due to memory issue.\n",
      "distributed.scheduler - INFO - Register tcp://10.120.16.188:47334\n",
      "distributed.scheduler - INFO - Starting worker compute stream, tcp://10.120.16.188:47334\n",
      "distributed.core - INFO - Starting established connection\n",
      "Worker tcp://10.120.16.188:35151 restart in Job 47336401. This can be due to memory issue.\n",
      "distributed.scheduler - INFO - Register tcp://10.120.16.188:35151\n",
      "Worker tcp://10.120.16.188:37943 restart in Job 47336393. This can be due to memory issue.\n",
      "distributed.scheduler - INFO - Register tcp://10.120.16.188:37943\n",
      "Worker tcp://10.120.16.188:55676 restart in Job 47336396. This can be due to memory issue.\n",
      "distributed.scheduler - INFO - Register tcp://10.120.16.188:55676\n",
      "Worker tcp://10.120.16.188:47051 restart in Job 47336403. This can be due to memory issue.\n",
      "distributed.scheduler - INFO - Register tcp://10.120.16.188:47051\n",
      "Worker tcp://10.120.16.188:59481 restart in Job 47336402. This can be due to memory issue.\n",
      "distributed.scheduler - INFO - Register tcp://10.120.16.188:59481\n",
      "distributed.scheduler - INFO - Starting worker compute stream, tcp://10.120.16.188:35151\n",
      "distributed.core - INFO - Starting established connection\n",
      "distributed.scheduler - INFO - Starting worker compute stream, tcp://10.120.16.188:37943\n",
      "distributed.core - INFO - Starting established connection\n",
      "distributed.scheduler - INFO - Starting worker compute stream, tcp://10.120.16.188:55676\n",
      "distributed.core - INFO - Starting established connection\n",
      "distributed.scheduler - INFO - Starting worker compute stream, tcp://10.120.16.188:47051\n",
      "distributed.core - INFO - Starting established connection\n",
      "Worker tcp://10.120.16.188:60538 restart in Job 47336404. This can be due to memory issue.\n",
      "distributed.scheduler - INFO - Register tcp://10.120.16.188:60538\n",
      "Worker tcp://10.120.16.188:35902 restart in Job 47336399. This can be due to memory issue.\n",
      "distributed.scheduler - INFO - Register tcp://10.120.16.188:35902\n",
      "Worker tcp://10.120.16.188:42721 restart in Job 47336394. This can be due to memory issue.\n",
      "distributed.scheduler - INFO - Register tcp://10.120.16.188:42721\n",
      "Worker tcp://10.120.16.188:35890 restart in Job 47336397. This can be due to memory issue.\n",
      "distributed.scheduler - INFO - Register tcp://10.120.16.188:35890\n",
      "distributed.scheduler - INFO - Starting worker compute stream, tcp://10.120.16.188:59481\n",
      "distributed.core - INFO - Starting established connection\n",
      "distributed.scheduler - INFO - Starting worker compute stream, tcp://10.120.16.188:60538\n",
      "distributed.core - INFO - Starting established connection\n",
      "distributed.scheduler - INFO - Starting worker compute stream, tcp://10.120.16.188:35902\n",
      "distributed.core - INFO - Starting established connection\n",
      "distributed.scheduler - INFO - Starting worker compute stream, tcp://10.120.16.188:42721\n",
      "distributed.core - INFO - Starting established connection\n",
      "distributed.scheduler - INFO - Starting worker compute stream, tcp://10.120.16.188:35890\n",
      "distributed.core - INFO - Starting established connection\n",
      "distributed.scheduler - INFO - Clear task state\n"
     ]
    },
    {
     "data": {
      "text/html": [
       "<table style=\"border: 2px solid white;\">\n",
       "<tr>\n",
       "<td style=\"vertical-align: top; border: 0px solid white\">\n",
       "<h3>Client</h3>\n",
       "<ul>\n",
       "  <li><b>Scheduler: </b>tcp://10.120.16.190:37840\n",
       "  <li><b>Dashboard: </b><a href='http://10.120.16.190:40482/status' target='_blank'>http://10.120.16.190:40482/status</a>\n",
       "</ul>\n",
       "</td>\n",
       "<td style=\"vertical-align: top; border: 0px solid white\">\n",
       "<h3>Cluster</h3>\n",
       "<ul>\n",
       "  <li><b>Workers: </b>41</li>\n",
       "  <li><b>Cores: </b>41</li>\n",
       "  <li><b>Memory: </b>164.00 GB</li>\n",
       "</ul>\n",
       "</td>\n",
       "</tr>\n",
       "</table>"
      ],
      "text/plain": [
       "<Client: scheduler='tcp://10.120.16.190:37840' processes=6 cores=6>"
      ]
     },
     "execution_count": 25,
     "metadata": {},
     "output_type": "execute_result"
    }
   ],
   "source": [
    "dask_controller.daskclient.restart()"
   ]
  },
  {
   "cell_type": "code",
   "execution_count": 13,
   "metadata": {},
   "outputs": [
    {
     "name": "stderr",
     "output_type": "stream",
     "text": [
      "WARNING:dask_jobqueue.core:Worker tcp://10.120.16.187:38711 restart in Job 43285232. This can be due to memory issue.\n",
      "WARNING:dask_jobqueue.core:Worker tcp://10.120.17.16:52553 restart in Job 43285243. This can be due to memory issue.\n",
      "WARNING:dask_jobqueue.core:Worker tcp://10.120.16.187:42443 restart in Job 43285236. This can be due to memory issue.\n",
      "WARNING:dask_jobqueue.core:Worker tcp://10.120.16.187:52278 restart in Job 43285237. This can be due to memory issue.\n",
      "WARNING:dask_jobqueue.core:Worker tcp://10.120.16.161:53558 restart in Job 43285244. This can be due to memory issue.\n",
      "WARNING:dask_jobqueue.core:Worker tcp://10.120.16.245:34434 restart in Job 43285225. This can be due to memory issue.\n",
      "WARNING:dask_jobqueue.core:Worker tcp://10.120.16.162:51504 restart in Job 43285219. This can be due to memory issue.\n",
      "WARNING:dask_jobqueue.core:Worker tcp://10.120.16.193:55226 restart in Job 43285222. This can be due to memory issue.\n",
      "WARNING:dask_jobqueue.core:Worker tcp://10.120.17.13:60983 restart in Job 43285215. This can be due to memory issue.\n",
      "WARNING:dask_jobqueue.core:Worker tcp://10.120.17.13:60357 restart in Job 43285214. This can be due to memory issue.\n",
      "WARNING:dask_jobqueue.core:Worker tcp://10.120.16.165:50348 restart in Job 43285242. This can be due to memory issue.\n",
      "WARNING:dask_jobqueue.core:Worker tcp://10.120.17.16:45533 restart in Job 43285243. This can be due to memory issue.\n",
      "WARNING:dask_jobqueue.core:Worker tcp://10.120.16.244:41511 restart in Job 43285203. This can be due to memory issue.\n",
      "WARNING:dask_jobqueue.core:Worker tcp://10.120.16.243:57207 restart in Job 43285218. This can be due to memory issue.\n",
      "WARNING:dask_jobqueue.core:Worker tcp://10.120.16.243:54141 restart in Job 43285217. This can be due to memory issue.\n",
      "WARNING:dask_jobqueue.core:Worker tcp://10.120.16.242:45844 restart in Job 43285216. This can be due to memory issue.\n",
      "WARNING:dask_jobqueue.core:Worker tcp://10.120.16.170:49485 restart in Job 43285231. This can be due to memory issue.\n",
      "WARNING:dask_jobqueue.core:Worker tcp://10.120.16.162:57645 restart in Job 43285220. This can be due to memory issue.\n",
      "WARNING:dask_jobqueue.core:Worker tcp://10.120.16.189:52844 restart in Job 43285226. This can be due to memory issue.\n",
      "WARNING:dask_jobqueue.core:Worker tcp://10.120.16.171:38214 restart in Job 43285230. This can be due to memory issue.\n",
      "WARNING:dask_jobqueue.core:Worker tcp://10.120.16.245:36345 restart in Job 43285225. This can be due to memory issue.\n",
      "WARNING:dask_jobqueue.core:Worker tcp://10.120.16.180:36945 restart in Job 43285210. This can be due to memory issue.\n",
      "WARNING:dask_jobqueue.core:Worker tcp://10.120.16.190:35348 restart in Job 43285229. This can be due to memory issue.\n",
      "WARNING:dask_jobqueue.core:Worker tcp://10.120.16.190:57428 restart in Job 43285227. This can be due to memory issue.\n",
      "WARNING:dask_jobqueue.core:Worker tcp://10.120.16.190:57071 restart in Job 43285228. This can be due to memory issue.\n",
      "WARNING:dask_jobqueue.core:Worker tcp://10.120.16.187:47499 restart in Job 43285235. This can be due to memory issue.\n",
      "WARNING:dask_jobqueue.core:Worker tcp://10.120.16.187:37730 restart in Job 43285232. This can be due to memory issue.\n",
      "WARNING:dask_jobqueue.core:Worker tcp://10.120.16.187:44674 restart in Job 43285234. This can be due to memory issue.\n",
      "WARNING:dask_jobqueue.core:Worker tcp://10.120.16.187:42409 restart in Job 43285237. This can be due to memory issue.\n",
      "WARNING:dask_jobqueue.core:Worker tcp://10.120.16.187:40838 restart in Job 43285233. This can be due to memory issue.\n",
      "WARNING:dask_jobqueue.core:Worker tcp://10.120.16.187:55789 restart in Job 43285236. This can be due to memory issue.\n",
      "WARNING:dask_jobqueue.core:Worker tcp://10.120.17.11:36683 restart in Job 43285223. This can be due to memory issue.\n",
      "WARNING:dask_jobqueue.core:Worker tcp://10.120.17.11:53616 restart in Job 43285209. This can be due to memory issue.\n",
      "WARNING:dask_jobqueue.core:Worker tcp://10.120.16.164:33769 restart in Job 43285239. This can be due to memory issue.\n",
      "WARNING:dask_jobqueue.core:Worker tcp://10.120.17.11:33194 restart in Job 43285208. This can be due to memory issue.\n",
      "WARNING:dask_jobqueue.core:Worker tcp://10.120.16.164:40448 restart in Job 43285240. This can be due to memory issue.\n",
      "WARNING:dask_jobqueue.core:Worker tcp://10.120.16.161:39395 restart in Job 43285244. This can be due to memory issue.\n",
      "WARNING:dask_jobqueue.core:Worker tcp://10.120.16.161:53975 restart in Job 43285205. This can be due to memory issue.\n",
      "WARNING:dask_jobqueue.core:Worker tcp://10.120.16.161:42484 restart in Job 43285204. This can be due to memory issue.\n",
      "WARNING:dask_jobqueue.core:Worker tcp://10.120.16.161:55472 restart in Job 43285221. This can be due to memory issue.\n",
      "WARNING:dask_jobqueue.core:Worker tcp://10.120.16.193:48519 restart in Job 43285222. This can be due to memory issue.\n",
      "WARNING:dask_jobqueue.core:Worker tcp://10.120.16.193:56465 restart in Job 43285212. This can be due to memory issue.\n",
      "WARNING:dask_jobqueue.core:Worker tcp://10.120.16.168:41478 restart in Job 43285207. This can be due to memory issue.\n",
      "WARNING:dask_jobqueue.core:Worker tcp://10.120.17.16:42816 restart in Job 43285213. This can be due to memory issue.\n",
      "WARNING:dask_jobqueue.core:Worker tcp://10.120.16.168:40508 restart in Job 43285206. This can be due to memory issue.\n",
      "WARNING:dask_jobqueue.core:Worker tcp://10.120.16.162:59811 restart in Job 43285219. This can be due to memory issue.\n",
      "WARNING:dask_jobqueue.core:Worker tcp://10.120.16.164:57870 restart in Job 43285241. This can be due to memory issue.\n",
      "WARNING:dask_jobqueue.core:Worker tcp://10.120.16.179:44374 restart in Job 43285211. This can be due to memory issue.\n",
      "WARNING:dask_jobqueue.core:Worker tcp://10.120.17.16:48100 restart in Job 43285224. This can be due to memory issue.\n"
     ]
    }
   ],
   "source": [
    "dask_controller.retry_processing()"
   ]
  }
 ],
 "metadata": {
  "kernelspec": {
   "display_name": "mothermachine",
   "language": "python",
   "name": "mothermachine"
  },
  "language_info": {
   "codemirror_mode": {
    "name": "ipython",
    "version": 3
   },
   "file_extension": ".py",
   "mimetype": "text/x-python",
   "name": "python",
   "nbconvert_exporter": "python",
   "pygments_lexer": "ipython3",
   "version": "3.6.8"
  },
  "toc-showtags": false
 },
 "nbformat": 4,
 "nbformat_minor": 2
}
