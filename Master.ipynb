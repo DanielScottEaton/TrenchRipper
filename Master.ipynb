{
 "cells": [
  {
   "cell_type": "markdown",
   "metadata": {
    "toc-hr-collapsed": false
   },
   "source": [
    "# TrenchRipper Master Notebook"
   ]
  },
  {
   "cell_type": "markdown",
   "metadata": {},
   "source": [
    "#### Imports"
   ]
  },
  {
   "cell_type": "code",
   "execution_count": 1,
   "metadata": {},
   "outputs": [],
   "source": [
    "import trenchripper as tr\n",
    "\n",
    "from ipywidgets import interact, interactive, fixed, interact_manual, FloatSlider, IntSlider, Dropdown, IntText, SelectMultiple, IntRangeSlider\n",
    "import ipywidgets as widgets\n",
    "import matplotlib\n",
    "import warnings\n",
    "import copy\n",
    "\n",
    "matplotlib.rcParams['figure.figsize'] = [20, 10]\n",
    "warnings.filterwarnings(action='once')"
   ]
  },
  {
   "cell_type": "markdown",
   "metadata": {},
   "source": [
    "#### Specify Paths\n",
    "\n",
    "Begin by defining the directory in which all processing will be done, as well as the initial nd2 file we will be processing."
   ]
  },
  {
   "cell_type": "code",
   "execution_count": 3,
   "metadata": {},
   "outputs": [],
   "source": [
    "headpath = \"/n/scratch2/de64/2019-06-18_DE85_training_data\"\n",
    "nd2file = \"/n/scratch2/de64/2019-06-18_DE85_training_data/bde17_gotime.nd2\""
   ]
  },
  {
   "cell_type": "markdown",
   "metadata": {
    "toc-hr-collapsed": false
   },
   "source": [
    "#### Transfer files into the scratch folder"
   ]
  },
  {
   "cell_type": "code",
   "execution_count": null,
   "metadata": {},
   "outputs": [],
   "source": [
    "sourcedir = \"/n/files/SysBio/PAULSSON\\ LAB/Daniel/Image_Data/Bacillus_Project/2019-06-18_DE85_training_data\"\n",
    "targetdir = \"/n/scratch2/de64/2019-06-18_DE85_training_data\"\n",
    "tr.cluster.transferjob(sourcedir,targetdir)"
   ]
  },
  {
   "cell_type": "markdown",
   "metadata": {
    "toc-hr-collapsed": true
   },
   "source": [
    "### Extract to hdf5 files"
   ]
  },
  {
   "cell_type": "markdown",
   "metadata": {},
   "source": [
    "#### Start Dask Workers"
   ]
  },
  {
   "cell_type": "code",
   "execution_count": 3,
   "metadata": {},
   "outputs": [
    {
     "name": "stderr",
     "output_type": "stream",
     "text": [
      "/home/de64/anaconda3/envs/mothermachine/lib/python3.6/site-packages/distributed/deploy/local.py:138: UserWarning: diagnostics_port has been deprecated. Please use `dashboard_address=` instead\n",
      "  \"diagnostics_port has been deprecated. \"\n",
      "/home/de64/anaconda3/envs/mothermachine/lib/python3.6/site-packages/distributed/bokeh/core.py:74: UserWarning: \n",
      "Port 8787 is already in use. \n",
      "Perhaps you already have a cluster running?\n",
      "Hosting the diagnostics dashboard on a random port instead.\n",
      "  warnings.warn(\"\\n\" + msg)\n",
      "/home/de64/anaconda3/envs/mothermachine/lib/python3.6/site-packages/distributed/bokeh/core.py:77: ResourceWarning: unclosed <socket.socket fd=53, family=AddressFamily.AF_INET, type=2049, proto=6, laddr=('0.0.0.0', 0)>\n",
      "  raise\n"
     ]
    }
   ],
   "source": [
    "dask_controller = tr.cluster.dask_controller(walltime='04:00:00',local=False,n_workers=40,memory='2GB')\n",
    "dask_controller.startdask()\n",
    "dask_controller.daskcluster.start_workers()"
   ]
  },
  {
   "cell_type": "code",
   "execution_count": 4,
   "metadata": {},
   "outputs": [
    {
     "data": {
      "text/html": [
       "<a href=\"http://10.120.16.185:60596/status\">Dashboard</a>"
      ],
      "text/plain": [
       "<IPython.core.display.HTML object>"
      ]
     },
     "metadata": {},
     "output_type": "display_data"
    }
   ],
   "source": [
    "dask_controller.displaydashboard()"
   ]
  },
  {
   "cell_type": "markdown",
   "metadata": {},
   "source": [
    "#### Perform Extraction"
   ]
  },
  {
   "cell_type": "code",
   "execution_count": 3,
   "metadata": {},
   "outputs": [],
   "source": [
    "hdf5_extractor = tr.ndextract.hdf5_fov_extractor(nd2file,headpath,tpts_per_file=25)"
   ]
  },
  {
   "cell_type": "code",
   "execution_count": null,
   "metadata": {},
   "outputs": [],
   "source": [
    "hdf5_extractor.inter_get_notes()"
   ]
  },
  {
   "cell_type": "code",
   "execution_count": 6,
   "metadata": {},
   "outputs": [
    {
     "name": "stderr",
     "output_type": "stream",
     "text": [
      "/home/de64/anaconda3/envs/mothermachine/lib/python3.6/site-packages/nd2reader/common_raw_metadata.py:94: RuntimeWarning: Reported average frame interval (587498.1 ms) doesn't match the set interval (600000.0 ms). Using the average now.\n",
      "  warnings.warn(message % (avg_interval, interval), RuntimeWarning)\n",
      "/home/de64/anaconda3/envs/mothermachine/lib/python3.6/importlib/_bootstrap.py:219: RuntimeWarning: numpy.ufunc size changed, may indicate binary incompatibility. Expected 192 from C header, got 216 from PyObject\n",
      "  return f(*args, **kwds)\n",
      "/home/de64/anaconda3/envs/mothermachine/lib/python3.6/site-packages/tables/path.py:157: NaturalNameWarning: object name is a Python keyword: 'global'; you will not be able to use natural naming to access this object; using ``getattr()`` will still work, though\n",
      "  check_attribute_name(name)\n",
      "/home/de64/TrenchRipper/trenchripper/utils.py:280: UserWarning: Pandas doesn't allow columns to be created via a new attribute name - see https://pandas.pydata.org/pandas-docs/stable/indexing.html#attribute-access\n",
      "  df.metadata = store.get_storer(key).attrs.metadata\n"
     ]
    }
   ],
   "source": [
    "hdf5_extractor.extract(dask_controller)"
   ]
  },
  {
   "cell_type": "markdown",
   "metadata": {},
   "source": [
    "#### Shutdown Dask"
   ]
  },
  {
   "cell_type": "code",
   "execution_count": 9,
   "metadata": {},
   "outputs": [
    {
     "name": "stderr",
     "output_type": "stream",
     "text": [
      "Worker tcp://10.120.16.122:55368 restart in Job 47851656. This can be due to memory issue.\n",
      "Worker tcp://10.120.16.191:33690 restart in Job 47851646. This can be due to memory issue.\n",
      "Worker tcp://10.120.16.71:44353 restart in Job 47851650. This can be due to memory issue.\n",
      "Worker tcp://10.120.16.78:59658 restart in Job 47851651. This can be due to memory issue.\n",
      "Worker tcp://10.120.16.146:33666 restart in Job 47851658. This can be due to memory issue.\n",
      "Worker tcp://10.120.16.146:60131 restart in Job 47851657. This can be due to memory issue.\n",
      "Worker tcp://10.120.17.132:42699 restart in Job 47851663. This can be due to memory issue.\n",
      "Worker tcp://10.120.17.132:59398 restart in Job 47851662. This can be due to memory issue.\n",
      "Worker tcp://10.120.17.132:57149 restart in Job 47851665. This can be due to memory issue.\n",
      "Worker tcp://10.120.17.118:56753 restart in Job 47851643. This can be due to memory issue.\n",
      "Worker tcp://10.120.17.60:35213 restart in Job 47851648. This can be due to memory issue.\n",
      "Worker tcp://10.120.17.79:45837 restart in Job 47851660. This can be due to memory issue.\n",
      "Worker tcp://10.120.16.171:41592 restart in Job 47851645. This can be due to memory issue.\n",
      "Worker tcp://10.120.16.171:34315 restart in Job 47851644. This can be due to memory issue.\n",
      "Worker tcp://10.120.16.122:42211 restart in Job 47851655. This can be due to memory issue.\n",
      "Worker tcp://10.120.16.148:55476 restart in Job 47851647. This can be due to memory issue.\n",
      "Worker tcp://10.120.16.76:49914 restart in Job 47851668. This can be due to memory issue.\n",
      "Worker tcp://10.120.16.76:41935 restart in Job 47851669. This can be due to memory issue.\n",
      "Worker tcp://10.120.16.76:41101 restart in Job 47851667. This can be due to memory issue.\n",
      "Worker tcp://10.120.16.76:56872 restart in Job 47851670. This can be due to memory issue.\n",
      "Worker tcp://10.120.16.76:59949 restart in Job 47851666. This can be due to memory issue.\n",
      "Worker tcp://10.120.16.79:58556 restart in Job 47851661. This can be due to memory issue.\n",
      "Worker tcp://10.120.16.70:43595 restart in Job 47851649. This can be due to memory issue.\n",
      "Worker tcp://10.120.16.120:41228 restart in Job 47851653. This can be due to memory issue.\n",
      "Worker tcp://10.120.16.120:45451 restart in Job 47851654. This can be due to memory issue.\n",
      "Worker tcp://10.120.16.122:51297 restart in Job 47851656. This can be due to memory issue.\n",
      "Worker tcp://10.120.16.92:36700 restart in Job 47851671. This can be due to memory issue.\n",
      "Worker tcp://10.120.16.78:59807 restart in Job 47851652. This can be due to memory issue.\n",
      "Worker tcp://10.120.16.80:59700 restart in Job 47851659. This can be due to memory issue.\n"
     ]
    }
   ],
   "source": [
    "dask_controller.shutdown()"
   ]
  },
  {
   "cell_type": "markdown",
   "metadata": {
    "toc-hr-collapsed": false
   },
   "source": [
    "## Kymographs"
   ]
  },
  {
   "cell_type": "markdown",
   "metadata": {
    "toc-hr-collapsed": true
   },
   "source": [
    "### Test Parameters"
   ]
  },
  {
   "cell_type": "markdown",
   "metadata": {
    "toc-hr-collapsed": false
   },
   "source": [
    "#### Initialize the interactive kymograph class\n",
    "\n",
    "As a first step, initialize the `tr.interactive.kymograph_interactive` class that will be handling all steps of generating a kymograph. \n",
    "\n",
    "You will need to specify the following `args` and `kwargs` (in order):\n",
    "\n",
    "\n",
    "**Args**\n",
    "\n",
    "**input_file_prefix (string)** : File prefix for all input hdf5 files of the form \"\\[input_file_prefix\\]\\[number\\].hdf5\" This should be the default output format for the hdf5 export code, but you will need to rename files if taking input files from a different source.\n",
    "\n",
    "**all_channels (list)** : list of strings corresponding to the different image channels available in the input hdf5 file, with the channel used for segmenting trenches in the first position. NOTE: these names must match those of the input hdf5 file datasets.\n",
    "\n",
    "**fov_list (list)** : List of ints corresponding to the fovs that you wish to make kymographs of.\n",
    "\n",
    "**Kwargs**\n",
    "\n",
    "**t_subsample_step (int)** : Step size to be used for subsampling input files in time, recommend that subsampling results in between 5 and 20 timepoints for quick processing.\n",
    "\n",
    "**t_range (tuple of ints)** : Range size to be used for subsampling input files in time.\n",
    "\n",
    "The last line will perform import and subsampling of the input hdf5 image files."
   ]
  },
  {
   "cell_type": "code",
   "execution_count": 7,
   "metadata": {},
   "outputs": [],
   "source": [
    "matplotlib.rcParams['figure.figsize'] = [20, 10]\n",
    "interactive_kymograph = tr.interactive.kymograph_interactive(headpath)\n",
    "channels,fov_list,timepoints_len = interactive_kymograph.get_image_params()"
   ]
  },
  {
   "cell_type": "code",
   "execution_count": 8,
   "metadata": {},
   "outputs": [
    {
     "data": {
      "application/vnd.jupyter.widget-view+json": {
       "model_id": "e9a3ac6045204d54904a098aaefa9249",
       "version_major": 2,
       "version_minor": 0
      },
      "text/plain": [
       "interactive(children=(IntText(value=0, description='FOV number:'), IntSlider(value=0, continuous_update=False,…"
      ]
     },
     "metadata": {},
     "output_type": "display_data"
    }
   ],
   "source": [
    "interact(interactive_kymograph.view_image,fov_idx=IntText(value=0,description='FOV number:',disabled=False),\\\n",
    "         t=IntSlider(value=0, min=0, max=timepoints_len-1, step=1,continuous_update=False),\n",
    "        channel=Dropdown(options=channels,value=channels[0],description='Channel:',disabled=False));"
   ]
  },
  {
   "cell_type": "code",
   "execution_count": 35,
   "metadata": {},
   "outputs": [
    {
     "data": {
      "application/vnd.jupyter.widget-view+json": {
       "model_id": "be67ff1870664fce81b8ac40bbe9379d",
       "version_major": 2,
       "version_minor": 0
      },
      "text/plain": [
       "interactive(children=(Dropdown(description='seg_channel', options=('GFP', 'Phase'), value='GFP'), SelectMultip…"
      ]
     },
     "metadata": {},
     "output_type": "display_data"
    }
   ],
   "source": [
    "import_hdf5 = interactive(interactive_kymograph.import_hdf5_files, {\"manual\":True},all_channels=fixed(channels),seg_channel=Dropdown(options=channels,value=channels[0]),\\\n",
    "                          fov_list=SelectMultiple(options=fov_list),t_range=IntRangeSlider(value=[0, timepoints_len-1],min=0,max=timepoints_len-1,step=1,disabled=False,continuous_update=False),\\\n",
    "                          t_subsample_step=IntSlider(value=10, min=0, max=200, step=1));\n",
    "display(import_hdf5)"
   ]
  },
  {
   "cell_type": "code",
   "execution_count": 46,
   "metadata": {},
   "outputs": [],
   "source": [
    "imported_array_list = copy.copy(import_hdf5.result)"
   ]
  },
  {
   "cell_type": "markdown",
   "metadata": {},
   "source": [
    "#### Tune \"trench-row\" detection hyperparameters\n",
    "\n",
    "The kymograph code begins by detecting the positions of trench rows in the image as follows:\n",
    "\n",
    "1. Reducing each 2D image to a 1D signal along the y-axis by computing the qth percentile of the data along the x-axis\n",
    "2. Smooth this signal using a median kernel\n",
    "3. Use a [triangle threshold](https://imagej.net/Auto_Threshold#Triangle) to determine the trench row poisitons\n",
    "\n",
    "This method uses the following `kwargs`, which you can tune here:\n",
    "\n",
    "**y_percentile (int)** : Percentile to use for step 1.\n",
    "\n",
    "**smoothing_kernel_y_dim_0 (int)** : Median kernel size to use for step 2.\n",
    "\n",
    "**triangle_nbins (int)** : Number of bins to use in the triangle method histogram.\n",
    "\n",
    "**triangle_scaling (float)** : Scaling factor to apply to the threshold determined by the triangle method.\n",
    "\n",
    "\n",
    "Running the following widget will display the smoothed 1-D signal for each of your timepoints. In addition, the threshold value for each fov will be displayed as a red line."
   ]
  },
  {
   "cell_type": "code",
   "execution_count": 47,
   "metadata": {},
   "outputs": [
    {
     "data": {
      "application/vnd.jupyter.widget-view+json": {
       "model_id": "1b1d093230e84876898cc97a7f9c39cc",
       "version_major": 2,
       "version_minor": 0
      },
      "text/plain": [
       "interactive(children=(IntSlider(value=100, description='y_percentile'), IntSlider(value=17, description='smoot…"
      ]
     },
     "metadata": {},
     "output_type": "display_data"
    }
   ],
   "source": [
    "matplotlib.rcParams['figure.figsize'] = [20, 10]\n",
    "\n",
    "row_detection = interactive(interactive_kymograph.preview_y_precentiles, {\"manual\":True},imported_array_list=fixed(imported_array_list),y_percentile=IntSlider(value=100, min=0, max=100, step=1),\\\n",
    "         smoothing_kernel_y_dim_0=IntSlider(value=17, min=1, max=20, step=1),triangle_nbins=IntSlider(value=50, min=10, max=200, step=10),\\\n",
    "                triangle_scaling=FloatSlider(value=3.5, min=0., max=4., step=0.05));\n",
    "display(row_detection)"
   ]
  },
  {
   "cell_type": "markdown",
   "metadata": {},
   "source": [
    "#### Generate \"trench-row\" detection output\n",
    "\n",
    "After determining your desired hyperparameters, set them in the next cell and run it to produce output for later steps. **Note: The thresholding parameters do not need to be specified at this point.**"
   ]
  },
  {
   "cell_type": "code",
   "execution_count": 48,
   "metadata": {},
   "outputs": [],
   "source": [
    "y_percentiles_smoothed_list = copy.copy(row_detection.result)"
   ]
  },
  {
   "cell_type": "markdown",
   "metadata": {},
   "source": [
    "#### Tune \"trench-row\" cropping hyperparameters\n",
    "\n",
    "Next, we will use the detected rows to perform cropping of the input image in the y-dimension:\n",
    "\n",
    "1. Determine edges of trench rows based on threshold mask.\n",
    "2. Filter out rows that are too small.\n",
    "3. Perform cropping using the \"end\" of the row as reference (the end referring to the part of the trench farthest from the feeding channel).\n",
    "\n",
    "This method uses the following `kwargs`, which you can tune here:\n",
    "\n",
    "**y_min_edge_dist (int)** : Minimum row length necessary for detection.\n",
    "\n",
    "**padding_y (int)** : Padding to be used when cropping in the y-dimension.\n",
    "\n",
    "**trench_len_y (int)** : Length from the end of the tenches to be used when cropping in the y-dimension.\n",
    "\n",
    "**top_orientation (int)** : The orientation of the top-most row where 0 corresponds to a trench with a downward-oriented trench opening and 1 corresponds to a trench with an upward-oriented trench opening.\n",
    "\n",
    "**vertical_spacing (float)** : Parameter for setting the distance of plots being viewed.\n",
    "\n",
    "Running the following widget will display y-cropped images for each fov and timepoint."
   ]
  },
  {
   "cell_type": "code",
   "execution_count": 49,
   "metadata": {},
   "outputs": [
    {
     "data": {
      "application/vnd.jupyter.widget-view+json": {
       "model_id": "f96da2b5950a4a95b8110267ee18852b",
       "version_major": 2,
       "version_minor": 0
      },
      "text/plain": [
       "interactive(children=(IntSlider(value=50, description='y_min_edge_dist', max=200, min=10, step=10), IntSlider(…"
      ]
     },
     "metadata": {},
     "output_type": "display_data"
    }
   ],
   "source": [
    "matplotlib.rcParams['figure.figsize'] = [20, 10]\n",
    "y_cropping = interactive(interactive_kymograph.preview_y_crop,{\"manual\":True},y_percentiles_smoothed_list=fixed(y_percentiles_smoothed_list),\\\n",
    "                imported_array_list=fixed(imported_array_list),\\\n",
    "                y_min_edge_dist=IntSlider(value=50, min=10, max=200, step=10),\\\n",
    "                padding_y=IntSlider(value=20, min=0, max=100, step=1),\\\n",
    "                trench_len_y=IntSlider(value=270, min=0, max=1000, step=10),\n",
    "               vertical_spacing=FloatSlider(value=0.9, min=0., max=2., step=0.01),\\\n",
    "                expected_num_rows=IntText(value=2,description='Number of Rows:',disabled=False),\\\n",
    "               orientation_detection=Dropdown(options=[0, 1, 'phase'],value=0,description='Orientation:',disabled=False),\n",
    "                orientation_on_fail=Dropdown(options=[None,0, 1],value=0,description='Orientation when < expected rows:',disabled=False))\n",
    "display(y_cropping)"
   ]
  },
  {
   "cell_type": "markdown",
   "metadata": {},
   "source": [
    "#### Generate \"trench-row\" cropping output\n",
    "\n",
    "After determining your desired hyperparameters, set them in the next cell and run it to produce output for later steps."
   ]
  },
  {
   "cell_type": "code",
   "execution_count": 50,
   "metadata": {},
   "outputs": [],
   "source": [
    "cropped_in_y_list = copy.copy(y_cropping.result)"
   ]
  },
  {
   "cell_type": "markdown",
   "metadata": {},
   "source": [
    "#### Tune trench detection hyperparameters\n",
    "\n",
    "Next, we will detect the positions of trenchs in the y-cropped images as follows:\n",
    "\n",
    "1. Reducing each 2D image to a 1D signal along the x-axis by computing the qth percentile of the data along the y-axis.\n",
    "2. Determine the signal background by smooth this signal using a large median kernel.\n",
    "3. Subtract the background signal.\n",
    "4. Smooth the resultant signal using a median kernel.\n",
    "5. Use a [otsu threhsold](https://imagej.net/Auto_Threshold#Otsu) to determine the trench midpoint poisitons.\n",
    "\n",
    "This method uses the following `kwargs`, which you can tune here:\n",
    "\n",
    "**x_percentile (int)** : Percentile to use for step 1.\n",
    "\n",
    "**background_kernel_x (int)** : Median kernel size to use for step 2.\n",
    "\n",
    "**smoothing_kernel_x (int)** : Median kernel size to use for step 4.\n",
    "\n",
    "**otsu_nbins (int)** : Number of bins to use in the Otsu's method histogram.\n",
    "\n",
    "**otsu_scaling (float)** : Scaling factor to apply to the threshold determined by Otsu's method.\n",
    "\n",
    "**vertical_spacing (float)** : Parameter for setting the distance of plots being viewed.\n",
    "\n",
    "Running the following widget will display the smoothed 1-D signal for each of your timepoints. In addition, the threshold value for each fov will be displayed as a red line."
   ]
  },
  {
   "cell_type": "code",
   "execution_count": 51,
   "metadata": {},
   "outputs": [
    {
     "data": {
      "application/vnd.jupyter.widget-view+json": {
       "model_id": "e79f6d46270e4557a0efdfb897d145c9",
       "version_major": 2,
       "version_minor": 0
      },
      "text/plain": [
       "interactive(children=(IntSlider(value=0, description='t', max=21), IntSlider(value=85, description='x_percenti…"
      ]
     },
     "metadata": {},
     "output_type": "display_data"
    }
   ],
   "source": [
    "trench_detection = interactive(interactive_kymograph.preview_x_percentiles, {\"manual\":True}, cropped_in_y_list=fixed(cropped_in_y_list),t=IntSlider(value=0, min=0, max=cropped_in_y_list[0].shape[4]-1, step=1),\\\n",
    "                x_percentile=IntSlider(value=85, min=50, max=100, step=1),background_kernel_x=IntSlider(value=21, min=1, max=601, step=20), smoothing_kernel_x=IntSlider(value=9, min=1, max=31, step=2),\\\n",
    "               otsu_nbins=IntSlider(value=50, min=10, max=200, step=10),otsu_scaling=FloatSlider(value=0.25, min=0., max=2., step=0.01),\\\n",
    "               vertical_spacing=FloatSlider(value=0.9, min=0., max=2., step=0.01));\n",
    "display(trench_detection)"
   ]
  },
  {
   "cell_type": "markdown",
   "metadata": {},
   "source": [
    "#### Generate trench detection output\n",
    "\n",
    "After determining your desired hyperparameters, set them in the next cell and run it to produce output for later steps. **Note: The thresholding parameters do not need to be specified at this point.**"
   ]
  },
  {
   "cell_type": "code",
   "execution_count": 52,
   "metadata": {},
   "outputs": [],
   "source": [
    "smoothed_x_percentiles_list = trench_detection.result"
   ]
  },
  {
   "cell_type": "markdown",
   "metadata": {},
   "source": [
    "#### Check midpoint drift\n",
    "\n",
    "Next, we will perform x-dimension drift correction of our detected midpoints as follows:\n",
    "\n",
    "1. Begin at t=1\n",
    "2. For $m \\in \\{midpoints(t)\\}$ assign $n \\in \\{midpoints(t-1)\\}$ to m if n is the closest midpoint to m at time $t-1$,\n",
    "points that are not the closest midpoint to any midpoints in m will not be mapped.\n",
    "3. Compute the translation of each midpoint at time.\n",
    "4. Take the average of this value as the x-dimension drift from time t-1 to t.\n",
    "\n",
    "This method uses the following `kwargs`, which you can tune here:\n",
    "\n",
    "**vertical_spacing (float)** : Parameter for setting the distance of plots being viewed.\n",
    "\n",
    "Running the following widget will display the detected midpoints for each of your timepoints. If there is too much sparsity, or discontinuity, your drift correction will not be accurate."
   ]
  },
  {
   "cell_type": "code",
   "execution_count": 53,
   "metadata": {},
   "outputs": [
    {
     "data": {
      "application/vnd.jupyter.widget-view+json": {
       "model_id": "2fe72a381e4142b4b41c37cdefb990da",
       "version_major": 2,
       "version_minor": 0
      },
      "text/plain": [
       "interactive(children=(FloatSlider(value=0.8, description='vertical_spacing', max=2.0, step=0.01), Button(descr…"
      ]
     },
     "metadata": {},
     "output_type": "display_data"
    }
   ],
   "source": [
    "midpoint_drift = interactive(interactive_kymograph.preview_midpoints,{\"manual\":True},smoothed_x_percentiles_list=fixed(smoothed_x_percentiles_list),\\\n",
    "               vertical_spacing=FloatSlider(value=0.8, min=0., max=2., step=0.01));\n",
    "display(midpoint_drift)"
   ]
  },
  {
   "cell_type": "markdown",
   "metadata": {},
   "source": [
    "#### Generate midpoint drift output\n",
    "\n",
    "After determining your desired hyperparameters, set them in the next cell and run it to produce output for later steps."
   ]
  },
  {
   "cell_type": "code",
   "execution_count": 54,
   "metadata": {},
   "outputs": [],
   "source": [
    "all_midpoints_list,x_drift_list = midpoint_drift.result"
   ]
  },
  {
   "cell_type": "markdown",
   "metadata": {},
   "source": [
    "#### Tune trench cropping hyperparameters\n",
    "\n",
    "Trench cropping simply uses the drift-corrected midpoints as a reference and crops out some fixed length around them to produce an output kymograph\n",
    "\n",
    "This method uses the following `kwargs`, which you can tune here:\n",
    "\n",
    "**trench_width_x (int)** : Trench width to use for cropping.\n",
    "\n",
    "**vertical_spacing (float)** : Parameter for setting the distance of plots being viewed.\n",
    "\n",
    "Running the following widget will display a random kymograph for each row in each fov.\n",
    "\n",
    "It will also produce midpoint plots showing retained midpoints"
   ]
  },
  {
   "cell_type": "code",
   "execution_count": 55,
   "metadata": {},
   "outputs": [
    {
     "data": {
      "application/vnd.jupyter.widget-view+json": {
       "model_id": "5f8356afdc4d4b6f9bf758bbd446b24a",
       "version_major": 2,
       "version_minor": 0
      },
      "text/plain": [
       "interactive(children=(IntSlider(value=30, description='trench_width_x', max=50, min=10, step=2), FloatSlider(v…"
      ]
     },
     "metadata": {},
     "output_type": "display_data"
    },
    {
     "data": {
      "text/plain": [
       "<function ipywidgets.widgets.interaction._InteractFactory.__call__.<locals>.<lambda>(*args, **kwargs)>"
      ]
     },
     "execution_count": 55,
     "metadata": {},
     "output_type": "execute_result"
    }
   ],
   "source": [
    "matplotlib.rcParams['figure.figsize'] = [20, 10]\n",
    "interact_manual(interactive_kymograph.preview_kymographs,cropped_in_y_list=fixed(cropped_in_y_list),all_midpoints_list=fixed(all_midpoints_list),\\\n",
    "                x_drift_list=fixed(x_drift_list),trench_width_x=IntSlider(value=30, min=10, max=50, step=2),\\\n",
    "                trench_present_thr=FloatSlider(value=0., min=0., max=1., step=0.05),\\\n",
    "               vertical_spacing=FloatSlider(value=0.8, min=0., max=2., step=0.01))"
   ]
  },
  {
   "cell_type": "markdown",
   "metadata": {},
   "source": [
    "#### Export and save hyperparameters"
   ]
  },
  {
   "cell_type": "code",
   "execution_count": 20,
   "metadata": {},
   "outputs": [
    {
     "name": "stdout",
     "output_type": "stream",
     "text": [
      "Y Percentile 99\n",
      "Y Smoothing Kernel 17\n",
      "Triangle Threshold Bins 50\n",
      "Triangle Threshold Scaling 3.5\n",
      "Minimum Trench Length 50\n",
      "Y Padding 40\n",
      "Trench Length 330\n",
      "Orientation Detection Method 1\n",
      "Expected Number of Rows (Manual Orientation Detection) 1\n",
      "Top Orientation when Row Drifts Out (Manual Orientation Detection) 1\n",
      "X Percentile 95\n",
      "X Background Kernel 21\n",
      "X Smoothing Kernel 9\n",
      "Otsu Threshold Bins 50\n",
      "Otsu Threshold Scaling 0.2\n",
      "Trench Width 22\n",
      "Trench Presence Threshold 0.0\n",
      "All Channels ['GFP', 'Phase']\n",
      "Time Range (0, 31)\n"
     ]
    }
   ],
   "source": [
    "interactive_kymograph.process_results()"
   ]
  },
  {
   "cell_type": "code",
   "execution_count": 21,
   "metadata": {},
   "outputs": [],
   "source": [
    "interactive_kymograph.write_param_file()"
   ]
  },
  {
   "cell_type": "markdown",
   "metadata": {
    "toc-hr-collapsed": true
   },
   "source": [
    "### Generate Kymograph"
   ]
  },
  {
   "cell_type": "markdown",
   "metadata": {},
   "source": [
    "#### Start Dask Workers"
   ]
  },
  {
   "cell_type": "code",
   "execution_count": 20,
   "metadata": {},
   "outputs": [
    {
     "name": "stderr",
     "output_type": "stream",
     "text": [
      "/home/de64/anaconda3/envs/mothermachine/lib/python3.6/site-packages/distributed/deploy/local.py:138: UserWarning: diagnostics_port has been deprecated. Please use `dashboard_address=` instead\n",
      "  \"diagnostics_port has been deprecated. \"\n"
     ]
    }
   ],
   "source": [
    "dask_controller = tr.cluster.dask_controller(walltime='04:00:00',local=False,n_workers=20,memory='4GB')\n",
    "dask_controller.startdask()\n",
    "dask_controller.daskcluster.start_workers()"
   ]
  },
  {
   "cell_type": "code",
   "execution_count": 22,
   "metadata": {},
   "outputs": [
    {
     "data": {
      "text/html": [
       "<a href=\"http://10.120.16.185:60596/status\">Dashboard</a>"
      ],
      "text/plain": [
       "<IPython.core.display.HTML object>"
      ]
     },
     "metadata": {},
     "output_type": "display_data"
    }
   ],
   "source": [
    "dask_controller.displaydashboard()"
   ]
  },
  {
   "cell_type": "code",
   "execution_count": 25,
   "metadata": {},
   "outputs": [],
   "source": [
    "kymoclust = tr.kymograph.kymograph_cluster(headpath=headpath,trenches_per_file=20,paramfile=True)"
   ]
  },
  {
   "cell_type": "code",
   "execution_count": 24,
   "metadata": {},
   "outputs": [
    {
     "name": "stderr",
     "output_type": "stream",
     "text": [
      "Worker tcp://10.120.16.170:54606 restart in Job 48025893. This can be due to memory issue.\n"
     ]
    }
   ],
   "source": [
    "kymoclust.generate_kymographs(dask_controller)"
   ]
  },
  {
   "cell_type": "code",
   "execution_count": 25,
   "metadata": {},
   "outputs": [],
   "source": [
    "kymoclust.post_process(dask_controller)"
   ]
  },
  {
   "cell_type": "markdown",
   "metadata": {},
   "source": [
    "#### Check kymograph statistics"
   ]
  },
  {
   "cell_type": "code",
   "execution_count": 26,
   "metadata": {},
   "outputs": [
    {
     "name": "stdout",
     "output_type": "stream",
     "text": [
      "fovs processed: 42/50\n",
      "lanes processed: 42\n",
      "trenches processed: 1667\n",
      "row/fov: 1.0\n",
      "trenches/fov: 39.69047619047619\n",
      "failed fovs: [35, 37, 11, 12, 45, 47, 48, 49]\n"
     ]
    }
   ],
   "source": [
    "kymoclust.kymo_report()"
   ]
  },
  {
   "cell_type": "markdown",
   "metadata": {},
   "source": [
    "#### Shutdown Dask"
   ]
  },
  {
   "cell_type": "code",
   "execution_count": 43,
   "metadata": {},
   "outputs": [
    {
     "name": "stderr",
     "output_type": "stream",
     "text": [
      "Worker tcp://10.120.17.12:38313 restart in Job 48025929. This can be due to memory issue.\n",
      "Worker tcp://10.120.17.12:36937 restart in Job 48025931. This can be due to memory issue.\n",
      "Worker tcp://10.120.16.181:43468 restart in Job 48025928. This can be due to memory issue.\n",
      "Worker tcp://10.120.17.12:54726 restart in Job 48025933. This can be due to memory issue.\n",
      "Worker tcp://10.120.16.239:59664 restart in Job 48025950. This can be due to memory issue.\n",
      "Worker tcp://10.120.16.240:44886 restart in Job 48025947. This can be due to memory issue.\n",
      "Worker tcp://10.120.16.161:43696 restart in Job 48025887. This can be due to memory issue.\n",
      "Worker tcp://10.120.16.183:39699 restart in Job 48025922. This can be due to memory issue.\n",
      "Worker tcp://10.120.16.163:42959 restart in Job 48025925. This can be due to memory issue.\n",
      "Worker tcp://10.120.16.184:47160 restart in Job 48025945. This can be due to memory issue.\n",
      "Worker tcp://10.120.16.193:50301 restart in Job 48025941. This can be due to memory issue.\n",
      "Worker tcp://10.120.16.193:57994 restart in Job 48025939. This can be due to memory issue.\n",
      "Worker tcp://10.120.16.193:58412 restart in Job 48025943. This can be due to memory issue.\n",
      "Worker tcp://10.120.17.12:59184 restart in Job 48025931. This can be due to memory issue.\n",
      "Worker tcp://10.120.17.12:46643 restart in Job 48025933. This can be due to memory issue.\n",
      "Worker tcp://10.120.17.12:53442 restart in Job 48025929. This can be due to memory issue.\n",
      "Worker tcp://10.120.16.170:57131 restart in Job 48025893. This can be due to memory issue.\n",
      "Worker tcp://10.120.16.183:58907 restart in Job 48025911. This can be due to memory issue.\n",
      "Worker tcp://10.120.16.183:60035 restart in Job 48025912. This can be due to memory issue.\n",
      "Worker tcp://10.120.16.183:53375 restart in Job 48025914. This can be due to memory issue.\n",
      "Worker tcp://10.120.16.183:41501 restart in Job 48025908. This can be due to memory issue.\n",
      "Worker tcp://10.120.16.183:40922 restart in Job 48025909. This can be due to memory issue.\n",
      "Worker tcp://10.120.16.183:37257 restart in Job 48025916. This can be due to memory issue.\n",
      "Worker tcp://10.120.16.183:42424 restart in Job 48025922. This can be due to memory issue.\n",
      "Worker tcp://10.120.16.185:36729 restart in Job 48025905. This can be due to memory issue.\n",
      "Worker tcp://10.120.16.185:46971 restart in Job 48025899. This can be due to memory issue.\n",
      "Worker tcp://10.120.16.185:38727 restart in Job 48025897. This can be due to memory issue.\n",
      "Worker tcp://10.120.16.239:41691 restart in Job 48025951. This can be due to memory issue.\n",
      "Worker tcp://10.120.16.239:41759 restart in Job 48025950. This can be due to memory issue.\n",
      "Worker tcp://10.120.16.239:51333 restart in Job 48025958. This can be due to memory issue.\n",
      "Worker tcp://10.120.16.165:58989 restart in Job 48025920. This can be due to memory issue.\n",
      "Worker tcp://10.120.16.181:34730 restart in Job 48025927. This can be due to memory issue.\n",
      "Worker tcp://10.120.16.181:54440 restart in Job 48025907. This can be due to memory issue.\n",
      "Worker tcp://10.120.16.181:44156 restart in Job 48025903. This can be due to memory issue.\n",
      "Worker tcp://10.120.17.16:51557 restart in Job 48025906. This can be due to memory issue.\n",
      "Worker tcp://10.120.16.181:37701 restart in Job 48025928. This can be due to memory issue.\n",
      "Worker tcp://10.120.16.161:54714 restart in Job 48025885. This can be due to memory issue.\n",
      "Worker tcp://10.120.16.161:44897 restart in Job 48025887. This can be due to memory issue.\n",
      "Worker tcp://10.120.16.160:32982 restart in Job 48025960. This can be due to memory issue.\n",
      "Worker tcp://10.120.16.167:55890 restart in Job 48025891. This can be due to memory issue.\n",
      "Worker tcp://10.120.16.240:37127 restart in Job 48025947. This can be due to memory issue.\n",
      "Worker tcp://10.120.16.167:35798 restart in Job 48025889. This can be due to memory issue.\n",
      "Worker tcp://10.120.16.171:47730 restart in Job 48025904. This can be due to memory issue.\n",
      "Worker tcp://10.120.16.171:53137 restart in Job 48025895. This can be due to memory issue.\n",
      "Worker tcp://10.120.16.182:44423 restart in Job 48025937. This can be due to memory issue.\n",
      "Worker tcp://10.120.16.160:51821 restart in Job 48025935. This can be due to memory issue.\n",
      "Worker tcp://10.120.16.160:43935 restart in Job 48025918. This can be due to memory issue.\n",
      "Worker tcp://10.120.16.163:40355 restart in Job 48025925. This can be due to memory issue.\n",
      "Worker tcp://10.120.16.163:43806 restart in Job 48025924. This can be due to memory issue.\n",
      "Worker tcp://10.120.16.163:58650 restart in Job 48025901. This can be due to memory issue.\n"
     ]
    }
   ],
   "source": [
    "dask_controller.shutdown()"
   ]
  },
  {
   "cell_type": "markdown",
   "metadata": {
    "toc-hr-collapsed": false
   },
   "source": [
    "## Fluorescence Segmentation"
   ]
  },
  {
   "cell_type": "markdown",
   "metadata": {
    "toc-hr-collapsed": true
   },
   "source": [
    "### Test Parameters"
   ]
  },
  {
   "cell_type": "markdown",
   "metadata": {},
   "source": [
    "#### Initialize the interactive segmentation class\n",
    "\n",
    "As a first step, initialize the `tr.interactive.fluo_segmentation_interactive` class that will be handling all steps of generating a segmentation. \n",
    "\n",
    "You will need to specify the following `args` (in order):\n",
    "\n",
    "\n",
    "**Args**\n",
    "\n",
    "**headpath (string)** : Top level path being used for processing (same as the rest of the mother machine pipeline.)"
   ]
  },
  {
   "cell_type": "code",
   "execution_count": 56,
   "metadata": {},
   "outputs": [],
   "source": [
    "matplotlib.rcParams['figure.figsize'] = [20, 10]\n",
    "interactive_segmentation = tr.interactive.fluo_segmentation_interactive(headpath)"
   ]
  },
  {
   "cell_type": "markdown",
   "metadata": {},
   "source": [
    "#### Choose channel to segment on"
   ]
  },
  {
   "cell_type": "code",
   "execution_count": 57,
   "metadata": {},
   "outputs": [
    {
     "data": {
      "application/vnd.jupyter.widget-view+json": {
       "model_id": "b62be7ec158841169c5848087004486d",
       "version_major": 2,
       "version_minor": 0
      },
      "text/plain": [
       "interactive(children=(Dropdown(description='seg_channel', options=('Phase', 'GFP'), value='Phase'), Button(des…"
      ]
     },
     "metadata": {},
     "output_type": "display_data"
    }
   ],
   "source": [
    "choose_channel = interactive(interactive_segmentation.choose_seg_channel, {\"manual\":True},seg_channel=Dropdown(options=interactive_segmentation.all_channels,\\\n",
    "                                                                                              value=interactive_segmentation.all_channels[0]));\n",
    "display(choose_channel)"
   ]
  },
  {
   "cell_type": "markdown",
   "metadata": {},
   "source": [
    "#### Import data\n",
    "\n",
    "Fill in \n",
    "\n",
    "You will need to tune the following `args` and `kwargs` (in order):\n",
    "\n",
    "**fov_idx (int)** :\n",
    "\n",
    "**n_trenches (int)** :\n",
    "\n",
    "**t_range (tuple)** :\n",
    "\n",
    "**t_subsample_step (int)** :"
   ]
  },
  {
   "cell_type": "code",
   "execution_count": 58,
   "metadata": {},
   "outputs": [
    {
     "data": {
      "application/vnd.jupyter.widget-view+json": {
       "model_id": "e67539fd8f084e0788d0387db1ff59e9",
       "version_major": 2,
       "version_minor": 0
      },
      "text/plain": [
       "interactive(children=(IntText(value=1, description='Number of trenches:'), IntRangeSlider(value=(0, 48), descr…"
      ]
     },
     "metadata": {},
     "output_type": "display_data"
    }
   ],
   "source": [
    "kymo_arr_int = interactive(interactive_segmentation.import_array, {\"manual\":True},\\\n",
    "                       n_trenches=IntText(value=1,description='Number of trenches:',disabled=False),\\\n",
    "                       t_range=IntRangeSlider(value=[interactive_segmentation.t_range[0],interactive_segmentation.t_range[1]-1],\\\n",
    "                        description='Time Range:',min=interactive_segmentation.t_range[0],max=interactive_segmentation.t_range[1]-1,step=1,disabled=False),\\\n",
    "                       t_subsample_step=IntSlider(value=1,description='Time Subsampling Step:', min=1, max=20, step=1),\\\n",
    "                       fig_size_y=IntSlider(value=9, description='Figure Size (Y Dimension):' , min=1, max=30, step=1),\\\n",
    "                       fig_size_x=IntSlider(value=6, description='Figure Size (X Dimension):', min=1, max=30, step=1),\\\n",
    "                          img_per_row=IntSlider(value=2, description='Images per Row:', min=1, max=30, step=1));\n",
    "display(kymo_arr_int)"
   ]
  },
  {
   "cell_type": "code",
   "execution_count": 59,
   "metadata": {},
   "outputs": [],
   "source": [
    "kymo_arr = copy.copy(kymo_arr_int.result)"
   ]
  },
  {
   "cell_type": "markdown",
   "metadata": {},
   "source": [
    "#### Scale data\n",
    "\n",
    "Fill in \n",
    "\n",
    "You will need to tune the following `args` and `kwargs` (in order):\n",
    "\n",
    "**scale (bool)** : Whether to scale the kymograph in time.\n",
    "\n",
    "**scaling_percentile (int)** : Whole image intensity percentile to use to determine scaling constant. "
   ]
  },
  {
   "cell_type": "code",
   "execution_count": 60,
   "metadata": {},
   "outputs": [
    {
     "data": {
      "application/vnd.jupyter.widget-view+json": {
       "model_id": "2d14f89359f948a4bb3d00e5811b444b",
       "version_major": 2,
       "version_minor": 0
      },
      "text/plain": [
       "interactive(children=(Dropdown(description='Scale Fluorescence?', options=(True, False), value=True), IntSlide…"
      ]
     },
     "metadata": {},
     "output_type": "display_data"
    }
   ],
   "source": [
    "scaled_list_int = interactive(interactive_segmentation.plot_scaled, {\"manual\":True},kymo_arr=fixed(kymo_arr),\\\n",
    "                          scale=Dropdown(options=[True,False],value=True,description='Scale Fluorescence?',disabled=False),\\\n",
    "                          scaling_percentile=IntSlider(value=90,description='Scaling Percentile:',min=0,max=100,step=1,disabled=False));\n",
    "display(scaled_list_int)"
   ]
  },
  {
   "cell_type": "code",
   "execution_count": 61,
   "metadata": {},
   "outputs": [],
   "source": [
    "scaled_list = copy.copy(scaled_list_int.result)"
   ]
  },
  {
   "cell_type": "markdown",
   "metadata": {},
   "source": [
    "#### Apply Gaussian Filter\n",
    "\n",
    "Fill in \n",
    "\n",
    "You will need to tune the following `args` and `kwargs` (in order):\n",
    "\n",
    "**smooth_sigma (float)** : Standard deviation of gaussian kernel."
   ]
  },
  {
   "cell_type": "code",
   "execution_count": 62,
   "metadata": {},
   "outputs": [
    {
     "data": {
      "application/vnd.jupyter.widget-view+json": {
       "model_id": "b718e48a2a754a649f17728af1c66ed3",
       "version_major": 2,
       "version_minor": 0
      },
      "text/plain": [
       "interactive(children=(FloatSlider(value=0.75, description='Gaussian Kernel Sigma:', max=3.0, step=0.25), Butto…"
      ]
     },
     "metadata": {},
     "output_type": "display_data"
    }
   ],
   "source": [
    "proc_list_int = interactive(interactive_segmentation.plot_processed, {\"manual\":True},scaled_list=fixed(scaled_list),\\\n",
    "                          smooth_sigma=FloatSlider(value=0.75,description='Gaussian Kernel Sigma:',min=0.,max=3.,step=0.25,disabled=False));\n",
    "display(proc_list_int)"
   ]
  },
  {
   "cell_type": "code",
   "execution_count": 63,
   "metadata": {},
   "outputs": [
    {
     "data": {
      "image/png": "[encoded data removed]",
      "text/plain": [
       "<Figure size 792x648 with 4 Axes>"
      ]
     },
     "metadata": {
      "needs_background": "light"
     },
     "output_type": "display_data"
    }
   ],
   "source": [
    "proc_list = copy.copy(proc_list_int.result)\n",
    "eigval_list = interactive_segmentation.plot_eigval(proc_list)"
   ]
  },
  {
   "cell_type": "code",
   "execution_count": 92,
   "metadata": {},
   "outputs": [
    {
     "data": {
      "text/plain": [
       "<matplotlib.image.AxesImage at 0x7f496d5b5f60>"
      ]
     },
     "execution_count": 92,
     "metadata": {},
     "output_type": "execute_result"
    },
    {
     "data": {
      "image/png": "[encoded data removed]",
      "text/plain": [
       "<Figure size 1440x720 with 1 Axes>"
      ]
     },
     "metadata": {
      "needs_background": "light"
     },
     "output_type": "display_data"
    }
   ],
   "source": [
    "from matplotlib import pyplot as plt\n",
    "\n",
    "plt.imshow(eigval_list[3]>125)"
   ]
  },
  {
   "cell_type": "markdown",
   "metadata": {},
   "source": [
    "#### Determine Cell Mask Envelope\n",
    "\n",
    "Fill in.\n",
    "\n",
    "You will need to tune the following `args` and `kwargs` (in order):\n",
    "\n",
    "**cell_mask_method (str)** : Thresholding method, can be a local or global Otsu threshold.\n",
    "\n",
    "**cell_otsu_scaling (float)** : Scaling factor applied to determined threshold.\n",
    "\n",
    "**local_otsu_r (int)** : Radius of thresholding kernel used in the local otsu thresholding."
   ]
  },
  {
   "cell_type": "code",
   "execution_count": 64,
   "metadata": {},
   "outputs": [
    {
     "data": {
      "application/vnd.jupyter.widget-view+json": {
       "model_id": "8b77c30b6d574af4bfdbc0a4256f69ac",
       "version_major": 2,
       "version_minor": 0
      },
      "text/plain": [
       "interactive(children=(FloatSlider(value=0.95, description='Global Threshold Scaling:', max=2.0, step=0.01), Dr…"
      ]
     },
     "metadata": {},
     "output_type": "display_data"
    }
   ],
   "source": [
    "cell_mask_list_int = interactive(interactive_segmentation.plot_cell_mask, {\"manual\":True},proc_list=fixed(proc_list),\\\n",
    "                          cell_mask_method=Dropdown(options=['local','global'],value='local',description='Cell Mask Thresholding Method:',disabled=False),\\\n",
    "                          global_otsu_scaling=FloatSlider(value=0.95,description='Global Threshold Scaling:',min=0.,max=2.,step=0.01,disabled=False),\\\n",
    "                          cell_otsu_scaling=FloatSlider(value=0.95,description='Cell Threshold Scaling:',min=0.,max=2.,step=0.01,disabled=False),\\\n",
    "                          local_otsu_r=IntSlider(value=15,description='Local Otsu Radius:',min=0,max=30,step=1,disabled=False));\n",
    "display(cell_mask_list_int)"
   ]
  },
  {
   "cell_type": "code",
   "execution_count": 65,
   "metadata": {},
   "outputs": [],
   "source": [
    "cell_mask_list = copy.copy(cell_mask_list_int.result)"
   ]
  },
  {
   "cell_type": "markdown",
   "metadata": {},
   "source": [
    "#### Display Edge Mask at Threshold Value\n",
    "\n",
    "Fill in.\n",
    "\n",
    "You will need to tune the following `args` and `kwargs` (in order):\n",
    "\n",
    "**edge_threshold_scaling (float)** : Scaling factor applied to determined threshold."
   ]
  },
  {
   "cell_type": "code",
   "execution_count": 66,
   "metadata": {},
   "outputs": [
    {
     "data": {
      "application/vnd.jupyter.widget-view+json": {
       "model_id": "0f5168b30b354c66ae67de22d81bcd49",
       "version_major": 2,
       "version_minor": 0
      },
      "text/plain": [
       "interactive(children=(FloatSlider(value=1.0, description='Edge Threshold Scaling', max=2.0, step=0.01), IntSli…"
      ]
     },
     "metadata": {},
     "output_type": "display_data"
    }
   ],
   "source": [
    "composite_mask_list_int = interactive(interactive_segmentation.plot_threshold_result, {\"manual\":True},eigval_list=fixed(eigval_list),cell_mask_list=fixed(cell_mask_list),\\\n",
    "                          edge_threshold_scaling=FloatSlider(value=1.,description='Edge Threshold Scaling',min=0.,max=2.,step=0.01,disabled=False),\\\n",
    "                          min_obj_size=IntSlider(value=30,description='Minimum Object Size:',min=0,max=100,step=2,disabled=False));\n",
    "display(composite_mask_list_int)"
   ]
  },
  {
   "cell_type": "markdown",
   "metadata": {},
   "source": [
    "#### Threshold Sampling and Convexity Calculation\n",
    "\n",
    "Fill in.\n",
    "\n",
    "You will need to tune the following `args` and `kwargs` (in order):\n",
    "\n",
    "**edge_threshold_scaling (float)** : Scaling factor applied to determined threshold.\n",
    "\n",
    "**threshold_step_perc (float)** : Threshold step size to be used for trying multiple thresholds.\n",
    "\n",
    "**threshold_perc_num_steps (int)** : Number of steps to use when generating multiple thresholds."
   ]
  },
  {
   "cell_type": "code",
   "execution_count": 16,
   "metadata": {},
   "outputs": [
    {
     "data": {
      "application/vnd.jupyter.widget-view+json": {
       "model_id": "80fa2d316e7441b18f6b0b7a3c1d425e",
       "version_major": 2,
       "version_minor": 0
      },
      "text/plain": [
       "interactive(children=(FloatSlider(value=0.9, description='Edge Threshold Scaling', max=2.0, step=0.01), FloatS…"
      ]
     },
     "metadata": {},
     "output_type": "display_data"
    }
   ],
   "source": [
    "conv_scores_list_int = interactive(interactive_segmentation.plot_scores, {\"manual\":True},eigval_list=fixed(eigval_list),cell_mask_list=fixed(cell_mask_list),\\\n",
    "                          edge_threshold_scaling=FloatSlider(value=0.9,description='Edge Threshold Scaling',min=0.,max=2.,step=0.01,disabled=False),\\\n",
    "                          threshold_step_perc=FloatSlider(value=0.05,description='Threshold Step Percent',min=0.,max=0.5,step=0.01,disabled=False),\\\n",
    "                          threshold_perc_num_steps=IntSlider(value=2,description='Number of Threshold Steps',min=0,max=5,step=1,disabled=False),\\\n",
    "                          min_obj_size=IntSlider(value=30,description='Minimum Object Size:',min=0,max=100,step=2,disabled=False));\n",
    "display(conv_scores_list_int)"
   ]
  },
  {
   "cell_type": "code",
   "execution_count": 19,
   "metadata": {},
   "outputs": [],
   "source": [
    "conv_scores_list = copy.copy(conv_scores_list_int.result)"
   ]
  },
  {
   "cell_type": "markdown",
   "metadata": {},
   "source": [
    "#### Convexity Thresholding\n",
    "\n",
    "Fill in.\n",
    "\n",
    "You will need to tune the following `args` and `kwargs` (in order):\n",
    "\n",
    "**convex_threshold (float)** : Threshold to be used for convexity thresholding."
   ]
  },
  {
   "cell_type": "code",
   "execution_count": 20,
   "metadata": {},
   "outputs": [
    {
     "data": {
      "application/vnd.jupyter.widget-view+json": {
       "model_id": "0c9bd217f6254921bf661998d3f4fbdf",
       "version_major": 2,
       "version_minor": 0
      },
      "text/plain": [
       "interactive(children=(FloatSlider(value=0.75, description='Convexity Threshold:', max=1.0, step=0.01), Button(…"
      ]
     },
     "metadata": {},
     "output_type": "display_data"
    }
   ],
   "source": [
    "final_mask_list_int = interactive(interactive_segmentation.plot_final_mask, {\"manual\":True},conv_scores_list=fixed(conv_scores_list),\\\n",
    "                          convex_threshold=FloatSlider(value=0.75,description='Convexity Threshold:',min=0.,max=1.,step=0.01,disabled=False));\n",
    "display(final_mask_list_int)"
   ]
  },
  {
   "cell_type": "code",
   "execution_count": 21,
   "metadata": {},
   "outputs": [
    {
     "name": "stdout",
     "output_type": "stream",
     "text": [
      "Scale Fluorescence? False\n",
      "Scaling Percentile: 90\n",
      "Gaussian Kernel Sigma: 1.0\n",
      "Cell Mask Thresholding Method: local\n",
      "Global Threshold Scaling: 1.15\n",
      "Cell Threshold Scaling: 1.05\n",
      "Local Otsu Radius: 15\n",
      "Edge Threshold Scaling: 1.0\n",
      "Threshold Step Percent: 0.05\n",
      "Number of Threshold Steps: 3\n",
      "Minimum Object Size: 30\n",
      "Convexity Threshold: 0.8\n",
      "Segmentation Channel: GFP\n"
     ]
    }
   ],
   "source": [
    "interactive_segmentation.process_results()"
   ]
  },
  {
   "cell_type": "code",
   "execution_count": 22,
   "metadata": {},
   "outputs": [],
   "source": [
    "interactive_segmentation.write_param_file()"
   ]
  },
  {
   "cell_type": "markdown",
   "metadata": {
    "toc-hr-collapsed": true
   },
   "source": [
    "### Generate Segmentation"
   ]
  },
  {
   "cell_type": "markdown",
   "metadata": {},
   "source": [
    "#### Start Dask Workers"
   ]
  },
  {
   "cell_type": "code",
   "execution_count": 23,
   "metadata": {},
   "outputs": [
    {
     "name": "stderr",
     "output_type": "stream",
     "text": [
      "/home/de64/anaconda3/envs/mothermachine/lib/python3.6/site-packages/distributed/deploy/local.py:138: UserWarning: diagnostics_port has been deprecated. Please use `dashboard_address=` instead\n",
      "  \"diagnostics_port has been deprecated. \"\n",
      "/home/de64/anaconda3/envs/mothermachine/lib/python3.6/site-packages/distributed/bokeh/core.py:74: UserWarning: \n",
      "Port 8787 is already in use. \n",
      "Perhaps you already have a cluster running?\n",
      "Hosting the diagnostics dashboard on a random port instead.\n",
      "  warnings.warn(\"\\n\" + msg)\n",
      "/home/de64/anaconda3/envs/mothermachine/lib/python3.6/site-packages/distributed/bokeh/core.py:77: ResourceWarning: unclosed <socket.socket fd=59, family=AddressFamily.AF_INET, type=2049, proto=6, laddr=('0.0.0.0', 0)>\n",
      "  raise\n"
     ]
    }
   ],
   "source": [
    "dask_controller = tr.cluster.dask_controller(walltime='01:00:00',local=False,n_workers=100,memory='500MB')\n",
    "dask_controller.startdask()\n",
    "dask_controller.daskcluster.start_workers()"
   ]
  },
  {
   "cell_type": "code",
   "execution_count": 24,
   "metadata": {},
   "outputs": [
    {
     "data": {
      "text/html": [
       "<a href=\"http://10.120.16.185:36645/status\">Dashboard</a>"
      ],
      "text/plain": [
       "<IPython.core.display.HTML object>"
      ]
     },
     "metadata": {},
     "output_type": "display_data"
    }
   ],
   "source": [
    "dask_controller.displaydashboard()"
   ]
  },
  {
   "cell_type": "code",
   "execution_count": 26,
   "metadata": {},
   "outputs": [],
   "source": [
    "segment = tr.segment.fluo_segmentation_cluster(headpath,paramfile=True)"
   ]
  },
  {
   "cell_type": "code",
   "execution_count": 27,
   "metadata": {},
   "outputs": [
    {
     "name": "stderr",
     "output_type": "stream",
     "text": [
      "/home/de64/TrenchRipper/trenchripper/utils.py:91: UserWarning: Pandas doesn't allow columns to be created via a new attribute name - see https://pandas.pydata.org/pandas-docs/stable/indexing.html#attribute-access\n",
      "  df.metadata = store.get_storer(key).attrs.metadata\n"
     ]
    }
   ],
   "source": [
    "segment.dask_segment(dask_controller)"
   ]
  },
  {
   "cell_type": "markdown",
   "metadata": {
    "toc-hr-collapsed": false
   },
   "source": [
    "## Phase Segmentation Training"
   ]
  },
  {
   "cell_type": "markdown",
   "metadata": {
    "toc-hr-collapsed": true
   },
   "source": [
    "### Data Preparation"
   ]
  },
  {
   "cell_type": "code",
   "execution_count": 2,
   "metadata": {},
   "outputs": [],
   "source": [
    "dataloader = tr.unet.UNet_Training_DataLoader(nndatapath=\"/n/scratch2/de64/nntest\",trainpath=\"/n/scratch2/de64/2019-06-18_DE85_training_data\",\\\n",
    "                                      testpath=\"/n/scratch2/de64/2019-05-31_validation_data\",\\\n",
    "                                      valpath=\"/n/scratch2/de64/2019-05-31_validation_data\")"
   ]
  },
  {
   "cell_type": "markdown",
   "metadata": {},
   "source": [
    "#### Training Set Selection"
   ]
  },
  {
   "cell_type": "code",
   "execution_count": 4,
   "metadata": {},
   "outputs": [
    {
     "data": {
      "application/vnd.jupyter.widget-view+json": {
       "model_id": "1cfa738ea48a4f3d90d5d0e8c7ac9753",
       "version_major": 2,
       "version_minor": 0
      },
      "text/plain": [
       "interactive(children=(Dropdown(description='Feature Channel:', options=('Phase', 'GFP'), value='Phase'), Selec…"
      ]
     },
     "metadata": {},
     "output_type": "display_data"
    }
   ],
   "source": [
    "dataloader.inter_get_selection(dataloader.trainpath,\"train\")"
   ]
  },
  {
   "cell_type": "code",
   "execution_count": null,
   "metadata": {},
   "outputs": [],
   "source": [
    "dataloader.export_data(\"train\")"
   ]
  },
  {
   "cell_type": "markdown",
   "metadata": {},
   "source": [
    "#### Test Set Selection"
   ]
  },
  {
   "cell_type": "code",
   "execution_count": null,
   "metadata": {},
   "outputs": [],
   "source": [
    "dataloader.inter_get_selection(dataloader.testpath,\"test\")"
   ]
  },
  {
   "cell_type": "code",
   "execution_count": null,
   "metadata": {},
   "outputs": [],
   "source": [
    "dataloader.export_data(\"test\")"
   ]
  },
  {
   "cell_type": "markdown",
   "metadata": {},
   "source": [
    "#### Validation Set Selection"
   ]
  },
  {
   "cell_type": "code",
   "execution_count": null,
   "metadata": {},
   "outputs": [],
   "source": [
    "dataloader.inter_get_selection(dataloader.valpath,\"val\")"
   ]
  },
  {
   "cell_type": "code",
   "execution_count": null,
   "metadata": {},
   "outputs": [],
   "source": [
    "dataloader.export_data(\"val\")"
   ]
  },
  {
   "cell_type": "markdown",
   "metadata": {},
   "source": [
    "### Hyperparameter (Grid) Search"
   ]
  },
  {
   "cell_type": "code",
   "execution_count": null,
   "metadata": {},
   "outputs": [],
   "source": []
  },
  {
   "cell_type": "markdown",
   "metadata": {
    "toc-hr-collapsed": true
   },
   "source": [
    "## Other"
   ]
  },
  {
   "cell_type": "markdown",
   "metadata": {},
   "source": [
    "#### Dask Utilities"
   ]
  },
  {
   "cell_type": "code",
   "execution_count": 7,
   "metadata": {},
   "outputs": [
    {
     "name": "stderr",
     "output_type": "stream",
     "text": [
      "Worker tcp://10.120.16.161:58796 restart in Job 47679855. This can be due to memory issue.\n",
      "Worker tcp://10.120.16.245:58990 restart in Job 47679856. This can be due to memory issue.\n",
      "Worker tcp://10.120.16.239:60232 restart in Job 47679850. This can be due to memory issue.\n",
      "Worker tcp://10.120.16.163:59467 restart in Job 47679857. This can be due to memory issue.\n",
      "Worker tcp://10.120.16.163:48041 restart in Job 47679858. This can be due to memory issue.\n",
      "Worker tcp://10.120.16.245:49188 restart in Job 47679853. This can be due to memory issue.\n",
      "Worker tcp://10.120.16.245:59054 restart in Job 47679854. This can be due to memory issue.\n",
      "Worker tcp://10.120.16.163:52134 restart in Job 47679836. This can be due to memory issue.\n",
      "Worker tcp://10.120.16.163:45781 restart in Job 47679835. This can be due to memory issue.\n",
      "Worker tcp://10.120.17.13:33516 restart in Job 47679852. This can be due to memory issue.\n",
      "Worker tcp://10.120.17.13:46178 restart in Job 47679812. This can be due to memory issue.\n",
      "Worker tcp://10.120.16.163:37175 restart in Job 47679834. This can be due to memory issue.\n",
      "Worker tcp://10.120.16.242:54988 restart in Job 47679851. This can be due to memory issue.\n",
      "Worker tcp://10.120.16.163:36523 restart in Job 47679833. This can be due to memory issue.\n",
      "Worker tcp://10.120.16.170:49854 restart in Job 47679859. This can be due to memory issue.\n",
      "Worker tcp://10.120.16.170:45318 restart in Job 47679860. This can be due to memory issue.\n",
      "Worker tcp://10.120.16.170:43316 restart in Job 47679837. This can be due to memory issue.\n",
      "Worker tcp://10.120.16.170:51064 restart in Job 47679839. This can be due to memory issue.\n",
      "Worker tcp://10.120.16.170:50626 restart in Job 47679838. This can be due to memory issue.\n",
      "Worker tcp://10.120.16.170:41172 restart in Job 47679862. This can be due to memory issue.\n",
      "Worker tcp://10.120.16.170:35744 restart in Job 47679864. This can be due to memory issue.\n",
      "Worker tcp://10.120.16.170:39508 restart in Job 47679863. This can be due to memory issue.\n",
      "Worker tcp://10.120.16.170:34083 restart in Job 47679861. This can be due to memory issue.\n",
      "Worker tcp://10.120.16.183:52712 restart in Job 47679818. This can be due to memory issue.\n",
      "Worker tcp://10.120.16.183:56329 restart in Job 47679817. This can be due to memory issue.\n",
      "Worker tcp://10.120.16.187:34745 restart in Job 47679808. This can be due to memory issue.\n",
      "Worker tcp://10.120.16.187:41448 restart in Job 47679840. This can be due to memory issue.\n",
      "Worker tcp://10.120.17.14:57151 restart in Job 47679813. This can be due to memory issue.\n",
      "Worker tcp://10.120.16.178:59268 restart in Job 47679819. This can be due to memory issue.\n",
      "Worker tcp://10.120.16.160:35065 restart in Job 47679832. This can be due to memory issue.\n",
      "Worker tcp://10.120.16.160:43366 restart in Job 47679831. This can be due to memory issue.\n",
      "Worker tcp://10.120.16.238:52159 restart in Job 47679805. This can be due to memory issue.\n",
      "Worker tcp://10.120.16.244:55454 restart in Job 47679807. This can be due to memory issue.\n",
      "Worker tcp://10.120.16.193:53056 restart in Job 47679844. This can be due to memory issue.\n",
      "Worker tcp://10.120.16.193:52807 restart in Job 47679842. This can be due to memory issue.\n",
      "Worker tcp://10.120.16.193:38993 restart in Job 47679843. This can be due to memory issue.\n",
      "Worker tcp://10.120.16.182:37498 restart in Job 47679814. This can be due to memory issue.\n",
      "Worker tcp://10.120.16.191:54639 restart in Job 47679804. This can be due to memory issue.\n",
      "Worker tcp://10.120.16.193:34770 restart in Job 47679845. This can be due to memory issue.\n",
      "Worker tcp://10.120.16.188:34907 restart in Job 47679809. This can be due to memory issue.\n",
      "Worker tcp://10.120.17.9:54657 restart in Job 47679811. This can be due to memory issue.\n",
      "Worker tcp://10.120.16.240:50213 restart in Job 47679849. This can be due to memory issue.\n",
      "Worker tcp://10.120.17.9:51611 restart in Job 47679810. This can be due to memory issue.\n",
      "Worker tcp://10.120.16.240:47418 restart in Job 47679848. This can be due to memory issue.\n",
      "Worker tcp://10.120.16.240:40871 restart in Job 47679846. This can be due to memory issue.\n",
      "Worker tcp://10.120.16.240:50073 restart in Job 47679847. This can be due to memory issue.\n",
      "Worker tcp://10.120.16.184:54852 restart in Job 47679815. This can be due to memory issue.\n",
      "Worker tcp://10.120.16.165:41710 restart in Job 47679830. This can be due to memory issue.\n",
      "Worker tcp://10.120.16.241:39395 restart in Job 47679806. This can be due to memory issue.\n",
      "Worker tcp://10.120.16.179:53380 restart in Job 47679825. This can be due to memory issue.\n",
      "Worker tcp://10.120.16.179:52826 restart in Job 47679828. This can be due to memory issue.\n",
      "Worker tcp://10.120.16.179:48239 restart in Job 47679823. This can be due to memory issue.\n",
      "Worker tcp://10.120.16.179:60884 restart in Job 47679829. This can be due to memory issue.\n",
      "Worker tcp://10.120.16.179:33827 restart in Job 47679824. This can be due to memory issue.\n",
      "Worker tcp://10.120.16.179:55654 restart in Job 47679827. This can be due to memory issue.\n",
      "Worker tcp://10.120.16.179:55042 restart in Job 47679822. This can be due to memory issue.\n",
      "Worker tcp://10.120.16.179:47028 restart in Job 47679826. This can be due to memory issue.\n",
      "Worker tcp://10.120.16.179:47781 restart in Job 47679821. This can be due to memory issue.\n",
      "Worker tcp://10.120.16.179:44583 restart in Job 47679820. This can be due to memory issue.\n",
      "Worker tcp://10.120.16.185:60177 restart in Job 47679816. This can be due to memory issue.\n",
      "Worker tcp://10.120.17.15:50772 restart in Job 47679841. This can be due to memory issue.\n"
     ]
    }
   ],
   "source": [
    "dask_controller.shutdown()"
   ]
  },
  {
   "cell_type": "code",
   "execution_count": 17,
   "metadata": {},
   "outputs": [
    {
     "name": "stderr",
     "output_type": "stream",
     "text": [
      "Worker tcp://10.120.16.117:43008 restart in Job 43139620. This can be due to memory issue.\n",
      "Worker tcp://10.120.17.99:46159 restart in Job 43139597. This can be due to memory issue.\n",
      "Worker tcp://10.120.17.99:47339 restart in Job 43139596. This can be due to memory issue.\n",
      "Worker tcp://10.120.16.54:36220 restart in Job 43139615. This can be due to memory issue.\n",
      "Worker tcp://10.120.17.112:51330 restart in Job 43139598. This can be due to memory issue.\n",
      "Worker tcp://10.120.16.49:52635 restart in Job 43139590. This can be due to memory issue.\n",
      "Worker tcp://10.120.17.129:42849 restart in Job 43139600. This can be due to memory issue.\n",
      "Worker tcp://10.120.17.129:52698 restart in Job 43139601. This can be due to memory issue.\n",
      "Worker tcp://10.120.17.120:34163 restart in Job 43139608. This can be due to memory issue.\n",
      "Worker tcp://10.120.17.120:49615 restart in Job 43139609. This can be due to memory issue.\n",
      "Worker tcp://10.120.16.135:51837 restart in Job 43139621. This can be due to memory issue.\n",
      "Worker tcp://10.120.17.126:40070 restart in Job 43139610. This can be due to memory issue.\n",
      "Worker tcp://10.120.17.126:34868 restart in Job 43139611. This can be due to memory issue.\n",
      "Worker tcp://10.120.16.145:37687 restart in Job 43139603. This can be due to memory issue.\n",
      "Worker tcp://10.120.17.102:44720 restart in Job 43139584. This can be due to memory issue.\n",
      "Worker tcp://10.120.16.39:54222 restart in Job 43139588. This can be due to memory issue.\n",
      "Worker tcp://10.120.16.39:49633 restart in Job 43139587. This can be due to memory issue.\n",
      "Worker tcp://10.120.16.48:47608 restart in Job 43139614. This can be due to memory issue.\n",
      "Worker tcp://10.120.16.84:35943 restart in Job 43139617. This can be due to memory issue.\n",
      "Worker tcp://10.120.17.114:43667 restart in Job 43139586. This can be due to memory issue.\n",
      "Worker tcp://10.120.17.121:52776 restart in Job 43139607. This can be due to memory issue.\n",
      "Worker tcp://10.120.17.121:50956 restart in Job 43139602. This can be due to memory issue.\n",
      "Worker tcp://10.120.17.141:60212 restart in Job 43139604. This can be due to memory issue.\n",
      "Worker tcp://10.120.16.110:50079 restart in Job 43139618. This can be due to memory issue.\n",
      "Worker tcp://10.120.16.82:44333 restart in Job 43139616. This can be due to memory issue.\n",
      "Worker tcp://10.120.17.79:48911 restart in Job 43139605. This can be due to memory issue.\n",
      "Worker tcp://10.120.17.79:40905 restart in Job 43139606. This can be due to memory issue.\n",
      "Worker tcp://10.120.16.139:54150 restart in Job 43139622. This can be due to memory issue.\n",
      "Worker tcp://10.120.16.180:45279 restart in Job 43139623. This can be due to memory issue.\n",
      "Worker tcp://10.120.16.115:56499 restart in Job 43139619. This can be due to memory issue.\n",
      "Worker tcp://10.120.16.92:43915 restart in Job 43139591. This can be due to memory issue.\n",
      "Worker tcp://10.120.16.92:38642 restart in Job 43139592. This can be due to memory issue.\n",
      "Worker tcp://10.120.17.104:43929 restart in Job 43139585. This can be due to memory issue.\n",
      "Worker tcp://10.120.16.117:56368 restart in Job 43139620. This can be due to memory issue.\n",
      "Worker tcp://10.120.16.54:53464 restart in Job 43139615. This can be due to memory issue.\n",
      "Worker tcp://10.120.17.113:33595 restart in Job 43139599. This can be due to memory issue.\n",
      "Worker tcp://10.120.16.49:50215 restart in Job 43139593. This can be due to memory issue.\n",
      "Worker tcp://10.120.16.49:49179 restart in Job 43139589. This can be due to memory issue.\n",
      "Worker tcp://10.120.16.42:52275 restart in Job 43139613. This can be due to memory issue.\n",
      "distributed.client - ERROR - Restart timed out after 6.000000 seconds\n",
      "distributed.scheduler - ERROR - Nannies didn't report back restarted within timeout.  Continuuing with restart process\n",
      "Future exception was never retrieved\n",
      "future: <Future finished exception=CommClosedError(\"in <closed TCP>: Stream is closed: while trying to call remote method 'restart'\")>\n",
      "Traceback (most recent call last):\n",
      "  File \"/home/de64/anaconda3/envs/mothermachine/lib/python3.7/site-packages/distributed/comm/tcp.py\", line 181, in read\n",
      "    n_frames = yield stream.read_bytes(8)\n",
      "  File \"/home/de64/anaconda3/envs/mothermachine/lib/python3.7/site-packages/tornado/gen.py\", line 729, in run\n",
      "    value = future.result()\n",
      "tornado.iostream.StreamClosedError: Stream is closed\n",
      "\n",
      "During handling of the above exception, another exception occurred:\n",
      "\n",
      "Traceback (most recent call last):\n",
      "  File \"/home/de64/anaconda3/envs/mothermachine/lib/python3.7/site-packages/distributed/core.py\", line 580, in send_recv_from_rpc\n",
      "    result = yield send_recv(comm=comm, op=key, **kwargs)\n",
      "  File \"/home/de64/anaconda3/envs/mothermachine/lib/python3.7/site-packages/tornado/gen.py\", line 729, in run\n",
      "    value = future.result()\n",
      "  File \"/home/de64/anaconda3/envs/mothermachine/lib/python3.7/site-packages/tornado/gen.py\", line 742, in run\n",
      "    yielded = self.gen.send(value)\n",
      "  File \"/home/de64/anaconda3/envs/mothermachine/lib/python3.7/site-packages/distributed/core.py\", line 457, in send_recv\n",
      "    response = yield comm.read(deserializers=deserializers)\n",
      "  File \"/home/de64/anaconda3/envs/mothermachine/lib/python3.7/site-packages/tornado/gen.py\", line 729, in run\n",
      "    value = future.result()\n",
      "  File \"/home/de64/anaconda3/envs/mothermachine/lib/python3.7/site-packages/tornado/gen.py\", line 736, in run\n",
      "    yielded = self.gen.throw(*exc_info)  # type: ignore\n",
      "  File \"/home/de64/anaconda3/envs/mothermachine/lib/python3.7/site-packages/distributed/comm/tcp.py\", line 201, in read\n",
      "    convert_stream_closed_error(self, e)\n",
      "  File \"/home/de64/anaconda3/envs/mothermachine/lib/python3.7/site-packages/distributed/comm/tcp.py\", line 130, in convert_stream_closed_error\n",
      "    raise CommClosedError(\"in %s: %s\" % (obj, exc))\n",
      "distributed.comm.core.CommClosedError: in <closed TCP>: Stream is closed\n",
      "\n",
      "During handling of the above exception, another exception occurred:\n",
      "\n",
      "Traceback (most recent call last):\n",
      "  File \"/home/de64/anaconda3/envs/mothermachine/lib/python3.7/site-packages/tornado/gen.py\", line 736, in run\n",
      "    yielded = self.gen.throw(*exc_info)  # type: ignore\n",
      "  File \"/home/de64/anaconda3/envs/mothermachine/lib/python3.7/site-packages/distributed/utils.py\", line 214, in All\n",
      "    result = yield tasks.next()\n",
      "  File \"/home/de64/anaconda3/envs/mothermachine/lib/python3.7/site-packages/tornado/gen.py\", line 729, in run\n",
      "    value = future.result()\n",
      "  File \"/home/de64/anaconda3/envs/mothermachine/lib/python3.7/site-packages/tornado/gen.py\", line 736, in run\n",
      "    yielded = self.gen.throw(*exc_info)  # type: ignore\n",
      "  File \"/home/de64/anaconda3/envs/mothermachine/lib/python3.7/site-packages/distributed/core.py\", line 583, in send_recv_from_rpc\n",
      "    % (e, key,))\n",
      "distributed.comm.core.CommClosedError: in <closed TCP>: Stream is closed: while trying to call remote method 'restart'\n",
      "\n",
      "During handling of the above exception, another exception occurred:\n",
      "\n",
      "Traceback (most recent call last):\n",
      "  File \"/home/de64/anaconda3/envs/mothermachine/lib/python3.7/site-packages/tornado/gen.py\", line 736, in run\n",
      "    yielded = self.gen.throw(*exc_info)  # type: ignore\n",
      "  File \"/home/de64/anaconda3/envs/mothermachine/lib/python3.7/site-packages/distributed/utils.py\", line 226, in quiet\n",
      "    yield task\n",
      "  File \"/home/de64/anaconda3/envs/mothermachine/lib/python3.7/site-packages/tornado/gen.py\", line 729, in run\n",
      "    value = future.result()\n",
      "  File \"/home/de64/anaconda3/envs/mothermachine/lib/python3.7/site-packages/tornado/gen.py\", line 736, in run\n",
      "    yielded = self.gen.throw(*exc_info)  # type: ignore\n",
      "  File \"/home/de64/anaconda3/envs/mothermachine/lib/python3.7/site-packages/distributed/core.py\", line 583, in send_recv_from_rpc\n",
      "    % (e, key,))\n",
      "distributed.comm.core.CommClosedError: in <closed TCP>: Stream is closed: while trying to call remote method 'restart'\n",
      "tornado.application - ERROR - Exception in Future <Future finished exception=CommClosedError(\"in <closed TCP>: Stream is closed: while trying to call remote method 'restart'\")> after timeout\n",
      "Traceback (most recent call last):\n",
      "  File \"/home/de64/anaconda3/envs/mothermachine/lib/python3.7/site-packages/distributed/comm/tcp.py\", line 181, in read\n",
      "    n_frames = yield stream.read_bytes(8)\n",
      "  File \"/home/de64/anaconda3/envs/mothermachine/lib/python3.7/site-packages/tornado/gen.py\", line 729, in run\n",
      "    value = future.result()\n",
      "tornado.iostream.StreamClosedError: Stream is closed\n",
      "\n",
      "During handling of the above exception, another exception occurred:\n",
      "\n",
      "Traceback (most recent call last):\n",
      "  File \"/home/de64/anaconda3/envs/mothermachine/lib/python3.7/site-packages/distributed/core.py\", line 580, in send_recv_from_rpc\n",
      "    result = yield send_recv(comm=comm, op=key, **kwargs)\n",
      "  File \"/home/de64/anaconda3/envs/mothermachine/lib/python3.7/site-packages/tornado/gen.py\", line 729, in run\n",
      "    value = future.result()\n",
      "  File \"/home/de64/anaconda3/envs/mothermachine/lib/python3.7/site-packages/tornado/gen.py\", line 742, in run\n",
      "    yielded = self.gen.send(value)\n",
      "  File \"/home/de64/anaconda3/envs/mothermachine/lib/python3.7/site-packages/distributed/core.py\", line 457, in send_recv\n",
      "    response = yield comm.read(deserializers=deserializers)\n",
      "  File \"/home/de64/anaconda3/envs/mothermachine/lib/python3.7/site-packages/tornado/gen.py\", line 729, in run\n",
      "    value = future.result()\n",
      "  File \"/home/de64/anaconda3/envs/mothermachine/lib/python3.7/site-packages/tornado/gen.py\", line 736, in run\n",
      "    yielded = self.gen.throw(*exc_info)  # type: ignore\n",
      "  File \"/home/de64/anaconda3/envs/mothermachine/lib/python3.7/site-packages/distributed/comm/tcp.py\", line 201, in read\n",
      "    convert_stream_closed_error(self, e)\n",
      "  File \"/home/de64/anaconda3/envs/mothermachine/lib/python3.7/site-packages/distributed/comm/tcp.py\", line 130, in convert_stream_closed_error\n",
      "    raise CommClosedError(\"in %s: %s\" % (obj, exc))\n",
      "distributed.comm.core.CommClosedError: in <closed TCP>: Stream is closed\n",
      "\n",
      "During handling of the above exception, another exception occurred:\n",
      "\n",
      "Traceback (most recent call last):\n",
      "  File \"/home/de64/anaconda3/envs/mothermachine/lib/python3.7/site-packages/tornado/gen.py\", line 589, in error_callback\n",
      "    future.result()\n",
      "  File \"/home/de64/anaconda3/envs/mothermachine/lib/python3.7/site-packages/tornado/gen.py\", line 736, in run\n",
      "    yielded = self.gen.throw(*exc_info)  # type: ignore\n",
      "  File \"/home/de64/anaconda3/envs/mothermachine/lib/python3.7/site-packages/distributed/utils.py\", line 214, in All\n",
      "    result = yield tasks.next()\n",
      "  File \"/home/de64/anaconda3/envs/mothermachine/lib/python3.7/site-packages/tornado/gen.py\", line 729, in run\n",
      "    value = future.result()\n",
      "  File \"/home/de64/anaconda3/envs/mothermachine/lib/python3.7/site-packages/tornado/gen.py\", line 736, in run\n",
      "    yielded = self.gen.throw(*exc_info)  # type: ignore\n",
      "  File \"/home/de64/anaconda3/envs/mothermachine/lib/python3.7/site-packages/distributed/core.py\", line 583, in send_recv_from_rpc\n",
      "    % (e, key,))\n",
      "distributed.comm.core.CommClosedError: in <closed TCP>: Stream is closed: while trying to call remote method 'restart'\n",
      "Worker tcp://10.120.17.127:46387 restart in Job 43139612. This can be due to memory issue.\n",
      "Worker tcp://10.120.17.75:59559 restart in Job 43139583. This can be due to memory issue.\n",
      "Worker tcp://10.120.17.99:45427 restart in Job 43139597. This can be due to memory issue.\n",
      "Worker tcp://10.120.17.99:60440 restart in Job 43139596. This can be due to memory issue.\n",
      "Worker tcp://10.120.17.89:58321 restart in Job 43139595. This can be due to memory issue.\n",
      "Worker tcp://10.120.17.89:37041 restart in Job 43139594. This can be due to memory issue.\n"
     ]
    }
   ],
   "source": [
    "dask_controller.retry_failed()"
   ]
  },
  {
   "cell_type": "code",
   "execution_count": 25,
   "metadata": {},
   "outputs": [
    {
     "name": "stderr",
     "output_type": "stream",
     "text": [
      "distributed.scheduler - INFO - Send lost future signal to clients\n",
      "distributed.scheduler - INFO - Remove worker tcp://10.120.16.168:56574\n",
      "distributed.core - INFO - Removing comms to tcp://10.120.16.168:56574\n",
      "distributed.scheduler - INFO - Remove worker tcp://10.120.16.179:47654\n",
      "distributed.core - INFO - Removing comms to tcp://10.120.16.179:47654\n",
      "distributed.scheduler - INFO - Remove worker tcp://10.120.16.185:34174\n",
      "distributed.core - INFO - Removing comms to tcp://10.120.16.185:34174\n",
      "distributed.scheduler - INFO - Remove worker tcp://10.120.16.185:40188\n",
      "distributed.core - INFO - Removing comms to tcp://10.120.16.185:40188\n",
      "distributed.scheduler - INFO - Remove worker tcp://10.120.16.186:35178\n",
      "distributed.core - INFO - Removing comms to tcp://10.120.16.186:35178\n",
      "distributed.scheduler - INFO - Remove worker tcp://10.120.16.186:35857\n",
      "distributed.core - INFO - Removing comms to tcp://10.120.16.186:35857\n",
      "distributed.scheduler - INFO - Remove worker tcp://10.120.16.186:36989\n",
      "distributed.core - INFO - Removing comms to tcp://10.120.16.186:36989\n",
      "distributed.scheduler - INFO - Remove worker tcp://10.120.16.186:37367\n",
      "distributed.core - INFO - Removing comms to tcp://10.120.16.186:37367\n",
      "distributed.scheduler - INFO - Remove worker tcp://10.120.16.186:40080\n",
      "distributed.core - INFO - Removing comms to tcp://10.120.16.186:40080\n",
      "distributed.scheduler - INFO - Remove worker tcp://10.120.16.186:40227\n",
      "distributed.core - INFO - Removing comms to tcp://10.120.16.186:40227\n",
      "distributed.scheduler - INFO - Remove worker tcp://10.120.16.186:48941\n",
      "distributed.core - INFO - Removing comms to tcp://10.120.16.186:48941\n",
      "distributed.scheduler - INFO - Remove worker tcp://10.120.16.186:53851\n",
      "distributed.core - INFO - Removing comms to tcp://10.120.16.186:53851\n",
      "distributed.scheduler - INFO - Remove worker tcp://10.120.16.186:54555\n",
      "distributed.core - INFO - Removing comms to tcp://10.120.16.186:54555\n",
      "distributed.scheduler - INFO - Remove worker tcp://10.120.16.186:58000\n",
      "distributed.core - INFO - Removing comms to tcp://10.120.16.186:58000\n",
      "distributed.scheduler - INFO - Remove worker tcp://10.120.16.187:56505\n",
      "distributed.core - INFO - Removing comms to tcp://10.120.16.187:56505\n",
      "distributed.scheduler - INFO - Remove worker tcp://10.120.16.188:33797\n",
      "distributed.core - INFO - Removing comms to tcp://10.120.16.188:33797\n",
      "distributed.scheduler - INFO - Remove worker tcp://10.120.16.188:34582\n",
      "distributed.core - INFO - Removing comms to tcp://10.120.16.188:34582\n",
      "distributed.scheduler - INFO - Remove worker tcp://10.120.16.188:35047\n",
      "distributed.core - INFO - Removing comms to tcp://10.120.16.188:35047\n",
      "distributed.scheduler - INFO - Remove worker tcp://10.120.16.188:35811\n",
      "distributed.core - INFO - Removing comms to tcp://10.120.16.188:35811\n",
      "distributed.scheduler - INFO - Remove worker tcp://10.120.16.188:41664\n",
      "distributed.core - INFO - Removing comms to tcp://10.120.16.188:41664\n",
      "distributed.scheduler - INFO - Remove worker tcp://10.120.16.188:46116\n",
      "distributed.core - INFO - Removing comms to tcp://10.120.16.188:46116\n",
      "distributed.scheduler - INFO - Remove worker tcp://10.120.16.188:52018\n",
      "distributed.core - INFO - Removing comms to tcp://10.120.16.188:52018\n",
      "distributed.scheduler - INFO - Remove worker tcp://10.120.16.188:52466\n",
      "distributed.core - INFO - Removing comms to tcp://10.120.16.188:52466\n",
      "distributed.scheduler - INFO - Remove worker tcp://10.120.16.188:53044\n",
      "distributed.core - INFO - Removing comms to tcp://10.120.16.188:53044\n",
      "distributed.scheduler - INFO - Remove worker tcp://10.120.16.188:56311\n",
      "distributed.core - INFO - Removing comms to tcp://10.120.16.188:56311\n",
      "distributed.scheduler - INFO - Remove worker tcp://10.120.16.188:56724\n",
      "distributed.core - INFO - Removing comms to tcp://10.120.16.188:56724\n",
      "distributed.scheduler - INFO - Remove worker tcp://10.120.16.188:59417\n",
      "distributed.core - INFO - Removing comms to tcp://10.120.16.188:59417\n",
      "distributed.scheduler - INFO - Remove worker tcp://10.120.16.188:60005\n",
      "distributed.core - INFO - Removing comms to tcp://10.120.16.188:60005\n",
      "distributed.scheduler - INFO - Remove worker tcp://10.120.16.243:37196\n",
      "distributed.core - INFO - Removing comms to tcp://10.120.16.243:37196\n",
      "distributed.scheduler - INFO - Remove worker tcp://10.120.16.243:41458\n",
      "distributed.core - INFO - Removing comms to tcp://10.120.16.243:41458\n",
      "distributed.scheduler - INFO - Remove worker tcp://10.120.16.244:34330\n",
      "distributed.core - INFO - Removing comms to tcp://10.120.16.244:34330\n",
      "distributed.scheduler - INFO - Remove worker tcp://10.120.16.55:47065\n",
      "distributed.core - INFO - Removing comms to tcp://10.120.16.55:47065\n",
      "distributed.scheduler - INFO - Remove worker tcp://10.120.16.86:48821\n",
      "distributed.core - INFO - Removing comms to tcp://10.120.16.86:48821\n",
      "distributed.scheduler - INFO - Remove worker tcp://10.120.16.86:59043\n",
      "distributed.core - INFO - Removing comms to tcp://10.120.16.86:59043\n",
      "distributed.scheduler - INFO - Remove worker tcp://10.120.17.138:32785\n",
      "distributed.core - INFO - Removing comms to tcp://10.120.17.138:32785\n",
      "distributed.scheduler - INFO - Remove worker tcp://10.120.17.138:36772\n",
      "distributed.core - INFO - Removing comms to tcp://10.120.17.138:36772\n",
      "distributed.scheduler - INFO - Remove worker tcp://10.120.17.15:35722\n",
      "distributed.core - INFO - Removing comms to tcp://10.120.17.15:35722\n",
      "distributed.scheduler - INFO - Remove worker tcp://10.120.17.15:48476\n",
      "distributed.core - INFO - Removing comms to tcp://10.120.17.15:48476\n",
      "distributed.scheduler - INFO - Remove worker tcp://10.120.17.16:35091\n",
      "distributed.core - INFO - Removing comms to tcp://10.120.17.16:35091\n",
      "distributed.scheduler - INFO - Remove worker tcp://10.120.17.16:47839\n",
      "distributed.core - INFO - Removing comms to tcp://10.120.17.16:47839\n",
      "distributed.scheduler - INFO - Remove worker tcp://10.120.17.94:47248\n",
      "distributed.core - INFO - Removing comms to tcp://10.120.17.94:47248\n",
      "distributed.scheduler - INFO - Lost all workers\n",
      "distributed.scheduler - INFO - Clear task state\n",
      "Worker tcp://10.120.16.186:40227 restart in Job 47336382. This can be due to memory issue.\n",
      "distributed.scheduler - INFO - Register tcp://10.120.16.186:40227\n",
      "Worker tcp://10.120.16.186:35178 restart in Job 47336391. This can be due to memory issue.\n",
      "distributed.scheduler - INFO - Register tcp://10.120.16.186:35178\n",
      "Worker tcp://10.120.16.186:35857 restart in Job 47336388. This can be due to memory issue.\n",
      "distributed.scheduler - INFO - Register tcp://10.120.16.186:35857\n",
      "Worker tcp://10.120.16.186:54555 restart in Job 47336379. This can be due to memory issue.\n",
      "distributed.scheduler - INFO - Register tcp://10.120.16.186:54555\n",
      "Worker tcp://10.120.16.186:53851 restart in Job 47336390. This can be due to memory issue.\n",
      "distributed.scheduler - INFO - Register tcp://10.120.16.186:53851\n",
      "Worker tcp://10.120.16.186:58000 restart in Job 47336383. This can be due to memory issue.\n",
      "distributed.scheduler - INFO - Register tcp://10.120.16.186:58000\n",
      "Worker tcp://10.120.16.55:47065 restart in Job 47336409. This can be due to memory issue.\n",
      "distributed.scheduler - INFO - Register tcp://10.120.16.55:47065\n",
      "distributed.scheduler - INFO - Starting worker compute stream, tcp://10.120.16.186:40227\n",
      "distributed.core - INFO - Starting established connection\n",
      "distributed.scheduler - INFO - Starting worker compute stream, tcp://10.120.16.186:35178\n",
      "distributed.core - INFO - Starting established connection\n",
      "distributed.scheduler - INFO - Starting worker compute stream, tcp://10.120.16.186:35857\n",
      "distributed.core - INFO - Starting established connection\n",
      "distributed.scheduler - INFO - Starting worker compute stream, tcp://10.120.16.186:54555\n",
      "distributed.core - INFO - Starting established connection\n",
      "distributed.scheduler - INFO - Starting worker compute stream, tcp://10.120.16.186:53851\n",
      "distributed.core - INFO - Starting established connection\n",
      "distributed.scheduler - INFO - Starting worker compute stream, tcp://10.120.16.186:58000\n",
      "distributed.core - INFO - Starting established connection\n",
      "distributed.scheduler - INFO - Starting worker compute stream, tcp://10.120.16.55:47065\n",
      "distributed.core - INFO - Starting established connection\n",
      "Worker tcp://10.120.17.94:47248 restart in Job 47336414. This can be due to memory issue.\n",
      "distributed.scheduler - INFO - Register tcp://10.120.17.94:47248\n",
      "distributed.scheduler - INFO - Starting worker compute stream, tcp://10.120.17.94:47248\n",
      "distributed.core - INFO - Starting established connection\n",
      "Worker tcp://10.120.16.86:48821 restart in Job 47336411. This can be due to memory issue.\n",
      "distributed.scheduler - INFO - Register tcp://10.120.16.86:48821\n",
      "Worker tcp://10.120.16.243:37196 restart in Job 47336418. This can be due to memory issue.\n",
      "distributed.scheduler - INFO - Register tcp://10.120.16.243:37196\n",
      "distributed.scheduler - INFO - Starting worker compute stream, tcp://10.120.16.86:48821\n",
      "distributed.core - INFO - Starting established connection\n",
      "distributed.scheduler - INFO - Starting worker compute stream, tcp://10.120.16.243:37196\n",
      "distributed.core - INFO - Starting established connection\n",
      "distributed.scheduler - INFO - Remove worker tcp://10.120.16.55:47065\n",
      "distributed.core - INFO - Removing comms to tcp://10.120.16.55:47065\n",
      "distributed.scheduler - INFO - Remove worker tcp://10.120.17.94:47248\n",
      "distributed.core - INFO - Removing comms to tcp://10.120.17.94:47248\n",
      "distributed.scheduler - INFO - Remove worker tcp://10.120.16.86:48821\n",
      "distributed.core - INFO - Removing comms to tcp://10.120.16.86:48821\n",
      "distributed.scheduler - INFO - Remove worker tcp://10.120.16.243:37196\n",
      "distributed.core - INFO - Removing comms to tcp://10.120.16.243:37196\n",
      "distributed.batched - INFO - Batched Comm Closed: in <closed TCP>: ConnectionResetError: [Errno 104] Connection reset by peer\n",
      "distributed.scheduler - INFO - Remove worker tcp://10.120.16.186:35857\n",
      "distributed.core - INFO - Removing comms to tcp://10.120.16.186:35857\n",
      "distributed.scheduler - INFO - Remove worker tcp://10.120.16.186:58000\n",
      "distributed.core - INFO - Removing comms to tcp://10.120.16.186:58000\n",
      "distributed.scheduler - INFO - Remove worker tcp://10.120.16.186:40227\n",
      "distributed.core - INFO - Removing comms to tcp://10.120.16.186:40227\n",
      "distributed.scheduler - INFO - Remove worker tcp://10.120.16.186:35178\n",
      "distributed.core - INFO - Removing comms to tcp://10.120.16.186:35178\n",
      "distributed.batched - INFO - Batched Comm Closed: in <closed TCP>: Stream is closed\n",
      "distributed.scheduler - INFO - Remove worker tcp://10.120.16.186:54555\n",
      "distributed.core - INFO - Removing comms to tcp://10.120.16.186:54555\n",
      "distributed.scheduler - INFO - Remove worker tcp://10.120.16.186:53851\n",
      "distributed.core - INFO - Removing comms to tcp://10.120.16.186:53851\n",
      "distributed.scheduler - INFO - Lost all workers\n",
      "Worker tcp://10.120.16.243:54911 restart in Job 47336417. This can be due to memory issue.\n",
      "distributed.scheduler - INFO - Register tcp://10.120.16.243:54911\n",
      "distributed.scheduler - INFO - Starting worker compute stream, tcp://10.120.16.243:54911\n",
      "distributed.core - INFO - Starting established connection\n",
      "Worker tcp://10.120.16.243:33903 restart in Job 47336418. This can be due to memory issue.\n",
      "distributed.scheduler - INFO - Register tcp://10.120.16.243:33903\n",
      "distributed.scheduler - INFO - Starting worker compute stream, tcp://10.120.16.243:33903\n",
      "distributed.core - INFO - Starting established connection\n",
      "Worker tcp://10.120.17.16:39716 restart in Job 47336407. This can be due to memory issue.\n",
      "distributed.scheduler - INFO - Register tcp://10.120.17.16:39716\n",
      "distributed.scheduler - INFO - Starting worker compute stream, tcp://10.120.17.16:39716\n",
      "distributed.core - INFO - Starting established connection\n",
      "Worker tcp://10.120.16.179:49396 restart in Job 47336406. This can be due to memory issue.\n",
      "distributed.scheduler - INFO - Register tcp://10.120.16.179:49396\n",
      "distributed.scheduler - INFO - Starting worker compute stream, tcp://10.120.16.179:49396\n",
      "distributed.core - INFO - Starting established connection\n",
      "Worker tcp://10.120.17.15:50726 restart in Job 47336420. This can be due to memory issue.\n",
      "distributed.scheduler - INFO - Register tcp://10.120.17.15:50726\n",
      "distributed.scheduler - INFO - Starting worker compute stream, tcp://10.120.17.15:50726\n",
      "distributed.core - INFO - Starting established connection\n",
      "Worker tcp://10.120.17.15:36161 restart in Job 47336421. This can be due to memory issue.\n",
      "distributed.scheduler - INFO - Register tcp://10.120.17.15:36161\n",
      "distributed.scheduler - INFO - Starting worker compute stream, tcp://10.120.17.15:36161\n",
      "distributed.core - INFO - Starting established connection\n",
      "Worker tcp://10.120.16.187:40718 restart in Job 47336415. This can be due to memory issue.\n",
      "distributed.scheduler - INFO - Register tcp://10.120.16.187:40718\n",
      "distributed.scheduler - INFO - Starting worker compute stream, tcp://10.120.16.187:40718\n",
      "distributed.core - INFO - Starting established connection\n",
      "Worker tcp://10.120.17.138:32861 restart in Job 47336413. This can be due to memory issue.\n",
      "distributed.scheduler - INFO - Register tcp://10.120.17.138:32861\n",
      "distributed.scheduler - INFO - Starting worker compute stream, tcp://10.120.17.138:32861\n",
      "distributed.core - INFO - Starting established connection\n",
      "Worker tcp://10.120.16.86:40903 restart in Job 47336410. This can be due to memory issue.\n",
      "distributed.scheduler - INFO - Register tcp://10.120.16.86:40903\n",
      "distributed.scheduler - INFO - Starting worker compute stream, tcp://10.120.16.86:40903\n",
      "distributed.core - INFO - Starting established connection\n",
      "Worker tcp://10.120.16.86:36896 restart in Job 47336411. This can be due to memory issue.\n",
      "distributed.scheduler - INFO - Register tcp://10.120.16.86:36896\n",
      "distributed.scheduler - INFO - Starting worker compute stream, tcp://10.120.16.86:36896\n",
      "distributed.core - INFO - Starting established connection\n",
      "Worker tcp://10.120.17.138:58172 restart in Job 47336412. This can be due to memory issue.\n",
      "distributed.scheduler - INFO - Register tcp://10.120.17.138:58172\n",
      "distributed.scheduler - INFO - Starting worker compute stream, tcp://10.120.17.138:58172\n",
      "distributed.core - INFO - Starting established connection\n",
      "Worker tcp://10.120.17.94:60408 restart in Job 47336414. This can be due to memory issue.\n",
      "distributed.scheduler - INFO - Register tcp://10.120.17.94:60408\n",
      "distributed.scheduler - INFO - Starting worker compute stream, tcp://10.120.17.94:60408\n",
      "distributed.core - INFO - Starting established connection\n",
      "Worker tcp://10.120.16.55:35682 restart in Job 47336409. This can be due to memory issue.\n",
      "distributed.scheduler - INFO - Register tcp://10.120.16.55:35682\n",
      "Worker tcp://10.120.16.244:44482 restart in Job 47336416. This can be due to memory issue.\n",
      "distributed.scheduler - INFO - Register tcp://10.120.16.244:44482\n",
      "distributed.scheduler - INFO - Starting worker compute stream, tcp://10.120.16.55:35682\n",
      "distributed.core - INFO - Starting established connection\n",
      "distributed.scheduler - INFO - Starting worker compute stream, tcp://10.120.16.244:44482\n",
      "distributed.core - INFO - Starting established connection\n",
      "Worker tcp://10.120.16.168:57074 restart in Job 47336405. This can be due to memory issue.\n",
      "distributed.scheduler - INFO - Register tcp://10.120.16.168:57074\n",
      "distributed.scheduler - INFO - Starting worker compute stream, tcp://10.120.16.168:57074\n",
      "distributed.core - INFO - Starting established connection\n",
      "Worker tcp://10.120.16.185:53085 restart in Job 47336378. This can be due to memory issue.\n",
      "distributed.scheduler - INFO - Register tcp://10.120.16.185:53085\n",
      "distributed.scheduler - INFO - Starting worker compute stream, tcp://10.120.16.185:53085\n",
      "distributed.core - INFO - Starting established connection\n",
      "Worker tcp://10.120.16.185:45295 restart in Job 47336419. This can be due to memory issue.\n",
      "distributed.scheduler - INFO - Register tcp://10.120.16.185:45295\n",
      "distributed.scheduler - INFO - Starting worker compute stream, tcp://10.120.16.185:45295\n",
      "distributed.core - INFO - Starting established connection\n",
      "Worker tcp://10.120.16.186:58809 restart in Job 47336380. This can be due to memory issue.\n",
      "distributed.scheduler - INFO - Register tcp://10.120.16.186:58809\n",
      "distributed.scheduler - INFO - Starting worker compute stream, tcp://10.120.16.186:58809\n",
      "distributed.core - INFO - Starting established connection\n",
      "Worker tcp://10.120.17.16:48611 restart in Job 47336408. This can be due to memory issue.\n",
      "distributed.scheduler - INFO - Register tcp://10.120.17.16:48611\n",
      "distributed.scheduler - INFO - Starting worker compute stream, tcp://10.120.17.16:48611\n",
      "distributed.core - INFO - Starting established connection\n",
      "Worker tcp://10.120.16.186:53949 restart in Job 47336383. This can be due to memory issue.\n",
      "distributed.scheduler - INFO - Register tcp://10.120.16.186:53949\n",
      "Worker tcp://10.120.16.186:55755 restart in Job 47336381. This can be due to memory issue.\n",
      "distributed.scheduler - INFO - Register tcp://10.120.16.186:55755\n",
      "Worker tcp://10.120.16.186:45329 restart in Job 47336385. This can be due to memory issue.\n",
      "distributed.scheduler - INFO - Register tcp://10.120.16.186:45329\n",
      "distributed.scheduler - INFO - Starting worker compute stream, tcp://10.120.16.186:53949\n",
      "distributed.core - INFO - Starting established connection\n",
      "distributed.scheduler - INFO - Starting worker compute stream, tcp://10.120.16.186:55755\n",
      "distributed.core - INFO - Starting established connection\n",
      "distributed.scheduler - INFO - Starting worker compute stream, tcp://10.120.16.186:45329\n",
      "distributed.core - INFO - Starting established connection\n",
      "Worker tcp://10.120.16.186:60447 restart in Job 47336384. This can be due to memory issue.\n",
      "distributed.scheduler - INFO - Register tcp://10.120.16.186:60447\n",
      "distributed.scheduler - INFO - Starting worker compute stream, tcp://10.120.16.186:60447\n",
      "distributed.core - INFO - Starting established connection\n",
      "Worker tcp://10.120.16.186:33459 restart in Job 47336390. This can be due to memory issue.\n",
      "distributed.scheduler - INFO - Register tcp://10.120.16.186:33459\n",
      "distributed.scheduler - INFO - Starting worker compute stream, tcp://10.120.16.186:33459\n",
      "distributed.core - INFO - Starting established connection\n",
      "Worker tcp://10.120.16.186:35788 restart in Job 47336391. This can be due to memory issue.\n",
      "distributed.scheduler - INFO - Register tcp://10.120.16.186:35788\n",
      "distributed.scheduler - INFO - Starting worker compute stream, tcp://10.120.16.186:35788\n",
      "distributed.core - INFO - Starting established connection\n",
      "Worker tcp://10.120.16.186:53657 restart in Job 47336379. This can be due to memory issue.\n",
      "distributed.scheduler - INFO - Register tcp://10.120.16.186:53657\n",
      "distributed.scheduler - INFO - Starting worker compute stream, tcp://10.120.16.186:53657\n",
      "distributed.core - INFO - Starting established connection\n",
      "Worker tcp://10.120.16.186:36375 restart in Job 47336382. This can be due to memory issue.\n",
      "distributed.scheduler - INFO - Register tcp://10.120.16.186:36375\n",
      "distributed.scheduler - INFO - Starting worker compute stream, tcp://10.120.16.186:36375\n",
      "distributed.core - INFO - Starting established connection\n",
      "Worker tcp://10.120.16.186:33556 restart in Job 47336388. This can be due to memory issue.\n",
      "distributed.scheduler - INFO - Register tcp://10.120.16.186:33556\n",
      "distributed.scheduler - INFO - Starting worker compute stream, tcp://10.120.16.186:33556\n",
      "distributed.core - INFO - Starting established connection\n",
      "Worker tcp://10.120.16.188:39581 restart in Job 47336392. This can be due to memory issue.\n",
      "distributed.scheduler - INFO - Register tcp://10.120.16.188:39581\n",
      "distributed.scheduler - INFO - Starting worker compute stream, tcp://10.120.16.188:39581\n",
      "distributed.core - INFO - Starting established connection\n",
      "Worker tcp://10.120.16.188:36234 restart in Job 47336398. This can be due to memory issue.\n",
      "distributed.scheduler - INFO - Register tcp://10.120.16.188:36234\n",
      "distributed.scheduler - INFO - Starting worker compute stream, tcp://10.120.16.188:36234\n",
      "distributed.core - INFO - Starting established connection\n",
      "Worker tcp://10.120.16.188:37259 restart in Job 47336395. This can be due to memory issue.\n",
      "distributed.scheduler - INFO - Register tcp://10.120.16.188:37259\n",
      "distributed.scheduler - INFO - Starting worker compute stream, tcp://10.120.16.188:37259\n",
      "distributed.core - INFO - Starting established connection\n",
      "Worker tcp://10.120.16.188:47334 restart in Job 47336400. This can be due to memory issue.\n",
      "distributed.scheduler - INFO - Register tcp://10.120.16.188:47334\n",
      "distributed.scheduler - INFO - Starting worker compute stream, tcp://10.120.16.188:47334\n",
      "distributed.core - INFO - Starting established connection\n",
      "Worker tcp://10.120.16.188:35151 restart in Job 47336401. This can be due to memory issue.\n",
      "distributed.scheduler - INFO - Register tcp://10.120.16.188:35151\n",
      "Worker tcp://10.120.16.188:37943 restart in Job 47336393. This can be due to memory issue.\n",
      "distributed.scheduler - INFO - Register tcp://10.120.16.188:37943\n",
      "Worker tcp://10.120.16.188:55676 restart in Job 47336396. This can be due to memory issue.\n",
      "distributed.scheduler - INFO - Register tcp://10.120.16.188:55676\n",
      "Worker tcp://10.120.16.188:47051 restart in Job 47336403. This can be due to memory issue.\n",
      "distributed.scheduler - INFO - Register tcp://10.120.16.188:47051\n",
      "Worker tcp://10.120.16.188:59481 restart in Job 47336402. This can be due to memory issue.\n",
      "distributed.scheduler - INFO - Register tcp://10.120.16.188:59481\n",
      "distributed.scheduler - INFO - Starting worker compute stream, tcp://10.120.16.188:35151\n",
      "distributed.core - INFO - Starting established connection\n",
      "distributed.scheduler - INFO - Starting worker compute stream, tcp://10.120.16.188:37943\n",
      "distributed.core - INFO - Starting established connection\n",
      "distributed.scheduler - INFO - Starting worker compute stream, tcp://10.120.16.188:55676\n",
      "distributed.core - INFO - Starting established connection\n",
      "distributed.scheduler - INFO - Starting worker compute stream, tcp://10.120.16.188:47051\n",
      "distributed.core - INFO - Starting established connection\n",
      "Worker tcp://10.120.16.188:60538 restart in Job 47336404. This can be due to memory issue.\n",
      "distributed.scheduler - INFO - Register tcp://10.120.16.188:60538\n",
      "Worker tcp://10.120.16.188:35902 restart in Job 47336399. This can be due to memory issue.\n",
      "distributed.scheduler - INFO - Register tcp://10.120.16.188:35902\n",
      "Worker tcp://10.120.16.188:42721 restart in Job 47336394. This can be due to memory issue.\n",
      "distributed.scheduler - INFO - Register tcp://10.120.16.188:42721\n",
      "Worker tcp://10.120.16.188:35890 restart in Job 47336397. This can be due to memory issue.\n",
      "distributed.scheduler - INFO - Register tcp://10.120.16.188:35890\n",
      "distributed.scheduler - INFO - Starting worker compute stream, tcp://10.120.16.188:59481\n",
      "distributed.core - INFO - Starting established connection\n",
      "distributed.scheduler - INFO - Starting worker compute stream, tcp://10.120.16.188:60538\n",
      "distributed.core - INFO - Starting established connection\n",
      "distributed.scheduler - INFO - Starting worker compute stream, tcp://10.120.16.188:35902\n",
      "distributed.core - INFO - Starting established connection\n",
      "distributed.scheduler - INFO - Starting worker compute stream, tcp://10.120.16.188:42721\n",
      "distributed.core - INFO - Starting established connection\n",
      "distributed.scheduler - INFO - Starting worker compute stream, tcp://10.120.16.188:35890\n",
      "distributed.core - INFO - Starting established connection\n",
      "distributed.scheduler - INFO - Clear task state\n"
     ]
    },
    {
     "data": {
      "text/html": [
       "<table style=\"border: 2px solid white;\">\n",
       "<tr>\n",
       "<td style=\"vertical-align: top; border: 0px solid white\">\n",
       "<h3>Client</h3>\n",
       "<ul>\n",
       "  <li><b>Scheduler: </b>tcp://10.120.16.190:37840\n",
       "  <li><b>Dashboard: </b><a href='http://10.120.16.190:40482/status' target='_blank'>http://10.120.16.190:40482/status</a>\n",
       "</ul>\n",
       "</td>\n",
       "<td style=\"vertical-align: top; border: 0px solid white\">\n",
       "<h3>Cluster</h3>\n",
       "<ul>\n",
       "  <li><b>Workers: </b>41</li>\n",
       "  <li><b>Cores: </b>41</li>\n",
       "  <li><b>Memory: </b>164.00 GB</li>\n",
       "</ul>\n",
       "</td>\n",
       "</tr>\n",
       "</table>"
      ],
      "text/plain": [
       "<Client: scheduler='tcp://10.120.16.190:37840' processes=6 cores=6>"
      ]
     },
     "execution_count": 25,
     "metadata": {},
     "output_type": "execute_result"
    }
   ],
   "source": [
    "dask_controller.daskclient.restart()"
   ]
  },
  {
   "cell_type": "code",
   "execution_count": 13,
   "metadata": {},
   "outputs": [
    {
     "name": "stderr",
     "output_type": "stream",
     "text": [
      "WARNING:dask_jobqueue.core:Worker tcp://10.120.16.187:38711 restart in Job 43285232. This can be due to memory issue.\n",
      "WARNING:dask_jobqueue.core:Worker tcp://10.120.17.16:52553 restart in Job 43285243. This can be due to memory issue.\n",
      "WARNING:dask_jobqueue.core:Worker tcp://10.120.16.187:42443 restart in Job 43285236. This can be due to memory issue.\n",
      "WARNING:dask_jobqueue.core:Worker tcp://10.120.16.187:52278 restart in Job 43285237. This can be due to memory issue.\n",
      "WARNING:dask_jobqueue.core:Worker tcp://10.120.16.161:53558 restart in Job 43285244. This can be due to memory issue.\n",
      "WARNING:dask_jobqueue.core:Worker tcp://10.120.16.245:34434 restart in Job 43285225. This can be due to memory issue.\n",
      "WARNING:dask_jobqueue.core:Worker tcp://10.120.16.162:51504 restart in Job 43285219. This can be due to memory issue.\n",
      "WARNING:dask_jobqueue.core:Worker tcp://10.120.16.193:55226 restart in Job 43285222. This can be due to memory issue.\n",
      "WARNING:dask_jobqueue.core:Worker tcp://10.120.17.13:60983 restart in Job 43285215. This can be due to memory issue.\n",
      "WARNING:dask_jobqueue.core:Worker tcp://10.120.17.13:60357 restart in Job 43285214. This can be due to memory issue.\n",
      "WARNING:dask_jobqueue.core:Worker tcp://10.120.16.165:50348 restart in Job 43285242. This can be due to memory issue.\n",
      "WARNING:dask_jobqueue.core:Worker tcp://10.120.17.16:45533 restart in Job 43285243. This can be due to memory issue.\n",
      "WARNING:dask_jobqueue.core:Worker tcp://10.120.16.244:41511 restart in Job 43285203. This can be due to memory issue.\n",
      "WARNING:dask_jobqueue.core:Worker tcp://10.120.16.243:57207 restart in Job 43285218. This can be due to memory issue.\n",
      "WARNING:dask_jobqueue.core:Worker tcp://10.120.16.243:54141 restart in Job 43285217. This can be due to memory issue.\n",
      "WARNING:dask_jobqueue.core:Worker tcp://10.120.16.242:45844 restart in Job 43285216. This can be due to memory issue.\n",
      "WARNING:dask_jobqueue.core:Worker tcp://10.120.16.170:49485 restart in Job 43285231. This can be due to memory issue.\n",
      "WARNING:dask_jobqueue.core:Worker tcp://10.120.16.162:57645 restart in Job 43285220. This can be due to memory issue.\n",
      "WARNING:dask_jobqueue.core:Worker tcp://10.120.16.189:52844 restart in Job 43285226. This can be due to memory issue.\n",
      "WARNING:dask_jobqueue.core:Worker tcp://10.120.16.171:38214 restart in Job 43285230. This can be due to memory issue.\n",
      "WARNING:dask_jobqueue.core:Worker tcp://10.120.16.245:36345 restart in Job 43285225. This can be due to memory issue.\n",
      "WARNING:dask_jobqueue.core:Worker tcp://10.120.16.180:36945 restart in Job 43285210. This can be due to memory issue.\n",
      "WARNING:dask_jobqueue.core:Worker tcp://10.120.16.190:35348 restart in Job 43285229. This can be due to memory issue.\n",
      "WARNING:dask_jobqueue.core:Worker tcp://10.120.16.190:57428 restart in Job 43285227. This can be due to memory issue.\n",
      "WARNING:dask_jobqueue.core:Worker tcp://10.120.16.190:57071 restart in Job 43285228. This can be due to memory issue.\n",
      "WARNING:dask_jobqueue.core:Worker tcp://10.120.16.187:47499 restart in Job 43285235. This can be due to memory issue.\n",
      "WARNING:dask_jobqueue.core:Worker tcp://10.120.16.187:37730 restart in Job 43285232. This can be due to memory issue.\n",
      "WARNING:dask_jobqueue.core:Worker tcp://10.120.16.187:44674 restart in Job 43285234. This can be due to memory issue.\n",
      "WARNING:dask_jobqueue.core:Worker tcp://10.120.16.187:42409 restart in Job 43285237. This can be due to memory issue.\n",
      "WARNING:dask_jobqueue.core:Worker tcp://10.120.16.187:40838 restart in Job 43285233. This can be due to memory issue.\n",
      "WARNING:dask_jobqueue.core:Worker tcp://10.120.16.187:55789 restart in Job 43285236. This can be due to memory issue.\n",
      "WARNING:dask_jobqueue.core:Worker tcp://10.120.17.11:36683 restart in Job 43285223. This can be due to memory issue.\n",
      "WARNING:dask_jobqueue.core:Worker tcp://10.120.17.11:53616 restart in Job 43285209. This can be due to memory issue.\n",
      "WARNING:dask_jobqueue.core:Worker tcp://10.120.16.164:33769 restart in Job 43285239. This can be due to memory issue.\n",
      "WARNING:dask_jobqueue.core:Worker tcp://10.120.17.11:33194 restart in Job 43285208. This can be due to memory issue.\n",
      "WARNING:dask_jobqueue.core:Worker tcp://10.120.16.164:40448 restart in Job 43285240. This can be due to memory issue.\n",
      "WARNING:dask_jobqueue.core:Worker tcp://10.120.16.161:39395 restart in Job 43285244. This can be due to memory issue.\n",
      "WARNING:dask_jobqueue.core:Worker tcp://10.120.16.161:53975 restart in Job 43285205. This can be due to memory issue.\n",
      "WARNING:dask_jobqueue.core:Worker tcp://10.120.16.161:42484 restart in Job 43285204. This can be due to memory issue.\n",
      "WARNING:dask_jobqueue.core:Worker tcp://10.120.16.161:55472 restart in Job 43285221. This can be due to memory issue.\n",
      "WARNING:dask_jobqueue.core:Worker tcp://10.120.16.193:48519 restart in Job 43285222. This can be due to memory issue.\n",
      "WARNING:dask_jobqueue.core:Worker tcp://10.120.16.193:56465 restart in Job 43285212. This can be due to memory issue.\n",
      "WARNING:dask_jobqueue.core:Worker tcp://10.120.16.168:41478 restart in Job 43285207. This can be due to memory issue.\n",
      "WARNING:dask_jobqueue.core:Worker tcp://10.120.17.16:42816 restart in Job 43285213. This can be due to memory issue.\n",
      "WARNING:dask_jobqueue.core:Worker tcp://10.120.16.168:40508 restart in Job 43285206. This can be due to memory issue.\n",
      "WARNING:dask_jobqueue.core:Worker tcp://10.120.16.162:59811 restart in Job 43285219. This can be due to memory issue.\n",
      "WARNING:dask_jobqueue.core:Worker tcp://10.120.16.164:57870 restart in Job 43285241. This can be due to memory issue.\n",
      "WARNING:dask_jobqueue.core:Worker tcp://10.120.16.179:44374 restart in Job 43285211. This can be due to memory issue.\n",
      "WARNING:dask_jobqueue.core:Worker tcp://10.120.17.16:48100 restart in Job 43285224. This can be due to memory issue.\n"
     ]
    }
   ],
   "source": [
    "dask_controller.retry_processing()"
   ]
  }
 ],
 "metadata": {
  "kernelspec": {
   "display_name": "Python 3",
   "language": "python",
   "name": "python3"
  },
  "language_info": {
   "codemirror_mode": {
    "name": "ipython",
    "version": 3
   },
   "file_extension": ".py",
   "mimetype": "text/x-python",
   "name": "python",
   "nbconvert_exporter": "python",
   "pygments_lexer": "ipython3",
   "version": "3.7.1"
  },
  "toc-showtags": false
 },
 "nbformat": 4,
 "nbformat_minor": 2
}
